{
 "cells": [
  {
   "cell_type": "code",
   "execution_count": 1,
   "id": "criminal-relay",
   "metadata": {},
   "outputs": [
    {
     "name": "stdout",
     "output_type": "stream",
     "text": [
      "\u001b[33mWARNING: The directory '/home/jovyan/.cache/pip' or its parent directory is not owned or is not writable by the current user. The cache has been disabled. Check the permissions and owner of that directory. If executing pip with sudo, you may want sudo's -H flag.\u001b[0m\n",
      "Collecting pyspark\n",
      "  Downloading pyspark-3.1.2.tar.gz (212.4 MB)\n",
      "\u001b[K     |████████████████████████████████| 212.4 MB 3.1 MB/s eta 0:00:011\n",
      "\u001b[?25hCollecting py4j==0.10.9\n",
      "  Downloading py4j-0.10.9-py2.py3-none-any.whl (198 kB)\n",
      "\u001b[K     |████████████████████████████████| 198 kB 2.3 MB/s eta 0:00:01\n",
      "\u001b[?25hBuilding wheels for collected packages: pyspark\n",
      "  Building wheel for pyspark (setup.py) ... \u001b[?25ldone\n",
      "\u001b[?25h  Created wheel for pyspark: filename=pyspark-3.1.2-py2.py3-none-any.whl size=212880768 sha256=2cc4ebd95615484108d6840faa2cd74d7b9fef6ade24a3591fc276419458303b\n",
      "  Stored in directory: /tmp/pip-ephem-wheel-cache-uvbczw9e/wheels/df/88/9e/58ef1f74892fef590330ca0830b5b6d995ba29b44f977b3926\n",
      "Successfully built pyspark\n",
      "Installing collected packages: py4j, pyspark\n",
      "Successfully installed py4j-0.10.9 pyspark-3.1.2\n"
     ]
    }
   ],
   "source": [
    "! pip install pyspark"
   ]
  },
  {
   "cell_type": "code",
   "execution_count": 2,
   "id": "sexual-sweden",
   "metadata": {},
   "outputs": [
    {
     "name": "stdout",
     "output_type": "stream",
     "text": [
      "\u001b[33mWARNING: The directory '/home/jovyan/.cache/pip' or its parent directory is not owned or is not writable by the current user. The cache has been disabled. Check the permissions and owner of that directory. If executing pip with sudo, you may want sudo's -H flag.\u001b[0m\n",
      "Collecting apache-sedona\n",
      "  Downloading apache_sedona-1.0.1-py3-none-any.whl (67 kB)\n",
      "\u001b[K     |████████████████████████████████| 67 kB 2.0 MB/s eta 0:00:01\n",
      "\u001b[?25hRequirement already satisfied: shapely in /opt/conda/lib/python3.8/site-packages (from apache-sedona) (1.7.1)\n",
      "Requirement already satisfied: attrs in /opt/conda/lib/python3.8/site-packages (from apache-sedona) (20.3.0)\n",
      "Collecting pyspark<3.1.0\n",
      "  Downloading pyspark-3.0.3.tar.gz (209.1 MB)\n",
      "\u001b[K     |████████████████████████████████| 209.1 MB 513 kB/s eta 0:00:011\n",
      "\u001b[?25hRequirement already satisfied: py4j==0.10.9 in /opt/conda/lib/python3.8/site-packages (from pyspark<3.1.0->apache-sedona) (0.10.9)\n",
      "Building wheels for collected packages: pyspark\n",
      "  Building wheel for pyspark (setup.py) ... \u001b[?25ldone\n",
      "\u001b[?25h  Created wheel for pyspark: filename=pyspark-3.0.3-py2.py3-none-any.whl size=209435972 sha256=2a5a6330f32adaadcd07853d1e1a2a47ab1db12e924f1bffb2e33dec365fe1ca\n",
      "  Stored in directory: /tmp/pip-ephem-wheel-cache-vzyilwyg/wheels/7f/28/02/0373b4f55c817bebc0dfe467728642269180aecfc771cebd06\n",
      "Successfully built pyspark\n",
      "Installing collected packages: pyspark, apache-sedona\n",
      "  Attempting uninstall: pyspark\n",
      "    Found existing installation: pyspark 3.1.2\n",
      "    Uninstalling pyspark-3.1.2:\n",
      "      Successfully uninstalled pyspark-3.1.2\n",
      "Successfully installed apache-sedona-1.0.1 pyspark-3.0.3\n"
     ]
    }
   ],
   "source": [
    "! pip install apache-sedona"
   ]
  },
  {
   "cell_type": "code",
   "execution_count": 1,
   "id": "toxic-extra",
   "metadata": {},
   "outputs": [],
   "source": [
    "import os\n",
    "\n",
    "import geopandas as gpd\n",
    "from pyspark.sql import SparkSession\n",
    "\n",
    "from sedona.register import SedonaRegistrator\n",
    "from sedona.utils import SedonaKryoRegistrator, KryoSerializer"
   ]
  },
  {
   "cell_type": "code",
   "execution_count": 2,
   "id": "stretch-telling",
   "metadata": {},
   "outputs": [],
   "source": [
    "from sqlalchemy import create_engine\n",
    "\n",
    "# set up database\n",
    "user = os.environ.get('DB_USERNAME')\n",
    "pwd = os.environ.get('DB_PASSWORD')\n",
    "host = os.environ.get('DB_HOSTNAME')\n",
    "port = os.environ.get('DB_PORT')\n",
    "\n",
    "db_connection_url = f\"postgresql://{user}:{pwd}@{host}:{port}/geodemo\"\n",
    "engine = create_engine(db_connection_url)"
   ]
  },
  {
   "cell_type": "code",
   "execution_count": null,
   "id": "c7095de4-bee8-4b4c-9643-65e3e3dad78e",
   "metadata": {},
   "outputs": [],
   "source": [
    "# uprn = gpd.read_postgis('SELECT * FROM openuprn', engine, geom_col='geometry')"
   ]
  },
  {
   "cell_type": "code",
   "execution_count": 3,
   "id": "20b2bcef-1a07-4c63-b6b4-c85004b8f8f0",
   "metadata": {},
   "outputs": [],
   "source": [
    "def pgselect(table, buffer=100, x=338250, y=392250):\n",
    "    sql = f'''\n",
    "    SELECT * FROM {table} \n",
    "    WHERE ST_DWithin(geometry, ST_SetSRID(ST_Point({x}, {y}), 27700), {buffer})'''\n",
    "    return gpd.read_postgis(sql, engine, geom_col='geometry')"
   ]
  },
  {
   "cell_type": "code",
   "execution_count": 4,
   "id": "6e8cb6de-167f-4823-97eb-0ef4db193a0b",
   "metadata": {},
   "outputs": [],
   "source": [
    "uprn = pgselect('openuprn')"
   ]
  },
  {
   "cell_type": "code",
   "execution_count": 6,
   "id": "263f31df-9b9f-48d0-89b0-1a7fc1df9b0b",
   "metadata": {},
   "outputs": [
    {
     "data": {
      "text/plain": [
       "<AxesSubplot:>"
      ]
     },
     "execution_count": 6,
     "metadata": {},
     "output_type": "execute_result"
    },
    {
     "data": {
      "image/png": "[encoded data removed]",
      "text/plain": [
       "<Figure size 432x288 with 1 Axes>"
      ]
     },
     "metadata": {
      "needs_background": "light"
     },
     "output_type": "display_data"
    }
   ],
   "source": [
    "uprn.plot()"
   ]
  },
  {
   "cell_type": "code",
   "execution_count": 8,
   "id": "aa8c098d-8939-41a9-a328-c5cc122e0bac",
   "metadata": {},
   "outputs": [
    {
     "name": "stderr",
     "output_type": "stream",
     "text": [
      "Ivy Default Cache set to: /root/.ivy2/cache\n",
      "The jars for the packages stored in: /root/.ivy2/jars\n",
      ":: loading settings :: url = jar:file:/root/miniconda3/lib/python3.9/site-packages/pyspark/jars/ivy-2.4.0.jar!/org/apache/ivy/core/settings/ivysettings.xml\n",
      "org.apache.sedona#sedona-python-adapter-3.0_2.12 added as a dependency\n",
      "org.datasyslab#geotools-wrapper added as a dependency\n",
      ":: resolving dependencies :: org.apache.spark#spark-submit-parent-aa202773-5b85-4c84-a383-1454e6e53f68;1.0\n",
      "\tconfs: [default]\n",
      "\tfound org.apache.sedona#sedona-python-adapter-3.0_2.12;1.0.0-incubating in central\n",
      "\tfound org.locationtech.jts#jts-core;1.18.0 in central\n",
      "\tfound org.wololo#jts2geojson;0.14.3 in central\n",
      "\tfound com.fasterxml.jackson.core#jackson-databind;2.10.0 in central\n",
      "\tfound com.fasterxml.jackson.core#jackson-core;2.10.0 in central\n",
      "\tfound com.fasterxml.jackson.core#jackson-annotations;2.10.0.pr1 in central\n",
      "\tfound org.apache.sedona#sedona-core-3.0_2.12;1.0.0-incubating in central\n",
      "\tfound org.apache.sedona#sedona-sql-3.0_2.12;1.0.0-incubating in central\n",
      "\tfound org.datasyslab#geotools-wrapper;geotools-24.0 in central\n",
      ":: resolution report :: resolve 341ms :: artifacts dl 8ms\n",
      "\t:: modules in use:\n",
      "\tcom.fasterxml.jackson.core#jackson-annotations;2.10.0.pr1 from central in [default]\n",
      "\tcom.fasterxml.jackson.core#jackson-core;2.10.0 from central in [default]\n",
      "\tcom.fasterxml.jackson.core#jackson-databind;2.10.0 from central in [default]\n",
      "\torg.apache.sedona#sedona-core-3.0_2.12;1.0.0-incubating from central in [default]\n",
      "\torg.apache.sedona#sedona-python-adapter-3.0_2.12;1.0.0-incubating from central in [default]\n",
      "\torg.apache.sedona#sedona-sql-3.0_2.12;1.0.0-incubating from central in [default]\n",
      "\torg.datasyslab#geotools-wrapper;geotools-24.0 from central in [default]\n",
      "\torg.locationtech.jts#jts-core;1.18.0 from central in [default]\n",
      "\torg.wololo#jts2geojson;0.14.3 from central in [default]\n",
      "\t:: evicted modules:\n",
      "\torg.locationtech.jts#jts-core;1.16.1 by [org.locationtech.jts#jts-core;1.18.0] in [default]\n",
      "\tcom.fasterxml.jackson.core#jackson-annotations;2.10.0 by [com.fasterxml.jackson.core#jackson-annotations;2.10.0.pr1] in [default]\n",
      "\t---------------------------------------------------------------------\n",
      "\t|                  |            modules            ||   artifacts   |\n",
      "\t|       conf       | number| search|dwnlded|evicted|| number|dwnlded|\n",
      "\t---------------------------------------------------------------------\n",
      "\t|      default     |   11  |   0   |   0   |   2   ||   9   |   0   |\n",
      "\t---------------------------------------------------------------------\n",
      ":: retrieving :: org.apache.spark#spark-submit-parent-aa202773-5b85-4c84-a383-1454e6e53f68\n",
      "\tconfs: [default]\n",
      "\t0 artifacts copied, 9 already retrieved (0kB/14ms)\n",
      "21/08/29 03:31:00 WARN NativeCodeLoader: Unable to load native-hadoop library for your platform... using builtin-java classes where applicable\n",
      "Using Spark's default log4j profile: org/apache/spark/log4j-defaults.properties\n",
      "Setting default log level to \"WARN\".\n",
      "To adjust logging level use sc.setLogLevel(newLevel). For SparkR, use setLogLevel(newLevel).\n"
     ]
    }
   ],
   "source": [
    "spark = SparkSession. \\\n",
    "    builder. \\\n",
    "    appName('appName'). \\\n",
    "    config(\"spark.serializer\", KryoSerializer.getName). \\\n",
    "    config(\"spark.kryo.registrator\", SedonaKryoRegistrator.getName). \\\n",
    "    config('spark.jars.packages',\n",
    "           'org.apache.sedona:sedona-python-adapter-3.0_2.12:1.0.0-incubating,org.datasyslab:geotools-wrapper:geotools-24.0'). \\\n",
    "    getOrCreate()"
   ]
  },
  {
   "cell_type": "code",
   "execution_count": 9,
   "id": "45b8aa9f-a390-4549-9619-4d93a7b17072",
   "metadata": {},
   "outputs": [
    {
     "name": "stderr",
     "output_type": "stream",
     "text": [
      "                                                                                \r"
     ]
    },
    {
     "data": {
      "text/plain": [
       "True"
      ]
     },
     "execution_count": 9,
     "metadata": {},
     "output_type": "execute_result"
    }
   ],
   "source": [
    "SedonaRegistrator.registerAll(spark)"
   ]
  },
  {
   "cell_type": "code",
   "execution_count": 10,
   "id": "3bcec6b0-c232-4fac-80fe-8a15be670126",
   "metadata": {},
   "outputs": [],
   "source": [
    "uprn_spark = spark.createDataFrame(uprn)"
   ]
  },
  {
   "cell_type": "code",
   "execution_count": 12,
   "id": "75ce64d0-2b47-450a-8535-b8f757b0e5d7",
   "metadata": {},
   "outputs": [
    {
     "name": "stderr",
     "output_type": "stream",
     "text": [
      "[Stage 2:>                                                          (0 + 1) / 1]\r"
     ]
    },
    {
     "name": "stdout",
     "output_type": "stream",
     "text": [
      "+--------+------------+------------+----------+----------+--------------------+\n",
      "|    UPRN|X_COORDINATE|Y_COORDINATE|  LATITUDE| LONGITUDE|            geometry|\n",
      "+--------+------------+------------+----------+----------+--------------------+\n",
      "|38020450|    338319.0|    392311.0|53.4239859|-2.9296659|POINT (338319 392...|\n",
      "|38020451|    338323.0|    392313.0|53.4240044|-2.9296061|POINT (338323 392...|\n",
      "|38076841|    338193.0|    392332.0|53.4241599|-2.9315658|POINT (338193 392...|\n",
      "|38076843|    338196.0|    392327.0|53.4241153|-2.9315197|POINT (338196 392...|\n",
      "|38076845|    338197.0|    392323.0|53.4240795|-2.9315039|POINT (338197 392...|\n",
      "|38076847|    338198.0|    392318.0|53.4240347|-2.9314878|POINT (338198 392...|\n",
      "|38076849|    338202.0|    392315.0|53.4240082|-2.9314271|POINT (338202 392...|\n",
      "|38076850|    338169.0|    392304.0|53.4239054|-2.9319214|POINT (338169 392...|\n",
      "|38076851|    338203.0|    392309.0|53.4239544|-2.9314108|POINT (338203 392...|\n",
      "|38076852|    338171.0|    392299.0|53.4238607|-2.9318904|POINT (338171 392...|\n",
      "|38076853|    338204.0|    392306.0|53.4239275|-2.9313952|POINT (338204 392...|\n",
      "|38076854|    338173.0|    392294.0| 53.423816|-2.9318593|POINT (338173 392...|\n",
      "|38076855|    338206.0|    392302.0|53.4238918|-2.9313643|POINT (338206 392...|\n",
      "|38076856|    338174.0|    392288.0|53.4237622|-2.9318431|POINT (338174 392...|\n",
      "|38076857|    338205.0|    392295.0|53.4238288| -2.931378|POINT (338205 392...|\n",
      "|38076858|    338175.0|    392284.0|53.4237264|-2.9318272|POINT (338175 392...|\n",
      "|38076859|    338207.0|    392290.0|53.4237841|-2.9313469|POINT (338207 392...|\n",
      "|38076860|    338177.0|    392279.0|53.4236817|-2.9317962|POINT (338177 392...|\n",
      "|38076861|    338208.0|    392287.0|53.4237572|-2.9313313|POINT (338208 392...|\n",
      "|38076862|    338178.0|    392275.0|53.4236459|-2.9317803|POINT (338178 392...|\n",
      "+--------+------------+------------+----------+----------+--------------------+\n",
      "only showing top 20 rows\n",
      "\n"
     ]
    },
    {
     "name": "stderr",
     "output_type": "stream",
     "text": [
      "                                                                                \r"
     ]
    }
   ],
   "source": [
    "uprn_spark.show()"
   ]
  },
  {
   "cell_type": "code",
   "execution_count": null,
   "id": "ce97a70f-3fbb-4aab-b1ae-2c71fa87f909",
   "metadata": {},
   "outputs": [],
   "source": []
  }
 ],
 "metadata": {
  "kernelspec": {
   "display_name": "Python 3 (ipykernel)",
   "language": "python",
   "name": "python3"
  },
  "language_info": {
   "codemirror_mode": {
    "name": "ipython",
    "version": 3
   },
   "file_extension": ".py",
   "mimetype": "text/x-python",
   "name": "python",
   "nbconvert_exporter": "python",
   "pygments_lexer": "ipython3",
   "version": "3.9.5"
  }
 },
 "nbformat": 4,
 "nbformat_minor": 5
}
