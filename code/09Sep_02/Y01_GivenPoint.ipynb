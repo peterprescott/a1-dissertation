{
 "cells": [
  {
   "cell_type": "code",
   "execution_count": 1,
   "id": "jewish-valentine",
   "metadata": {},
   "outputs": [],
   "source": [
    "import sys\n",
    "sys.path.append('..')"
   ]
  },
  {
   "cell_type": "code",
   "execution_count": 2,
   "id": "respiratory-forty",
   "metadata": {},
   "outputs": [],
   "source": [
    "import pandas as pd"
   ]
  },
  {
   "cell_type": "code",
   "execution_count": 3,
   "id": "pressed-seeking",
   "metadata": {},
   "outputs": [],
   "source": [
    "# given point"
   ]
  },
  {
   "cell_type": "code",
   "execution_count": 4,
   "id": "willing-record",
   "metadata": {},
   "outputs": [],
   "source": [
    "# read in tile_points.csv\n",
    "points = pd.read_csv('../../data/tile_points.csv')"
   ]
  },
  {
   "cell_type": "code",
   "execution_count": 5,
   "id": "outstanding-reducing",
   "metadata": {},
   "outputs": [],
   "source": [
    "row = points.iloc[10000]"
   ]
  },
  {
   "cell_type": "code",
   "execution_count": 6,
   "id": "established-serial",
   "metadata": {},
   "outputs": [],
   "source": [
    "# find enclosing tile"
   ]
  },
  {
   "cell_type": "code",
   "execution_count": 3,
   "id": "prescribed-musical",
   "metadata": {},
   "outputs": [
    {
     "name": "stdout",
     "output_type": "stream",
     "text": [
      "Initializing database connection...\n",
      "Database connected!\n"
     ]
    }
   ],
   "source": [
    "from nbhd.data import Base"
   ]
  },
  {
   "cell_type": "code",
   "execution_count": 4,
   "id": "adapted-analyst",
   "metadata": {},
   "outputs": [],
   "source": [
    "db = Base()"
   ]
  },
  {
   "cell_type": "code",
   "execution_count": 5,
   "id": "incomplete-shade",
   "metadata": {},
   "outputs": [],
   "source": [
    "from nbhd.geography import Neighbourhood"
   ]
  },
  {
   "cell_type": "code",
   "execution_count": 6,
   "id": "subject-scientist",
   "metadata": {},
   "outputs": [],
   "source": [
    "n = Neighbourhood(load=False)#row.x, row.y, "
   ]
  },
  {
   "cell_type": "code",
   "execution_count": 11,
   "id": "tracked-sydney",
   "metadata": {},
   "outputs": [],
   "source": [
    "# nearest roads ~ 'slimroads' is without motorways and secondary roads"
   ]
  },
  {
   "cell_type": "code",
   "execution_count": 7,
   "id": "circular-pointer",
   "metadata": {},
   "outputs": [],
   "source": [
    "nr_roads = n.db.nearest_neighbours('slimroads', n.geom.buffer(10))"
   ]
  },
  {
   "cell_type": "code",
   "execution_count": 8,
   "id": "painful-cardiff",
   "metadata": {},
   "outputs": [
    {
     "data": {
      "text/html": [
       "<div>\n",
       "<style scoped>\n",
       "    .dataframe tbody tr th:only-of-type {\n",
       "        vertical-align: middle;\n",
       "    }\n",
       "\n",
       "    .dataframe tbody tr th {\n",
       "        vertical-align: top;\n",
       "    }\n",
       "\n",
       "    .dataframe thead th {\n",
       "        text-align: right;\n",
       "    }\n",
       "</style>\n",
       "<table border=\"1\" class=\"dataframe\">\n",
       "  <thead>\n",
       "    <tr style=\"text-align: right;\">\n",
       "      <th></th>\n",
       "      <th>UPRN</th>\n",
       "      <th>uprn_geometry</th>\n",
       "      <th>id</th>\n",
       "      <th>endNode</th>\n",
       "      <th>startNode</th>\n",
       "      <th>roadNumberTOID</th>\n",
       "      <th>roadNameTOID</th>\n",
       "      <th>fictitious</th>\n",
       "      <th>roadClassification</th>\n",
       "      <th>roadFunction</th>\n",
       "      <th>...</th>\n",
       "      <th>primaryRoute</th>\n",
       "      <th>trunkRoad</th>\n",
       "      <th>roadClassificationNumber</th>\n",
       "      <th>name1</th>\n",
       "      <th>name1_lang</th>\n",
       "      <th>name2</th>\n",
       "      <th>name2_lang</th>\n",
       "      <th>roadStructure</th>\n",
       "      <th>geometry</th>\n",
       "      <th>dist</th>\n",
       "    </tr>\n",
       "  </thead>\n",
       "  <tbody>\n",
       "    <tr>\n",
       "      <th>0</th>\n",
       "      <td>38000001</td>\n",
       "      <td>0101000020346C0000000000003CB81441000000003CE9...</td>\n",
       "      <td>id5E137843-85D8-4E11-AFC6-4714A213B5D3</td>\n",
       "      <td>id1196BE64-808A-4DBE-B12F-606B6135E0F0</td>\n",
       "      <td>id136C88AB-84CB-4844-B3EA-250D06F589BF</td>\n",
       "      <td>None</td>\n",
       "      <td>osgb4000000013376071</td>\n",
       "      <td>False</td>\n",
       "      <td>Unclassified</td>\n",
       "      <td>Local Road</td>\n",
       "      <td>...</td>\n",
       "      <td>False</td>\n",
       "      <td>False</td>\n",
       "      <td>None</td>\n",
       "      <td>Abacus Road</td>\n",
       "      <td>None</td>\n",
       "      <td>None</td>\n",
       "      <td>None</td>\n",
       "      <td>None</td>\n",
       "      <td>LINESTRING (339491.000 391787.000, 339491.000 ...</td>\n",
       "      <td>20.0</td>\n",
       "    </tr>\n",
       "  </tbody>\n",
       "</table>\n",
       "<p>1 rows × 24 columns</p>\n",
       "</div>"
      ],
      "text/plain": [
       "       UPRN                                      uprn_geometry  \\\n",
       "0  38000001  0101000020346C0000000000003CB81441000000003CE9...   \n",
       "\n",
       "                                       id  \\\n",
       "0  id5E137843-85D8-4E11-AFC6-4714A213B5D3   \n",
       "\n",
       "                                  endNode  \\\n",
       "0  id1196BE64-808A-4DBE-B12F-606B6135E0F0   \n",
       "\n",
       "                                startNode roadNumberTOID  \\\n",
       "0  id136C88AB-84CB-4844-B3EA-250D06F589BF           None   \n",
       "\n",
       "           roadNameTOID  fictitious roadClassification roadFunction  ...  \\\n",
       "0  osgb4000000013376071       False       Unclassified   Local Road  ...   \n",
       "\n",
       "  primaryRoute  trunkRoad roadClassificationNumber        name1  name1_lang  \\\n",
       "0        False      False                     None  Abacus Road        None   \n",
       "\n",
       "   name2 name2_lang roadStructure  \\\n",
       "0   None       None          None   \n",
       "\n",
       "                                            geometry  dist  \n",
       "0  LINESTRING (339491.000 391787.000, 339491.000 ...  20.0  \n",
       "\n",
       "[1 rows x 24 columns]"
      ]
     },
     "execution_count": 8,
     "metadata": {},
     "output_type": "execute_result"
    }
   ],
   "source": [
    "nr_roads.head(1)"
   ]
  },
  {
   "cell_type": "code",
   "execution_count": 14,
   "id": "german-musical",
   "metadata": {},
   "outputs": [],
   "source": [
    "# nearest buildings"
   ]
  },
  {
   "cell_type": "code",
   "execution_count": 9,
   "id": "worth-bankruptcy",
   "metadata": {},
   "outputs": [],
   "source": [
    "nr_buildings = n.db.nearest_neighbours('openmaplocal', n.geom.buffer(1))"
   ]
  },
  {
   "cell_type": "code",
   "execution_count": 10,
   "id": "stone-honolulu",
   "metadata": {},
   "outputs": [
    {
     "data": {
      "text/html": [
       "<div>\n",
       "<style scoped>\n",
       "    .dataframe tbody tr th:only-of-type {\n",
       "        vertical-align: middle;\n",
       "    }\n",
       "\n",
       "    .dataframe tbody tr th {\n",
       "        vertical-align: top;\n",
       "    }\n",
       "\n",
       "    .dataframe thead th {\n",
       "        text-align: right;\n",
       "    }\n",
       "</style>\n",
       "<table border=\"1\" class=\"dataframe\">\n",
       "  <thead>\n",
       "    <tr style=\"text-align: right;\">\n",
       "      <th></th>\n",
       "      <th>UPRN</th>\n",
       "      <th>uprn_geometry</th>\n",
       "      <th>id</th>\n",
       "      <th>featureCode</th>\n",
       "      <th>geometry</th>\n",
       "      <th>dist</th>\n",
       "    </tr>\n",
       "  </thead>\n",
       "  <tbody>\n",
       "    <tr>\n",
       "      <th>0</th>\n",
       "      <td>38000001</td>\n",
       "      <td>0101000020346C0000000000003CB81441000000003CE9...</td>\n",
       "      <td>id339E7AF1-7293-4A9B-869D-E784D13C829F</td>\n",
       "      <td>15014</td>\n",
       "      <td>POLYGON ((339479.680 391722.290, 339476.270 39...</td>\n",
       "      <td>0.0</td>\n",
       "    </tr>\n",
       "  </tbody>\n",
       "</table>\n",
       "</div>"
      ],
      "text/plain": [
       "       UPRN                                      uprn_geometry  \\\n",
       "0  38000001  0101000020346C0000000000003CB81441000000003CE9...   \n",
       "\n",
       "                                       id  featureCode  \\\n",
       "0  id339E7AF1-7293-4A9B-869D-E784D13C829F        15014   \n",
       "\n",
       "                                            geometry  dist  \n",
       "0  POLYGON ((339479.680 391722.290, 339476.270 39...   0.0  "
      ]
     },
     "execution_count": 10,
     "metadata": {},
     "output_type": "execute_result"
    }
   ],
   "source": [
    "nr_buildings.head(1)"
   ]
  },
  {
   "cell_type": "code",
   "execution_count": 25,
   "id": "interracial-factor",
   "metadata": {},
   "outputs": [],
   "source": [
    "# merge on UPRN"
   ]
  },
  {
   "cell_type": "code",
   "execution_count": 11,
   "id": "directed-cocktail",
   "metadata": {},
   "outputs": [],
   "source": [
    "df = nr_buildings.merge(nr_roads, on=['UPRN', 'uprn_geometry'], how='inner', suffixes=('_building', '_street'))"
   ]
  },
  {
   "cell_type": "code",
   "execution_count": 12,
   "id": "reasonable-influence",
   "metadata": {},
   "outputs": [
    {
     "data": {
      "text/html": [
       "<div>\n",
       "<style scoped>\n",
       "    .dataframe tbody tr th:only-of-type {\n",
       "        vertical-align: middle;\n",
       "    }\n",
       "\n",
       "    .dataframe tbody tr th {\n",
       "        vertical-align: top;\n",
       "    }\n",
       "\n",
       "    .dataframe thead th {\n",
       "        text-align: right;\n",
       "    }\n",
       "</style>\n",
       "<table border=\"1\" class=\"dataframe\">\n",
       "  <thead>\n",
       "    <tr style=\"text-align: right;\">\n",
       "      <th></th>\n",
       "      <th>UPRN</th>\n",
       "      <th>uprn_geometry</th>\n",
       "      <th>id_building</th>\n",
       "      <th>featureCode</th>\n",
       "      <th>geometry_building</th>\n",
       "      <th>dist_building</th>\n",
       "      <th>id_street</th>\n",
       "      <th>endNode</th>\n",
       "      <th>startNode</th>\n",
       "      <th>roadNumberTOID</th>\n",
       "      <th>...</th>\n",
       "      <th>primaryRoute</th>\n",
       "      <th>trunkRoad</th>\n",
       "      <th>roadClassificationNumber</th>\n",
       "      <th>name1</th>\n",
       "      <th>name1_lang</th>\n",
       "      <th>name2</th>\n",
       "      <th>name2_lang</th>\n",
       "      <th>roadStructure</th>\n",
       "      <th>geometry_street</th>\n",
       "      <th>dist_street</th>\n",
       "    </tr>\n",
       "  </thead>\n",
       "  <tbody>\n",
       "    <tr>\n",
       "      <th>0</th>\n",
       "      <td>38000001</td>\n",
       "      <td>0101000020346C0000000000003CB81441000000003CE9...</td>\n",
       "      <td>id339E7AF1-7293-4A9B-869D-E784D13C829F</td>\n",
       "      <td>15014</td>\n",
       "      <td>POLYGON ((339479.680 391722.290, 339476.270 39...</td>\n",
       "      <td>0.0</td>\n",
       "      <td>id5E137843-85D8-4E11-AFC6-4714A213B5D3</td>\n",
       "      <td>id1196BE64-808A-4DBE-B12F-606B6135E0F0</td>\n",
       "      <td>id136C88AB-84CB-4844-B3EA-250D06F589BF</td>\n",
       "      <td>None</td>\n",
       "      <td>...</td>\n",
       "      <td>False</td>\n",
       "      <td>False</td>\n",
       "      <td>None</td>\n",
       "      <td>Abacus Road</td>\n",
       "      <td>None</td>\n",
       "      <td>None</td>\n",
       "      <td>None</td>\n",
       "      <td>None</td>\n",
       "      <td>LINESTRING (339491.000 391787.000, 339491.000 ...</td>\n",
       "      <td>20.0</td>\n",
       "    </tr>\n",
       "  </tbody>\n",
       "</table>\n",
       "<p>1 rows × 28 columns</p>\n",
       "</div>"
      ],
      "text/plain": [
       "       UPRN                                      uprn_geometry  \\\n",
       "0  38000001  0101000020346C0000000000003CB81441000000003CE9...   \n",
       "\n",
       "                              id_building  featureCode  \\\n",
       "0  id339E7AF1-7293-4A9B-869D-E784D13C829F        15014   \n",
       "\n",
       "                                   geometry_building  dist_building  \\\n",
       "0  POLYGON ((339479.680 391722.290, 339476.270 39...            0.0   \n",
       "\n",
       "                                id_street  \\\n",
       "0  id5E137843-85D8-4E11-AFC6-4714A213B5D3   \n",
       "\n",
       "                                  endNode  \\\n",
       "0  id1196BE64-808A-4DBE-B12F-606B6135E0F0   \n",
       "\n",
       "                                startNode roadNumberTOID  ... primaryRoute  \\\n",
       "0  id136C88AB-84CB-4844-B3EA-250D06F589BF           None  ...        False   \n",
       "\n",
       "   trunkRoad roadClassificationNumber        name1 name1_lang  name2  \\\n",
       "0      False                     None  Abacus Road       None   None   \n",
       "\n",
       "  name2_lang  roadStructure  \\\n",
       "0       None           None   \n",
       "\n",
       "                                     geometry_street  dist_street  \n",
       "0  LINESTRING (339491.000 391787.000, 339491.000 ...         20.0  \n",
       "\n",
       "[1 rows x 28 columns]"
      ]
     },
     "execution_count": 12,
     "metadata": {},
     "output_type": "execute_result"
    }
   ],
   "source": [
    "df.head(1)"
   ]
  },
  {
   "cell_type": "code",
   "execution_count": 64,
   "id": "frequent-hydrogen",
   "metadata": {},
   "outputs": [],
   "source": [
    "# 1 eliminate non-building properties : distance to building must == 0"
   ]
  },
  {
   "cell_type": "code",
   "execution_count": 13,
   "id": "finnish-effectiveness",
   "metadata": {},
   "outputs": [],
   "source": [
    "df1 = df.loc[df.dist_building==0]"
   ]
  },
  {
   "cell_type": "code",
   "execution_count": 67,
   "id": "mobile-lover",
   "metadata": {},
   "outputs": [],
   "source": [
    "# 2 eliminate non-residential buildings : area / uprn count must < 250"
   ]
  },
  {
   "cell_type": "code",
   "execution_count": 14,
   "id": "generic-rabbit",
   "metadata": {},
   "outputs": [],
   "source": [
    "building_counts = dict(df1.id_building.value_counts())"
   ]
  },
  {
   "cell_type": "code",
   "execution_count": 15,
   "id": "comfortable-japan",
   "metadata": {},
   "outputs": [
    {
     "name": "stderr",
     "output_type": "stream",
     "text": [
      "<ipython-input-15-909eb256e9a3>:1: SettingWithCopyWarning: \n",
      "A value is trying to be set on a copy of a slice from a DataFrame.\n",
      "Try using .loc[row_indexer,col_indexer] = value instead\n",
      "\n",
      "See the caveats in the documentation: https://pandas.pydata.org/pandas-docs/stable/user_guide/indexing.html#returning-a-view-versus-a-copy\n",
      "  df1['building_counts'] = df1.id_building.apply(lambda x: building_counts.get(x, 0))\n"
     ]
    }
   ],
   "source": [
    "df1['building_counts'] = df1.id_building.apply(lambda x: building_counts.get(x, 0))"
   ]
  },
  {
   "cell_type": "code",
   "execution_count": 16,
   "id": "under-george",
   "metadata": {},
   "outputs": [
    {
     "name": "stderr",
     "output_type": "stream",
     "text": [
      "<ipython-input-16-fa1193a36330>:1: SettingWithCopyWarning: \n",
      "A value is trying to be set on a copy of a slice from a DataFrame.\n",
      "Try using .loc[row_indexer,col_indexer] = value instead\n",
      "\n",
      "See the caveats in the documentation: https://pandas.pydata.org/pandas-docs/stable/user_guide/indexing.html#returning-a-view-versus-a-copy\n",
      "  df1['footprint_area_per_uprn'] = df1.apply(lambda x: x.geometry_building.area / x.building_counts, axis=1)\n"
     ]
    }
   ],
   "source": [
    "df1['footprint_area_per_uprn'] = df1.apply(lambda x: x.geometry_building.area / x.building_counts, axis=1)"
   ]
  },
  {
   "cell_type": "code",
   "execution_count": 17,
   "id": "geological-cannon",
   "metadata": {},
   "outputs": [
    {
     "name": "stderr",
     "output_type": "stream",
     "text": [
      "<ipython-input-17-dd708221cae7>:1: SettingWithCopyWarning: \n",
      "A value is trying to be set on a copy of a slice from a DataFrame.\n",
      "Try using .loc[row_indexer,col_indexer] = value instead\n",
      "\n",
      "See the caveats in the documentation: https://pandas.pydata.org/pandas-docs/stable/user_guide/indexing.html#returning-a-view-versus-a-copy\n",
      "  df1['residential_building'] = df1['footprint_area_per_uprn'] < 250\n"
     ]
    }
   ],
   "source": [
    "df1['residential_building'] = df1['footprint_area_per_uprn'] < 250"
   ]
  },
  {
   "cell_type": "code",
   "execution_count": 18,
   "id": "recreational-couple",
   "metadata": {},
   "outputs": [],
   "source": [
    "df2 = df1.loc[df1.residential_building]"
   ]
  },
  {
   "cell_type": "code",
   "execution_count": null,
   "id": "standard-lender",
   "metadata": {},
   "outputs": [],
   "source": [
    "# 3 establish whether roads are residential : length / uprn count must < 5??"
   ]
  },
  {
   "cell_type": "code",
   "execution_count": 19,
   "id": "optional-sullivan",
   "metadata": {},
   "outputs": [],
   "source": [
    "street_counts = dict(df2.id_street.value_counts())"
   ]
  },
  {
   "cell_type": "code",
   "execution_count": 20,
   "id": "crazy-person",
   "metadata": {},
   "outputs": [
    {
     "name": "stderr",
     "output_type": "stream",
     "text": [
      "<ipython-input-20-be680ec1f918>:1: SettingWithCopyWarning: \n",
      "A value is trying to be set on a copy of a slice from a DataFrame.\n",
      "Try using .loc[row_indexer,col_indexer] = value instead\n",
      "\n",
      "See the caveats in the documentation: https://pandas.pydata.org/pandas-docs/stable/user_guide/indexing.html#returning-a-view-versus-a-copy\n",
      "  df2['street_counts'] = df2.id_street.apply(lambda x: street_counts.get(x, 0))\n"
     ]
    }
   ],
   "source": [
    "df2['street_counts'] = df2.id_street.apply(lambda x: street_counts.get(x, 0))"
   ]
  },
  {
   "cell_type": "code",
   "execution_count": 21,
   "id": "pleasant-hampshire",
   "metadata": {},
   "outputs": [
    {
     "name": "stderr",
     "output_type": "stream",
     "text": [
      "<ipython-input-21-0dd6277d304b>:1: SettingWithCopyWarning: \n",
      "A value is trying to be set on a copy of a slice from a DataFrame.\n",
      "Try using .loc[row_indexer,col_indexer] = value instead\n",
      "\n",
      "See the caveats in the documentation: https://pandas.pydata.org/pandas-docs/stable/user_guide/indexing.html#returning-a-view-versus-a-copy\n",
      "  df2['street_length_per_uprn'] = df2.length / df2.street_counts\n"
     ]
    }
   ],
   "source": [
    "df2['street_length_per_uprn'] = df2.length / df2.street_counts"
   ]
  },
  {
   "cell_type": "code",
   "execution_count": 22,
   "id": "freelance-knowing",
   "metadata": {},
   "outputs": [
    {
     "name": "stderr",
     "output_type": "stream",
     "text": [
      "<ipython-input-22-66c4dc6c78e8>:1: SettingWithCopyWarning: \n",
      "A value is trying to be set on a copy of a slice from a DataFrame.\n",
      "Try using .loc[row_indexer,col_indexer] = value instead\n",
      "\n",
      "See the caveats in the documentation: https://pandas.pydata.org/pandas-docs/stable/user_guide/indexing.html#returning-a-view-versus-a-copy\n",
      "  df2['residential_street'] = df2.apply(lambda x: any([(x.street_length_per_uprn < 20), (x.length < 20)]), axis = 1)\n"
     ]
    }
   ],
   "source": [
    "df2['residential_street'] = df2.apply(lambda x: any([(x.street_length_per_uprn < 20), (x.length < 20)]), axis = 1)"
   ]
  },
  {
   "cell_type": "code",
   "execution_count": 23,
   "id": "southwest-split",
   "metadata": {},
   "outputs": [],
   "source": [
    "residential = dict(zip(df2.id_street, df2.residential_street))"
   ]
  },
  {
   "cell_type": "code",
   "execution_count": 24,
   "id": "bibliographic-denver",
   "metadata": {},
   "outputs": [],
   "source": [
    "df['residential_street'] = df.id_street.apply(lambda x: residential.get(x, False))"
   ]
  },
  {
   "cell_type": "code",
   "execution_count": 42,
   "id": "descending-sydney",
   "metadata": {},
   "outputs": [],
   "source": [
    "# 4 find connected networks of residential streets"
   ]
  },
  {
   "cell_type": "code",
   "execution_count": 43,
   "id": "round-vanilla",
   "metadata": {},
   "outputs": [],
   "source": [
    "import networkx as nx"
   ]
  },
  {
   "cell_type": "code",
   "execution_count": null,
   "id": "exotic-baking",
   "metadata": {},
   "outputs": [],
   "source": [
    "df"
   ]
  },
  {
   "cell_type": "code",
   "execution_count": null,
   "id": "express-upgrade",
   "metadata": {},
   "outputs": [],
   "source": [
    "# 5 find connected networks of residential and non-(B Road/ Minor Road) streets"
   ]
  },
  {
   "cell_type": "code",
   "execution_count": 27,
   "id": "funded-disease",
   "metadata": {},
   "outputs": [],
   "source": [
    "import matplotlib.pyplot as plt"
   ]
  },
  {
   "cell_type": "code",
   "execution_count": 29,
   "id": "wound-integer",
   "metadata": {},
   "outputs": [],
   "source": [
    "import geopandas as gpd"
   ]
  },
  {
   "cell_type": "code",
   "execution_count": 40,
   "id": "closed-deviation",
   "metadata": {},
   "outputs": [
    {
     "data": {
      "text/plain": [
       "<AxesSubplot:>"
      ]
     },
     "execution_count": 40,
     "metadata": {},
     "output_type": "execute_result"
    },
    {
     "data": {
      "image/png": "[encoded data removed]",
      "text/plain": [
       "<Figure size 432x288 with 1 Axes>"
      ]
     },
     "metadata": {
      "needs_background": "light"
     },
     "output_type": "display_data"
    }
   ],
   "source": [
    "f, ax = plt.subplots(figsize=(12,12))\n",
    "\n",
    "gdf0.plot('residential_street', ax=ax)\n",
    "gpd.GeoSeries(df.geometry_building.unique()).plot()"
   ]
  },
  {
   "cell_type": "code",
   "execution_count": 30,
   "id": "secret-messaging",
   "metadata": {},
   "outputs": [],
   "source": [
    "gdf0 = gpd.GeoDataFrame(df[['residential_street', 'geometry_street']], geometry='geometry_street')"
   ]
  },
  {
   "cell_type": "code",
   "execution_count": 26,
   "id": "daily-archive",
   "metadata": {},
   "outputs": [
    {
     "data": {
      "text/plain": [
       "array([ True])"
      ]
     },
     "execution_count": 26,
     "metadata": {},
     "output_type": "execute_result"
    }
   ],
   "source": [
    "df2.loc[df.length<20].residential_street.unique()"
   ]
  },
  {
   "cell_type": "code",
   "execution_count": 32,
   "id": "suspended-swimming",
   "metadata": {},
   "outputs": [
    {
     "data": {
      "text/plain": [
       "<AxesSubplot:>"
      ]
     },
     "execution_count": 32,
     "metadata": {},
     "output_type": "execute_result"
    },
    {
     "data": {
      "image/png": "[encoded data removed]",
      "text/plain": [
       "<Figure size 864x864 with 1 Axes>"
      ]
     },
     "metadata": {
      "needs_background": "light"
     },
     "output_type": "display_data"
    }
   ],
   "source": [
    "f, ax = plt.subplots(figsize=(12,12))\n",
    "\n",
    "gdf0.plot('residential_street', ax=ax)"
   ]
  },
  {
   "cell_type": "code",
   "execution_count": 113,
   "id": "pointed-definition",
   "metadata": {},
   "outputs": [
    {
     "data": {
      "text/plain": [
       "count    14026.000000\n",
       "mean         4.067161\n",
       "std          7.339118\n",
       "min          0.647619\n",
       "25%          2.185185\n",
       "50%          3.125000\n",
       "75%          4.390244\n",
       "max        491.000000\n",
       "Name: street_length_per_uprn, dtype: float64"
      ]
     },
     "execution_count": 113,
     "metadata": {},
     "output_type": "execute_result"
    }
   ],
   "source": [
    "df2.street_length_per_uprn.describe()"
   ]
  },
  {
   "cell_type": "code",
   "execution_count": 117,
   "id": "apparent-pendant",
   "metadata": {},
   "outputs": [
    {
     "data": {
      "text/plain": [
       "<AxesSubplot:ylabel='Frequency'>"
      ]
     },
     "execution_count": 117,
     "metadata": {},
     "output_type": "execute_result"
    },
    {
     "data": {
      "image/png": "[encoded data removed]",
      "text/plain": [
       "<Figure size 432x288 with 1 Axes>"
      ]
     },
     "metadata": {
      "needs_background": "light"
     },
     "output_type": "display_data"
    }
   ],
   "source": [
    "df2.street_length_per_uprn.plot.hist(bins=1000)"
   ]
  },
  {
   "cell_type": "code",
   "execution_count": null,
   "id": "acceptable-vocabulary",
   "metadata": {},
   "outputs": [],
   "source": [
    "# 4 find connected networks of residential roads"
   ]
  },
  {
   "cell_type": "code",
   "execution_count": 28,
   "id": "sweet-disease",
   "metadata": {},
   "outputs": [],
   "source": [
    "building_counts = dict(df.id_x.value_counts())"
   ]
  },
  {
   "cell_type": "code",
   "execution_count": 29,
   "id": "alert-officer",
   "metadata": {},
   "outputs": [],
   "source": [
    "# road_counts = dict(df.id_y.value_counts()) # too early, wait until you know if they are residential"
   ]
  },
  {
   "cell_type": "code",
   "execution_count": 31,
   "id": "durable-folder",
   "metadata": {},
   "outputs": [],
   "source": [
    "df['building_counts'] = df.id_x.apply(lambda x: building_counts.get(x,0))"
   ]
  },
  {
   "cell_type": "code",
   "execution_count": 42,
   "id": "treated-component",
   "metadata": {},
   "outputs": [
    {
     "data": {
      "text/plain": [
       "419.63980000091635"
      ]
     },
     "execution_count": 42,
     "metadata": {},
     "output_type": "execute_result"
    }
   ],
   "source": [
    "df.iloc[0].geometry_x.area"
   ]
  },
  {
   "cell_type": "code",
   "execution_count": 43,
   "id": "southern-commercial",
   "metadata": {},
   "outputs": [],
   "source": [
    "df['footprint_per_uprn'] = df.apply(lambda x: x.geometry_x.area/x.building_counts, axis=1)"
   ]
  },
  {
   "cell_type": "code",
   "execution_count": 44,
   "id": "thorough-shelf",
   "metadata": {},
   "outputs": [],
   "source": [
    "df['residential_building'] = df['footprint_per_uprn'] < 250"
   ]
  },
  {
   "cell_type": "code",
   "execution_count": 84,
   "id": "balanced-belle",
   "metadata": {},
   "outputs": [],
   "source": [
    "gdf = gpd.GeoDataFrame(df1[['residential_building','geometry_building']], geometry='geometry_building')"
   ]
  },
  {
   "cell_type": "code",
   "execution_count": 85,
   "id": "occupied-smile",
   "metadata": {},
   "outputs": [
    {
     "data": {
      "text/plain": [
       "<AxesSubplot:>"
      ]
     },
     "execution_count": 85,
     "metadata": {},
     "output_type": "execute_result"
    },
    {
     "data": {
      "image/png": "[encoded data removed]",
      "text/plain": [
       "<Figure size 432x288 with 2 Axes>"
      ]
     },
     "metadata": {
      "needs_background": "light"
     },
     "output_type": "display_data"
    }
   ],
   "source": [
    "gdf.plot('residential_building', legend=True)"
   ]
  },
  {
   "cell_type": "code",
   "execution_count": 52,
   "id": "preliminary-criticism",
   "metadata": {},
   "outputs": [],
   "source": [
    "res_bdgs = df.loc[df.residential_building]"
   ]
  },
  {
   "cell_type": "code",
   "execution_count": 53,
   "id": "surrounded-aberdeen",
   "metadata": {},
   "outputs": [
    {
     "data": {
      "text/html": [
       "<div>\n",
       "<style scoped>\n",
       "    .dataframe tbody tr th:only-of-type {\n",
       "        vertical-align: middle;\n",
       "    }\n",
       "\n",
       "    .dataframe tbody tr th {\n",
       "        vertical-align: top;\n",
       "    }\n",
       "\n",
       "    .dataframe thead th {\n",
       "        text-align: right;\n",
       "    }\n",
       "</style>\n",
       "<table border=\"1\" class=\"dataframe\">\n",
       "  <thead>\n",
       "    <tr style=\"text-align: right;\">\n",
       "      <th></th>\n",
       "      <th>UPRN</th>\n",
       "      <th>uprn_geometry_x</th>\n",
       "      <th>id_x</th>\n",
       "      <th>featureCode</th>\n",
       "      <th>geometry_x</th>\n",
       "      <th>dist_x</th>\n",
       "      <th>uprn_geometry_y</th>\n",
       "      <th>id_y</th>\n",
       "      <th>endNode</th>\n",
       "      <th>startNode</th>\n",
       "      <th>...</th>\n",
       "      <th>name1</th>\n",
       "      <th>name1_lang</th>\n",
       "      <th>name2</th>\n",
       "      <th>name2_lang</th>\n",
       "      <th>roadStructure</th>\n",
       "      <th>geometry_y</th>\n",
       "      <th>dist_y</th>\n",
       "      <th>building_counts</th>\n",
       "      <th>footprint_per_uprn</th>\n",
       "      <th>residential_building</th>\n",
       "    </tr>\n",
       "  </thead>\n",
       "  <tbody>\n",
       "    <tr>\n",
       "      <th>0</th>\n",
       "      <td>38000001</td>\n",
       "      <td>0101000020346C0000000000003CB81441000000003CE9...</td>\n",
       "      <td>id339E7AF1-7293-4A9B-869D-E784D13C829F</td>\n",
       "      <td>15014</td>\n",
       "      <td>POLYGON ((339479.680 391722.290, 339476.270 39...</td>\n",
       "      <td>0.0</td>\n",
       "      <td>0101000020346C0000000000003CB81441000000003CE9...</td>\n",
       "      <td>id5E137843-85D8-4E11-AFC6-4714A213B5D3</td>\n",
       "      <td>id1196BE64-808A-4DBE-B12F-606B6135E0F0</td>\n",
       "      <td>id136C88AB-84CB-4844-B3EA-250D06F589BF</td>\n",
       "      <td>...</td>\n",
       "      <td>Abacus Road</td>\n",
       "      <td>None</td>\n",
       "      <td>None</td>\n",
       "      <td>None</td>\n",
       "      <td>None</td>\n",
       "      <td>LINESTRING (339491.000 391787.000, 339491.000 ...</td>\n",
       "      <td>20.000000</td>\n",
       "      <td>7</td>\n",
       "      <td>59.948543</td>\n",
       "      <td>True</td>\n",
       "    </tr>\n",
       "    <tr>\n",
       "      <th>1</th>\n",
       "      <td>38000002</td>\n",
       "      <td>0101000020346C00000000000048B814410000000024E9...</td>\n",
       "      <td>id339E7AF1-7293-4A9B-869D-E784D13C829F</td>\n",
       "      <td>15014</td>\n",
       "      <td>POLYGON ((339479.680 391722.290, 339476.270 39...</td>\n",
       "      <td>0.0</td>\n",
       "      <td>0101000020346C00000000000048B814410000000024E9...</td>\n",
       "      <td>id5E137843-85D8-4E11-AFC6-4714A213B5D3</td>\n",
       "      <td>id1196BE64-808A-4DBE-B12F-606B6135E0F0</td>\n",
       "      <td>id136C88AB-84CB-4844-B3EA-250D06F589BF</td>\n",
       "      <td>...</td>\n",
       "      <td>Abacus Road</td>\n",
       "      <td>None</td>\n",
       "      <td>None</td>\n",
       "      <td>None</td>\n",
       "      <td>None</td>\n",
       "      <td>LINESTRING (339491.000 391787.000, 339491.000 ...</td>\n",
       "      <td>17.000000</td>\n",
       "      <td>7</td>\n",
       "      <td>59.948543</td>\n",
       "      <td>True</td>\n",
       "    </tr>\n",
       "    <tr>\n",
       "      <th>2</th>\n",
       "      <td>38000003</td>\n",
       "      <td>0101000020346C00000000000048B814410000000010E9...</td>\n",
       "      <td>id339E7AF1-7293-4A9B-869D-E784D13C829F</td>\n",
       "      <td>15014</td>\n",
       "      <td>POLYGON ((339479.680 391722.290, 339476.270 39...</td>\n",
       "      <td>0.0</td>\n",
       "      <td>0101000020346C00000000000048B814410000000010E9...</td>\n",
       "      <td>id5E137843-85D8-4E11-AFC6-4714A213B5D3</td>\n",
       "      <td>id1196BE64-808A-4DBE-B12F-606B6135E0F0</td>\n",
       "      <td>id136C88AB-84CB-4844-B3EA-250D06F589BF</td>\n",
       "      <td>...</td>\n",
       "      <td>Abacus Road</td>\n",
       "      <td>None</td>\n",
       "      <td>None</td>\n",
       "      <td>None</td>\n",
       "      <td>None</td>\n",
       "      <td>LINESTRING (339491.000 391787.000, 339491.000 ...</td>\n",
       "      <td>17.000000</td>\n",
       "      <td>7</td>\n",
       "      <td>59.948543</td>\n",
       "      <td>True</td>\n",
       "    </tr>\n",
       "    <tr>\n",
       "      <th>3</th>\n",
       "      <td>38000004</td>\n",
       "      <td>0101000020346C0000000000004CB8144100000000F8E8...</td>\n",
       "      <td>id339E7AF1-7293-4A9B-869D-E784D13C829F</td>\n",
       "      <td>15014</td>\n",
       "      <td>POLYGON ((339479.680 391722.290, 339476.270 39...</td>\n",
       "      <td>0.0</td>\n",
       "      <td>0101000020346C0000000000004CB8144100000000F8E8...</td>\n",
       "      <td>id5E137843-85D8-4E11-AFC6-4714A213B5D3</td>\n",
       "      <td>id1196BE64-808A-4DBE-B12F-606B6135E0F0</td>\n",
       "      <td>id136C88AB-84CB-4844-B3EA-250D06F589BF</td>\n",
       "      <td>...</td>\n",
       "      <td>Abacus Road</td>\n",
       "      <td>None</td>\n",
       "      <td>None</td>\n",
       "      <td>None</td>\n",
       "      <td>None</td>\n",
       "      <td>LINESTRING (339491.000 391787.000, 339491.000 ...</td>\n",
       "      <td>16.000000</td>\n",
       "      <td>7</td>\n",
       "      <td>59.948543</td>\n",
       "      <td>True</td>\n",
       "    </tr>\n",
       "    <tr>\n",
       "      <th>4</th>\n",
       "      <td>38000005</td>\n",
       "      <td>0101000020346C0000000000004CB8144100000000E0E8...</td>\n",
       "      <td>id339E7AF1-7293-4A9B-869D-E784D13C829F</td>\n",
       "      <td>15014</td>\n",
       "      <td>POLYGON ((339479.680 391722.290, 339476.270 39...</td>\n",
       "      <td>0.0</td>\n",
       "      <td>0101000020346C0000000000004CB8144100000000E0E8...</td>\n",
       "      <td>id5E137843-85D8-4E11-AFC6-4714A213B5D3</td>\n",
       "      <td>id1196BE64-808A-4DBE-B12F-606B6135E0F0</td>\n",
       "      <td>id136C88AB-84CB-4844-B3EA-250D06F589BF</td>\n",
       "      <td>...</td>\n",
       "      <td>Abacus Road</td>\n",
       "      <td>None</td>\n",
       "      <td>None</td>\n",
       "      <td>None</td>\n",
       "      <td>None</td>\n",
       "      <td>LINESTRING (339491.000 391787.000, 339491.000 ...</td>\n",
       "      <td>16.000000</td>\n",
       "      <td>7</td>\n",
       "      <td>59.948543</td>\n",
       "      <td>True</td>\n",
       "    </tr>\n",
       "    <tr>\n",
       "      <th>...</th>\n",
       "      <td>...</td>\n",
       "      <td>...</td>\n",
       "      <td>...</td>\n",
       "      <td>...</td>\n",
       "      <td>...</td>\n",
       "      <td>...</td>\n",
       "      <td>...</td>\n",
       "      <td>...</td>\n",
       "      <td>...</td>\n",
       "      <td>...</td>\n",
       "      <td>...</td>\n",
       "      <td>...</td>\n",
       "      <td>...</td>\n",
       "      <td>...</td>\n",
       "      <td>...</td>\n",
       "      <td>...</td>\n",
       "      <td>...</td>\n",
       "      <td>...</td>\n",
       "      <td>...</td>\n",
       "      <td>...</td>\n",
       "      <td>...</td>\n",
       "    </tr>\n",
       "    <tr>\n",
       "      <th>15158</th>\n",
       "      <td>38000549</td>\n",
       "      <td>0101000020346C00000000000014BC144100000000B8E7...</td>\n",
       "      <td>id09CC6713-6ADD-450C-9CCE-D785D3B9E75D</td>\n",
       "      <td>15014</td>\n",
       "      <td>POLYGON ((339697.480 391671.500, 339696.190 39...</td>\n",
       "      <td>0.0</td>\n",
       "      <td>0101000020346C00000000000014BC144100000000B8E7...</td>\n",
       "      <td>idBB1685EC-F135-4BAF-A3A4-2F814E01A57F</td>\n",
       "      <td>id845737B2-1891-45DD-A47D-9504C23F3C00</td>\n",
       "      <td>idBD9AE30B-2ACF-43FE-BF97-11AB6400215F</td>\n",
       "      <td>...</td>\n",
       "      <td>Acanthus Road</td>\n",
       "      <td>None</td>\n",
       "      <td>None</td>\n",
       "      <td>None</td>\n",
       "      <td>None</td>\n",
       "      <td>LINESTRING (339777.400 391643.130, 339593.000 ...</td>\n",
       "      <td>11.891173</td>\n",
       "      <td>6</td>\n",
       "      <td>56.210250</td>\n",
       "      <td>True</td>\n",
       "    </tr>\n",
       "    <tr>\n",
       "      <th>15159</th>\n",
       "      <td>38000550</td>\n",
       "      <td>0101000020346C00000000000054BC14410000000038E7...</td>\n",
       "      <td>id2193B695-AF2D-44A8-9C8B-783744458EDE</td>\n",
       "      <td>15014</td>\n",
       "      <td>POLYGON ((339696.190 391639.410, 339694.930 39...</td>\n",
       "      <td>0.0</td>\n",
       "      <td>0101000020346C00000000000054BC14410000000038E7...</td>\n",
       "      <td>idBB1685EC-F135-4BAF-A3A4-2F814E01A57F</td>\n",
       "      <td>id845737B2-1891-45DD-A47D-9504C23F3C00</td>\n",
       "      <td>idBD9AE30B-2ACF-43FE-BF97-11AB6400215F</td>\n",
       "      <td>...</td>\n",
       "      <td>Acanthus Road</td>\n",
       "      <td>None</td>\n",
       "      <td>None</td>\n",
       "      <td>None</td>\n",
       "      <td>None</td>\n",
       "      <td>LINESTRING (339777.400 391643.130, 339593.000 ...</td>\n",
       "      <td>18.085575</td>\n",
       "      <td>8</td>\n",
       "      <td>49.679187</td>\n",
       "      <td>True</td>\n",
       "    </tr>\n",
       "    <tr>\n",
       "      <th>15160</th>\n",
       "      <td>38000551</td>\n",
       "      <td>0101000020346C00000000000028BC144100000000B8E7...</td>\n",
       "      <td>id09CC6713-6ADD-450C-9CCE-D785D3B9E75D</td>\n",
       "      <td>15014</td>\n",
       "      <td>POLYGON ((339697.480 391671.500, 339696.190 39...</td>\n",
       "      <td>0.0</td>\n",
       "      <td>0101000020346C00000000000028BC144100000000B8E7...</td>\n",
       "      <td>idBB1685EC-F135-4BAF-A3A4-2F814E01A57F</td>\n",
       "      <td>id845737B2-1891-45DD-A47D-9504C23F3C00</td>\n",
       "      <td>idBD9AE30B-2ACF-43FE-BF97-11AB6400215F</td>\n",
       "      <td>...</td>\n",
       "      <td>Acanthus Road</td>\n",
       "      <td>None</td>\n",
       "      <td>None</td>\n",
       "      <td>None</td>\n",
       "      <td>None</td>\n",
       "      <td>LINESTRING (339777.400 391643.130, 339593.000 ...</td>\n",
       "      <td>12.458792</td>\n",
       "      <td>6</td>\n",
       "      <td>56.210250</td>\n",
       "      <td>True</td>\n",
       "    </tr>\n",
       "    <tr>\n",
       "      <th>15161</th>\n",
       "      <td>38000552</td>\n",
       "      <td>0101000020346C00000000000044BC144100000000B4E7...</td>\n",
       "      <td>id09CC6713-6ADD-450C-9CCE-D785D3B9E75D</td>\n",
       "      <td>15014</td>\n",
       "      <td>POLYGON ((339697.480 391671.500, 339696.190 39...</td>\n",
       "      <td>0.0</td>\n",
       "      <td>0101000020346C00000000000044BC144100000000B4E7...</td>\n",
       "      <td>idBB1685EC-F135-4BAF-A3A4-2F814E01A57F</td>\n",
       "      <td>id845737B2-1891-45DD-A47D-9504C23F3C00</td>\n",
       "      <td>idBD9AE30B-2ACF-43FE-BF97-11AB6400215F</td>\n",
       "      <td>...</td>\n",
       "      <td>Acanthus Road</td>\n",
       "      <td>None</td>\n",
       "      <td>None</td>\n",
       "      <td>None</td>\n",
       "      <td>None</td>\n",
       "      <td>LINESTRING (339777.400 391643.130, 339593.000 ...</td>\n",
       "      <td>12.259924</td>\n",
       "      <td>6</td>\n",
       "      <td>56.210250</td>\n",
       "      <td>True</td>\n",
       "    </tr>\n",
       "    <tr>\n",
       "      <th>15162</th>\n",
       "      <td>38000553</td>\n",
       "      <td>0101000020346C00000000000078BC144100000000BCE7...</td>\n",
       "      <td>id262675BA-F266-4E2A-B6DC-86BF950E4585</td>\n",
       "      <td>15014</td>\n",
       "      <td>POLYGON ((339749.650 391665.910, 339743.380 39...</td>\n",
       "      <td>0.0</td>\n",
       "      <td>0101000020346C00000000000078BC144100000000BCE7...</td>\n",
       "      <td>idBB1685EC-F135-4BAF-A3A4-2F814E01A57F</td>\n",
       "      <td>id845737B2-1891-45DD-A47D-9504C23F3C00</td>\n",
       "      <td>idBD9AE30B-2ACF-43FE-BF97-11AB6400215F</td>\n",
       "      <td>...</td>\n",
       "      <td>Acanthus Road</td>\n",
       "      <td>None</td>\n",
       "      <td>None</td>\n",
       "      <td>None</td>\n",
       "      <td>None</td>\n",
       "      <td>LINESTRING (339777.400 391643.130, 339593.000 ...</td>\n",
       "      <td>15.722804</td>\n",
       "      <td>2</td>\n",
       "      <td>58.436850</td>\n",
       "      <td>True</td>\n",
       "    </tr>\n",
       "  </tbody>\n",
       "</table>\n",
       "<p>15009 rows × 32 columns</p>\n",
       "</div>"
      ],
      "text/plain": [
       "           UPRN                                    uprn_geometry_x  \\\n",
       "0      38000001  0101000020346C0000000000003CB81441000000003CE9...   \n",
       "1      38000002  0101000020346C00000000000048B814410000000024E9...   \n",
       "2      38000003  0101000020346C00000000000048B814410000000010E9...   \n",
       "3      38000004  0101000020346C0000000000004CB8144100000000F8E8...   \n",
       "4      38000005  0101000020346C0000000000004CB8144100000000E0E8...   \n",
       "...         ...                                                ...   \n",
       "15158  38000549  0101000020346C00000000000014BC144100000000B8E7...   \n",
       "15159  38000550  0101000020346C00000000000054BC14410000000038E7...   \n",
       "15160  38000551  0101000020346C00000000000028BC144100000000B8E7...   \n",
       "15161  38000552  0101000020346C00000000000044BC144100000000B4E7...   \n",
       "15162  38000553  0101000020346C00000000000078BC144100000000BCE7...   \n",
       "\n",
       "                                         id_x  featureCode  \\\n",
       "0      id339E7AF1-7293-4A9B-869D-E784D13C829F        15014   \n",
       "1      id339E7AF1-7293-4A9B-869D-E784D13C829F        15014   \n",
       "2      id339E7AF1-7293-4A9B-869D-E784D13C829F        15014   \n",
       "3      id339E7AF1-7293-4A9B-869D-E784D13C829F        15014   \n",
       "4      id339E7AF1-7293-4A9B-869D-E784D13C829F        15014   \n",
       "...                                       ...          ...   \n",
       "15158  id09CC6713-6ADD-450C-9CCE-D785D3B9E75D        15014   \n",
       "15159  id2193B695-AF2D-44A8-9C8B-783744458EDE        15014   \n",
       "15160  id09CC6713-6ADD-450C-9CCE-D785D3B9E75D        15014   \n",
       "15161  id09CC6713-6ADD-450C-9CCE-D785D3B9E75D        15014   \n",
       "15162  id262675BA-F266-4E2A-B6DC-86BF950E4585        15014   \n",
       "\n",
       "                                              geometry_x  dist_x  \\\n",
       "0      POLYGON ((339479.680 391722.290, 339476.270 39...     0.0   \n",
       "1      POLYGON ((339479.680 391722.290, 339476.270 39...     0.0   \n",
       "2      POLYGON ((339479.680 391722.290, 339476.270 39...     0.0   \n",
       "3      POLYGON ((339479.680 391722.290, 339476.270 39...     0.0   \n",
       "4      POLYGON ((339479.680 391722.290, 339476.270 39...     0.0   \n",
       "...                                                  ...     ...   \n",
       "15158  POLYGON ((339697.480 391671.500, 339696.190 39...     0.0   \n",
       "15159  POLYGON ((339696.190 391639.410, 339694.930 39...     0.0   \n",
       "15160  POLYGON ((339697.480 391671.500, 339696.190 39...     0.0   \n",
       "15161  POLYGON ((339697.480 391671.500, 339696.190 39...     0.0   \n",
       "15162  POLYGON ((339749.650 391665.910, 339743.380 39...     0.0   \n",
       "\n",
       "                                         uprn_geometry_y  \\\n",
       "0      0101000020346C0000000000003CB81441000000003CE9...   \n",
       "1      0101000020346C00000000000048B814410000000024E9...   \n",
       "2      0101000020346C00000000000048B814410000000010E9...   \n",
       "3      0101000020346C0000000000004CB8144100000000F8E8...   \n",
       "4      0101000020346C0000000000004CB8144100000000E0E8...   \n",
       "...                                                  ...   \n",
       "15158  0101000020346C00000000000014BC144100000000B8E7...   \n",
       "15159  0101000020346C00000000000054BC14410000000038E7...   \n",
       "15160  0101000020346C00000000000028BC144100000000B8E7...   \n",
       "15161  0101000020346C00000000000044BC144100000000B4E7...   \n",
       "15162  0101000020346C00000000000078BC144100000000BCE7...   \n",
       "\n",
       "                                         id_y  \\\n",
       "0      id5E137843-85D8-4E11-AFC6-4714A213B5D3   \n",
       "1      id5E137843-85D8-4E11-AFC6-4714A213B5D3   \n",
       "2      id5E137843-85D8-4E11-AFC6-4714A213B5D3   \n",
       "3      id5E137843-85D8-4E11-AFC6-4714A213B5D3   \n",
       "4      id5E137843-85D8-4E11-AFC6-4714A213B5D3   \n",
       "...                                       ...   \n",
       "15158  idBB1685EC-F135-4BAF-A3A4-2F814E01A57F   \n",
       "15159  idBB1685EC-F135-4BAF-A3A4-2F814E01A57F   \n",
       "15160  idBB1685EC-F135-4BAF-A3A4-2F814E01A57F   \n",
       "15161  idBB1685EC-F135-4BAF-A3A4-2F814E01A57F   \n",
       "15162  idBB1685EC-F135-4BAF-A3A4-2F814E01A57F   \n",
       "\n",
       "                                      endNode  \\\n",
       "0      id1196BE64-808A-4DBE-B12F-606B6135E0F0   \n",
       "1      id1196BE64-808A-4DBE-B12F-606B6135E0F0   \n",
       "2      id1196BE64-808A-4DBE-B12F-606B6135E0F0   \n",
       "3      id1196BE64-808A-4DBE-B12F-606B6135E0F0   \n",
       "4      id1196BE64-808A-4DBE-B12F-606B6135E0F0   \n",
       "...                                       ...   \n",
       "15158  id845737B2-1891-45DD-A47D-9504C23F3C00   \n",
       "15159  id845737B2-1891-45DD-A47D-9504C23F3C00   \n",
       "15160  id845737B2-1891-45DD-A47D-9504C23F3C00   \n",
       "15161  id845737B2-1891-45DD-A47D-9504C23F3C00   \n",
       "15162  id845737B2-1891-45DD-A47D-9504C23F3C00   \n",
       "\n",
       "                                    startNode  ...          name1 name1_lang  \\\n",
       "0      id136C88AB-84CB-4844-B3EA-250D06F589BF  ...    Abacus Road       None   \n",
       "1      id136C88AB-84CB-4844-B3EA-250D06F589BF  ...    Abacus Road       None   \n",
       "2      id136C88AB-84CB-4844-B3EA-250D06F589BF  ...    Abacus Road       None   \n",
       "3      id136C88AB-84CB-4844-B3EA-250D06F589BF  ...    Abacus Road       None   \n",
       "4      id136C88AB-84CB-4844-B3EA-250D06F589BF  ...    Abacus Road       None   \n",
       "...                                       ...  ...            ...        ...   \n",
       "15158  idBD9AE30B-2ACF-43FE-BF97-11AB6400215F  ...  Acanthus Road       None   \n",
       "15159  idBD9AE30B-2ACF-43FE-BF97-11AB6400215F  ...  Acanthus Road       None   \n",
       "15160  idBD9AE30B-2ACF-43FE-BF97-11AB6400215F  ...  Acanthus Road       None   \n",
       "15161  idBD9AE30B-2ACF-43FE-BF97-11AB6400215F  ...  Acanthus Road       None   \n",
       "15162  idBD9AE30B-2ACF-43FE-BF97-11AB6400215F  ...  Acanthus Road       None   \n",
       "\n",
       "       name2 name2_lang roadStructure  \\\n",
       "0       None       None          None   \n",
       "1       None       None          None   \n",
       "2       None       None          None   \n",
       "3       None       None          None   \n",
       "4       None       None          None   \n",
       "...      ...        ...           ...   \n",
       "15158   None       None          None   \n",
       "15159   None       None          None   \n",
       "15160   None       None          None   \n",
       "15161   None       None          None   \n",
       "15162   None       None          None   \n",
       "\n",
       "                                              geometry_y     dist_y  \\\n",
       "0      LINESTRING (339491.000 391787.000, 339491.000 ...  20.000000   \n",
       "1      LINESTRING (339491.000 391787.000, 339491.000 ...  17.000000   \n",
       "2      LINESTRING (339491.000 391787.000, 339491.000 ...  17.000000   \n",
       "3      LINESTRING (339491.000 391787.000, 339491.000 ...  16.000000   \n",
       "4      LINESTRING (339491.000 391787.000, 339491.000 ...  16.000000   \n",
       "...                                                  ...        ...   \n",
       "15158  LINESTRING (339777.400 391643.130, 339593.000 ...  11.891173   \n",
       "15159  LINESTRING (339777.400 391643.130, 339593.000 ...  18.085575   \n",
       "15160  LINESTRING (339777.400 391643.130, 339593.000 ...  12.458792   \n",
       "15161  LINESTRING (339777.400 391643.130, 339593.000 ...  12.259924   \n",
       "15162  LINESTRING (339777.400 391643.130, 339593.000 ...  15.722804   \n",
       "\n",
       "      building_counts  footprint_per_uprn  residential_building  \n",
       "0                   7           59.948543                  True  \n",
       "1                   7           59.948543                  True  \n",
       "2                   7           59.948543                  True  \n",
       "3                   7           59.948543                  True  \n",
       "4                   7           59.948543                  True  \n",
       "...               ...                 ...                   ...  \n",
       "15158               6           56.210250                  True  \n",
       "15159               8           49.679187                  True  \n",
       "15160               6           56.210250                  True  \n",
       "15161               6           56.210250                  True  \n",
       "15162               2           58.436850                  True  \n",
       "\n",
       "[15009 rows x 32 columns]"
      ]
     },
     "execution_count": 53,
     "metadata": {},
     "output_type": "execute_result"
    }
   ],
   "source": [
    "res_bdgs"
   ]
  },
  {
   "cell_type": "code",
   "execution_count": 57,
   "id": "fourth-detail",
   "metadata": {},
   "outputs": [
    {
     "data": {
      "text/plain": [
       "count    15009.000000\n",
       "mean         0.739741\n",
       "std          4.568566\n",
       "min          0.000000\n",
       "25%          0.000000\n",
       "50%          0.000000\n",
       "75%          0.000000\n",
       "max         99.735202\n",
       "Name: dist_x, dtype: float64"
      ]
     },
     "execution_count": 57,
     "metadata": {},
     "output_type": "execute_result"
    }
   ],
   "source": [
    "res_bdgs.loc[res_bdgs.dist==0]"
   ]
  }
 ],
 "metadata": {
  "kernelspec": {
   "display_name": "Python 3",
   "language": "python",
   "name": "python3"
  },
  "language_info": {
   "codemirror_mode": {
    "name": "ipython",
    "version": 3
   },
   "file_extension": ".py",
   "mimetype": "text/x-python",
   "name": "python",
   "nbconvert_exporter": "python",
   "pygments_lexer": "ipython3",
   "version": "3.8.8"
  }
 },
 "nbformat": 4,
 "nbformat_minor": 5
}
