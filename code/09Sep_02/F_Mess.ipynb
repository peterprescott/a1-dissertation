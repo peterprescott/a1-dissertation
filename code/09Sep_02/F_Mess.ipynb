{
 "cells": [
  {
   "cell_type": "code",
   "execution_count": 1,
   "id": "disabled-terry",
   "metadata": {},
   "outputs": [
    {
     "name": "stdout",
     "output_type": "stream",
     "text": [
      "Initializing database connection...\n",
      "Database connected!\n"
     ]
    }
   ],
   "source": [
    "import sys\n",
    "\n",
    "sys.path.append('..')\n",
    "\n",
    "from nbhd.data import Base\n",
    "\n",
    "db = Base()"
   ]
  },
  {
   "cell_type": "code",
   "execution_count": 2,
   "id": "institutional-drawing",
   "metadata": {},
   "outputs": [],
   "source": [
    "from nbhd.geography import Neighbourhood"
   ]
  },
  {
   "cell_type": "code",
   "execution_count": 3,
   "id": "applied-asthma",
   "metadata": {},
   "outputs": [
    {
     "name": "stdout",
     "output_type": "stream",
     "text": [
      "Getting data took 0 minutes, 0 seconds.\n"
     ]
    }
   ],
   "source": [
    "n = Neighbourhood()"
   ]
  },
  {
   "cell_type": "code",
   "execution_count": 4,
   "id": "significant-azerbaijan",
   "metadata": {},
   "outputs": [],
   "source": [
    "nr_roads = n.db.nearest_neighbours('openroads', n.geom.buffer(1))"
   ]
  },
  {
   "cell_type": "code",
   "execution_count": 5,
   "id": "comfortable-diploma",
   "metadata": {},
   "outputs": [],
   "source": [
    "nr_buildings = n.db.nearest_neighbours('openmaplocal', n.geom.buffer(1))"
   ]
  },
  {
   "cell_type": "code",
   "execution_count": 8,
   "id": "detected-commitment",
   "metadata": {},
   "outputs": [],
   "source": [
    "b_uprn = nr_buildings.loc[nr_buildings.dist==0]"
   ]
  },
  {
   "cell_type": "code",
   "execution_count": 20,
   "id": "married-collapse",
   "metadata": {},
   "outputs": [],
   "source": [
    "b_uprn.columns = ['UPRN', 'building', 'dist']"
   ]
  },
  {
   "cell_type": "code",
   "execution_count": 21,
   "id": "canadian-button",
   "metadata": {},
   "outputs": [
    {
     "data": {
      "text/html": [
       "<div>\n",
       "<style scoped>\n",
       "    .dataframe tbody tr th:only-of-type {\n",
       "        vertical-align: middle;\n",
       "    }\n",
       "\n",
       "    .dataframe tbody tr th {\n",
       "        vertical-align: top;\n",
       "    }\n",
       "\n",
       "    .dataframe thead th {\n",
       "        text-align: right;\n",
       "    }\n",
       "</style>\n",
       "<table border=\"1\" class=\"dataframe\">\n",
       "  <thead>\n",
       "    <tr style=\"text-align: right;\">\n",
       "      <th></th>\n",
       "      <th>UPRN</th>\n",
       "      <th>building</th>\n",
       "      <th>dist</th>\n",
       "    </tr>\n",
       "  </thead>\n",
       "  <tbody>\n",
       "    <tr>\n",
       "      <th>0</th>\n",
       "      <td>38000554</td>\n",
       "      <td>idAF0BCB20-484C-48DC-8583-EFA19BED1523</td>\n",
       "      <td>0.0</td>\n",
       "    </tr>\n",
       "    <tr>\n",
       "      <th>1</th>\n",
       "      <td>38000555</td>\n",
       "      <td>idACB238AE-0BA2-4158-9781-573188AE4C3C</td>\n",
       "      <td>0.0</td>\n",
       "    </tr>\n",
       "    <tr>\n",
       "      <th>2</th>\n",
       "      <td>38000556</td>\n",
       "      <td>idAF0BCB20-484C-48DC-8583-EFA19BED1523</td>\n",
       "      <td>0.0</td>\n",
       "    </tr>\n",
       "    <tr>\n",
       "      <th>3</th>\n",
       "      <td>38000557</td>\n",
       "      <td>idACB238AE-0BA2-4158-9781-573188AE4C3C</td>\n",
       "      <td>0.0</td>\n",
       "    </tr>\n",
       "    <tr>\n",
       "      <th>4</th>\n",
       "      <td>38000558</td>\n",
       "      <td>id13FE7B12-D20A-4A33-A860-67F1A28CFCD9</td>\n",
       "      <td>0.0</td>\n",
       "    </tr>\n",
       "    <tr>\n",
       "      <th>...</th>\n",
       "      <td>...</td>\n",
       "      <td>...</td>\n",
       "      <td>...</td>\n",
       "    </tr>\n",
       "    <tr>\n",
       "      <th>3698</th>\n",
       "      <td>38007712</td>\n",
       "      <td>id418D2A2B-732C-4C4B-9CDA-5023F494E283</td>\n",
       "      <td>0.0</td>\n",
       "    </tr>\n",
       "    <tr>\n",
       "      <th>3699</th>\n",
       "      <td>38007713</td>\n",
       "      <td>id79987B36-A7EA-4A1D-A475-B430CEC5C12F</td>\n",
       "      <td>0.0</td>\n",
       "    </tr>\n",
       "    <tr>\n",
       "      <th>3700</th>\n",
       "      <td>38007714</td>\n",
       "      <td>id418D2A2B-732C-4C4B-9CDA-5023F494E283</td>\n",
       "      <td>0.0</td>\n",
       "    </tr>\n",
       "    <tr>\n",
       "      <th>3701</th>\n",
       "      <td>38007715</td>\n",
       "      <td>id79987B36-A7EA-4A1D-A475-B430CEC5C12F</td>\n",
       "      <td>0.0</td>\n",
       "    </tr>\n",
       "    <tr>\n",
       "      <th>3702</th>\n",
       "      <td>38007716</td>\n",
       "      <td>id79987B36-A7EA-4A1D-A475-B430CEC5C12F</td>\n",
       "      <td>0.0</td>\n",
       "    </tr>\n",
       "  </tbody>\n",
       "</table>\n",
       "<p>3533 rows × 3 columns</p>\n",
       "</div>"
      ],
      "text/plain": [
       "          UPRN                                building  dist\n",
       "0     38000554  idAF0BCB20-484C-48DC-8583-EFA19BED1523   0.0\n",
       "1     38000555  idACB238AE-0BA2-4158-9781-573188AE4C3C   0.0\n",
       "2     38000556  idAF0BCB20-484C-48DC-8583-EFA19BED1523   0.0\n",
       "3     38000557  idACB238AE-0BA2-4158-9781-573188AE4C3C   0.0\n",
       "4     38000558  id13FE7B12-D20A-4A33-A860-67F1A28CFCD9   0.0\n",
       "...        ...                                     ...   ...\n",
       "3698  38007712  id418D2A2B-732C-4C4B-9CDA-5023F494E283   0.0\n",
       "3699  38007713  id79987B36-A7EA-4A1D-A475-B430CEC5C12F   0.0\n",
       "3700  38007714  id418D2A2B-732C-4C4B-9CDA-5023F494E283   0.0\n",
       "3701  38007715  id79987B36-A7EA-4A1D-A475-B430CEC5C12F   0.0\n",
       "3702  38007716  id79987B36-A7EA-4A1D-A475-B430CEC5C12F   0.0\n",
       "\n",
       "[3533 rows x 3 columns]"
      ]
     },
     "execution_count": 21,
     "metadata": {},
     "output_type": "execute_result"
    }
   ],
   "source": [
    "b_uprn"
   ]
  },
  {
   "cell_type": "code",
   "execution_count": 22,
   "id": "every-apparatus",
   "metadata": {},
   "outputs": [],
   "source": [
    "nr_roads.columns = ['UPRN', 'nearest_road', 'dist']"
   ]
  },
  {
   "cell_type": "code",
   "execution_count": 24,
   "id": "cloudy-dress",
   "metadata": {},
   "outputs": [],
   "source": [
    "df = b_uprn[['UPRN', 'building']].merge(nr_roads, on='UPRN', how='inner')"
   ]
  },
  {
   "cell_type": "code",
   "execution_count": 25,
   "id": "victorian-netherlands",
   "metadata": {},
   "outputs": [
    {
     "data": {
      "text/html": [
       "<div>\n",
       "<style scoped>\n",
       "    .dataframe tbody tr th:only-of-type {\n",
       "        vertical-align: middle;\n",
       "    }\n",
       "\n",
       "    .dataframe tbody tr th {\n",
       "        vertical-align: top;\n",
       "    }\n",
       "\n",
       "    .dataframe thead th {\n",
       "        text-align: right;\n",
       "    }\n",
       "</style>\n",
       "<table border=\"1\" class=\"dataframe\">\n",
       "  <thead>\n",
       "    <tr style=\"text-align: right;\">\n",
       "      <th></th>\n",
       "      <th>UPRN</th>\n",
       "      <th>building</th>\n",
       "      <th>nearest_road</th>\n",
       "      <th>dist</th>\n",
       "    </tr>\n",
       "  </thead>\n",
       "  <tbody>\n",
       "    <tr>\n",
       "      <th>0</th>\n",
       "      <td>38000554</td>\n",
       "      <td>idAF0BCB20-484C-48DC-8583-EFA19BED1523</td>\n",
       "      <td>id26591034-E445-4B7F-80AA-E7EEBF03F2FC</td>\n",
       "      <td>13.797323</td>\n",
       "    </tr>\n",
       "    <tr>\n",
       "      <th>1</th>\n",
       "      <td>38000555</td>\n",
       "      <td>idACB238AE-0BA2-4158-9781-573188AE4C3C</td>\n",
       "      <td>id26591034-E445-4B7F-80AA-E7EEBF03F2FC</td>\n",
       "      <td>17.569990</td>\n",
       "    </tr>\n",
       "    <tr>\n",
       "      <th>2</th>\n",
       "      <td>38000556</td>\n",
       "      <td>idAF0BCB20-484C-48DC-8583-EFA19BED1523</td>\n",
       "      <td>id26591034-E445-4B7F-80AA-E7EEBF03F2FC</td>\n",
       "      <td>13.683443</td>\n",
       "    </tr>\n",
       "    <tr>\n",
       "      <th>3</th>\n",
       "      <td>38000557</td>\n",
       "      <td>idACB238AE-0BA2-4158-9781-573188AE4C3C</td>\n",
       "      <td>id26591034-E445-4B7F-80AA-E7EEBF03F2FC</td>\n",
       "      <td>17.683870</td>\n",
       "    </tr>\n",
       "    <tr>\n",
       "      <th>4</th>\n",
       "      <td>38000558</td>\n",
       "      <td>id13FE7B12-D20A-4A33-A860-67F1A28CFCD9</td>\n",
       "      <td>id5852DA83-18B0-4700-87C4-C8539FC17265</td>\n",
       "      <td>15.732233</td>\n",
       "    </tr>\n",
       "    <tr>\n",
       "      <th>...</th>\n",
       "      <td>...</td>\n",
       "      <td>...</td>\n",
       "      <td>...</td>\n",
       "      <td>...</td>\n",
       "    </tr>\n",
       "    <tr>\n",
       "      <th>3528</th>\n",
       "      <td>38007712</td>\n",
       "      <td>id418D2A2B-732C-4C4B-9CDA-5023F494E283</td>\n",
       "      <td>id254B44F0-14C4-41C1-AD71-BD399C5052DE</td>\n",
       "      <td>12.677872</td>\n",
       "    </tr>\n",
       "    <tr>\n",
       "      <th>3529</th>\n",
       "      <td>38007713</td>\n",
       "      <td>id79987B36-A7EA-4A1D-A475-B430CEC5C12F</td>\n",
       "      <td>id254B44F0-14C4-41C1-AD71-BD399C5052DE</td>\n",
       "      <td>15.367328</td>\n",
       "    </tr>\n",
       "    <tr>\n",
       "      <th>3530</th>\n",
       "      <td>38007714</td>\n",
       "      <td>id418D2A2B-732C-4C4B-9CDA-5023F494E283</td>\n",
       "      <td>id86EB6CF7-CC44-44BD-BEEA-7CBA61B95AFE</td>\n",
       "      <td>9.024502</td>\n",
       "    </tr>\n",
       "    <tr>\n",
       "      <th>3531</th>\n",
       "      <td>38007715</td>\n",
       "      <td>id79987B36-A7EA-4A1D-A475-B430CEC5C12F</td>\n",
       "      <td>id254B44F0-14C4-41C1-AD71-BD399C5052DE</td>\n",
       "      <td>14.965296</td>\n",
       "    </tr>\n",
       "    <tr>\n",
       "      <th>3532</th>\n",
       "      <td>38007716</td>\n",
       "      <td>id79987B36-A7EA-4A1D-A475-B430CEC5C12F</td>\n",
       "      <td>id254B44F0-14C4-41C1-AD71-BD399C5052DE</td>\n",
       "      <td>15.408917</td>\n",
       "    </tr>\n",
       "  </tbody>\n",
       "</table>\n",
       "<p>3533 rows × 4 columns</p>\n",
       "</div>"
      ],
      "text/plain": [
       "          UPRN                                building  \\\n",
       "0     38000554  idAF0BCB20-484C-48DC-8583-EFA19BED1523   \n",
       "1     38000555  idACB238AE-0BA2-4158-9781-573188AE4C3C   \n",
       "2     38000556  idAF0BCB20-484C-48DC-8583-EFA19BED1523   \n",
       "3     38000557  idACB238AE-0BA2-4158-9781-573188AE4C3C   \n",
       "4     38000558  id13FE7B12-D20A-4A33-A860-67F1A28CFCD9   \n",
       "...        ...                                     ...   \n",
       "3528  38007712  id418D2A2B-732C-4C4B-9CDA-5023F494E283   \n",
       "3529  38007713  id79987B36-A7EA-4A1D-A475-B430CEC5C12F   \n",
       "3530  38007714  id418D2A2B-732C-4C4B-9CDA-5023F494E283   \n",
       "3531  38007715  id79987B36-A7EA-4A1D-A475-B430CEC5C12F   \n",
       "3532  38007716  id79987B36-A7EA-4A1D-A475-B430CEC5C12F   \n",
       "\n",
       "                                nearest_road       dist  \n",
       "0     id26591034-E445-4B7F-80AA-E7EEBF03F2FC  13.797323  \n",
       "1     id26591034-E445-4B7F-80AA-E7EEBF03F2FC  17.569990  \n",
       "2     id26591034-E445-4B7F-80AA-E7EEBF03F2FC  13.683443  \n",
       "3     id26591034-E445-4B7F-80AA-E7EEBF03F2FC  17.683870  \n",
       "4     id5852DA83-18B0-4700-87C4-C8539FC17265  15.732233  \n",
       "...                                      ...        ...  \n",
       "3528  id254B44F0-14C4-41C1-AD71-BD399C5052DE  12.677872  \n",
       "3529  id254B44F0-14C4-41C1-AD71-BD399C5052DE  15.367328  \n",
       "3530  id86EB6CF7-CC44-44BD-BEEA-7CBA61B95AFE   9.024502  \n",
       "3531  id254B44F0-14C4-41C1-AD71-BD399C5052DE  14.965296  \n",
       "3532  id254B44F0-14C4-41C1-AD71-BD399C5052DE  15.408917  \n",
       "\n",
       "[3533 rows x 4 columns]"
      ]
     },
     "execution_count": 25,
     "metadata": {},
     "output_type": "execute_result"
    }
   ],
   "source": [
    "df"
   ]
  },
  {
   "cell_type": "code",
   "execution_count": null,
   "id": "crude-poster",
   "metadata": {},
   "outputs": [],
   "source": [
    "# uprn_counts = dict(n.uprn.street.value_counts())\n",
    "# n.roads['uprn_counts'] = n.roads.id.apply(lambda x: uprn_counts.get(x, 0))\n",
    "# n.roads['density'] = n.roads.uprn_counts / n.roads.length * 10\n",
    "# n.roads['residential'] = n.roads.density > 0.5"
   ]
  }
 ],
 "metadata": {
  "kernelspec": {
   "display_name": "Python 3",
   "language": "python",
   "name": "python3"
  },
  "language_info": {
   "codemirror_mode": {
    "name": "ipython",
    "version": 3
   },
   "file_extension": ".py",
   "mimetype": "text/x-python",
   "name": "python",
   "nbconvert_exporter": "python",
   "pygments_lexer": "ipython3",
   "version": "3.8.8"
  }
 },
 "nbformat": 4,
 "nbformat_minor": 5
}
