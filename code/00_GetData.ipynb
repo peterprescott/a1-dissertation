{
 "cells": [
  {
   "cell_type": "code",
   "execution_count": 1,
   "id": "technological-appraisal",
   "metadata": {},
   "outputs": [],
   "source": [
    "import os\n",
    "import zipfile\n",
    "import requests\n",
    "\n",
    "import pandas as pd\n",
    "import numpy as np\n",
    "import fiona\n",
    "import geopandas as gpd\n",
    "\n",
    "from sqlalchemy import create_engine"
   ]
  },
  {
   "cell_type": "code",
   "execution_count": 2,
   "id": "earlier-sharing",
   "metadata": {},
   "outputs": [],
   "source": [
    "response = requests.get('https://api.os.uk/downloads/v1/products')"
   ]
  },
  {
   "cell_type": "code",
   "execution_count": 3,
   "id": "favorite-rings",
   "metadata": {},
   "outputs": [],
   "source": [
    "products = pd.DataFrame(response.json())"
   ]
  },
  {
   "cell_type": "code",
   "execution_count": 4,
   "id": "identical-america",
   "metadata": {},
   "outputs": [],
   "source": [
    "products['download'] = products.url.apply(lambda x: requests.get(x).json()['downloadsUrl'])"
   ]
  },
  {
   "cell_type": "code",
   "execution_count": 25,
   "id": "mighty-export",
   "metadata": {},
   "outputs": [],
   "source": [
    "products['download2'] = products.download.apply(lambda x: requests.get(x).json())"
   ]
  },
  {
   "cell_type": "code",
   "execution_count": 26,
   "id": "affiliated-fishing",
   "metadata": {},
   "outputs": [],
   "source": [
    "products['formats'] = products.download2.apply(lambda x: [e['format'] for e in x])"
   ]
  },
  {
   "cell_type": "code",
   "execution_count": 31,
   "id": "offshore-investing",
   "metadata": {},
   "outputs": [],
   "source": [
    "products['geopackage'] = products.formats.apply(lambda x: 'GeoPackage' in x)"
   ]
  },
  {
   "cell_type": "code",
   "execution_count": 51,
   "id": "hispanic-reflection",
   "metadata": {},
   "outputs": [],
   "source": [
    "products['geopackage_url'] = products.apply(lambda x: [e['url'] for e in x.download2 \n",
    "                                                       if e['format'] == 'GeoPackage'][0] \n",
    "                                            if x.geopackage else None, axis=1)"
   ]
  },
  {
   "cell_type": "code",
   "execution_count": 55,
   "id": "first-coast",
   "metadata": {},
   "outputs": [],
   "source": [
    "def download_geopackage(row):\n",
    "    print(row.id)\n",
    "    with open(f'../data/{row.id}_gpkg.zip', 'wb') as downloading:\n",
    "        downloading.write(requests.get(row.geopackage_url).content)\n",
    "        downloading.close()\n",
    "    return \"Done!\""
   ]
  },
  {
   "cell_type": "code",
   "execution_count": null,
   "id": "incorporated-postage",
   "metadata": {},
   "outputs": [],
   "source": [
    "products['downloaded'] = products.apply(\n",
    "    lambda x: download_geopackage(x) if x.geopackage else None, axis=1\n",
    ")\n",
    "                                        "
   ]
  }
 ],
 "metadata": {
  "kernelspec": {
   "display_name": "Python 3",
   "language": "python",
   "name": "python3"
  },
  "language_info": {
   "codemirror_mode": {
    "name": "ipython",
    "version": 3
   },
   "file_extension": ".py",
   "mimetype": "text/x-python",
   "name": "python",
   "nbconvert_exporter": "python",
   "pygments_lexer": "ipython3",
   "version": "3.8.8"
  }
 },
 "nbformat": 4,
 "nbformat_minor": 5
}
