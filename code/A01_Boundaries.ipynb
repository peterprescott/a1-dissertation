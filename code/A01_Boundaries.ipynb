{
 "cells": [
  {
   "cell_type": "code",
   "execution_count": 23,
   "id": "registered-turning",
   "metadata": {},
   "outputs": [],
   "source": [
    "import os\n",
    "import zipfile\n",
    "import requests\n",
    "\n",
    "import pandas as pd\n",
    "import numpy as np\n",
    "import fiona\n",
    "import geopandas as gpd\n",
    "\n",
    "from sqlalchemy import create_engine\n",
    "\n",
    "# set up database\n",
    "user = os.environ.get('DB_USERNAME')\n",
    "pwd = os.environ.get('DB_PASSWORD')\n",
    "host = os.environ.get('DB_HOSTNAME')\n",
    "port = os.environ.get('DB_PORT')\n",
    "\n",
    "db_connection_url = f\"postgres+psycopg2://{user}:{pwd}@{host}:{port}/geodemo\"\n",
    "engine = create_engine(db_connection_url)"
   ]
  },
  {
   "cell_type": "code",
   "execution_count": 4,
   "id": "golden-shower",
   "metadata": {},
   "outputs": [
    {
     "data": {
      "text/plain": [
       "['boundary_line_ceremonial_counties',\n",
       " 'boundary_line_historic_counties',\n",
       " 'community_ward',\n",
       " 'country_region',\n",
       " 'county',\n",
       " 'county_electoral_division',\n",
       " 'district_borough_unitary',\n",
       " 'district_borough_unitary_ward',\n",
       " 'english_region',\n",
       " 'greater_london_const',\n",
       " 'high_water',\n",
       " 'historic_european_region',\n",
       " 'parish',\n",
       " 'polling_districts_england',\n",
       " 'scotland_and_wales_const',\n",
       " 'scotland_and_wales_region',\n",
       " 'unitary_electoral_division',\n",
       " 'westminster_const']"
      ]
     },
     "execution_count": 4,
     "metadata": {},
     "output_type": "execute_result"
    }
   ],
   "source": [
    "fiona.listlayers('../data/BoundaryLine/data/bdline_gb.gpkg')"
   ]
  },
  {
   "cell_type": "code",
   "execution_count": 7,
   "id": "ideal-south",
   "metadata": {},
   "outputs": [],
   "source": [
    "zf = zipfile.ZipFile('../data/BoundaryLine_gpkg.zip')"
   ]
  },
  {
   "cell_type": "code",
   "execution_count": 20,
   "id": "interracial-translation",
   "metadata": {},
   "outputs": [],
   "source": [
    "[gpkg] = [f for f in zf.namelist() if f.split('.')[-1] == 'gpkg']"
   ]
  },
  {
   "cell_type": "code",
   "execution_count": 21,
   "id": "declared-organization",
   "metadata": {},
   "outputs": [
    {
     "data": {
      "text/plain": [
       "'data/bdline_gb.gpkg'"
      ]
     },
     "execution_count": 21,
     "metadata": {},
     "output_type": "execute_result"
    }
   ],
   "source": [
    "gpkg"
   ]
  },
  {
   "cell_type": "code",
   "execution_count": 22,
   "id": "liberal-commonwealth",
   "metadata": {},
   "outputs": [],
   "source": [
    "layers = fiona.listlayers(zf.open(gpkg))"
   ]
  },
  {
   "cell_type": "code",
   "execution_count": 41,
   "id": "wound-howard",
   "metadata": {},
   "outputs": [
    {
     "data": {
      "text/plain": [
       "['boundary_line_ceremonial_counties',\n",
       " 'boundary_line_historic_counties',\n",
       " 'community_ward',\n",
       " 'country_region',\n",
       " 'county',\n",
       " 'county_electoral_division',\n",
       " 'district_borough_unitary',\n",
       " 'district_borough_unitary_ward',\n",
       " 'english_region',\n",
       " 'greater_london_const',\n",
       " 'high_water',\n",
       " 'historic_european_region',\n",
       " 'parish',\n",
       " 'polling_districts_england',\n",
       " 'scotland_and_wales_const',\n",
       " 'scotland_and_wales_region',\n",
       " 'unitary_electoral_division',\n",
       " 'westminster_const']"
      ]
     },
     "execution_count": 41,
     "metadata": {},
     "output_type": "execute_result"
    }
   ],
   "source": [
    "layers"
   ]
  },
  {
   "cell_type": "code",
   "execution_count": 25,
   "id": "hazardous-completion",
   "metadata": {},
   "outputs": [
    {
     "name": "stdout",
     "output_type": "stream",
     "text": [
      "boundary_line_ceremonial_counties\n",
      "CPU times: user 10 µs, sys: 1 µs, total: 11 µs\n",
      "Wall time: 21 µs\n"
     ]
    },
    {
     "name": "stderr",
     "output_type": "stream",
     "text": [
      "/opt/conda/lib/python3.8/site-packages/geopandas/geodataframe.py:577: RuntimeWarning: Sequential read of iterator was interrupted. Resetting iterator. This can negatively impact the performance.\n",
      "  for feature in features_lst:\n"
     ]
    },
    {
     "name": "stdout",
     "output_type": "stream",
     "text": [
      "CPU times: user 6 µs, sys: 1 µs, total: 7 µs\n",
      "Wall time: 10.7 µs\n",
      "boundary_line_historic_counties\n",
      "CPU times: user 10 µs, sys: 1 µs, total: 11 µs\n",
      "Wall time: 19.3 µs\n"
     ]
    },
    {
     "name": "stderr",
     "output_type": "stream",
     "text": [
      "/opt/conda/lib/python3.8/site-packages/geopandas/geodataframe.py:577: RuntimeWarning: Sequential read of iterator was interrupted. Resetting iterator. This can negatively impact the performance.\n",
      "  for feature in features_lst:\n"
     ]
    },
    {
     "name": "stdout",
     "output_type": "stream",
     "text": [
      "CPU times: user 4 µs, sys: 1 µs, total: 5 µs\n",
      "Wall time: 8.82 µs\n",
      "community_ward\n",
      "CPU times: user 10 µs, sys: 1 µs, total: 11 µs\n",
      "Wall time: 18.8 µs\n",
      "CPU times: user 4 µs, sys: 0 ns, total: 4 µs\n",
      "Wall time: 9.06 µs\n",
      "country_region\n",
      "CPU times: user 11 µs, sys: 1 µs, total: 12 µs\n",
      "Wall time: 20.3 µs\n",
      "CPU times: user 6 µs, sys: 0 ns, total: 6 µs\n",
      "Wall time: 10.3 µs\n",
      "county\n",
      "CPU times: user 12 µs, sys: 0 ns, total: 12 µs\n",
      "Wall time: 21.9 µs\n",
      "CPU times: user 5 µs, sys: 1 µs, total: 6 µs\n",
      "Wall time: 10.3 µs\n",
      "county_electoral_division\n",
      "CPU times: user 8 µs, sys: 0 ns, total: 8 µs\n",
      "Wall time: 16.9 µs\n",
      "CPU times: user 5 µs, sys: 0 ns, total: 5 µs\n",
      "Wall time: 9.06 µs\n",
      "district_borough_unitary\n",
      "CPU times: user 11 µs, sys: 1e+03 ns, total: 12 µs\n",
      "Wall time: 21.5 µs\n",
      "CPU times: user 5 µs, sys: 0 ns, total: 5 µs\n",
      "Wall time: 9.54 µs\n",
      "district_borough_unitary_ward\n",
      "CPU times: user 10 µs, sys: 0 ns, total: 10 µs\n",
      "Wall time: 17.4 µs\n",
      "CPU times: user 5 µs, sys: 0 ns, total: 5 µs\n",
      "Wall time: 10.5 µs\n",
      "english_region\n",
      "CPU times: user 12 µs, sys: 0 ns, total: 12 µs\n",
      "Wall time: 21.9 µs\n",
      "CPU times: user 5 µs, sys: 0 ns, total: 5 µs\n",
      "Wall time: 10.3 µs\n",
      "greater_london_const\n",
      "CPU times: user 8 µs, sys: 1e+03 ns, total: 9 µs\n",
      "Wall time: 15.3 µs\n",
      "CPU times: user 5 µs, sys: 1 µs, total: 6 µs\n",
      "Wall time: 10.5 µs\n",
      "high_water\n",
      "CPU times: user 10 µs, sys: 0 ns, total: 10 µs\n",
      "Wall time: 18.1 µs\n",
      "CPU times: user 16 µs, sys: 0 ns, total: 16 µs\n",
      "Wall time: 21 µs\n",
      "historic_european_region\n",
      "CPU times: user 11 µs, sys: 1e+03 ns, total: 12 µs\n",
      "Wall time: 21 µs\n",
      "CPU times: user 5 µs, sys: 0 ns, total: 5 µs\n",
      "Wall time: 9.54 µs\n",
      "parish\n",
      "CPU times: user 10 µs, sys: 1e+03 ns, total: 11 µs\n",
      "Wall time: 21.2 µs\n",
      "CPU times: user 5 µs, sys: 0 ns, total: 5 µs\n",
      "Wall time: 10 µs\n",
      "polling_districts_england\n",
      "CPU times: user 11 µs, sys: 0 ns, total: 11 µs\n",
      "Wall time: 21 µs\n",
      "CPU times: user 4 µs, sys: 0 ns, total: 4 µs\n",
      "Wall time: 9.06 µs\n",
      "scotland_and_wales_const\n",
      "CPU times: user 9 µs, sys: 0 ns, total: 9 µs\n",
      "Wall time: 18.4 µs\n",
      "CPU times: user 5 µs, sys: 0 ns, total: 5 µs\n",
      "Wall time: 10.5 µs\n",
      "scotland_and_wales_region\n",
      "CPU times: user 10 µs, sys: 1 µs, total: 11 µs\n",
      "Wall time: 17.6 µs\n",
      "CPU times: user 5 µs, sys: 0 ns, total: 5 µs\n",
      "Wall time: 9.3 µs\n",
      "unitary_electoral_division\n",
      "CPU times: user 11 µs, sys: 0 ns, total: 11 µs\n",
      "Wall time: 21.2 µs\n",
      "CPU times: user 5 µs, sys: 1e+03 ns, total: 6 µs\n",
      "Wall time: 9.54 µs\n",
      "westminster_const\n",
      "CPU times: user 11 µs, sys: 0 ns, total: 11 µs\n",
      "Wall time: 20.5 µs\n",
      "CPU times: user 5 µs, sys: 0 ns, total: 5 µs\n",
      "Wall time: 10 µs\n"
     ]
    }
   ],
   "source": [
    "for l in layers:\n",
    "    print(l)\n",
    "    %time\n",
    "    gdf = gpd.read_file(zf.open(zf.namelist()[1]), driver='GPKG', layer=layers[0])\n",
    "    %time\n",
    "    gdf.to_postgis(l, engine, if_exists='replace')\n",
    "    "
   ]
  }
 ],
 "metadata": {
  "kernelspec": {
   "display_name": "Python 3",
   "language": "python",
   "name": "python3"
  },
  "language_info": {
   "codemirror_mode": {
    "name": "ipython",
    "version": 3
   },
   "file_extension": ".py",
   "mimetype": "text/x-python",
   "name": "python",
   "nbconvert_exporter": "python",
   "pygments_lexer": "ipython3",
   "version": "3.8.8"
  }
 },
 "nbformat": 4,
 "nbformat_minor": 5
}
