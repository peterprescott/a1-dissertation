{
 "cells": [
  {
   "cell_type": "code",
   "execution_count": 1,
   "id": "major-reform",
   "metadata": {},
   "outputs": [
    {
     "name": "stdout",
     "output_type": "stream",
     "text": [
      "Initializing database connection...\n",
      "Database connected!\n",
      "Getting data took 0 minutes, 0 seconds.\n"
     ]
    }
   ],
   "source": [
    "from go import *"
   ]
  },
  {
   "cell_type": "code",
   "execution_count": 2,
   "id": "efficient-prototype",
   "metadata": {},
   "outputs": [
    {
     "data": {
      "text/html": [
       "<div>\n",
       "<style scoped>\n",
       "    .dataframe tbody tr th:only-of-type {\n",
       "        vertical-align: middle;\n",
       "    }\n",
       "\n",
       "    .dataframe tbody tr th {\n",
       "        vertical-align: top;\n",
       "    }\n",
       "\n",
       "    .dataframe thead th {\n",
       "        text-align: right;\n",
       "    }\n",
       "</style>\n",
       "<table border=\"1\" class=\"dataframe\">\n",
       "  <thead>\n",
       "    <tr style=\"text-align: right;\">\n",
       "      <th></th>\n",
       "      <th>id</th>\n",
       "      <th>endNode</th>\n",
       "      <th>startNode</th>\n",
       "      <th>roadNumberTOID</th>\n",
       "      <th>roadNameTOID</th>\n",
       "      <th>fictitious</th>\n",
       "      <th>roadClassification</th>\n",
       "      <th>roadFunction</th>\n",
       "      <th>formOfWay</th>\n",
       "      <th>length</th>\n",
       "      <th>...</th>\n",
       "      <th>loop</th>\n",
       "      <th>primaryRoute</th>\n",
       "      <th>trunkRoad</th>\n",
       "      <th>roadClassificationNumber</th>\n",
       "      <th>name1</th>\n",
       "      <th>name1_lang</th>\n",
       "      <th>name2</th>\n",
       "      <th>name2_lang</th>\n",
       "      <th>roadStructure</th>\n",
       "      <th>geometry</th>\n",
       "    </tr>\n",
       "  </thead>\n",
       "  <tbody>\n",
       "    <tr>\n",
       "      <th>0</th>\n",
       "      <td>id05F0439A-C864-4EC4-9E9F-4C4434C5097B</td>\n",
       "      <td>id5C75C931-2CB5-4A62-94D6-6640796A01A6</td>\n",
       "      <td>id82466DE6-0CD6-4FC3-AA64-4E8AF6384F9F</td>\n",
       "      <td>osgb4000000013545080</td>\n",
       "      <td>osgb4000000013330430</td>\n",
       "      <td>False</td>\n",
       "      <td>A Road</td>\n",
       "      <td>A Road</td>\n",
       "      <td>Collapsed Dual Carriageway</td>\n",
       "      <td>119</td>\n",
       "      <td>...</td>\n",
       "      <td>False</td>\n",
       "      <td>False</td>\n",
       "      <td>False</td>\n",
       "      <td>A580</td>\n",
       "      <td>Townsend Avenue</td>\n",
       "      <td>None</td>\n",
       "      <td>None</td>\n",
       "      <td>None</td>\n",
       "      <td>None</td>\n",
       "      <td>LINESTRING (338074.010 393629.490, 338100.500 ...</td>\n",
       "    </tr>\n",
       "    <tr>\n",
       "      <th>1</th>\n",
       "      <td>id368C3678-9B72-4E4B-A7B2-6E27ADCBFBA4</td>\n",
       "      <td>id773F7AC3-7C53-49E9-867D-1BC4EB0CB9EF</td>\n",
       "      <td>id5C75C931-2CB5-4A62-94D6-6640796A01A6</td>\n",
       "      <td>osgb4000000013398483</td>\n",
       "      <td>osgb4000000013331700</td>\n",
       "      <td>False</td>\n",
       "      <td>A Road</td>\n",
       "      <td>A Road</td>\n",
       "      <td>Collapsed Dual Carriageway</td>\n",
       "      <td>64</td>\n",
       "      <td>...</td>\n",
       "      <td>False</td>\n",
       "      <td>True</td>\n",
       "      <td>False</td>\n",
       "      <td>A5058</td>\n",
       "      <td>Queens Drive West Derby</td>\n",
       "      <td>None</td>\n",
       "      <td>None</td>\n",
       "      <td>None</td>\n",
       "      <td>None</td>\n",
       "      <td>LINESTRING (338123.490 393737.050, 338149.370 ...</td>\n",
       "    </tr>\n",
       "    <tr>\n",
       "      <th>2</th>\n",
       "      <td>idCF1BDD76-9D33-4BFE-B66B-619ADA602C02</td>\n",
       "      <td>id2F743ECA-E1D3-4E9D-8899-403AAF81C600</td>\n",
       "      <td>id2EFB9F20-991A-48A2-B10B-D7C8A2ACEE80</td>\n",
       "      <td>osgb4000000013545080</td>\n",
       "      <td>osgb4000000013356117</td>\n",
       "      <td>False</td>\n",
       "      <td>A Road</td>\n",
       "      <td>A Road</td>\n",
       "      <td>Collapsed Dual Carriageway</td>\n",
       "      <td>216</td>\n",
       "      <td>...</td>\n",
       "      <td>False</td>\n",
       "      <td>False</td>\n",
       "      <td>False</td>\n",
       "      <td>A580</td>\n",
       "      <td>Townsend Lane</td>\n",
       "      <td>None</td>\n",
       "      <td>None</td>\n",
       "      <td>None</td>\n",
       "      <td>None</td>\n",
       "      <td>LINESTRING (337677.540 393295.970, 337692.970 ...</td>\n",
       "    </tr>\n",
       "    <tr>\n",
       "      <th>3</th>\n",
       "      <td>idE029418F-810B-41CC-BC7D-230499C94C94</td>\n",
       "      <td>idB45571C3-578E-45D0-9A32-7108DC9D1994</td>\n",
       "      <td>id364EF14D-D077-473D-957C-FAFBBFCCFEE3</td>\n",
       "      <td>osgb4000000013398483</td>\n",
       "      <td>osgb4000000013331700</td>\n",
       "      <td>False</td>\n",
       "      <td>A Road</td>\n",
       "      <td>A Road</td>\n",
       "      <td>Collapsed Dual Carriageway</td>\n",
       "      <td>49</td>\n",
       "      <td>...</td>\n",
       "      <td>False</td>\n",
       "      <td>True</td>\n",
       "      <td>False</td>\n",
       "      <td>A5058</td>\n",
       "      <td>Queens Drive West Derby</td>\n",
       "      <td>None</td>\n",
       "      <td>None</td>\n",
       "      <td>None</td>\n",
       "      <td>None</td>\n",
       "      <td>LINESTRING (338677.670 393216.790, 338688.760 ...</td>\n",
       "    </tr>\n",
       "    <tr>\n",
       "      <th>4</th>\n",
       "      <td>id6B8BD4F6-14ED-4889-B232-DC7956392611</td>\n",
       "      <td>idB45571C3-578E-45D0-9A32-7108DC9D1994</td>\n",
       "      <td>idF5DE0DA1-3F7F-4FF3-9A58-816C7041DEA9</td>\n",
       "      <td>osgb4000000013398678</td>\n",
       "      <td>osgb4000000013331707</td>\n",
       "      <td>False</td>\n",
       "      <td>A Road</td>\n",
       "      <td>A Road</td>\n",
       "      <td>Dual Carriageway</td>\n",
       "      <td>37</td>\n",
       "      <td>...</td>\n",
       "      <td>False</td>\n",
       "      <td>True</td>\n",
       "      <td>False</td>\n",
       "      <td>A5049</td>\n",
       "      <td>Muirhead Avenue</td>\n",
       "      <td>None</td>\n",
       "      <td>None</td>\n",
       "      <td>None</td>\n",
       "      <td>None</td>\n",
       "      <td>LINESTRING (338684.440 393139.780, 338692.140 ...</td>\n",
       "    </tr>\n",
       "    <tr>\n",
       "      <th>...</th>\n",
       "      <td>...</td>\n",
       "      <td>...</td>\n",
       "      <td>...</td>\n",
       "      <td>...</td>\n",
       "      <td>...</td>\n",
       "      <td>...</td>\n",
       "      <td>...</td>\n",
       "      <td>...</td>\n",
       "      <td>...</td>\n",
       "      <td>...</td>\n",
       "      <td>...</td>\n",
       "      <td>...</td>\n",
       "      <td>...</td>\n",
       "      <td>...</td>\n",
       "      <td>...</td>\n",
       "      <td>...</td>\n",
       "      <td>...</td>\n",
       "      <td>...</td>\n",
       "      <td>...</td>\n",
       "      <td>...</td>\n",
       "      <td>...</td>\n",
       "    </tr>\n",
       "    <tr>\n",
       "      <th>240</th>\n",
       "      <td>idD5FDD93F-D476-4AE3-80A3-02FC89CBD27C</td>\n",
       "      <td>id36442CF9-FE90-45DA-BEE6-3758F415FF2C</td>\n",
       "      <td>id12E1B01D-8E25-48BC-82C5-A3E3D006EAF6</td>\n",
       "      <td>None</td>\n",
       "      <td>osgb4000000013341470</td>\n",
       "      <td>False</td>\n",
       "      <td>Unclassified</td>\n",
       "      <td>Local Road</td>\n",
       "      <td>Single Carriageway</td>\n",
       "      <td>29</td>\n",
       "      <td>...</td>\n",
       "      <td>False</td>\n",
       "      <td>False</td>\n",
       "      <td>False</td>\n",
       "      <td>None</td>\n",
       "      <td>Buckingham Road</td>\n",
       "      <td>None</td>\n",
       "      <td>None</td>\n",
       "      <td>None</td>\n",
       "      <td>None</td>\n",
       "      <td>LINESTRING (338035.000 392413.000, 338030.000 ...</td>\n",
       "    </tr>\n",
       "    <tr>\n",
       "      <th>241</th>\n",
       "      <td>idBBBBCAE7-D68C-403F-AF45-F506146AF957</td>\n",
       "      <td>id36442CF9-FE90-45DA-BEE6-3758F415FF2C</td>\n",
       "      <td>id12E1B01D-8E25-48BC-82C5-A3E3D006EAF6</td>\n",
       "      <td>None</td>\n",
       "      <td>None</td>\n",
       "      <td>False</td>\n",
       "      <td>Unknown</td>\n",
       "      <td>Restricted Local Access Road</td>\n",
       "      <td>Single Carriageway</td>\n",
       "      <td>80</td>\n",
       "      <td>...</td>\n",
       "      <td>False</td>\n",
       "      <td>False</td>\n",
       "      <td>False</td>\n",
       "      <td>None</td>\n",
       "      <td>None</td>\n",
       "      <td>None</td>\n",
       "      <td>None</td>\n",
       "      <td>None</td>\n",
       "      <td>None</td>\n",
       "      <td>LINESTRING (338035.000 392413.000, 338059.000 ...</td>\n",
       "    </tr>\n",
       "    <tr>\n",
       "      <th>242</th>\n",
       "      <td>id17241C20-4C56-46D7-A29A-4745EC944A05</td>\n",
       "      <td>id12E1B01D-8E25-48BC-82C5-A3E3D006EAF6</td>\n",
       "      <td>id889B1573-99D0-4399-B04B-1498A863CF7A</td>\n",
       "      <td>None</td>\n",
       "      <td>osgb4000000013341470</td>\n",
       "      <td>False</td>\n",
       "      <td>Unclassified</td>\n",
       "      <td>Local Road</td>\n",
       "      <td>Single Carriageway</td>\n",
       "      <td>53</td>\n",
       "      <td>...</td>\n",
       "      <td>False</td>\n",
       "      <td>False</td>\n",
       "      <td>False</td>\n",
       "      <td>None</td>\n",
       "      <td>Buckingham Road</td>\n",
       "      <td>None</td>\n",
       "      <td>None</td>\n",
       "      <td>None</td>\n",
       "      <td>None</td>\n",
       "      <td>LINESTRING (338053.000 392363.000, 338044.000 ...</td>\n",
       "    </tr>\n",
       "    <tr>\n",
       "      <th>243</th>\n",
       "      <td>id857FBC2A-8D14-4D52-8C54-485829637A48</td>\n",
       "      <td>id889B1573-99D0-4399-B04B-1498A863CF7A</td>\n",
       "      <td>idFC22653F-F97F-46D1-A88C-A3F8388D569D</td>\n",
       "      <td>None</td>\n",
       "      <td>osgb4000000013341470</td>\n",
       "      <td>False</td>\n",
       "      <td>Unclassified</td>\n",
       "      <td>Local Road</td>\n",
       "      <td>Single Carriageway</td>\n",
       "      <td>13</td>\n",
       "      <td>...</td>\n",
       "      <td>False</td>\n",
       "      <td>False</td>\n",
       "      <td>False</td>\n",
       "      <td>None</td>\n",
       "      <td>Buckingham Road</td>\n",
       "      <td>None</td>\n",
       "      <td>None</td>\n",
       "      <td>None</td>\n",
       "      <td>None</td>\n",
       "      <td>LINESTRING (338056.640 392350.760, 338054.820 ...</td>\n",
       "    </tr>\n",
       "    <tr>\n",
       "      <th>244</th>\n",
       "      <td>id07D38E6D-393D-47B6-A19A-5E1C7590E375</td>\n",
       "      <td>idFC22653F-F97F-46D1-A88C-A3F8388D569D</td>\n",
       "      <td>id75224BB9-006A-4854-881A-AA3C3832DD81</td>\n",
       "      <td>osgb4000000013398678</td>\n",
       "      <td>osgb4000000013331698</td>\n",
       "      <td>False</td>\n",
       "      <td>A Road</td>\n",
       "      <td>A Road</td>\n",
       "      <td>Collapsed Dual Carriageway</td>\n",
       "      <td>2</td>\n",
       "      <td>...</td>\n",
       "      <td>False</td>\n",
       "      <td>True</td>\n",
       "      <td>False</td>\n",
       "      <td>A5049</td>\n",
       "      <td>West Derby Road</td>\n",
       "      <td>None</td>\n",
       "      <td>None</td>\n",
       "      <td>None</td>\n",
       "      <td>None</td>\n",
       "      <td>LINESTRING (338055.020 392350.130, 338056.640 ...</td>\n",
       "    </tr>\n",
       "  </tbody>\n",
       "</table>\n",
       "<p>245 rows × 21 columns</p>\n",
       "</div>"
      ],
      "text/plain": [
       "                                         id  \\\n",
       "0    id05F0439A-C864-4EC4-9E9F-4C4434C5097B   \n",
       "1    id368C3678-9B72-4E4B-A7B2-6E27ADCBFBA4   \n",
       "2    idCF1BDD76-9D33-4BFE-B66B-619ADA602C02   \n",
       "3    idE029418F-810B-41CC-BC7D-230499C94C94   \n",
       "4    id6B8BD4F6-14ED-4889-B232-DC7956392611   \n",
       "..                                      ...   \n",
       "240  idD5FDD93F-D476-4AE3-80A3-02FC89CBD27C   \n",
       "241  idBBBBCAE7-D68C-403F-AF45-F506146AF957   \n",
       "242  id17241C20-4C56-46D7-A29A-4745EC944A05   \n",
       "243  id857FBC2A-8D14-4D52-8C54-485829637A48   \n",
       "244  id07D38E6D-393D-47B6-A19A-5E1C7590E375   \n",
       "\n",
       "                                    endNode  \\\n",
       "0    id5C75C931-2CB5-4A62-94D6-6640796A01A6   \n",
       "1    id773F7AC3-7C53-49E9-867D-1BC4EB0CB9EF   \n",
       "2    id2F743ECA-E1D3-4E9D-8899-403AAF81C600   \n",
       "3    idB45571C3-578E-45D0-9A32-7108DC9D1994   \n",
       "4    idB45571C3-578E-45D0-9A32-7108DC9D1994   \n",
       "..                                      ...   \n",
       "240  id36442CF9-FE90-45DA-BEE6-3758F415FF2C   \n",
       "241  id36442CF9-FE90-45DA-BEE6-3758F415FF2C   \n",
       "242  id12E1B01D-8E25-48BC-82C5-A3E3D006EAF6   \n",
       "243  id889B1573-99D0-4399-B04B-1498A863CF7A   \n",
       "244  idFC22653F-F97F-46D1-A88C-A3F8388D569D   \n",
       "\n",
       "                                  startNode        roadNumberTOID  \\\n",
       "0    id82466DE6-0CD6-4FC3-AA64-4E8AF6384F9F  osgb4000000013545080   \n",
       "1    id5C75C931-2CB5-4A62-94D6-6640796A01A6  osgb4000000013398483   \n",
       "2    id2EFB9F20-991A-48A2-B10B-D7C8A2ACEE80  osgb4000000013545080   \n",
       "3    id364EF14D-D077-473D-957C-FAFBBFCCFEE3  osgb4000000013398483   \n",
       "4    idF5DE0DA1-3F7F-4FF3-9A58-816C7041DEA9  osgb4000000013398678   \n",
       "..                                      ...                   ...   \n",
       "240  id12E1B01D-8E25-48BC-82C5-A3E3D006EAF6                  None   \n",
       "241  id12E1B01D-8E25-48BC-82C5-A3E3D006EAF6                  None   \n",
       "242  id889B1573-99D0-4399-B04B-1498A863CF7A                  None   \n",
       "243  idFC22653F-F97F-46D1-A88C-A3F8388D569D                  None   \n",
       "244  id75224BB9-006A-4854-881A-AA3C3832DD81  osgb4000000013398678   \n",
       "\n",
       "             roadNameTOID  fictitious roadClassification  \\\n",
       "0    osgb4000000013330430       False             A Road   \n",
       "1    osgb4000000013331700       False             A Road   \n",
       "2    osgb4000000013356117       False             A Road   \n",
       "3    osgb4000000013331700       False             A Road   \n",
       "4    osgb4000000013331707       False             A Road   \n",
       "..                    ...         ...                ...   \n",
       "240  osgb4000000013341470       False       Unclassified   \n",
       "241                  None       False            Unknown   \n",
       "242  osgb4000000013341470       False       Unclassified   \n",
       "243  osgb4000000013341470       False       Unclassified   \n",
       "244  osgb4000000013331698       False             A Road   \n",
       "\n",
       "                     roadFunction                   formOfWay  length  ...  \\\n",
       "0                          A Road  Collapsed Dual Carriageway     119  ...   \n",
       "1                          A Road  Collapsed Dual Carriageway      64  ...   \n",
       "2                          A Road  Collapsed Dual Carriageway     216  ...   \n",
       "3                          A Road  Collapsed Dual Carriageway      49  ...   \n",
       "4                          A Road            Dual Carriageway      37  ...   \n",
       "..                            ...                         ...     ...  ...   \n",
       "240                    Local Road          Single Carriageway      29  ...   \n",
       "241  Restricted Local Access Road          Single Carriageway      80  ...   \n",
       "242                    Local Road          Single Carriageway      53  ...   \n",
       "243                    Local Road          Single Carriageway      13  ...   \n",
       "244                        A Road  Collapsed Dual Carriageway       2  ...   \n",
       "\n",
       "      loop  primaryRoute  trunkRoad  roadClassificationNumber  \\\n",
       "0    False         False      False                      A580   \n",
       "1    False          True      False                     A5058   \n",
       "2    False         False      False                      A580   \n",
       "3    False          True      False                     A5058   \n",
       "4    False          True      False                     A5049   \n",
       "..     ...           ...        ...                       ...   \n",
       "240  False         False      False                      None   \n",
       "241  False         False      False                      None   \n",
       "242  False         False      False                      None   \n",
       "243  False         False      False                      None   \n",
       "244  False          True      False                     A5049   \n",
       "\n",
       "                       name1 name1_lang name2 name2_lang roadStructure  \\\n",
       "0            Townsend Avenue       None  None       None          None   \n",
       "1    Queens Drive West Derby       None  None       None          None   \n",
       "2              Townsend Lane       None  None       None          None   \n",
       "3    Queens Drive West Derby       None  None       None          None   \n",
       "4            Muirhead Avenue       None  None       None          None   \n",
       "..                       ...        ...   ...        ...           ...   \n",
       "240          Buckingham Road       None  None       None          None   \n",
       "241                     None       None  None       None          None   \n",
       "242          Buckingham Road       None  None       None          None   \n",
       "243          Buckingham Road       None  None       None          None   \n",
       "244          West Derby Road       None  None       None          None   \n",
       "\n",
       "                                              geometry  \n",
       "0    LINESTRING (338074.010 393629.490, 338100.500 ...  \n",
       "1    LINESTRING (338123.490 393737.050, 338149.370 ...  \n",
       "2    LINESTRING (337677.540 393295.970, 337692.970 ...  \n",
       "3    LINESTRING (338677.670 393216.790, 338688.760 ...  \n",
       "4    LINESTRING (338684.440 393139.780, 338692.140 ...  \n",
       "..                                                 ...  \n",
       "240  LINESTRING (338035.000 392413.000, 338030.000 ...  \n",
       "241  LINESTRING (338035.000 392413.000, 338059.000 ...  \n",
       "242  LINESTRING (338053.000 392363.000, 338044.000 ...  \n",
       "243  LINESTRING (338056.640 392350.760, 338054.820 ...  \n",
       "244  LINESTRING (338055.020 392350.130, 338056.640 ...  \n",
       "\n",
       "[245 rows x 21 columns]"
      ]
     },
     "execution_count": 2,
     "metadata": {},
     "output_type": "execute_result"
    }
   ],
   "source": [
    "n.roads"
   ]
  },
  {
   "cell_type": "code",
   "execution_count": 3,
   "id": "adapted-example",
   "metadata": {},
   "outputs": [],
   "source": [
    "n.stats = dict()"
   ]
  },
  {
   "cell_type": "code",
   "execution_count": 4,
   "id": "national-imaging",
   "metadata": {},
   "outputs": [],
   "source": [
    "n.stats['rds'] = len(n.roads)"
   ]
  },
  {
   "cell_type": "code",
   "execution_count": 5,
   "id": "decreased-heavy",
   "metadata": {},
   "outputs": [],
   "source": [
    "n.stats['uprn'] = len(n.uprn)"
   ]
  },
  {
   "cell_type": "code",
   "execution_count": 6,
   "id": "comparable-binary",
   "metadata": {},
   "outputs": [],
   "source": [
    "n.stats['bdgs'] = len(n.buildings)"
   ]
  },
  {
   "cell_type": "code",
   "execution_count": 7,
   "id": "exciting-database",
   "metadata": {},
   "outputs": [
    {
     "data": {
      "text/plain": [
       "{'rds': 245, 'uprn': 3703, 'bdgs': 658}"
      ]
     },
     "execution_count": 7,
     "metadata": {},
     "output_type": "execute_result"
    }
   ],
   "source": [
    "n.stats"
   ]
  },
  {
   "cell_type": "code",
   "execution_count": 8,
   "id": "equipped-simple",
   "metadata": {},
   "outputs": [],
   "source": [
    "n.intersections = set(n.roads.endNode).union((n.roads.startNode))"
   ]
  },
  {
   "cell_type": "code",
   "execution_count": 9,
   "id": "pharmaceutical-speed",
   "metadata": {},
   "outputs": [],
   "source": [
    "n.stats['intersections'] = len(n.intersections)"
   ]
  },
  {
   "cell_type": "code",
   "execution_count": 10,
   "id": "necessary-riverside",
   "metadata": {},
   "outputs": [
    {
     "data": {
      "text/plain": [
       "{'rds': 245, 'uprn': 3703, 'bdgs': 658, 'intersections': 184}"
      ]
     },
     "execution_count": 10,
     "metadata": {},
     "output_type": "execute_result"
    }
   ],
   "source": [
    "n.stats"
   ]
  },
  {
   "cell_type": "code",
   "execution_count": 11,
   "id": "affecting-albany",
   "metadata": {},
   "outputs": [],
   "source": [
    "n.stats['rdsegments'] = len(n.roads)\n",
    "n.stats['uniqueroads'] = len(n.roads.name1.unique())"
   ]
  },
  {
   "cell_type": "code",
   "execution_count": 12,
   "id": "welcome-conditioning",
   "metadata": {},
   "outputs": [
    {
     "data": {
      "text/plain": [
       "{'rds': 245,\n",
       " 'uprn': 3703,\n",
       " 'bdgs': 658,\n",
       " 'intersections': 184,\n",
       " 'rdsegments': 245,\n",
       " 'uniqueroads': 69}"
      ]
     },
     "execution_count": 12,
     "metadata": {},
     "output_type": "execute_result"
    }
   ],
   "source": [
    "n.stats"
   ]
  },
  {
   "cell_type": "code",
   "execution_count": 13,
   "id": "regular-compatibility",
   "metadata": {},
   "outputs": [
    {
     "data": {
      "text/plain": [
       "count    245.000000\n",
       "mean      73.965109\n",
       "std       55.109140\n",
       "min        1.738189\n",
       "25%       40.668941\n",
       "50%       55.658671\n",
       "75%       91.049437\n",
       "max      377.491021\n",
       "dtype: float64"
      ]
     },
     "execution_count": 13,
     "metadata": {},
     "output_type": "execute_result"
    }
   ],
   "source": [
    "n.roads.length.describe()"
   ]
  },
  {
   "cell_type": "code",
   "execution_count": 14,
   "id": "sacred-atmosphere",
   "metadata": {},
   "outputs": [],
   "source": [
    "n.stats['mean_rd_segment'] = n.roads.length.describe().mean()"
   ]
  },
  {
   "cell_type": "code",
   "execution_count": 15,
   "id": "tender-yacht",
   "metadata": {},
   "outputs": [],
   "source": [
    "n.stats['median_rd_segment'] = n.roads.length.describe().median()"
   ]
  },
  {
   "cell_type": "code",
   "execution_count": 16,
   "id": "interpreted-scroll",
   "metadata": {},
   "outputs": [],
   "source": [
    "n.stats['total_rd_length'] = n.roads.length.sum()"
   ]
  },
  {
   "cell_type": "code",
   "execution_count": 17,
   "id": "banned-shannon",
   "metadata": {},
   "outputs": [
    {
     "data": {
      "text/plain": [
       "{'rds': 245,\n",
       " 'uprn': 3703,\n",
       " 'bdgs': 658,\n",
       " 'intersections': 184,\n",
       " 'rdsegments': 245,\n",
       " 'uniqueroads': 69,\n",
       " 'mean_rd_segment': 117.58506351472265,\n",
       " 'median_rd_segment': 64.81189018222258,\n",
       " 'total_rd_length': 18121.451789558814}"
      ]
     },
     "execution_count": 17,
     "metadata": {},
     "output_type": "execute_result"
    }
   ],
   "source": [
    "n.stats"
   ]
  },
  {
   "cell_type": "code",
   "execution_count": 18,
   "id": "funny-plant",
   "metadata": {},
   "outputs": [],
   "source": [
    "n.stats['area'] = n.geom.area"
   ]
  },
  {
   "cell_type": "code",
   "execution_count": 19,
   "id": "moral-screw",
   "metadata": {},
   "outputs": [],
   "source": [
    "n.stats['convex_hull_area'] = n.geom.convex_hull.area"
   ]
  },
  {
   "cell_type": "code",
   "execution_count": 20,
   "id": "graduate-trade",
   "metadata": {},
   "outputs": [
    {
     "data": {
      "text/plain": [
       "{'rds': 245,\n",
       " 'uprn': 3703,\n",
       " 'bdgs': 658,\n",
       " 'intersections': 184,\n",
       " 'rdsegments': 245,\n",
       " 'uniqueroads': 69,\n",
       " 'mean_rd_segment': 117.58506351472265,\n",
       " 'median_rd_segment': 64.81189018222258,\n",
       " 'total_rd_length': 18121.451789558814,\n",
       " 'area': 869895.2461793427,\n",
       " 'convex_hull_area': 907576.5296423617}"
      ]
     },
     "execution_count": 20,
     "metadata": {},
     "output_type": "execute_result"
    }
   ],
   "source": [
    "n.stats"
   ]
  },
  {
   "cell_type": "code",
   "execution_count": 21,
   "id": "sorted-coupon",
   "metadata": {
    "tags": []
   },
   "outputs": [],
   "source": [
    "n.find_neighbours()"
   ]
  },
  {
   "cell_type": "code",
   "execution_count": 22,
   "id": "elegant-colorado",
   "metadata": {},
   "outputs": [],
   "source": [
    "uprn_counts = dict(n.uprn.street.value_counts())"
   ]
  },
  {
   "cell_type": "code",
   "execution_count": 23,
   "id": "pursuant-drive",
   "metadata": {},
   "outputs": [],
   "source": [
    "n.roads['uprn_counts'] = n.roads.id.apply(lambda x: uprn_counts.get(x, 0))"
   ]
  },
  {
   "cell_type": "code",
   "execution_count": 24,
   "id": "suited-drill",
   "metadata": {},
   "outputs": [],
   "source": [
    "n.roads['density'] = n.roads.uprn_counts / n.roads.length * 10"
   ]
  },
  {
   "cell_type": "code",
   "execution_count": 25,
   "id": "million-importance",
   "metadata": {},
   "outputs": [
    {
     "data": {
      "text/plain": [
       "<AxesSubplot:>"
      ]
     },
     "execution_count": 25,
     "metadata": {},
     "output_type": "execute_result"
    },
    {
     "data": {
      "image/png": "[encoded data removed]",
      "text/plain": [
       "<Figure size 432x288 with 1 Axes>"
      ]
     },
     "metadata": {
      "needs_background": "light"
     },
     "output_type": "display_data"
    }
   ],
   "source": [
    "n.roads.density.hist(bins=100)"
   ]
  },
  {
   "cell_type": "code",
   "execution_count": 26,
   "id": "disturbed-brief",
   "metadata": {},
   "outputs": [
    {
     "data": {
      "text/plain": [
       "count    245.000000\n",
       "mean       1.813634\n",
       "std        1.395041\n",
       "min        0.000000\n",
       "25%        0.948091\n",
       "50%        1.735531\n",
       "75%        2.594234\n",
       "max       11.808688\n",
       "Name: density, dtype: float64"
      ]
     },
     "execution_count": 26,
     "metadata": {},
     "output_type": "execute_result"
    }
   ],
   "source": [
    "n.roads.density.describe()"
   ]
  },
  {
   "cell_type": "code",
   "execution_count": 27,
   "id": "collect-configuration",
   "metadata": {},
   "outputs": [],
   "source": [
    "n.roads['residential'] = n.roads.density > 0.5"
   ]
  },
  {
   "cell_type": "code",
   "execution_count": 28,
   "id": "outside-morning",
   "metadata": {},
   "outputs": [
    {
     "data": {
      "text/plain": [
       "<AxesSubplot:>"
      ]
     },
     "execution_count": 28,
     "metadata": {},
     "output_type": "execute_result"
    },
    {
     "data": {
      "image/png": "[encoded data removed]",
      "text/plain": [
       "<Figure size 432x288 with 1 Axes>"
      ]
     },
     "metadata": {
      "needs_background": "light"
     },
     "output_type": "display_data"
    }
   ],
   "source": [
    "n.roads.plot('residential')"
   ]
  },
  {
   "cell_type": "code",
   "execution_count": 29,
   "id": "natural-murder",
   "metadata": {},
   "outputs": [
    {
     "data": {
      "text/plain": [
       "<AxesSubplot:>"
      ]
     },
     "execution_count": 29,
     "metadata": {},
     "output_type": "execute_result"
    },
    {
     "data": {
      "image/png": "[encoded data removed]",
      "text/plain": [
       "<Figure size 432x288 with 1 Axes>"
      ]
     },
     "metadata": {
      "needs_background": "light"
     },
     "output_type": "display_data"
    }
   ],
   "source": [
    "n.roads.loc[~n.roads.residential].plot('id')"
   ]
  },
  {
   "cell_type": "code",
   "execution_count": 30,
   "id": "coral-malawi",
   "metadata": {},
   "outputs": [
    {
     "data": {
      "text/plain": [
       "Index(['id', 'endNode', 'startNode', 'roadNumberTOID', 'roadNameTOID',\n",
       "       'fictitious', 'roadClassification', 'roadFunction', 'formOfWay',\n",
       "       'length', 'length_uom', 'loop', 'primaryRoute', 'trunkRoad',\n",
       "       'roadClassificationNumber', 'name1', 'name1_lang', 'name2',\n",
       "       'name2_lang', 'roadStructure', 'geometry', 'uprn_counts', 'density',\n",
       "       'residential'],\n",
       "      dtype='object')"
      ]
     },
     "execution_count": 30,
     "metadata": {},
     "output_type": "execute_result"
    }
   ],
   "source": [
    "n.roads.columns"
   ]
  },
  {
   "cell_type": "code",
   "execution_count": 31,
   "id": "basic-coating",
   "metadata": {},
   "outputs": [],
   "source": [
    "n.stats['road_types'] = n.roads.roadFunction.value_counts()"
   ]
  },
  {
   "cell_type": "code",
   "execution_count": 32,
   "id": "ideal-inspection",
   "metadata": {},
   "outputs": [],
   "source": [
    "n.stats['road_name_endings'] = n.roads.name1.str.split(' ').str[1].value_counts()"
   ]
  },
  {
   "cell_type": "code",
   "execution_count": 33,
   "id": "declared-stations",
   "metadata": {},
   "outputs": [
    {
     "data": {
      "text/plain": [
       "{'rds': 245,\n",
       " 'uprn': 3703,\n",
       " 'bdgs': 658,\n",
       " 'intersections': 184,\n",
       " 'rdsegments': 245,\n",
       " 'uniqueroads': 69,\n",
       " 'mean_rd_segment': 117.58506351472265,\n",
       " 'median_rd_segment': 64.81189018222258,\n",
       " 'total_rd_length': 18121.451789558814,\n",
       " 'area': 869895.2461793427,\n",
       " 'convex_hull_area': 907576.5296423617,\n",
       " 'road_types': Local Road                      185\n",
       " A Road                           32\n",
       " Restricted Local Access Road     16\n",
       " Secondary Access Road            12\n",
       " Name: roadFunction, dtype: int64,\n",
       " 'road_name_endings': Road        116\n",
       " Lane         42\n",
       " Street       14\n",
       " Drive        13\n",
       " Derby        11\n",
       " Avenue        8\n",
       " Place         5\n",
       " Grove         3\n",
       " View          1\n",
       " Crescent      1\n",
       " Close         1\n",
       " Name: name1, dtype: int64}"
      ]
     },
     "execution_count": 33,
     "metadata": {},
     "output_type": "execute_result"
    }
   ],
   "source": [
    "n.stats"
   ]
  },
  {
   "cell_type": "code",
   "execution_count": 36,
   "id": "aging-trauma",
   "metadata": {},
   "outputs": [],
   "source": [
    "import pandas as pd"
   ]
  },
  {
   "cell_type": "code",
   "execution_count": 38,
   "id": "committed-minority",
   "metadata": {},
   "outputs": [],
   "source": [
    "n.intersections = pd.DataFrame(n.intersections)"
   ]
  },
  {
   "cell_type": "code",
   "execution_count": 39,
   "id": "dangerous-dubai",
   "metadata": {},
   "outputs": [],
   "source": [
    "n.intersections.columns = ['id']"
   ]
  },
  {
   "cell_type": "code",
   "execution_count": 46,
   "id": "played-movie",
   "metadata": {},
   "outputs": [],
   "source": [
    "df = n.roads[['id','endNode','startNode']]"
   ]
  },
  {
   "cell_type": "code",
   "execution_count": 48,
   "id": "secure-parliament",
   "metadata": {},
   "outputs": [],
   "source": [
    "d1 = dict(zip(df.endNode, df.id))"
   ]
  },
  {
   "cell_type": "code",
   "execution_count": 49,
   "id": "respected-helena",
   "metadata": {},
   "outputs": [],
   "source": [
    "d2 = dict(zip(df.startNode, df.id))"
   ]
  },
  {
   "cell_type": "code",
   "execution_count": 65,
   "id": "local-hungary",
   "metadata": {},
   "outputs": [
    {
     "data": {
      "text/html": [
       "<div>\n",
       "<style scoped>\n",
       "    .dataframe tbody tr th:only-of-type {\n",
       "        vertical-align: middle;\n",
       "    }\n",
       "\n",
       "    .dataframe tbody tr th {\n",
       "        vertical-align: top;\n",
       "    }\n",
       "\n",
       "    .dataframe thead th {\n",
       "        text-align: right;\n",
       "    }\n",
       "</style>\n",
       "<table border=\"1\" class=\"dataframe\">\n",
       "  <thead>\n",
       "    <tr style=\"text-align: right;\">\n",
       "      <th></th>\n",
       "      <th>id</th>\n",
       "      <th>endNode</th>\n",
       "      <th>startNode</th>\n",
       "    </tr>\n",
       "  </thead>\n",
       "  <tbody>\n",
       "    <tr>\n",
       "      <th>0</th>\n",
       "      <td>id05F0439A-C864-4EC4-9E9F-4C4434C5097B</td>\n",
       "      <td>id5C75C931-2CB5-4A62-94D6-6640796A01A6</td>\n",
       "      <td>id82466DE6-0CD6-4FC3-AA64-4E8AF6384F9F</td>\n",
       "    </tr>\n",
       "    <tr>\n",
       "      <th>1</th>\n",
       "      <td>id368C3678-9B72-4E4B-A7B2-6E27ADCBFBA4</td>\n",
       "      <td>id773F7AC3-7C53-49E9-867D-1BC4EB0CB9EF</td>\n",
       "      <td>id5C75C931-2CB5-4A62-94D6-6640796A01A6</td>\n",
       "    </tr>\n",
       "    <tr>\n",
       "      <th>2</th>\n",
       "      <td>idCF1BDD76-9D33-4BFE-B66B-619ADA602C02</td>\n",
       "      <td>id2F743ECA-E1D3-4E9D-8899-403AAF81C600</td>\n",
       "      <td>id2EFB9F20-991A-48A2-B10B-D7C8A2ACEE80</td>\n",
       "    </tr>\n",
       "    <tr>\n",
       "      <th>3</th>\n",
       "      <td>idE029418F-810B-41CC-BC7D-230499C94C94</td>\n",
       "      <td>idB45571C3-578E-45D0-9A32-7108DC9D1994</td>\n",
       "      <td>id364EF14D-D077-473D-957C-FAFBBFCCFEE3</td>\n",
       "    </tr>\n",
       "    <tr>\n",
       "      <th>4</th>\n",
       "      <td>id6B8BD4F6-14ED-4889-B232-DC7956392611</td>\n",
       "      <td>idB45571C3-578E-45D0-9A32-7108DC9D1994</td>\n",
       "      <td>idF5DE0DA1-3F7F-4FF3-9A58-816C7041DEA9</td>\n",
       "    </tr>\n",
       "    <tr>\n",
       "      <th>...</th>\n",
       "      <td>...</td>\n",
       "      <td>...</td>\n",
       "      <td>...</td>\n",
       "    </tr>\n",
       "    <tr>\n",
       "      <th>240</th>\n",
       "      <td>idD5FDD93F-D476-4AE3-80A3-02FC89CBD27C</td>\n",
       "      <td>id36442CF9-FE90-45DA-BEE6-3758F415FF2C</td>\n",
       "      <td>id12E1B01D-8E25-48BC-82C5-A3E3D006EAF6</td>\n",
       "    </tr>\n",
       "    <tr>\n",
       "      <th>241</th>\n",
       "      <td>idBBBBCAE7-D68C-403F-AF45-F506146AF957</td>\n",
       "      <td>id36442CF9-FE90-45DA-BEE6-3758F415FF2C</td>\n",
       "      <td>id12E1B01D-8E25-48BC-82C5-A3E3D006EAF6</td>\n",
       "    </tr>\n",
       "    <tr>\n",
       "      <th>242</th>\n",
       "      <td>id17241C20-4C56-46D7-A29A-4745EC944A05</td>\n",
       "      <td>id12E1B01D-8E25-48BC-82C5-A3E3D006EAF6</td>\n",
       "      <td>id889B1573-99D0-4399-B04B-1498A863CF7A</td>\n",
       "    </tr>\n",
       "    <tr>\n",
       "      <th>243</th>\n",
       "      <td>id857FBC2A-8D14-4D52-8C54-485829637A48</td>\n",
       "      <td>id889B1573-99D0-4399-B04B-1498A863CF7A</td>\n",
       "      <td>idFC22653F-F97F-46D1-A88C-A3F8388D569D</td>\n",
       "    </tr>\n",
       "    <tr>\n",
       "      <th>244</th>\n",
       "      <td>id07D38E6D-393D-47B6-A19A-5E1C7590E375</td>\n",
       "      <td>idFC22653F-F97F-46D1-A88C-A3F8388D569D</td>\n",
       "      <td>id75224BB9-006A-4854-881A-AA3C3832DD81</td>\n",
       "    </tr>\n",
       "  </tbody>\n",
       "</table>\n",
       "<p>245 rows × 3 columns</p>\n",
       "</div>"
      ],
      "text/plain": [
       "                                         id  \\\n",
       "0    id05F0439A-C864-4EC4-9E9F-4C4434C5097B   \n",
       "1    id368C3678-9B72-4E4B-A7B2-6E27ADCBFBA4   \n",
       "2    idCF1BDD76-9D33-4BFE-B66B-619ADA602C02   \n",
       "3    idE029418F-810B-41CC-BC7D-230499C94C94   \n",
       "4    id6B8BD4F6-14ED-4889-B232-DC7956392611   \n",
       "..                                      ...   \n",
       "240  idD5FDD93F-D476-4AE3-80A3-02FC89CBD27C   \n",
       "241  idBBBBCAE7-D68C-403F-AF45-F506146AF957   \n",
       "242  id17241C20-4C56-46D7-A29A-4745EC944A05   \n",
       "243  id857FBC2A-8D14-4D52-8C54-485829637A48   \n",
       "244  id07D38E6D-393D-47B6-A19A-5E1C7590E375   \n",
       "\n",
       "                                    endNode  \\\n",
       "0    id5C75C931-2CB5-4A62-94D6-6640796A01A6   \n",
       "1    id773F7AC3-7C53-49E9-867D-1BC4EB0CB9EF   \n",
       "2    id2F743ECA-E1D3-4E9D-8899-403AAF81C600   \n",
       "3    idB45571C3-578E-45D0-9A32-7108DC9D1994   \n",
       "4    idB45571C3-578E-45D0-9A32-7108DC9D1994   \n",
       "..                                      ...   \n",
       "240  id36442CF9-FE90-45DA-BEE6-3758F415FF2C   \n",
       "241  id36442CF9-FE90-45DA-BEE6-3758F415FF2C   \n",
       "242  id12E1B01D-8E25-48BC-82C5-A3E3D006EAF6   \n",
       "243  id889B1573-99D0-4399-B04B-1498A863CF7A   \n",
       "244  idFC22653F-F97F-46D1-A88C-A3F8388D569D   \n",
       "\n",
       "                                  startNode  \n",
       "0    id82466DE6-0CD6-4FC3-AA64-4E8AF6384F9F  \n",
       "1    id5C75C931-2CB5-4A62-94D6-6640796A01A6  \n",
       "2    id2EFB9F20-991A-48A2-B10B-D7C8A2ACEE80  \n",
       "3    id364EF14D-D077-473D-957C-FAFBBFCCFEE3  \n",
       "4    idF5DE0DA1-3F7F-4FF3-9A58-816C7041DEA9  \n",
       "..                                      ...  \n",
       "240  id12E1B01D-8E25-48BC-82C5-A3E3D006EAF6  \n",
       "241  id12E1B01D-8E25-48BC-82C5-A3E3D006EAF6  \n",
       "242  id889B1573-99D0-4399-B04B-1498A863CF7A  \n",
       "243  idFC22653F-F97F-46D1-A88C-A3F8388D569D  \n",
       "244  id75224BB9-006A-4854-881A-AA3C3832DD81  \n",
       "\n",
       "[245 rows x 3 columns]"
      ]
     },
     "execution_count": 65,
     "metadata": {},
     "output_type": "execute_result"
    }
   ],
   "source": [
    "df"
   ]
  },
  {
   "cell_type": "code",
   "execution_count": 75,
   "id": "silver-deviation",
   "metadata": {},
   "outputs": [],
   "source": [
    "connections = dict()\n",
    "for i in n.intersections.id.values:\n",
    "    connections[i] = list()\n",
    "    connections[i].extend(list(df.loc[df.startNode == i].id.values))\n",
    "    connections[i].extend(list(df.loc[df.endNode == i].id.values))"
   ]
  },
  {
   "cell_type": "code",
   "execution_count": 78,
   "id": "rocky-delaware",
   "metadata": {},
   "outputs": [],
   "source": [
    "n.intersections['conns'] = n.intersections.id.apply(lambda x: connections[x])"
   ]
  },
  {
   "cell_type": "code",
   "execution_count": 82,
   "id": "opponent-rating",
   "metadata": {},
   "outputs": [],
   "source": [
    "n.intersections['counts'] = n.intersections.conns.apply(lambda x: len(x))"
   ]
  },
  {
   "cell_type": "code",
   "execution_count": 84,
   "id": "judicial-designer",
   "metadata": {},
   "outputs": [
    {
     "data": {
      "text/plain": [
       "count    184.000000\n",
       "mean       2.663043\n",
       "std        0.833416\n",
       "min        1.000000\n",
       "25%        2.000000\n",
       "50%        3.000000\n",
       "75%        3.000000\n",
       "max        4.000000\n",
       "Name: counts, dtype: float64"
      ]
     },
     "execution_count": 84,
     "metadata": {},
     "output_type": "execute_result"
    }
   ],
   "source": [
    "n.intersections.counts.describe()"
   ]
  },
  {
   "cell_type": "code",
   "execution_count": 87,
   "id": "knowing-catch",
   "metadata": {},
   "outputs": [],
   "source": [
    "road_type = dict()"
   ]
  },
  {
   "cell_type": "code",
   "execution_count": 92,
   "id": "published-cover",
   "metadata": {},
   "outputs": [],
   "source": [
    "df = n.roads[['id','roadFunction']]"
   ]
  },
  {
   "cell_type": "code",
   "execution_count": 94,
   "id": "wanted-native",
   "metadata": {},
   "outputs": [
    {
     "data": {
      "text/plain": [
       "array(['A Road', 'Local Road', 'Secondary Access Road',\n",
       "       'Restricted Local Access Road'], dtype=object)"
      ]
     },
     "execution_count": 94,
     "metadata": {},
     "output_type": "execute_result"
    }
   ],
   "source": [
    "df.roadFunction.unique()"
   ]
  },
  {
   "cell_type": "code",
   "execution_count": 95,
   "id": "successful-antarctica",
   "metadata": {},
   "outputs": [],
   "source": [
    "road_major = {'Secondary Access Road': 0,\n",
    "             'Restricted Local Access Road': 1,\n",
    "             'Local Road': 2,\n",
    "             'B Road': 3,\n",
    "             'Minor Road': 4,\n",
    "             'A Road': 5,\n",
    "             'Motorway': 6}"
   ]
  },
  {
   "cell_type": "code",
   "execution_count": 96,
   "id": "tutorial-nursery",
   "metadata": {},
   "outputs": [
    {
     "name": "stderr",
     "output_type": "stream",
     "text": [
      "<ipython-input-96-971f175a3d73>:1: SettingWithCopyWarning: \n",
      "A value is trying to be set on a copy of a slice from a DataFrame.\n",
      "Try using .loc[row_indexer,col_indexer] = value instead\n",
      "\n",
      "See the caveats in the documentation: https://pandas.pydata.org/pandas-docs/stable/user_guide/indexing.html#returning-a-view-versus-a-copy\n",
      "  df['major'] = df.roadFunction.apply(lambda x: road_major[x])\n"
     ]
    }
   ],
   "source": [
    "df['major'] = df.roadFunction.apply(lambda x: road_major[x])"
   ]
  },
  {
   "cell_type": "code",
   "execution_count": 98,
   "id": "neutral-treaty",
   "metadata": {},
   "outputs": [],
   "source": [
    "road_type = dict(zip(df.id, df.major))"
   ]
  },
  {
   "cell_type": "code",
   "execution_count": 117,
   "id": "official-return",
   "metadata": {},
   "outputs": [],
   "source": [
    "n.intersections['major'] = n.intersections.conns.apply(lambda x: max([road_type[r] for r in x]))"
   ]
  },
  {
   "cell_type": "code",
   "execution_count": 104,
   "id": "ongoing-position",
   "metadata": {},
   "outputs": [
    {
     "data": {
      "text/html": [
       "<div>\n",
       "<style scoped>\n",
       "    .dataframe tbody tr th:only-of-type {\n",
       "        vertical-align: middle;\n",
       "    }\n",
       "\n",
       "    .dataframe tbody tr th {\n",
       "        vertical-align: top;\n",
       "    }\n",
       "\n",
       "    .dataframe thead th {\n",
       "        text-align: right;\n",
       "    }\n",
       "</style>\n",
       "<table border=\"1\" class=\"dataframe\">\n",
       "  <thead>\n",
       "    <tr style=\"text-align: right;\">\n",
       "      <th></th>\n",
       "      <th>id</th>\n",
       "      <th>conns</th>\n",
       "      <th>count</th>\n",
       "      <th>counts</th>\n",
       "    </tr>\n",
       "  </thead>\n",
       "  <tbody>\n",
       "    <tr>\n",
       "      <th>0</th>\n",
       "      <td>idEF2AC63C-3F5C-44CE-8AA8-8F7BEACA4499</td>\n",
       "      <td>[idE51C2F6A-EE95-4B11-86F7-C68AAA84B16A, idE6D...</td>\n",
       "      <td>3</td>\n",
       "      <td>3</td>\n",
       "    </tr>\n",
       "    <tr>\n",
       "      <th>1</th>\n",
       "      <td>idF436F444-5206-4629-92CF-545D0EAECEE2</td>\n",
       "      <td>[id96B8F998-FAA3-4AF5-9D90-D2B030E03483, idCCB...</td>\n",
       "      <td>2</td>\n",
       "      <td>2</td>\n",
       "    </tr>\n",
       "    <tr>\n",
       "      <th>2</th>\n",
       "      <td>idEDDE9EEC-AF23-43AC-AB3C-0CCF63F8953D</td>\n",
       "      <td>[id17E2CE9F-0197-462C-B257-297F5325AF47, idC12...</td>\n",
       "      <td>4</td>\n",
       "      <td>4</td>\n",
       "    </tr>\n",
       "    <tr>\n",
       "      <th>3</th>\n",
       "      <td>idA3A9EE83-92A8-4352-B3F8-3DBA7CAF074F</td>\n",
       "      <td>[id624DBE6A-BB7A-433E-AFEB-A06DF579E847, id4A3...</td>\n",
       "      <td>3</td>\n",
       "      <td>3</td>\n",
       "    </tr>\n",
       "    <tr>\n",
       "      <th>4</th>\n",
       "      <td>id965022C7-BA54-4A0D-AFB6-2488CAE4FCB6</td>\n",
       "      <td>[id125EE872-C195-4533-92AF-F69D752EF6C8, id539...</td>\n",
       "      <td>3</td>\n",
       "      <td>3</td>\n",
       "    </tr>\n",
       "    <tr>\n",
       "      <th>...</th>\n",
       "      <td>...</td>\n",
       "      <td>...</td>\n",
       "      <td>...</td>\n",
       "      <td>...</td>\n",
       "    </tr>\n",
       "    <tr>\n",
       "      <th>179</th>\n",
       "      <td>id351FC01C-F0ED-4EB6-A0AC-B619DB84764D</td>\n",
       "      <td>[id65891BFA-1171-4EFE-BA7A-C810F2897BD4, id50C...</td>\n",
       "      <td>3</td>\n",
       "      <td>3</td>\n",
       "    </tr>\n",
       "    <tr>\n",
       "      <th>180</th>\n",
       "      <td>id9C1AABDD-0CCA-475D-991E-A6A0CC79FAD8</td>\n",
       "      <td>[id7E188D6C-71F2-4F6B-B679-C35411AC1ABC, id70F...</td>\n",
       "      <td>3</td>\n",
       "      <td>3</td>\n",
       "    </tr>\n",
       "    <tr>\n",
       "      <th>181</th>\n",
       "      <td>id348823F0-750B-4591-B08B-07B819028CED</td>\n",
       "      <td>[idFF1777ED-5533-40AB-8310-A9E3285A07D8, id9C0...</td>\n",
       "      <td>2</td>\n",
       "      <td>2</td>\n",
       "    </tr>\n",
       "    <tr>\n",
       "      <th>182</th>\n",
       "      <td>id3E06A5AB-DBE1-446A-B5C9-1DF5EE43FA51</td>\n",
       "      <td>[id89383953-71F2-4F9B-BF3A-9BA8A1AE70F5, idBC1...</td>\n",
       "      <td>4</td>\n",
       "      <td>4</td>\n",
       "    </tr>\n",
       "    <tr>\n",
       "      <th>183</th>\n",
       "      <td>idDB96553D-D941-4604-ABAF-83ABCCDA9478</td>\n",
       "      <td>[idDEA3D18C-E881-47B7-8D10-69186E23C3AF, idF7D...</td>\n",
       "      <td>3</td>\n",
       "      <td>3</td>\n",
       "    </tr>\n",
       "  </tbody>\n",
       "</table>\n",
       "<p>184 rows × 4 columns</p>\n",
       "</div>"
      ],
      "text/plain": [
       "                                         id  \\\n",
       "0    idEF2AC63C-3F5C-44CE-8AA8-8F7BEACA4499   \n",
       "1    idF436F444-5206-4629-92CF-545D0EAECEE2   \n",
       "2    idEDDE9EEC-AF23-43AC-AB3C-0CCF63F8953D   \n",
       "3    idA3A9EE83-92A8-4352-B3F8-3DBA7CAF074F   \n",
       "4    id965022C7-BA54-4A0D-AFB6-2488CAE4FCB6   \n",
       "..                                      ...   \n",
       "179  id351FC01C-F0ED-4EB6-A0AC-B619DB84764D   \n",
       "180  id9C1AABDD-0CCA-475D-991E-A6A0CC79FAD8   \n",
       "181  id348823F0-750B-4591-B08B-07B819028CED   \n",
       "182  id3E06A5AB-DBE1-446A-B5C9-1DF5EE43FA51   \n",
       "183  idDB96553D-D941-4604-ABAF-83ABCCDA9478   \n",
       "\n",
       "                                                 conns  count  counts  \n",
       "0    [idE51C2F6A-EE95-4B11-86F7-C68AAA84B16A, idE6D...      3       3  \n",
       "1    [id96B8F998-FAA3-4AF5-9D90-D2B030E03483, idCCB...      2       2  \n",
       "2    [id17E2CE9F-0197-462C-B257-297F5325AF47, idC12...      4       4  \n",
       "3    [id624DBE6A-BB7A-433E-AFEB-A06DF579E847, id4A3...      3       3  \n",
       "4    [id125EE872-C195-4533-92AF-F69D752EF6C8, id539...      3       3  \n",
       "..                                                 ...    ...     ...  \n",
       "179  [id65891BFA-1171-4EFE-BA7A-C810F2897BD4, id50C...      3       3  \n",
       "180  [id7E188D6C-71F2-4F6B-B679-C35411AC1ABC, id70F...      3       3  \n",
       "181  [idFF1777ED-5533-40AB-8310-A9E3285A07D8, id9C0...      2       2  \n",
       "182  [id89383953-71F2-4F9B-BF3A-9BA8A1AE70F5, idBC1...      4       4  \n",
       "183  [idDEA3D18C-E881-47B7-8D10-69186E23C3AF, idF7D...      3       3  \n",
       "\n",
       "[184 rows x 4 columns]"
      ]
     },
     "execution_count": 104,
     "metadata": {},
     "output_type": "execute_result"
    }
   ],
   "source": [
    "n.intersections"
   ]
  },
  {
   "cell_type": "code",
   "execution_count": 123,
   "id": "affected-engineering",
   "metadata": {},
   "outputs": [],
   "source": [
    "nodes = n.db.contains('roadnodes', n.geom.buffer(1))"
   ]
  },
  {
   "cell_type": "code",
   "execution_count": 124,
   "id": "limiting-doctrine",
   "metadata": {},
   "outputs": [],
   "source": [
    "nodes_geometry = dict(zip(nodes.id, nodes.geometry))"
   ]
  },
  {
   "cell_type": "code",
   "execution_count": 125,
   "id": "japanese-patrol",
   "metadata": {},
   "outputs": [],
   "source": [
    "ngdf = gpd.GeoDataFrame(n.intersections, geometry=n.intersections.id.apply(\n",
    "lambda x: nodes_geometry.get(x)))"
   ]
  },
  {
   "cell_type": "code",
   "execution_count": 121,
   "id": "surprised-liverpool",
   "metadata": {},
   "outputs": [],
   "source": []
  },
  {
   "cell_type": "code",
   "execution_count": 128,
   "id": "arctic-person",
   "metadata": {},
   "outputs": [
    {
     "data": {
      "text/plain": [
       "<AxesSubplot:>"
      ]
     },
     "execution_count": 128,
     "metadata": {},
     "output_type": "execute_result"
    },
    {
     "data": {
      "image/png": "[encoded data removed]",
      "text/plain": [
       "<Figure size 864x864 with 1 Axes>"
      ]
     },
     "metadata": {
      "needs_background": "light"
     },
     "output_type": "display_data"
    }
   ],
   "source": [
    "f, ax = plt.subplots(figsize=(12,12))\n",
    "n.roads.plot('roadFunction', ax=ax, legend=True)\n",
    "ngdf.plot('major', ax=ax)"
   ]
  },
  {
   "cell_type": "code",
   "execution_count": 139,
   "id": "brief-italic",
   "metadata": {},
   "outputs": [
    {
     "data": {
      "text/plain": [
       "count    245.000000\n",
       "mean       1.813634\n",
       "std        1.395041\n",
       "min        0.000000\n",
       "25%        0.948091\n",
       "50%        1.735531\n",
       "75%        2.594234\n",
       "max       11.808688\n",
       "Name: density, dtype: float64"
      ]
     },
     "execution_count": 139,
     "metadata": {},
     "output_type": "execute_result"
    }
   ],
   "source": [
    "n.roads.density.describe()"
   ]
  },
  {
   "cell_type": "code",
   "execution_count": 130,
   "id": "injured-latter",
   "metadata": {},
   "outputs": [
    {
     "data": {
      "text/plain": [
       "dict_keys(['rds', 'uprn', 'bdgs', 'intersections', 'rdsegments', 'uniqueroads', 'mean_rd_segment', 'median_rd_segment', 'total_rd_length', 'area', 'convex_hull_area', 'road_types', 'road_name_endings'])"
      ]
     },
     "execution_count": 130,
     "metadata": {},
     "output_type": "execute_result"
    }
   ],
   "source": [
    "n.stats.keys()"
   ]
  },
  {
   "cell_type": "code",
   "execution_count": 106,
   "id": "satisfactory-university",
   "metadata": {},
   "outputs": [
    {
     "data": {
      "text/plain": [
       "['spatial_ref_sys',\n",
       " 'opennames',\n",
       " 'openrivers',\n",
       " 'openroads',\n",
       " 'boundaryline',\n",
       " 'openmaplocal',\n",
       " 'opengreenspace',\n",
       " 'openuprn',\n",
       " 'opentoid',\n",
       " 'code_point_open',\n",
       " 'railways',\n",
       " 'rivers',\n",
       " 'coastline',\n",
       " 'roadnodes',\n",
       " 'boundary_line_ceremonial_counties',\n",
       " 'boundary_line_historic_counties',\n",
       " 'community_ward',\n",
       " 'country_region',\n",
       " 'county',\n",
       " 'county_electoral_division',\n",
       " 'district_borough_unitary',\n",
       " 'district_borough_unitary_ward',\n",
       " 'english_region',\n",
       " 'greater_london_const',\n",
       " 'high_water',\n",
       " 'historic_european_region',\n",
       " 'parish',\n",
       " 'polling_districts_england',\n",
       " 'scotland_and_wales_const',\n",
       " 'scotland_and_wales_region',\n",
       " 'unitary_electoral_division',\n",
       " 'westminster_const',\n",
       " 'enclosures']"
      ]
     },
     "execution_count": 106,
     "metadata": {},
     "output_type": "execute_result"
    }
   ],
   "source": [
    "n.db.ls()"
   ]
  },
  {
   "cell_type": "code",
   "execution_count": 101,
   "id": "processed-shopper",
   "metadata": {},
   "outputs": [
    {
     "data": {
      "text/plain": [
       "0      [idE51C2F6A-EE95-4B11-86F7-C68AAA84B16A, idE6D...\n",
       "1      [id96B8F998-FAA3-4AF5-9D90-D2B030E03483, idCCB...\n",
       "2      [id17E2CE9F-0197-462C-B257-297F5325AF47, idC12...\n",
       "3      [id624DBE6A-BB7A-433E-AFEB-A06DF579E847, id4A3...\n",
       "4      [id125EE872-C195-4533-92AF-F69D752EF6C8, id539...\n",
       "                             ...                        \n",
       "179    [id65891BFA-1171-4EFE-BA7A-C810F2897BD4, id50C...\n",
       "180    [id7E188D6C-71F2-4F6B-B679-C35411AC1ABC, id70F...\n",
       "181    [idFF1777ED-5533-40AB-8310-A9E3285A07D8, id9C0...\n",
       "182    [id89383953-71F2-4F9B-BF3A-9BA8A1AE70F5, idBC1...\n",
       "183    [idDEA3D18C-E881-47B7-8D10-69186E23C3AF, idF7D...\n",
       "Name: conns, Length: 184, dtype: object"
      ]
     },
     "execution_count": 101,
     "metadata": {},
     "output_type": "execute_result"
    }
   ],
   "source": [
    "n.intersections.conns"
   ]
  }
 ],
 "metadata": {
  "kernelspec": {
   "display_name": "Python 3",
   "language": "python",
   "name": "python3"
  },
  "language_info": {
   "codemirror_mode": {
    "name": "ipython",
    "version": 3
   },
   "file_extension": ".py",
   "mimetype": "text/x-python",
   "name": "python",
   "nbconvert_exporter": "python",
   "pygments_lexer": "ipython3",
   "version": "3.8.8"
  }
 },
 "nbformat": 4,
 "nbformat_minor": 5
}
