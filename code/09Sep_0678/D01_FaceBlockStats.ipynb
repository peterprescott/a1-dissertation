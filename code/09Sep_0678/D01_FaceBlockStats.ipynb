{
 "cells": [
  {
   "cell_type": "code",
   "execution_count": 1,
   "id": "intellectual-comparison",
   "metadata": {},
   "outputs": [],
   "source": [
    "import sys\n",
    "sys.path.append('..')"
   ]
  },
  {
   "cell_type": "code",
   "execution_count": 2,
   "id": "intermediate-truck",
   "metadata": {},
   "outputs": [],
   "source": [
    "from nbhd import data"
   ]
  },
  {
   "cell_type": "code",
   "execution_count": 3,
   "id": "variable-obligation",
   "metadata": {},
   "outputs": [
    {
     "name": "stdout",
     "output_type": "stream",
     "text": [
      "Initializing database connection...\n",
      "Database connected!\n"
     ]
    }
   ],
   "source": [
    "db = data.Base()"
   ]
  },
  {
   "cell_type": "code",
   "execution_count": 4,
   "id": "bacterial-omaha",
   "metadata": {},
   "outputs": [],
   "source": [
    "import pandas as pd"
   ]
  },
  {
   "cell_type": "code",
   "execution_count": 5,
   "id": "upper-fraud",
   "metadata": {},
   "outputs": [],
   "source": [
    "from nbhd.geography import FaceBlock"
   ]
  },
  {
   "cell_type": "code",
   "execution_count": 6,
   "id": "divine-vertex",
   "metadata": {},
   "outputs": [
    {
     "data": {
      "text/plain": [
       "\u001b[0;31mInit signature:\u001b[0m \u001b[0mFaceBlock\u001b[0m\u001b[0;34m(\u001b[0m\u001b[0mdf\u001b[0m\u001b[0;34m,\u001b[0m \u001b[0mroads_id\u001b[0m\u001b[0;34m,\u001b[0m \u001b[0mdb\u001b[0m\u001b[0;34m,\u001b[0m \u001b[0mget_stats\u001b[0m\u001b[0;34m=\u001b[0m\u001b[0;32mFalse\u001b[0m\u001b[0;34m)\u001b[0m\u001b[0;34m\u001b[0m\u001b[0;34m\u001b[0m\u001b[0m\n",
       "\u001b[0;31mDocstring:\u001b[0m      <no docstring>\n",
       "\u001b[0;31mFile:\u001b[0m           ~/code/nbhd/geography.py\n",
       "\u001b[0;31mType:\u001b[0m           type\n",
       "\u001b[0;31mSubclasses:\u001b[0m     \n"
      ]
     },
     "metadata": {},
     "output_type": "display_data"
    }
   ],
   "source": [
    "FaceBlock?"
   ]
  },
  {
   "cell_type": "code",
   "execution_count": 7,
   "id": "altered-seller",
   "metadata": {},
   "outputs": [],
   "source": [
    "df = pd.read_csv('communities.csv')"
   ]
  },
  {
   "cell_type": "code",
   "execution_count": 8,
   "id": "checked-personal",
   "metadata": {},
   "outputs": [],
   "source": [
    "roads_df = df.loc[~df.roads_id.duplicated()]"
   ]
  },
  {
   "cell_type": "code",
   "execution_count": 9,
   "id": "exact-edwards",
   "metadata": {},
   "outputs": [
    {
     "data": {
      "text/plain": [
       "0      idCC2A6B88-CC5F-418A-887F-E234BFEF8435\n",
       "13     idE0688336-D2CD-4ECB-9B01-0297CEFDD3F2\n",
       "31     idB805DC84-8DD8-4DA4-BDA3-5351454ABE8B\n",
       "33     id2423FE42-E17A-4231-BD79-BB1AFA1D99F3\n",
       "87     idCCA6A3E4-7FB3-416E-951D-8BA0E1E18636\n",
       "99     idAD369C56-5BA0-48FF-8A45-9EFF169FB010\n",
       "100    id3F1CE790-6696-419C-87FC-D4783D9C0BC7\n",
       "101    id35C3DF9A-14CD-47F8-8C41-A0AE71085D06\n",
       "107    id90A7867B-F140-4CF7-AE1E-545301F226CF\n",
       "112    id85D775AC-9C07-4214-AB4C-05C83A04BEEA\n",
       "Name: roads_id, dtype: object"
      ]
     },
     "execution_count": 9,
     "metadata": {},
     "output_type": "execute_result"
    }
   ],
   "source": [
    "roads_df.roads_id[:10]"
   ]
  },
  {
   "cell_type": "code",
   "execution_count": 44,
   "id": "selected-yield",
   "metadata": {},
   "outputs": [],
   "source": [
    "roads = list(roads_df.roads_id.values)"
   ]
  },
  {
   "cell_type": "code",
   "execution_count": 47,
   "id": "classified-intermediate",
   "metadata": {},
   "outputs": [
    {
     "name": "stdout",
     "output_type": "stream",
     "text": [
      "FaceBlock: id2DA8B9C7-4081-485E-8744-2A1844FFE12D\n",
      "Finding neighbours...\n",
      "{'start': ['idCB055C91-AA3C-49E1-8A14-E9DC6C14D65F', 'id141EBACE-B295-4905-831B-C1D32B839E48'], 'end': ['id17A788C1-5601-4088-8646-24DA11D3CDBF', 'idC3264B8C-C60A-4E7E-AD02-3C61C61EBBD7']}\n"
     ]
    }
   ],
   "source": [
    "f = FaceBlock(df, roads[349], db)"
   ]
  },
  {
   "cell_type": "code",
   "execution_count": null,
   "id": "later-circle",
   "metadata": {},
   "outputs": [],
   "source": [
    "f.get_stats()"
   ]
  },
  {
   "cell_type": "code",
   "execution_count": 48,
   "id": "fifteen-gilbert",
   "metadata": {},
   "outputs": [
    {
     "name": "stdout",
     "output_type": "stream",
     "text": [
      "FaceBlock: idF71AD9E6-63B9-4F32-9260-E7CF89335BAC\n",
      "Finding neighbours...\n",
      "{'start': ['id0FA01B87-8757-457E-9B26-38E07F4CEDF6', 'id5503E793-8FA1-48CD-8433-6265743A2E8A'], 'end': ['id7B5AA3C6-46F1-4491-9AAF-812745E5BAE1', 'idF25D0881-5056-49CF-98EE-6C5B02DEBE1F']}\n",
      "FaceBlock: id1EF356C2-87ED-498C-A546-22A8FEF5CDBF\n",
      "Finding neighbours...\n",
      "{'start': [], 'end': ['id98F7102F-3A01-4554-B18C-0F2C0FBE3DB6', 'id198C010C-F6F8-47F0-AA91-F316CBE604EB']}\n",
      "FaceBlock: id01DFC9BF-C6EB-4C51-AA38-EA13471FB341\n",
      "Finding neighbours...\n",
      "{'start': ['id929A5ADD-E4E0-4835-902D-59798781DCE2', 'id7AC53ECC-0147-4768-A33F-E30C6E923E41'], 'end': ['idA1C4A2A4-81F6-46C9-BE24-2CBD24932CB5', 'id514501AC-18E7-4384-9E62-8960CAB5849B']}\n",
      "FaceBlock: id2CC26A3A-26E9-47BD-9E8B-977FB5F7B414\n",
      "Finding neighbours...\n",
      "{'start': ['id0FA01B87-8757-457E-9B26-38E07F4CEDF6'], 'end': []}\n",
      "FaceBlock: id49EFE4AA-964C-43DE-959C-67BF8C0C77CE\n",
      "Finding neighbours...\n",
      "{'start': ['id658E5624-9D45-4BE6-B28B-1BEEE4092B7C', 'idAF278A43-1139-4FA9-A4EF-41608922F3D5'], 'end': []}\n",
      "FaceBlock: id5072F43D-B88D-49E4-AB4E-E8CB04D69480\n",
      "Finding neighbours...\n",
      "{'start': ['id728434A5-876B-49AA-8EBB-D7B9F2D5ED53'], 'end': []}\n",
      "FaceBlock: idDF623153-F358-47E6-B3AB-2B1D5E1A671F\n",
      "Finding neighbours...\n",
      "{'start': ['idCEFD74C0-7ADB-4BCC-BBA6-7EF8F87BBE24', 'idE7373646-E0F2-4356-9C87-23A662DD37D4'], 'end': ['idD587CD34-656E-4596-BABD-1587E4F8AAF8', 'id6F010C75-D8FB-4452-961C-91D9986BE469']}\n",
      "FaceBlock: idD587CD34-656E-4596-BABD-1587E4F8AAF8\n",
      "Finding neighbours...\n",
      "{'start': ['id6F010C75-D8FB-4452-961C-91D9986BE469', 'idDF623153-F358-47E6-B3AB-2B1D5E1A671F'], 'end': ['idAFEE2A1F-C2B1-468B-A220-2F4A18C2D5EC', 'idD095EE65-1652-4B31-9611-A8A63936A6A0', 'id66AC5381-11D6-4F99-9563-0C07B6AEC336']}\n",
      "FaceBlock: idBFA3AF26-037E-479F-A496-32F5C5BA4F0D\n",
      "Finding neighbours...\n",
      "{'start': ['idCEFD74C0-7ADB-4BCC-BBA6-7EF8F87BBE24', 'id07CBE92E-DF97-4B9E-9A5F-084B69483437'], 'end': ['id07CBE92E-DF97-4B9E-9A5F-084B69483437', 'idB0B827E8-EEEE-4B0E-924D-ACAED54732C2']}\n",
      "FaceBlock: idEBC89E2E-55B4-46F3-8949-F654C255FEA1\n",
      "Finding neighbours...\n",
      "{'start': ['id82B23CCD-85E9-443C-9890-17762CFBAC41', 'idAD369C56-5BA0-48FF-8A45-9EFF169FB010'], 'end': ['id617492CB-4AF2-483D-BA7B-5A9550FD72BF', 'id82B23CCD-85E9-443C-9890-17762CFBAC41']}\n"
     ]
    }
   ],
   "source": [
    "blocks = roads_df.roads_id[105:115].apply(lambda x: FaceBlock(df, x, db))"
   ]
  },
  {
   "cell_type": "code",
   "execution_count": 49,
   "id": "provincial-check",
   "metadata": {},
   "outputs": [
    {
     "data": {
      "text/plain": [
       "1181    None\n",
       "1231    None\n",
       "1251    None\n",
       "1252    None\n",
       "1272    None\n",
       "1275    None\n",
       "1331    None\n",
       "1334    None\n",
       "1361    None\n",
       "1383    None\n",
       "Name: roads_id, dtype: object"
      ]
     },
     "execution_count": 49,
     "metadata": {},
     "output_type": "execute_result"
    }
   ],
   "source": [
    "blocks.apply(lambda x: x.stats())"
   ]
  },
  {
   "cell_type": "code",
   "execution_count": 54,
   "id": "built-shelf",
   "metadata": {},
   "outputs": [
    {
     "data": {
      "text/plain": [
       "count     10.000000\n",
       "mean     107.490459\n",
       "std       90.526838\n",
       "min       29.688265\n",
       "25%       39.859985\n",
       "50%      101.125924\n",
       "75%      119.726243\n",
       "max      331.703645\n",
       "Name: segment_length, dtype: float64"
      ]
     },
     "execution_count": 54,
     "metadata": {},
     "output_type": "execute_result"
    }
   ],
   "source": [
    "blocks.apply(lambda x: x.stats_df.T.statistics).segment_length.describe()"
   ]
  },
  {
   "cell_type": "code",
   "execution_count": 72,
   "id": "valued-tomorrow",
   "metadata": {},
   "outputs": [],
   "source": [
    "blocks_stats = blocks.apply(lambda x: x.stats_df.T.statistics).T"
   ]
  },
  {
   "cell_type": "code",
   "execution_count": 83,
   "id": "sitting-headquarters",
   "metadata": {},
   "outputs": [],
   "source": [
    "blocks_stats['mean'] = blocks_stats.apply(lambda x: getattr(x,'mean')(), axis=1)\n",
    "blocks_stats['median'] = blocks_stats.apply(lambda x: getattr(x,'median')(), axis=1)\n",
    "blocks_stats['std'] = blocks_stats.apply(lambda x:getattr(x,'std')(), axis=1)\n",
    "blocks_stats['Q1'] = blocks_stats.apply(lambda x: x.quantile(0.25), axis=1)\n",
    "blocks_stats['Q3'] = blocks_stats.apply(lambda x: x.quantile(0.75), axis=1)\n",
    "blocks_stats['IQR'] = blocks_stats.apply(lambda x: x.Q3 - x.Q1, axis=1)"
   ]
  },
  {
   "cell_type": "code",
   "execution_count": 85,
   "id": "unlikely-diana",
   "metadata": {},
   "outputs": [
    {
     "data": {
      "text/html": [
       "<div>\n",
       "<style scoped>\n",
       "    .dataframe tbody tr th:only-of-type {\n",
       "        vertical-align: middle;\n",
       "    }\n",
       "\n",
       "    .dataframe tbody tr th {\n",
       "        vertical-align: top;\n",
       "    }\n",
       "\n",
       "    .dataframe thead th {\n",
       "        text-align: right;\n",
       "    }\n",
       "</style>\n",
       "<table border=\"1\" class=\"dataframe\">\n",
       "  <thead>\n",
       "    <tr style=\"text-align: right;\">\n",
       "      <th></th>\n",
       "      <th>mean</th>\n",
       "      <th>std</th>\n",
       "      <th>Q1</th>\n",
       "      <th>median</th>\n",
       "      <th>Q3</th>\n",
       "      <th>IQR</th>\n",
       "    </tr>\n",
       "  </thead>\n",
       "  <tbody>\n",
       "    <tr>\n",
       "      <th>segment_length</th>\n",
       "      <td>107.490459</td>\n",
       "      <td>81.884606</td>\n",
       "      <td>48.764741</td>\n",
       "      <td>107.490459</td>\n",
       "      <td>112.691348</td>\n",
       "      <td>63.926607</td>\n",
       "    </tr>\n",
       "    <tr>\n",
       "      <th>segment_length_per_property</th>\n",
       "      <td>8.572058</td>\n",
       "      <td>10.390214</td>\n",
       "      <td>3.980028</td>\n",
       "      <td>5.418305</td>\n",
       "      <td>7.601538</td>\n",
       "      <td>3.621510</td>\n",
       "    </tr>\n",
       "    <tr>\n",
       "      <th>properties</th>\n",
       "      <td>23.200000</td>\n",
       "      <td>23.113232</td>\n",
       "      <td>6.000000</td>\n",
       "      <td>9.000000</td>\n",
       "      <td>26.800000</td>\n",
       "      <td>20.800000</td>\n",
       "    </tr>\n",
       "    <tr>\n",
       "      <th>buildings</th>\n",
       "      <td>3.900000</td>\n",
       "      <td>2.822676</td>\n",
       "      <td>2.000000</td>\n",
       "      <td>3.000000</td>\n",
       "      <td>4.725000</td>\n",
       "      <td>2.725000</td>\n",
       "    </tr>\n",
       "    <tr>\n",
       "      <th>neighbouring_face_blocks</th>\n",
       "      <td>2.000000</td>\n",
       "      <td>0.000000</td>\n",
       "      <td>2.000000</td>\n",
       "      <td>2.000000</td>\n",
       "      <td>2.000000</td>\n",
       "      <td>0.000000</td>\n",
       "    </tr>\n",
       "    <tr>\n",
       "      <th>block_building_footprint</th>\n",
       "      <td>955.401524</td>\n",
       "      <td>878.359685</td>\n",
       "      <td>257.842725</td>\n",
       "      <td>415.794525</td>\n",
       "      <td>1364.243635</td>\n",
       "      <td>1106.400910</td>\n",
       "    </tr>\n",
       "    <tr>\n",
       "      <th>median_property_footprint</th>\n",
       "      <td>49.397995</td>\n",
       "      <td>12.584492</td>\n",
       "      <td>44.602500</td>\n",
       "      <td>49.935450</td>\n",
       "      <td>51.738740</td>\n",
       "      <td>7.136240</td>\n",
       "    </tr>\n",
       "    <tr>\n",
       "      <th>mean_property_footprint</th>\n",
       "      <td>49.912896</td>\n",
       "      <td>12.519638</td>\n",
       "      <td>47.363641</td>\n",
       "      <td>49.935450</td>\n",
       "      <td>52.815472</td>\n",
       "      <td>5.451830</td>\n",
       "    </tr>\n",
       "  </tbody>\n",
       "</table>\n",
       "</div>"
      ],
      "text/plain": [
       "                                   mean         std          Q1      median  \\\n",
       "segment_length               107.490459   81.884606   48.764741  107.490459   \n",
       "segment_length_per_property    8.572058   10.390214    3.980028    5.418305   \n",
       "properties                    23.200000   23.113232    6.000000    9.000000   \n",
       "buildings                      3.900000    2.822676    2.000000    3.000000   \n",
       "neighbouring_face_blocks       2.000000    0.000000    2.000000    2.000000   \n",
       "block_building_footprint     955.401524  878.359685  257.842725  415.794525   \n",
       "median_property_footprint     49.397995   12.584492   44.602500   49.935450   \n",
       "mean_property_footprint       49.912896   12.519638   47.363641   49.935450   \n",
       "\n",
       "                                      Q3          IQR  \n",
       "segment_length                112.691348    63.926607  \n",
       "segment_length_per_property     7.601538     3.621510  \n",
       "properties                     26.800000    20.800000  \n",
       "buildings                       4.725000     2.725000  \n",
       "neighbouring_face_blocks        2.000000     0.000000  \n",
       "block_building_footprint     1364.243635  1106.400910  \n",
       "median_property_footprint      51.738740     7.136240  \n",
       "mean_property_footprint        52.815472     5.451830  "
      ]
     },
     "execution_count": 85,
     "metadata": {},
     "output_type": "execute_result"
    }
   ],
   "source": [
    "blocks_stats[['mean','std','Q1','median', 'Q3', 'IQR']]"
   ]
  }
 ],
 "metadata": {
  "kernelspec": {
   "display_name": "Python 3",
   "language": "python",
   "name": "python3"
  },
  "language_info": {
   "codemirror_mode": {
    "name": "ipython",
    "version": 3
   },
   "file_extension": ".py",
   "mimetype": "text/x-python",
   "name": "python",
   "nbconvert_exporter": "python",
   "pygments_lexer": "ipython3",
   "version": "3.8.8"
  }
 },
 "nbformat": 4,
 "nbformat_minor": 5
}
