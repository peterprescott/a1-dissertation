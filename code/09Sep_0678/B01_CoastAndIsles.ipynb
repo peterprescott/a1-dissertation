{
 "cells": [
  {
   "cell_type": "code",
   "execution_count": 1,
   "id": "essential-arbor",
   "metadata": {},
   "outputs": [],
   "source": [
    "import sys\n",
    "sys.path.append('..')"
   ]
  },
  {
   "cell_type": "code",
   "execution_count": 2,
   "id": "ready-gentleman",
   "metadata": {},
   "outputs": [],
   "source": [
    "from nbhd import data"
   ]
  },
  {
   "cell_type": "code",
   "execution_count": 3,
   "id": "banned-elite",
   "metadata": {},
   "outputs": [],
   "source": [
    "import geopandas as gpd"
   ]
  },
  {
   "cell_type": "code",
   "execution_count": 4,
   "id": "requested-victor",
   "metadata": {},
   "outputs": [],
   "source": [
    "from shapely.geometry import MultiPolygon, MultiLineString, Polygon"
   ]
  },
  {
   "cell_type": "code",
   "execution_count": 5,
   "id": "modern-chemistry",
   "metadata": {},
   "outputs": [],
   "source": [
    "from shapely.ops import polygonize"
   ]
  },
  {
   "cell_type": "code",
   "execution_count": 6,
   "id": "descending-welcome",
   "metadata": {},
   "outputs": [
    {
     "name": "stdout",
     "output_type": "stream",
     "text": [
      "Initializing database connection...\n",
      "Database connected!\n"
     ]
    }
   ],
   "source": [
    "db = data.Base()"
   ]
  },
  {
   "cell_type": "code",
   "execution_count": 7,
   "id": "short-puppy",
   "metadata": {},
   "outputs": [],
   "source": [
    "coast = db.select('coast')"
   ]
  },
  {
   "cell_type": "code",
   "execution_count": 8,
   "id": "damaged-burden",
   "metadata": {},
   "outputs": [
    {
     "data": {
      "text/plain": [
       "<AxesSubplot:>"
      ]
     },
     "execution_count": 8,
     "metadata": {},
     "output_type": "execute_result"
    },
    {
     "data": {
      "image/png": "[encoded data removed]",
      "text/plain": [
       "<Figure size 432x288 with 1 Axes>"
      ]
     },
     "metadata": {
      "needs_background": "light"
     },
     "output_type": "display_data"
    }
   ],
   "source": [
    "coast.plot()"
   ]
  },
  {
   "cell_type": "code",
   "execution_count": 9,
   "id": "worldwide-sequence",
   "metadata": {},
   "outputs": [],
   "source": [
    "multiline = MultiLineString(list(coast.geometry.values))"
   ]
  },
  {
   "cell_type": "code",
   "execution_count": 10,
   "id": "small-wright",
   "metadata": {},
   "outputs": [],
   "source": [
    "british_isles = MultiPolygon(polygonize(multiline))"
   ]
  },
  {
   "cell_type": "code",
   "execution_count": 11,
   "id": "ongoing-sydney",
   "metadata": {},
   "outputs": [],
   "source": [
    "geoseries = gpd.GeoSeries(list(british_isles.geoms))"
   ]
  },
  {
   "cell_type": "code",
   "execution_count": 12,
   "id": "raising-geometry",
   "metadata": {},
   "outputs": [],
   "source": [
    "isles = gpd.GeoDataFrame(\n",
    "    geometry=geoseries[\n",
    "        geoseries.area.sort_values(ascending=False).index])"
   ]
  },
  {
   "cell_type": "code",
   "execution_count": 13,
   "id": "shared-palmer",
   "metadata": {},
   "outputs": [],
   "source": [
    "isles.to_postgis('isles', db.engine, if_exists='replace')"
   ]
  }
 ],
 "metadata": {
  "kernelspec": {
   "display_name": "Python 3",
   "language": "python",
   "name": "python3"
  },
  "language_info": {
   "codemirror_mode": {
    "name": "ipython",
    "version": 3
   },
   "file_extension": ".py",
   "mimetype": "text/x-python",
   "name": "python",
   "nbconvert_exporter": "python",
   "pygments_lexer": "ipython3",
   "version": "3.8.8"
  }
 },
 "nbformat": 4,
 "nbformat_minor": 5
}
