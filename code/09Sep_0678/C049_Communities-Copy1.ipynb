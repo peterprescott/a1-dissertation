{
 "cells": [
  {
   "cell_type": "code",
   "execution_count": 1,
   "id": "intermediate-volleyball",
   "metadata": {},
   "outputs": [],
   "source": [
    "import sys\n",
    "sys.path.append('..')"
   ]
  },
  {
   "cell_type": "code",
   "execution_count": 2,
   "id": "controlled-electronics",
   "metadata": {},
   "outputs": [],
   "source": [
    "from nbhd.data import Base"
   ]
  },
  {
   "cell_type": "code",
   "execution_count": 3,
   "id": "minor-forge",
   "metadata": {},
   "outputs": [
    {
     "name": "stdout",
     "output_type": "stream",
     "text": [
      "Initializing database connection...\n",
      "Database connected!\n"
     ]
    }
   ],
   "source": [
    "db = Base()"
   ]
  },
  {
   "cell_type": "code",
   "execution_count": 4,
   "id": "tight-shame",
   "metadata": {},
   "outputs": [],
   "source": [
    "from xy import xy"
   ]
  },
  {
   "cell_type": "code",
   "execution_count": 5,
   "id": "intelligent-aberdeen",
   "metadata": {},
   "outputs": [],
   "source": [
    "import geopandas as gpd"
   ]
  },
  {
   "cell_type": "code",
   "execution_count": 6,
   "id": "agricultural-graphics",
   "metadata": {},
   "outputs": [],
   "source": [
    "from shapely.geometry import Point"
   ]
  },
  {
   "cell_type": "code",
   "execution_count": 7,
   "id": "satellite-savage",
   "metadata": {},
   "outputs": [],
   "source": [
    "from nbhd.geometry import pointbox"
   ]
  },
  {
   "cell_type": "code",
   "execution_count": 8,
   "id": "received-support",
   "metadata": {},
   "outputs": [],
   "source": [
    "from nbhd.geography import get_communities"
   ]
  },
  {
   "cell_type": "code",
   "execution_count": 9,
   "id": "handed-johns",
   "metadata": {},
   "outputs": [],
   "source": [
    "geom = pointbox(Point(xy),1000)"
   ]
  },
  {
   "cell_type": "code",
   "execution_count": 10,
   "id": "informed-release",
   "metadata": {},
   "outputs": [],
   "source": [
    "pixels = db.query(db.spatial_sql('pixels','intersects',geom.buffer(5000)), spatial=True)"
   ]
  },
  {
   "cell_type": "code",
   "execution_count": 11,
   "id": "lined-arena",
   "metadata": {},
   "outputs": [
    {
     "data": {
      "image/svg+xml": [
       "<svg xmlns=\"http://www.w3.org/2000/svg\" xmlns:xlink=\"http://www.w3.org/1999/xlink\" width=\"300\" height=\"300\" viewBox=\"331920.0 385920.0 2160.0 2160.0\" preserveAspectRatio=\"xMinYMin meet\"><g transform=\"matrix(1,0,0,-1,0,774000.0)\"><path fill-rule=\"evenodd\" fill=\"#66cc99\" stroke=\"#555555\" stroke-width=\"14.4\" opacity=\"0.6\" d=\"M 332000.0,386000.0 L 332000.0,388000.0 L 334000.0,388000.0 L 334000.0,386000.0 L 332000.0,386000.0 z\" /></g></svg>"
      ],
      "text/plain": [
       "<shapely.geometry.polygon.Polygon at 0x7f22786d0670>"
      ]
     },
     "execution_count": 11,
     "metadata": {},
     "output_type": "execute_result"
    }
   ],
   "source": [
    "pixels.geometry[0]"
   ]
  },
  {
   "cell_type": "code",
   "execution_count": 12,
   "id": "valued-settlement",
   "metadata": {},
   "outputs": [
    {
     "name": "stdout",
     "output_type": "stream",
     "text": [
      "Starting to find neighbourhoods in POLYGON ((332000 386000, 332000 388000, 334000 388000, 334000 386000, 332000 386000))\n",
      "Collected 9094 properties...\n",
      "... of which 8328 are in buildings\n",
      "Getting streets...\n",
      "Snapping nodes...\n",
      "Finding connected graphs...\n",
      "Labelling communities.\n",
      "Starting to find neighbourhoods in POLYGON ((332000 388000, 332000 390000, 334000 390000, 334000 388000, 332000 388000))\n",
      "Collected 3760 properties...\n",
      "... of which 3282 are in buildings\n",
      "Getting streets...\n",
      "Snapping nodes...\n",
      "Finding connected graphs...\n",
      "Labelling communities.\n",
      "Starting to find neighbourhoods in POLYGON ((332000 390000, 332000 392000, 334000 392000, 334000 390000, 332000 390000))\n",
      "Collected 5788 properties...\n",
      "... of which 4684 are in buildings\n",
      "Getting streets...\n",
      "Snapping nodes...\n",
      "Finding connected graphs...\n",
      "Labelling communities.\n",
      "Starting to find neighbourhoods in POLYGON ((332000 392000, 332000 394000, 334000 394000, 334000 392000, 332000 392000))\n",
      "Collected 774 properties...\n",
      "... of which 455 are in buildings\n",
      "Getting streets...\n",
      "Snapping nodes...\n",
      "Finding connected graphs...\n",
      "Labelling communities.\n",
      "Starting to find neighbourhoods in POLYGON ((332000 394000, 332000 396000, 334000 396000, 334000 394000, 332000 394000))\n",
      "Collected 3084 properties...\n",
      "... of which 2259 are in buildings\n",
      "Getting streets...\n",
      "Snapping nodes...\n",
      "Finding connected graphs...\n",
      "Labelling communities.\n",
      "Starting to find neighbourhoods in POLYGON ((332000 396000, 332000 398000, 334000 398000, 334000 396000, 332000 396000))\n",
      "Collected 12311 properties...\n",
      "... of which 11045 are in buildings\n",
      "Getting streets...\n",
      "Snapping nodes...\n",
      "Finding connected graphs...\n",
      "Labelling communities.\n",
      "Starting to find neighbourhoods in POLYGON ((334000 386000, 334000 388000, 336000 388000, 336000 386000, 334000 386000))\n",
      "Collected 3809 properties...\n",
      "... of which 3221 are in buildings\n",
      "Getting streets...\n",
      "Snapping nodes...\n",
      "Finding connected graphs...\n",
      "Labelling communities.\n",
      "Starting to find neighbourhoods in POLYGON ((334000 388000, 334000 390000, 336000 390000, 336000 388000, 334000 388000))\n",
      "Collected 25282 properties...\n",
      "... of which 21552 are in buildings\n",
      "Getting streets...\n",
      "Snapping nodes...\n",
      "Finding connected graphs...\n",
      "Labelling communities.\n",
      "Starting to find neighbourhoods in POLYGON ((334000 390000, 334000 392000, 336000 392000, 336000 390000, 334000 390000))\n",
      "Collected 36346 properties...\n",
      "... of which 31516 are in buildings\n",
      "Getting streets...\n",
      "Snapping nodes...\n",
      "Finding connected graphs...\n",
      "Labelling communities.\n",
      "Starting to find neighbourhoods in POLYGON ((334000 392000, 334000 394000, 336000 394000, 336000 392000, 334000 392000))\n",
      "Collected 13780 properties...\n",
      "... of which 11114 are in buildings\n",
      "Getting streets...\n",
      "Snapping nodes...\n",
      "Finding connected graphs...\n",
      "Labelling communities.\n",
      "Starting to find neighbourhoods in POLYGON ((334000 394000, 334000 396000, 336000 396000, 336000 394000, 334000 394000))\n",
      "Collected 18230 properties...\n",
      "... of which 16725 are in buildings\n",
      "Getting streets...\n",
      "Snapping nodes...\n",
      "Finding connected graphs...\n",
      "Labelling communities.\n",
      "Starting to find neighbourhoods in POLYGON ((334000 396000, 334000 398000, 336000 398000, 336000 396000, 334000 396000))\n",
      "Collected 11491 properties...\n",
      "... of which 9998 are in buildings\n",
      "Getting streets...\n",
      "Snapping nodes...\n",
      "Finding connected graphs...\n",
      "Labelling communities.\n",
      "Starting to find neighbourhoods in POLYGON ((336000 386000, 336000 388000, 338000 388000, 338000 386000, 336000 386000))\n",
      "Collected 11254 properties...\n",
      "... of which 10395 are in buildings\n",
      "Getting streets...\n",
      "Snapping nodes...\n",
      "Finding connected graphs...\n",
      "Labelling communities.\n",
      "Starting to find neighbourhoods in POLYGON ((336000 388000, 336000 390000, 338000 390000, 338000 388000, 336000 388000))\n",
      "Collected 20889 properties...\n",
      "... of which 18762 are in buildings\n",
      "Getting streets...\n",
      "Snapping nodes...\n",
      "Finding connected graphs...\n",
      "Labelling communities.\n",
      "Starting to find neighbourhoods in POLYGON ((336000 390000, 336000 392000, 338000 392000, 338000 390000, 336000 390000))\n",
      "Collected 19295 properties...\n",
      "... of which 16336 are in buildings\n",
      "Getting streets...\n",
      "Snapping nodes...\n",
      "Finding connected graphs...\n",
      "Labelling communities.\n",
      "Starting to find neighbourhoods in POLYGON ((336000 392000, 336000 394000, 338000 394000, 338000 392000, 336000 392000))\n",
      "Collected 17591 properties...\n",
      "... of which 15600 are in buildings\n",
      "Getting streets...\n",
      "Snapping nodes...\n",
      "Finding connected graphs...\n",
      "Labelling communities.\n",
      "Starting to find neighbourhoods in POLYGON ((336000 394000, 336000 396000, 338000 396000, 338000 394000, 336000 394000))\n",
      "Collected 10692 properties...\n",
      "... of which 10035 are in buildings\n",
      "Getting streets...\n",
      "Snapping nodes...\n",
      "Finding connected graphs...\n",
      "Labelling communities.\n",
      "Starting to find neighbourhoods in POLYGON ((336000 396000, 336000 398000, 338000 398000, 338000 396000, 336000 396000))\n",
      "Collected 8483 properties...\n",
      "... of which 7806 are in buildings\n",
      "Getting streets...\n",
      "Snapping nodes...\n",
      "Finding connected graphs...\n",
      "Labelling communities.\n",
      "Starting to find neighbourhoods in POLYGON ((336000 398000, 336000 400000, 338000 400000, 338000 398000, 336000 398000))\n",
      "Collected 4928 properties...\n",
      "... of which 4441 are in buildings\n",
      "Getting streets...\n",
      "Snapping nodes...\n",
      "Finding connected graphs...\n",
      "Labelling communities.\n",
      "Starting to find neighbourhoods in POLYGON ((338000 386000, 338000 388000, 340000 388000, 340000 386000, 338000 386000))\n",
      "Collected 11701 properties...\n",
      "... of which 10300 are in buildings\n",
      "Getting streets...\n",
      "Snapping nodes...\n",
      "Finding connected graphs...\n",
      "Labelling communities.\n",
      "Starting to find neighbourhoods in POLYGON ((338000 388000, 338000 390000, 340000 390000, 340000 388000, 338000 388000))\n",
      "Collected 15584 properties...\n",
      "... of which 14065 are in buildings\n",
      "Getting streets...\n",
      "Snapping nodes...\n",
      "Finding connected graphs...\n",
      "Labelling communities.\n",
      "Starting to find neighbourhoods in POLYGON ((338000 390000, 338000 392000, 340000 392000, 340000 390000, 338000 390000))\n",
      "Collected 13289 properties...\n",
      "... of which 12045 are in buildings\n",
      "Getting streets...\n",
      "Snapping nodes...\n",
      "Finding connected graphs...\n",
      "Labelling communities.\n",
      "Starting to find neighbourhoods in POLYGON ((338000 392000, 338000 394000, 340000 394000, 340000 392000, 338000 392000))\n",
      "Collected 11547 properties...\n",
      "... of which 10846 are in buildings\n",
      "Getting streets...\n",
      "Snapping nodes...\n",
      "Finding connected graphs...\n",
      "Labelling communities.\n",
      "Starting to find neighbourhoods in POLYGON ((338000 394000, 338000 396000, 340000 396000, 340000 394000, 338000 394000))\n",
      "Collected 12562 properties...\n",
      "... of which 10859 are in buildings\n",
      "Getting streets...\n",
      "Snapping nodes...\n",
      "Finding connected graphs...\n",
      "Labelling communities.\n",
      "Starting to find neighbourhoods in POLYGON ((338000 396000, 338000 398000, 340000 398000, 340000 396000, 338000 396000))\n",
      "Collected 5491 properties...\n",
      "... of which 4725 are in buildings\n",
      "Getting streets...\n",
      "Snapping nodes...\n",
      "Finding connected graphs...\n",
      "Labelling communities.\n",
      "Starting to find neighbourhoods in POLYGON ((338000 398000, 338000 400000, 340000 400000, 340000 398000, 338000 398000))\n",
      "Collected 3600 properties...\n",
      "... of which 3216 are in buildings\n",
      "Getting streets...\n",
      "Snapping nodes...\n",
      "Finding connected graphs...\n",
      "Labelling communities.\n",
      "Starting to find neighbourhoods in POLYGON ((340000 386000, 340000 388000, 342000 388000, 342000 386000, 340000 386000))\n",
      "Collected 5010 properties...\n",
      "... of which 4544 are in buildings\n",
      "Getting streets...\n",
      "Snapping nodes...\n",
      "Finding connected graphs...\n",
      "Labelling communities.\n",
      "Starting to find neighbourhoods in POLYGON ((340000 388000, 340000 390000, 342000 390000, 342000 388000, 340000 388000))\n",
      "Collected 7927 properties...\n",
      "... of which 7460 are in buildings\n",
      "Getting streets...\n",
      "Snapping nodes...\n",
      "Finding connected graphs...\n",
      "Labelling communities.\n",
      "Starting to find neighbourhoods in POLYGON ((340000 390000, 340000 392000, 342000 392000, 342000 390000, 340000 390000))\n",
      "Collected 9707 properties...\n",
      "... of which 9035 are in buildings\n",
      "Getting streets...\n",
      "Snapping nodes...\n",
      "Finding connected graphs...\n",
      "Labelling communities.\n",
      "Starting to find neighbourhoods in POLYGON ((340000 392000, 340000 394000, 342000 394000, 342000 392000, 340000 392000))\n",
      "Collected 8681 properties...\n",
      "... of which 7746 are in buildings\n",
      "Getting streets...\n",
      "Snapping nodes...\n",
      "Finding connected graphs...\n",
      "Labelling communities.\n",
      "Starting to find neighbourhoods in POLYGON ((340000 394000, 340000 396000, 342000 396000, 342000 394000, 340000 394000))\n",
      "Collected 5223 properties...\n",
      "... of which 4728 are in buildings\n",
      "Getting streets...\n",
      "Snapping nodes...\n",
      "Finding connected graphs...\n",
      "Labelling communities.\n",
      "Starting to find neighbourhoods in POLYGON ((340000 396000, 340000 398000, 342000 398000, 342000 396000, 340000 396000))\n",
      "Collected 4651 properties...\n",
      "... of which 4041 are in buildings\n",
      "Getting streets...\n",
      "Snapping nodes...\n",
      "Finding connected graphs...\n",
      "Labelling communities.\n",
      "Starting to find neighbourhoods in POLYGON ((340000 398000, 340000 400000, 342000 400000, 342000 398000, 340000 398000))\n",
      "Collected 9769 properties...\n",
      "... of which 8013 are in buildings\n",
      "Getting streets...\n",
      "Snapping nodes...\n",
      "Finding connected graphs...\n",
      "Labelling communities.\n",
      "Starting to find neighbourhoods in POLYGON ((342000 386000, 342000 388000, 344000 388000, 344000 386000, 342000 386000))\n",
      "Collected 8123 properties...\n",
      "... of which 7463 are in buildings\n",
      "Getting streets...\n",
      "Snapping nodes...\n",
      "Finding connected graphs...\n",
      "Labelling communities.\n",
      "Starting to find neighbourhoods in POLYGON ((342000 388000, 342000 390000, 344000 390000, 344000 388000, 342000 388000))\n",
      "Collected 7059 properties...\n",
      "... of which 6122 are in buildings\n",
      "Getting streets...\n",
      "Snapping nodes...\n",
      "Finding connected graphs...\n",
      "Labelling communities.\n",
      "Starting to find neighbourhoods in POLYGON ((342000 390000, 342000 392000, 344000 392000, 344000 390000, 342000 390000))\n",
      "Collected 10149 properties...\n",
      "... of which 9446 are in buildings\n",
      "Getting streets...\n",
      "Snapping nodes...\n",
      "Finding connected graphs...\n",
      "Labelling communities.\n",
      "Starting to find neighbourhoods in POLYGON ((342000 392000, 342000 394000, 344000 394000, 344000 392000, 342000 392000))\n",
      "Collected 10207 properties...\n",
      "... of which 8413 are in buildings\n",
      "Getting streets...\n",
      "Snapping nodes...\n",
      "Finding connected graphs...\n",
      "Labelling communities.\n",
      "Starting to find neighbourhoods in POLYGON ((342000 394000, 342000 396000, 344000 396000, 344000 394000, 342000 394000))\n",
      "Collected 2204 properties...\n",
      "... of which 2038 are in buildings\n",
      "Getting streets...\n",
      "Snapping nodes...\n",
      "Finding connected graphs...\n",
      "Labelling communities.\n",
      "Starting to find neighbourhoods in POLYGON ((342000 396000, 342000 398000, 344000 398000, 344000 396000, 342000 396000))\n",
      "Collected 2175 properties...\n",
      "... of which 1554 are in buildings\n",
      "Getting streets...\n",
      "Snapping nodes...\n",
      "Finding connected graphs...\n",
      "Labelling communities.\n",
      "Starting to find neighbourhoods in POLYGON ((344000 388000, 344000 390000, 346000 390000, 346000 388000, 344000 388000))\n",
      "Collected 3856 properties...\n",
      "... of which 3385 are in buildings\n",
      "Getting streets...\n",
      "Snapping nodes...\n",
      "Finding connected graphs...\n",
      "Labelling communities.\n",
      "Starting to find neighbourhoods in POLYGON ((344000 390000, 344000 392000, 346000 392000, 346000 390000, 344000 390000))\n",
      "Collected 7466 properties...\n",
      "... of which 6632 are in buildings\n",
      "Getting streets...\n",
      "Snapping nodes...\n",
      "Finding connected graphs...\n",
      "Labelling communities.\n",
      "Starting to find neighbourhoods in POLYGON ((344000 392000, 344000 394000, 346000 394000, 346000 392000, 344000 392000))\n",
      "Collected 2499 properties...\n",
      "... of which 2136 are in buildings\n",
      "Getting streets...\n",
      "Snapping nodes...\n",
      "Finding connected graphs...\n",
      "Labelling communities.\n",
      "Starting to find neighbourhoods in POLYGON ((344000 394000, 344000 396000, 346000 396000, 346000 394000, 344000 394000))\n",
      "Collected 179 properties...\n",
      "... of which 123 are in buildings\n",
      "Getting streets...\n",
      "Snapping nodes...\n",
      "Finding connected graphs...\n",
      "Labelling communities.\n"
     ]
    }
   ],
   "source": [
    "dfs = list()\n",
    "sgs = dict()\n",
    "for i, p in enumerate(pixels.geometry):\n",
    "    df, graphs = get_communities(db, p, min_community_size=10)\n",
    "    dfs.append(df)\n",
    "    sgs[i] = graphs"
   ]
  },
  {
   "cell_type": "code",
   "execution_count": 13,
   "id": "racial-wallace",
   "metadata": {},
   "outputs": [
    {
     "data": {
      "text/plain": [
       "array(['01', None, '02', '03', '04', '05'], dtype=object)"
      ]
     },
     "execution_count": 13,
     "metadata": {},
     "output_type": "execute_result"
    }
   ],
   "source": [
    "dfs[2].community.unique()"
   ]
  },
  {
   "cell_type": "code",
   "execution_count": 50,
   "id": "looking-research",
   "metadata": {
    "tags": []
   },
   "outputs": [
    {
     "data": {
      "text/plain": [
       "<AxesSubplot:>"
      ]
     },
     "execution_count": 50,
     "metadata": {},
     "output_type": "execute_result"
    },
    {
     "data": {
      "image/png": "[encoded data removed]",
      "text/plain": [
       "<Figure size 432x288 with 1 Axes>"
      ]
     },
     "metadata": {
      "needs_background": "light"
     },
     "output_type": "display_data"
    }
   ],
   "source": [
    "df = dfs[21]\n",
    "gpd.GeoDataFrame(df, geometry=gpd.GeoSeries.from_wkb(df.roads_geometry)).plot('community', legend=True)"
   ]
  },
  {
   "cell_type": "code",
   "execution_count": 15,
   "id": "manual-belfast",
   "metadata": {},
   "outputs": [
    {
     "data": {
      "text/plain": [
       "43"
      ]
     },
     "execution_count": 15,
     "metadata": {},
     "output_type": "execute_result"
    }
   ],
   "source": [
    "len(dfs)"
   ]
  },
  {
   "cell_type": "code",
   "execution_count": 16,
   "id": "quality-dining",
   "metadata": {},
   "outputs": [],
   "source": [
    "lengths = dict()"
   ]
  },
  {
   "cell_type": "code",
   "execution_count": 24,
   "id": "foster-romantic",
   "metadata": {},
   "outputs": [],
   "source": [
    "for i, d in enumerate(dfs):\n",
    "    lengths[i] = len(d.community.unique())\n",
    "    "
   ]
  },
  {
   "cell_type": "code",
   "execution_count": 25,
   "id": "secret-creature",
   "metadata": {},
   "outputs": [],
   "source": [
    "pd.DataFrame(lengths, index=['communities']).T"
   ]
  },
  {
   "cell_type": "code",
   "execution_count": 51,
   "id": "baking-iraqi",
   "metadata": {},
   "outputs": [],
   "source": [
    "pass"
   ]
  },
  {
   "cell_type": "code",
   "execution_count": 19,
   "id": "determined-output",
   "metadata": {},
   "outputs": [],
   "source": [
    "import pandas as pd"
   ]
  },
  {
   "cell_type": "code",
   "execution_count": 48,
   "id": "breeding-comfort",
   "metadata": {},
   "outputs": [
    {
     "data": {
      "text/plain": [
       "[<networkx.classes.graph.Graph at 0x7f224b9704c0>,\n",
       " <networkx.classes.graph.Graph at 0x7f224b79f820>,\n",
       " <networkx.classes.graph.Graph at 0x7f224a4b8130>,\n",
       " <networkx.classes.graph.Graph at 0x7f224a4b82e0>,\n",
       " <networkx.classes.graph.Graph at 0x7f224a4b86d0>,\n",
       " <networkx.classes.graph.Graph at 0x7f224a4b8c10>,\n",
       " <networkx.classes.graph.Graph at 0x7f224a4a7c10>,\n",
       " <networkx.classes.graph.Graph at 0x7f224a4b4820>,\n",
       " <networkx.classes.graph.Graph at 0x7f224a4ae820>]"
      ]
     },
     "execution_count": 48,
     "metadata": {},
     "output_type": "execute_result"
    }
   ],
   "source": [
    "sgs[21]"
   ]
  },
  {
   "cell_type": "code",
   "execution_count": 52,
   "id": "subjective-hearing",
   "metadata": {},
   "outputs": [],
   "source": [
    "g = sgs[21][2]"
   ]
  },
  {
   "cell_type": "code",
   "execution_count": 56,
   "id": "stone-girlfriend",
   "metadata": {},
   "outputs": [
    {
     "data": {
      "image/png": "[encoded data removed]",
      "text/plain": [
       "<Figure size 432x288 with 1 Axes>"
      ]
     },
     "metadata": {},
     "output_type": "display_data"
    }
   ],
   "source": [
    "nx.draw(g)"
   ]
  },
  {
   "cell_type": "code",
   "execution_count": 55,
   "id": "inclusive-retrieval",
   "metadata": {},
   "outputs": [],
   "source": [
    "import networkx as nx"
   ]
  },
  {
   "cell_type": "code",
   "execution_count": 65,
   "id": "exempt-commitment",
   "metadata": {},
   "outputs": [],
   "source": [
    "df = pd.DataFrame(nx.betweenness_centrality(g),index=['bc']).T"
   ]
  },
  {
   "cell_type": "code",
   "execution_count": 67,
   "id": "incorrect-income",
   "metadata": {},
   "outputs": [
    {
     "data": {
      "text/html": [
       "<div>\n",
       "<style scoped>\n",
       "    .dataframe tbody tr th:only-of-type {\n",
       "        vertical-align: middle;\n",
       "    }\n",
       "\n",
       "    .dataframe tbody tr th {\n",
       "        vertical-align: top;\n",
       "    }\n",
       "\n",
       "    .dataframe thead th {\n",
       "        text-align: right;\n",
       "    }\n",
       "</style>\n",
       "<table border=\"1\" class=\"dataframe\">\n",
       "  <thead>\n",
       "    <tr style=\"text-align: right;\">\n",
       "      <th></th>\n",
       "      <th>bc</th>\n",
       "    </tr>\n",
       "  </thead>\n",
       "  <tbody>\n",
       "    <tr>\n",
       "      <th>idFA9DF51B-7167-41C8-95F6-FBD8B842072B</th>\n",
       "      <td>0.000000</td>\n",
       "    </tr>\n",
       "    <tr>\n",
       "      <th>id74A87B08-2A92-4EC9-8DD4-794821B7C857</th>\n",
       "      <td>0.000000</td>\n",
       "    </tr>\n",
       "    <tr>\n",
       "      <th>id35151025-FB63-440D-84D4-50ACC3628028</th>\n",
       "      <td>0.000000</td>\n",
       "    </tr>\n",
       "    <tr>\n",
       "      <th>id13D417AF-FE76-47D0-8C19-D63FB13E970D</th>\n",
       "      <td>0.000000</td>\n",
       "    </tr>\n",
       "    <tr>\n",
       "      <th>id836D0BA6-3A72-4B5E-AEE8-4FECBB99E10A</th>\n",
       "      <td>0.000000</td>\n",
       "    </tr>\n",
       "    <tr>\n",
       "      <th>...</th>\n",
       "      <td>...</td>\n",
       "    </tr>\n",
       "    <tr>\n",
       "      <th>id48C6EF28-9B54-4EBC-A418-D409618AC67F</th>\n",
       "      <td>0.434774</td>\n",
       "    </tr>\n",
       "    <tr>\n",
       "      <th>id0EE91741-5C02-46F5-82AE-0A8ADBFEB743</th>\n",
       "      <td>0.440477</td>\n",
       "    </tr>\n",
       "    <tr>\n",
       "      <th>id86272BD2-9347-40CC-A677-10A3A3714DDD</th>\n",
       "      <td>0.453291</td>\n",
       "    </tr>\n",
       "    <tr>\n",
       "      <th>idC042F52E-1D72-4180-AEAD-12047187DD15</th>\n",
       "      <td>0.466633</td>\n",
       "    </tr>\n",
       "    <tr>\n",
       "      <th>id46336266-02F3-464D-AEF2-719874DE5F04</th>\n",
       "      <td>0.591250</td>\n",
       "    </tr>\n",
       "  </tbody>\n",
       "</table>\n",
       "<p>201 rows × 1 columns</p>\n",
       "</div>"
      ],
      "text/plain": [
       "                                              bc\n",
       "idFA9DF51B-7167-41C8-95F6-FBD8B842072B  0.000000\n",
       "id74A87B08-2A92-4EC9-8DD4-794821B7C857  0.000000\n",
       "id35151025-FB63-440D-84D4-50ACC3628028  0.000000\n",
       "id13D417AF-FE76-47D0-8C19-D63FB13E970D  0.000000\n",
       "id836D0BA6-3A72-4B5E-AEE8-4FECBB99E10A  0.000000\n",
       "...                                          ...\n",
       "id48C6EF28-9B54-4EBC-A418-D409618AC67F  0.434774\n",
       "id0EE91741-5C02-46F5-82AE-0A8ADBFEB743  0.440477\n",
       "id86272BD2-9347-40CC-A677-10A3A3714DDD  0.453291\n",
       "idC042F52E-1D72-4180-AEAD-12047187DD15  0.466633\n",
       "id46336266-02F3-464D-AEF2-719874DE5F04  0.591250\n",
       "\n",
       "[201 rows x 1 columns]"
      ]
     },
     "execution_count": 67,
     "metadata": {},
     "output_type": "execute_result"
    }
   ],
   "source": [
    "df.sort_values('bc')"
   ]
  },
  {
   "cell_type": "code",
   "execution_count": 69,
   "id": "awful-messaging",
   "metadata": {},
   "outputs": [
    {
     "data": {
      "text/plain": [
       "Index(['properties_id', 'properties_geometry', 'roads_id', 'startNode',\n",
       "       'endNode', 'roads_geometry', 'dist', 'geometry', 'length',\n",
       "       'street_counts', 'street_length_per_uprn', 'residential_street',\n",
       "       'residential', 'short_street', 'res_or_short', 'community'],\n",
       "      dtype='object')"
      ]
     },
     "execution_count": 69,
     "metadata": {},
     "output_type": "execute_result"
    }
   ],
   "source": [
    "dfs[21].columns"
   ]
  },
  {
   "cell_type": "code",
   "execution_count": 70,
   "id": "pressing-humor",
   "metadata": {},
   "outputs": [],
   "source": [
    "xdf = dfs[21].loc[dfs[21].community=='03']"
   ]
  },
  {
   "cell_type": "code",
   "execution_count": 73,
   "id": "continuous-genre",
   "metadata": {},
   "outputs": [
    {
     "data": {
      "text/plain": [
       "3630"
      ]
     },
     "execution_count": 73,
     "metadata": {},
     "output_type": "execute_result"
    }
   ],
   "source": [
    "len(xdf)"
   ]
  },
  {
   "cell_type": "code",
   "execution_count": 76,
   "id": "finite-debate",
   "metadata": {},
   "outputs": [
    {
     "data": {
      "text/plain": [
       "Index(['properties_id', 'properties_geometry', 'roads_id', 'startNode',\n",
       "       'endNode', 'roads_geometry', 'dist', 'geometry', 'length',\n",
       "       'street_counts', 'street_length_per_uprn', 'residential_street',\n",
       "       'residential', 'short_street', 'res_or_short', 'community'],\n",
       "      dtype='object')"
      ]
     },
     "execution_count": 76,
     "metadata": {},
     "output_type": "execute_result"
    }
   ],
   "source": [
    "xdf.columns"
   ]
  },
  {
   "cell_type": "code",
   "execution_count": 78,
   "id": "thorough-tolerance",
   "metadata": {},
   "outputs": [
    {
     "data": {
      "text/plain": [
       "array(['03'], dtype=object)"
      ]
     },
     "execution_count": 78,
     "metadata": {},
     "output_type": "execute_result"
    }
   ],
   "source": [
    "xdf.community.unique()"
   ]
  },
  {
   "cell_type": "code",
   "execution_count": 80,
   "id": "explicit-legislation",
   "metadata": {},
   "outputs": [
    {
     "data": {
      "text/plain": [
       "count    3630.000000\n",
       "mean       46.851791\n",
       "std        37.651812\n",
       "min         1.000000\n",
       "25%        17.000000\n",
       "50%        36.000000\n",
       "75%        76.000000\n",
       "max       150.000000\n",
       "Name: street_counts, dtype: float64"
      ]
     },
     "execution_count": 80,
     "metadata": {},
     "output_type": "execute_result"
    }
   ],
   "source": [
    "xdf.street_counts.describe()"
   ]
  },
  {
   "cell_type": "code",
   "execution_count": 82,
   "id": "appreciated-visibility",
   "metadata": {},
   "outputs": [
    {
     "data": {
      "text/plain": [
       "False    2871\n",
       "True      759\n",
       "Name: short_street, dtype: int64"
      ]
     },
     "execution_count": 82,
     "metadata": {},
     "output_type": "execute_result"
    }
   ],
   "source": [
    "xdf.short_street.value_counts()"
   ]
  },
  {
   "cell_type": "code",
   "execution_count": 84,
   "id": "dress-chess",
   "metadata": {},
   "outputs": [
    {
     "data": {
      "text/plain": [
       "True    3630\n",
       "Name: residential, dtype: int64"
      ]
     },
     "execution_count": 84,
     "metadata": {},
     "output_type": "execute_result"
    }
   ],
   "source": [
    "xdf.residential.value_counts()"
   ]
  },
  {
   "cell_type": "code",
   "execution_count": 85,
   "id": "ignored-twins",
   "metadata": {},
   "outputs": [
    {
     "data": {
      "text/plain": [
       "count    3630.000000\n",
       "mean      142.609405\n",
       "std        89.363378\n",
       "min         7.071068\n",
       "25%        62.664121\n",
       "50%       124.253451\n",
       "75%       213.974298\n",
       "max       444.689103\n",
       "dtype: float64"
      ]
     },
     "execution_count": 85,
     "metadata": {},
     "output_type": "execute_result"
    }
   ],
   "source": [
    "xdf.length.describe()"
   ]
  },
  {
   "cell_type": "code",
   "execution_count": 86,
   "id": "deluxe-dream",
   "metadata": {},
   "outputs": [
    {
     "data": {
      "text/plain": [
       "count    3630.000000\n",
       "mean        4.639479\n",
       "std         4.585283\n",
       "min         0.631940\n",
       "25%         2.427482\n",
       "50%         3.660149\n",
       "75%         5.122940\n",
       "max        49.497475\n",
       "Name: street_length_per_uprn, dtype: float64"
      ]
     },
     "execution_count": 86,
     "metadata": {},
     "output_type": "execute_result"
    }
   ],
   "source": [
    "xdf.street_length_per_uprn.describe()"
   ]
  },
  {
   "cell_type": "code",
   "execution_count": 91,
   "id": "advanced-telling",
   "metadata": {},
   "outputs": [
    {
     "data": {
      "text/plain": [
       "(array('d', [339000.0]), array('d', [391000.0]))"
      ]
     },
     "execution_count": 91,
     "metadata": {},
     "output_type": "execute_result"
    }
   ],
   "source": [
    "pixels.iloc[21].geometry.centroid.xy"
   ]
  }
 ],
 "metadata": {
  "kernelspec": {
   "display_name": "Python 3",
   "language": "python",
   "name": "python3"
  },
  "language_info": {
   "codemirror_mode": {
    "name": "ipython",
    "version": 3
   },
   "file_extension": ".py",
   "mimetype": "text/x-python",
   "name": "python",
   "nbconvert_exporter": "python",
   "pygments_lexer": "ipython3",
   "version": "3.8.8"
  }
 },
 "nbformat": 4,
 "nbformat_minor": 5
}
