{
 "cells": [
  {
   "cell_type": "code",
   "execution_count": 1,
   "id": "employed-winner",
   "metadata": {},
   "outputs": [
    {
     "name": "stdout",
     "output_type": "stream",
     "text": [
      "Initializing database connection...\n",
      "Database connected!\n"
     ]
    }
   ],
   "source": [
    "import sys\n",
    "sys.path.append('..')\n",
    "\n",
    "from nbhd import data\n",
    "\n",
    "db = data.Base()"
   ]
  },
  {
   "cell_type": "code",
   "execution_count": 2,
   "id": "collectible-office",
   "metadata": {},
   "outputs": [],
   "source": [
    "import matplotlib.pyplot as plt"
   ]
  },
  {
   "cell_type": "code",
   "execution_count": 9,
   "id": "apparent-mentor",
   "metadata": {},
   "outputs": [],
   "source": [
    "import geopandas as gpd"
   ]
  },
  {
   "cell_type": "code",
   "execution_count": 3,
   "id": "color-breakfast",
   "metadata": {},
   "outputs": [],
   "source": [
    "import pandas as pd\n",
    "from IPython.display import display"
   ]
  },
  {
   "cell_type": "code",
   "execution_count": 4,
   "id": "gentle-greensboro",
   "metadata": {},
   "outputs": [],
   "source": [
    "analysis = pd.read_csv('communities.csv')"
   ]
  },
  {
   "cell_type": "code",
   "execution_count": 142,
   "id": "understanding-today",
   "metadata": {},
   "outputs": [],
   "source": [
    "class FaceBlock():\n",
    "    def __init__(self, df, roads_id, db):\n",
    "        self.id = roads_id\n",
    "        self.total_df = df\n",
    "        self.df = self.total_df.loc[self.total_df.roads_id == roads_id]\n",
    "        self.df = gpd.GeoDataFrame(self.df, geometry=gpd.GeoSeries.from_wkb(self.df.properties_geometry))\n",
    "        self.properties = self.df.properties_id.unique()\n",
    "        self.buildings_df = self.df[~self.df.buildings_id.duplicated()]\n",
    "        self.buildings_df = gpd.GeoDataFrame(self.buildings_df,\n",
    "                                            geometry=gpd.GeoSeries.from_wkb(self.buildings_df.buildings_geometry))\n",
    "        self.buildings = self.df.buildings_id.unique()\n",
    "        self.roads_df = self.df[~self.df.roads_id.duplicated()]\n",
    "        self.roads_df = gpd.GeoDataFrame(self.roads_df,\n",
    "                                            geometry=gpd.GeoSeries.from_wkb(self.roads_df.roads_geometry))       \n",
    "        assert len(self.roads_df.roads_id.unique() == 1)\n",
    "        \n",
    "        self.road_name, self.road_function = db.query(\n",
    "        f\"SELECT name1, road_function FROM roads WHERE id = '{self.id}'\").values[0]\n",
    "        \n",
    "        \n",
    "        self.startNode = self.roads_df.startNode.values[0]\n",
    "        self.endNode = self.roads_df.endNode.values[0]\n",
    "        self.neighbours = dict()\n",
    "        self.neighbours['start'] = list(f.total_df.loc[\n",
    "            (f.total_df.startNode==f.startNode) & (f.total_df.roads_id != f.id)].roads_id.unique()) + \\\n",
    "        list(f.total_df.loc[\n",
    "            (f.total_df.endNode==f.startNode) & (f.total_df.roads_id != f.id)].roads_id.unique())\n",
    "        self.neighbours['end'] = list(f.total_df.loc[\n",
    "            (f.total_df.startNode==f.endNode) & (f.total_df.roads_id != f.id)].roads_id.unique()) + \\\n",
    "        list(f.total_df.loc[\n",
    "            (f.total_df.endNode==f.endNode) & (f.total_df.roads_id != f.id)].roads_id.unique())\n",
    "\n",
    "        self.stats()\n",
    "        \n",
    "    def __repr__(self):\n",
    "        display(self.stats_df)\n",
    "        return f\"{self.road_name} ({self.road_function}): {self.count['properties']} properties.\"\n",
    "        \n",
    "    def stats(self):\n",
    "        self.count = dict()\n",
    "        self.count['segment_length'] = self.roads_df['length'].values[0]\n",
    "        self.count['segment_length_per_property'] = self.roads_df['street_length_per_uprn'].values[0]\n",
    "        self.count['properties'] = len(self.properties)\n",
    "        self.count['buildings'] = len(self.buildings)\n",
    "        self.count['neighbouring_face_blocks'] = len(self.neighbours)\n",
    "        block_prop_count = dict(self.df.value_counts('buildings_id'))\n",
    "        self.buildings_df['block_prop_count'] = self.buildings_df.buildings_id.apply(lambda x: block_prop_count[x])\n",
    "        self.buildings_df['block_pct'] = self.buildings_df.block_prop_count / self.buildings_df.building_counts\n",
    "        self.buildings_df['block_footprint'] = self.buildings_df.footprint_area * self.buildings_df.block_pct\n",
    "        self.count['block_building_footprint'] = self.buildings_df.block_footprint.sum()\n",
    "        self.count['median_property_footprint'] = self.buildings_df.footprint_area_per_uprn.median()\n",
    "        self.count['mean_property_footprint'] = self.buildings_df.footprint_area_per_uprn.mean()\n",
    "        self.stats_df = pd.DataFrame(self.count, index=['statistics'])\n",
    "    \n",
    "    def plot(self):\n",
    "        fig, ax = plt.subplots(figsize=(12,12))\n",
    "        self.buildings_df.boundary.plot(color='k', ax=ax)\n",
    "        self.buildings_df.plot('block_pct', cmap='binary', ax=ax, alpha=0.5)\n",
    "        self.roads_df.plot(color='k', ax =ax, linewidth=10)\n",
    "        self.df.plot(color='k',ax=ax)\n",
    "        ax.set_axis_off()\n",
    "        self.fig = ax.figure"
   ]
  },
  {
   "cell_type": "code",
   "execution_count": 151,
   "id": "endangered-mortgage",
   "metadata": {},
   "outputs": [],
   "source": [
    "rid = analysis.roads_id.unique()[17]"
   ]
  },
  {
   "cell_type": "code",
   "execution_count": 152,
   "id": "introductory-storage",
   "metadata": {},
   "outputs": [],
   "source": [
    "f = FaceBlock(analysis, rid, db)"
   ]
  },
  {
   "cell_type": "code",
   "execution_count": 153,
   "id": "equal-citizenship",
   "metadata": {},
   "outputs": [
    {
     "data": {
      "text/html": [
       "<div>\n",
       "<style scoped>\n",
       "    .dataframe tbody tr th:only-of-type {\n",
       "        vertical-align: middle;\n",
       "    }\n",
       "\n",
       "    .dataframe tbody tr th {\n",
       "        vertical-align: top;\n",
       "    }\n",
       "\n",
       "    .dataframe thead th {\n",
       "        text-align: right;\n",
       "    }\n",
       "</style>\n",
       "<table border=\"1\" class=\"dataframe\">\n",
       "  <thead>\n",
       "    <tr style=\"text-align: right;\">\n",
       "      <th></th>\n",
       "      <th>segment_length</th>\n",
       "      <th>segment_length_per_property</th>\n",
       "      <th>properties</th>\n",
       "      <th>buildings</th>\n",
       "      <th>neighbouring_face_blocks</th>\n",
       "      <th>block_building_footprint</th>\n",
       "      <th>median_property_footprint</th>\n",
       "      <th>mean_property_footprint</th>\n",
       "    </tr>\n",
       "  </thead>\n",
       "  <tbody>\n",
       "    <tr>\n",
       "      <th>statistics</th>\n",
       "      <td>36.019994</td>\n",
       "      <td>3.601999</td>\n",
       "      <td>9</td>\n",
       "      <td>5</td>\n",
       "      <td>2</td>\n",
       "      <td>985.012283</td>\n",
       "      <td>105.041467</td>\n",
       "      <td>104.858298</td>\n",
       "    </tr>\n",
       "  </tbody>\n",
       "</table>\n",
       "</div>"
      ],
      "text/plain": [
       "            segment_length  segment_length_per_property  properties  \\\n",
       "statistics       36.019994                     3.601999           9   \n",
       "\n",
       "            buildings  neighbouring_face_blocks  block_building_footprint  \\\n",
       "statistics          5                         2                985.012283   \n",
       "\n",
       "            median_property_footprint  mean_property_footprint  \n",
       "statistics                 105.041467               104.858298  "
      ]
     },
     "metadata": {},
     "output_type": "display_data"
    },
    {
     "data": {
      "text/plain": [
       "Maidstone Drive (Local Road): 9 properties."
      ]
     },
     "execution_count": 153,
     "metadata": {},
     "output_type": "execute_result"
    }
   ],
   "source": [
    "f"
   ]
  },
  {
   "cell_type": "code",
   "execution_count": 154,
   "id": "textile-duncan",
   "metadata": {},
   "outputs": [
    {
     "data": {
      "image/png": "[encoded data removed]",
      "text/plain": [
       "<Figure size 864x864 with 1 Axes>"
      ]
     },
     "metadata": {
      "needs_background": "light"
     },
     "output_type": "display_data"
    }
   ],
   "source": [
    "f.plot()"
   ]
  },
  {
   "cell_type": "code",
   "execution_count": 59,
   "id": "appropriate-period",
   "metadata": {},
   "outputs": [
    {
     "data": {
      "text/html": [
       "<div>\n",
       "<style scoped>\n",
       "    .dataframe tbody tr th:only-of-type {\n",
       "        vertical-align: middle;\n",
       "    }\n",
       "\n",
       "    .dataframe tbody tr th {\n",
       "        vertical-align: top;\n",
       "    }\n",
       "\n",
       "    .dataframe thead th {\n",
       "        text-align: right;\n",
       "    }\n",
       "</style>\n",
       "<table border=\"1\" class=\"dataframe\">\n",
       "  <thead>\n",
       "    <tr style=\"text-align: right;\">\n",
       "      <th></th>\n",
       "      <th>id</th>\n",
       "      <th>endNode</th>\n",
       "      <th>startNode</th>\n",
       "      <th>roadNumberTOID</th>\n",
       "      <th>roadNameTOID</th>\n",
       "      <th>fictitious</th>\n",
       "      <th>roadClassification</th>\n",
       "      <th>road_function</th>\n",
       "      <th>formOfWay</th>\n",
       "      <th>length</th>\n",
       "      <th>...</th>\n",
       "      <th>loop</th>\n",
       "      <th>primaryRoute</th>\n",
       "      <th>trunkRoad</th>\n",
       "      <th>roadClassificationNumber</th>\n",
       "      <th>name1</th>\n",
       "      <th>name1_lang</th>\n",
       "      <th>name2</th>\n",
       "      <th>name2_lang</th>\n",
       "      <th>roadStructure</th>\n",
       "      <th>geometry</th>\n",
       "    </tr>\n",
       "  </thead>\n",
       "  <tbody>\n",
       "    <tr>\n",
       "      <th>0</th>\n",
       "      <td>idD4B0F712-3432-4CA8-B828-EA51F0092AFB</td>\n",
       "      <td>id0652EEBF-AA2D-4FF2-BC07-FBCD74C71DD3</td>\n",
       "      <td>id81360AAD-050A-4C73-8DBD-4BD4977388A1</td>\n",
       "      <td>None</td>\n",
       "      <td>osgb4000000013341593</td>\n",
       "      <td>False</td>\n",
       "      <td>Classified Unnumbered</td>\n",
       "      <td>Minor Road</td>\n",
       "      <td>Single Carriageway</td>\n",
       "      <td>184</td>\n",
       "      <td>...</td>\n",
       "      <td>False</td>\n",
       "      <td>False</td>\n",
       "      <td>False</td>\n",
       "      <td>None</td>\n",
       "      <td>Parthenon Drive</td>\n",
       "      <td>None</td>\n",
       "      <td>None</td>\n",
       "      <td>None</td>\n",
       "      <td>None</td>\n",
       "      <td>LINESTRING (338247.990 394708.170, 338252.000 ...</td>\n",
       "    </tr>\n",
       "  </tbody>\n",
       "</table>\n",
       "<p>1 rows × 21 columns</p>\n",
       "</div>"
      ],
      "text/plain": [
       "                                       id  \\\n",
       "0  idD4B0F712-3432-4CA8-B828-EA51F0092AFB   \n",
       "\n",
       "                                  endNode  \\\n",
       "0  id0652EEBF-AA2D-4FF2-BC07-FBCD74C71DD3   \n",
       "\n",
       "                                startNode roadNumberTOID  \\\n",
       "0  id81360AAD-050A-4C73-8DBD-4BD4977388A1           None   \n",
       "\n",
       "           roadNameTOID  fictitious     roadClassification road_function  \\\n",
       "0  osgb4000000013341593       False  Classified Unnumbered    Minor Road   \n",
       "\n",
       "            formOfWay  length  ...   loop  primaryRoute  trunkRoad  \\\n",
       "0  Single Carriageway     184  ...  False         False      False   \n",
       "\n",
       "   roadClassificationNumber            name1 name1_lang name2 name2_lang  \\\n",
       "0                      None  Parthenon Drive       None  None       None   \n",
       "\n",
       "  roadStructure                                           geometry  \n",
       "0          None  LINESTRING (338247.990 394708.170, 338252.000 ...  \n",
       "\n",
       "[1 rows x 21 columns]"
      ]
     },
     "execution_count": 59,
     "metadata": {},
     "output_type": "execute_result"
    }
   ],
   "source": [
    "db.intersects('roads',Point(coords[1]))"
   ]
  },
  {
   "cell_type": "code",
   "execution_count": 45,
   "id": "sublime-banner",
   "metadata": {},
   "outputs": [
    {
     "data": {
      "text/html": [
       "<div>\n",
       "<style scoped>\n",
       "    .dataframe tbody tr th:only-of-type {\n",
       "        vertical-align: middle;\n",
       "    }\n",
       "\n",
       "    .dataframe tbody tr th {\n",
       "        vertical-align: top;\n",
       "    }\n",
       "\n",
       "    .dataframe thead th {\n",
       "        text-align: right;\n",
       "    }\n",
       "</style>\n",
       "<table border=\"1\" class=\"dataframe\">\n",
       "  <thead>\n",
       "    <tr style=\"text-align: right;\">\n",
       "      <th></th>\n",
       "      <th>segment_length</th>\n",
       "      <th>segment_length_per_property</th>\n",
       "      <th>properties</th>\n",
       "      <th>buildings</th>\n",
       "      <th>block_building_footprint</th>\n",
       "      <th>median_property_footprint</th>\n",
       "      <th>mean_property_footprint</th>\n",
       "    </tr>\n",
       "  </thead>\n",
       "  <tbody>\n",
       "    <tr>\n",
       "      <th>statistics</th>\n",
       "      <td>184.112604</td>\n",
       "      <td>7.671359</td>\n",
       "      <td>19</td>\n",
       "      <td>5</td>\n",
       "      <td>977.549</td>\n",
       "      <td>48.808588</td>\n",
       "      <td>52.918513</td>\n",
       "    </tr>\n",
       "  </tbody>\n",
       "</table>\n",
       "</div>"
      ],
      "text/plain": [
       "            segment_length  segment_length_per_property  properties  \\\n",
       "statistics      184.112604                     7.671359          19   \n",
       "\n",
       "            buildings  block_building_footprint  median_property_footprint  \\\n",
       "statistics          5                   977.549                  48.808588   \n",
       "\n",
       "            mean_property_footprint  \n",
       "statistics                52.918513  "
      ]
     },
     "metadata": {},
     "output_type": "display_data"
    },
    {
     "data": {
      "text/plain": [
       "Parthenon Drive (Minor Road): 19 properties."
      ]
     },
     "execution_count": 45,
     "metadata": {},
     "output_type": "execute_result"
    }
   ],
   "source": [
    "db.intersects()"
   ]
  },
  {
   "cell_type": "code",
   "execution_count": 31,
   "id": "preliminary-grill",
   "metadata": {},
   "outputs": [
    {
     "data": {
      "image/png": "[encoded data removed]",
      "text/plain": [
       "<Figure size 864x864 with 1 Axes>"
      ]
     },
     "metadata": {
      "needs_background": "light"
     },
     "output_type": "display_data"
    }
   ],
   "source": [
    "f.plot()"
   ]
  },
  {
   "cell_type": "code",
   "execution_count": 19,
   "id": "affected-complex",
   "metadata": {
    "tags": []
   },
   "outputs": [
    {
     "data": {
      "text/plain": [
       "128.4404000001288"
      ]
     },
     "execution_count": 19,
     "metadata": {},
     "output_type": "execute_result"
    }
   ],
   "source": [
    "f.buildings_df.footprint_area_per_uprn.median()"
   ]
  },
  {
   "cell_type": "code",
   "execution_count": 23,
   "id": "subtle-simon",
   "metadata": {},
   "outputs": [
    {
     "data": {
      "text/plain": [
       "('idA7BEE2DD-E898-483B-981F-824B1B8A65FA',\n",
       " 'idF4CCC68C-CA63-4A60-9236-A33821124172')"
      ]
     },
     "execution_count": 23,
     "metadata": {},
     "output_type": "execute_result"
    }
   ],
   "source": [
    "(f.roads_df.startNode.values[0], f.roads_df.endNode.values[0])"
   ]
  },
  {
   "cell_type": "code",
   "execution_count": 117,
   "id": "wrapped-stuart",
   "metadata": {},
   "outputs": [
    {
     "data": {
      "text/plain": [
       "Index(['properties_id', 'properties_geometry', 'roads_id', 'startNode',\n",
       "       'endNode', 'roads_geometry', 'dist_x', 'geometry', 'length',\n",
       "       'street_counts', 'street_length_per_uprn', 'residential_street',\n",
       "       'residential', 'short_street', 'res_or_short', 'community',\n",
       "       'buildings_id', 'buildings_geometry', 'dist_y', 'building_counts',\n",
       "       'footprint_area', 'footprint_area_per_uprn', 'residential_building',\n",
       "       'block_prop_count', 'block_pct', 'block_footprint'],\n",
       "      dtype='object')"
      ]
     },
     "execution_count": 117,
     "metadata": {},
     "output_type": "execute_result"
    }
   ],
   "source": [
    "f.buildings_df.columns"
   ]
  },
  {
   "cell_type": "code",
   "execution_count": 119,
   "id": "german-damage",
   "metadata": {},
   "outputs": [
    {
     "data": {
      "text/plain": [
       "1    6\n",
       "2    1\n",
       "Name: building_counts, dtype: int64"
      ]
     },
     "execution_count": 119,
     "metadata": {},
     "output_type": "execute_result"
    }
   ],
   "source": [
    "f.buildings_df.building_counts.value_counts()"
   ]
  },
  {
   "cell_type": "code",
   "execution_count": 24,
   "id": "stone-wells",
   "metadata": {},
   "outputs": [],
   "source": [
    "cdf = f.total_df.loc[f.total_df.community==f.df.community.unique()[0]]"
   ]
  },
  {
   "cell_type": "code",
   "execution_count": 25,
   "id": "formed-coral",
   "metadata": {},
   "outputs": [
    {
     "data": {
      "text/plain": [
       "array([1.])"
      ]
     },
     "execution_count": 25,
     "metadata": {},
     "output_type": "execute_result"
    }
   ],
   "source": [
    "cdf.community.unique()"
   ]
  },
  {
   "cell_type": "code",
   "execution_count": 26,
   "id": "marked-studio",
   "metadata": {},
   "outputs": [],
   "source": [
    "import networkx as nx"
   ]
  },
  {
   "cell_type": "code",
   "execution_count": 89,
   "id": "legislative-couple",
   "metadata": {},
   "outputs": [],
   "source": [
    "g = nx.from_pandas_edgelist(cdf, 'startNode', 'endNode')"
   ]
  },
  {
   "cell_type": "code",
   "execution_count": 110,
   "id": "considered-gothic",
   "metadata": {},
   "outputs": [
    {
     "data": {
      "text/plain": [
       "'id81360AAD-050A-4C73-8DBD-4BD4977388A1'"
      ]
     },
     "execution_count": 110,
     "metadata": {},
     "output_type": "execute_result"
    }
   ],
   "source": [
    "f.startNode"
   ]
  },
  {
   "cell_type": "code",
   "execution_count": 125,
   "id": "lined-shadow",
   "metadata": {},
   "outputs": [
    {
     "data": {
      "text/plain": [
       "[('id81360AAD-050A-4C73-8DBD-4BD4977388A1',\n",
       "  'id539F72A6-D0D8-421E-8015-9BCFF87BB2A6')]"
      ]
     },
     "execution_count": 125,
     "metadata": {},
     "output_type": "execute_result"
    }
   ],
   "source": [
    "[e for e in g.edges if (f.startNode in e) and set([f.startNode, f.endNode])!=set(e)]"
   ]
  },
  {
   "cell_type": "code",
   "execution_count": 127,
   "id": "substantial-marker",
   "metadata": {},
   "outputs": [
    {
     "data": {
      "text/plain": [
       "[('idF2225782-B330-4182-BACF-B853E667832F',\n",
       "  'id0652EEBF-AA2D-4FF2-BC07-FBCD74C71DD3'),\n",
       " ('id0652EEBF-AA2D-4FF2-BC07-FBCD74C71DD3',\n",
       "  'id1CA57E2A-55A8-44D3-A2C4-DCC4B945525C')]"
      ]
     },
     "execution_count": 127,
     "metadata": {},
     "output_type": "execute_result"
    }
   ],
   "source": [
    "[e for e in g.edges if (f.endNode in e) and set([f.startNode, f.endNode])!=set(e)]"
   ]
  },
  {
   "cell_type": "code",
   "execution_count": 136,
   "id": "blank-profit",
   "metadata": {},
   "outputs": [
    {
     "data": {
      "text/plain": [
       "['idF13CE575-DFF8-445B-99A1-646928C2B7EA']"
      ]
     },
     "execution_count": 136,
     "metadata": {},
     "output_type": "execute_result"
    }
   ],
   "source": []
  },
  {
   "cell_type": "code",
   "execution_count": 133,
   "id": "conditional-armor",
   "metadata": {},
   "outputs": [
    {
     "data": {
      "text/plain": [
       "array([], dtype=object)"
      ]
     },
     "execution_count": 133,
     "metadata": {},
     "output_type": "execute_result"
    }
   ],
   "source": [
    "f.total_df.loc[(f.total_df.endNode==f.startNode) & (f.total_df.roads_id != f.id)].roads_id.unique()"
   ]
  },
  {
   "cell_type": "code",
   "execution_count": 134,
   "id": "competitive-figure",
   "metadata": {},
   "outputs": [
    {
     "data": {
      "text/plain": [
       "array(['idE036E86D-2D1E-4FD7-B3AE-9329939CF105'], dtype=object)"
      ]
     },
     "execution_count": 134,
     "metadata": {},
     "output_type": "execute_result"
    }
   ],
   "source": [
    "f.total_df.loc[(f.total_df.startNode==f.endNode) & (f.total_df.roads_id != f.id)].roads_id.unique()"
   ]
  },
  {
   "cell_type": "code",
   "execution_count": 135,
   "id": "pending-fifteen",
   "metadata": {},
   "outputs": [
    {
     "data": {
      "text/plain": [
       "array(['id61C945E6-DA6D-4D10-9F0F-42C3DD94D1DE'], dtype=object)"
      ]
     },
     "execution_count": 135,
     "metadata": {},
     "output_type": "execute_result"
    }
   ],
   "source": [
    "f.total_df.loc[(f.total_df.endNode==f.endNode) & (f.total_df.roads_id != f.id)].roads_id.unique()"
   ]
  },
  {
   "cell_type": "code",
   "execution_count": 122,
   "id": "innocent-mainstream",
   "metadata": {},
   "outputs": [
    {
     "data": {
      "text/plain": [
       "'idD4B0F712-3432-4CA8-B828-EA51F0092AFB'"
      ]
     },
     "execution_count": 122,
     "metadata": {},
     "output_type": "execute_result"
    }
   ],
   "source": [
    "f.id"
   ]
  },
  {
   "cell_type": "code",
   "execution_count": 160,
   "id": "cutting-reserve",
   "metadata": {},
   "outputs": [],
   "source": [
    "nodes = f.roads_df[['startNode','endNode']].values[0]"
   ]
  },
  {
   "cell_type": "code",
   "execution_count": 161,
   "id": "confused-extension",
   "metadata": {},
   "outputs": [
    {
     "data": {
      "text/plain": [
       "array(['idA7BEE2DD-E898-483B-981F-824B1B8A65FA',\n",
       "       'idF4CCC68C-CA63-4A60-9236-A33821124172'], dtype=object)"
      ]
     },
     "execution_count": 161,
     "metadata": {},
     "output_type": "execute_result"
    }
   ],
   "source": [
    "nodes"
   ]
  },
  {
   "cell_type": "code",
   "execution_count": 151,
   "id": "established-sandwich",
   "metadata": {},
   "outputs": [],
   "source": [
    "ebgd = nx.edge_betweenness_centrality(g)"
   ]
  },
  {
   "cell_type": "code",
   "execution_count": 176,
   "id": "dietary-beads",
   "metadata": {},
   "outputs": [],
   "source": [
    "df = pd.DataFrame(ebgd,index=['ebgd']).T.reset_index()"
   ]
  },
  {
   "cell_type": "code",
   "execution_count": 179,
   "id": "binary-harassment",
   "metadata": {},
   "outputs": [
    {
     "data": {
      "text/html": [
       "<div>\n",
       "<style scoped>\n",
       "    .dataframe tbody tr th:only-of-type {\n",
       "        vertical-align: middle;\n",
       "    }\n",
       "\n",
       "    .dataframe tbody tr th {\n",
       "        vertical-align: top;\n",
       "    }\n",
       "\n",
       "    .dataframe thead th {\n",
       "        text-align: right;\n",
       "    }\n",
       "</style>\n",
       "<table border=\"1\" class=\"dataframe\">\n",
       "  <thead>\n",
       "    <tr style=\"text-align: right;\">\n",
       "      <th></th>\n",
       "      <th>level_0</th>\n",
       "      <th>level_1</th>\n",
       "      <th>ebgd</th>\n",
       "    </tr>\n",
       "  </thead>\n",
       "  <tbody>\n",
       "    <tr>\n",
       "      <th>496</th>\n",
       "      <td>idA1591F9A-C73E-4812-AE6B-480A65FD71C8</td>\n",
       "      <td>idC5F60083-92A1-4E02-93FF-E1495B790B05</td>\n",
       "      <td>0.318111</td>\n",
       "    </tr>\n",
       "    <tr>\n",
       "      <th>696</th>\n",
       "      <td>idC5F60083-92A1-4E02-93FF-E1495B790B05</td>\n",
       "      <td>idC91A1CA4-BC46-4FAB-8C62-7A1B52CAD859</td>\n",
       "      <td>0.317946</td>\n",
       "    </tr>\n",
       "    <tr>\n",
       "      <th>697</th>\n",
       "      <td>idC91A1CA4-BC46-4FAB-8C62-7A1B52CAD859</td>\n",
       "      <td>id94B7E507-7757-4C26-AEB9-F8A5CE9B2CED</td>\n",
       "      <td>0.313245</td>\n",
       "    </tr>\n",
       "    <tr>\n",
       "      <th>817</th>\n",
       "      <td>id80AE426D-E03A-4F35-A3E1-24CE72D589E0</td>\n",
       "      <td>id8DF9C33D-5C6A-4132-84E7-FDFC3C7031F8</td>\n",
       "      <td>0.312204</td>\n",
       "    </tr>\n",
       "    <tr>\n",
       "      <th>816</th>\n",
       "      <td>id80AE426D-E03A-4F35-A3E1-24CE72D589E0</td>\n",
       "      <td>idDA89076F-9053-4580-BB23-27DED12588A8</td>\n",
       "      <td>0.307331</td>\n",
       "    </tr>\n",
       "    <tr>\n",
       "      <th>...</th>\n",
       "      <td>...</td>\n",
       "      <td>...</td>\n",
       "      <td>...</td>\n",
       "    </tr>\n",
       "    <tr>\n",
       "      <th>2145</th>\n",
       "      <td>id949B0466-8D6B-403A-9941-F8F37DF79272</td>\n",
       "      <td>id949B0466-8D6B-403A-9941-F8F37DF79272</td>\n",
       "      <td>0.000000</td>\n",
       "    </tr>\n",
       "    <tr>\n",
       "      <th>2058</th>\n",
       "      <td>id169DA425-6843-4233-B2CA-1FD264572D30</td>\n",
       "      <td>id169DA425-6843-4233-B2CA-1FD264572D30</td>\n",
       "      <td>0.000000</td>\n",
       "    </tr>\n",
       "    <tr>\n",
       "      <th>612</th>\n",
       "      <td>idDB7206D5-13DE-41D3-AA34-FBFFA8CC110A</td>\n",
       "      <td>idDB7206D5-13DE-41D3-AA34-FBFFA8CC110A</td>\n",
       "      <td>0.000000</td>\n",
       "    </tr>\n",
       "    <tr>\n",
       "      <th>669</th>\n",
       "      <td>idC819F70A-9497-47BF-9750-912388E3E5C1</td>\n",
       "      <td>idC819F70A-9497-47BF-9750-912388E3E5C1</td>\n",
       "      <td>0.000000</td>\n",
       "    </tr>\n",
       "    <tr>\n",
       "      <th>2273</th>\n",
       "      <td>id1BDD902B-27F9-4B05-BBCF-6E303BA0D183</td>\n",
       "      <td>id1BDD902B-27F9-4B05-BBCF-6E303BA0D183</td>\n",
       "      <td>0.000000</td>\n",
       "    </tr>\n",
       "  </tbody>\n",
       "</table>\n",
       "<p>2543 rows × 3 columns</p>\n",
       "</div>"
      ],
      "text/plain": [
       "                                     level_0  \\\n",
       "496   idA1591F9A-C73E-4812-AE6B-480A65FD71C8   \n",
       "696   idC5F60083-92A1-4E02-93FF-E1495B790B05   \n",
       "697   idC91A1CA4-BC46-4FAB-8C62-7A1B52CAD859   \n",
       "817   id80AE426D-E03A-4F35-A3E1-24CE72D589E0   \n",
       "816   id80AE426D-E03A-4F35-A3E1-24CE72D589E0   \n",
       "...                                      ...   \n",
       "2145  id949B0466-8D6B-403A-9941-F8F37DF79272   \n",
       "2058  id169DA425-6843-4233-B2CA-1FD264572D30   \n",
       "612   idDB7206D5-13DE-41D3-AA34-FBFFA8CC110A   \n",
       "669   idC819F70A-9497-47BF-9750-912388E3E5C1   \n",
       "2273  id1BDD902B-27F9-4B05-BBCF-6E303BA0D183   \n",
       "\n",
       "                                     level_1      ebgd  \n",
       "496   idC5F60083-92A1-4E02-93FF-E1495B790B05  0.318111  \n",
       "696   idC91A1CA4-BC46-4FAB-8C62-7A1B52CAD859  0.317946  \n",
       "697   id94B7E507-7757-4C26-AEB9-F8A5CE9B2CED  0.313245  \n",
       "817   id8DF9C33D-5C6A-4132-84E7-FDFC3C7031F8  0.312204  \n",
       "816   idDA89076F-9053-4580-BB23-27DED12588A8  0.307331  \n",
       "...                                      ...       ...  \n",
       "2145  id949B0466-8D6B-403A-9941-F8F37DF79272  0.000000  \n",
       "2058  id169DA425-6843-4233-B2CA-1FD264572D30  0.000000  \n",
       "612   idDB7206D5-13DE-41D3-AA34-FBFFA8CC110A  0.000000  \n",
       "669   idC819F70A-9497-47BF-9750-912388E3E5C1  0.000000  \n",
       "2273  id1BDD902B-27F9-4B05-BBCF-6E303BA0D183  0.000000  \n",
       "\n",
       "[2543 rows x 3 columns]"
      ]
     },
     "execution_count": 179,
     "metadata": {},
     "output_type": "execute_result"
    }
   ],
   "source": [
    "df.sort_values('ebgd', ascending=False)"
   ]
  }
 ],
 "metadata": {
  "kernelspec": {
   "display_name": "Python 3",
   "language": "python",
   "name": "python3"
  },
  "language_info": {
   "codemirror_mode": {
    "name": "ipython",
    "version": 3
   },
   "file_extension": ".py",
   "mimetype": "text/x-python",
   "name": "python",
   "nbconvert_exporter": "python",
   "pygments_lexer": "ipython3",
   "version": "3.8.8"
  }
 },
 "nbformat": 4,
 "nbformat_minor": 5
}
