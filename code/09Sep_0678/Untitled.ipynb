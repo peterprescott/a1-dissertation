{
 "cells": [
  {
   "cell_type": "code",
   "execution_count": 1,
   "id": "fatal-indicator",
   "metadata": {},
   "outputs": [
    {
     "name": "stdout",
     "output_type": "stream",
     "text": [
      "Initializing database connection...\n",
      "Database connected!\n"
     ]
    }
   ],
   "source": [
    "import time\n",
    "\n",
    "from multiprocessing import Pool\n",
    "\n",
    "import sys\n",
    "sys.path.append('..')\n",
    "\n",
    "import pandas as pd\n",
    "\n",
    "from nbhd import data\n",
    "from nbhd.geography import get_communities\n",
    "\n",
    "\n",
    "db = data.Base()"
   ]
  },
  {
   "cell_type": "code",
   "execution_count": 28,
   "id": "moral-hacker",
   "metadata": {},
   "outputs": [
    {
     "data": {
      "text/html": [
       "<div>\n",
       "<style scoped>\n",
       "    .dataframe tbody tr th:only-of-type {\n",
       "        vertical-align: middle;\n",
       "    }\n",
       "\n",
       "    .dataframe tbody tr th {\n",
       "        vertical-align: top;\n",
       "    }\n",
       "\n",
       "    .dataframe thead th {\n",
       "        text-align: right;\n",
       "    }\n",
       "</style>\n",
       "<table border=\"1\" class=\"dataframe\">\n",
       "  <thead>\n",
       "    <tr style=\"text-align: right;\">\n",
       "      <th></th>\n",
       "      <th>count</th>\n",
       "    </tr>\n",
       "  </thead>\n",
       "  <tbody>\n",
       "    <tr>\n",
       "      <th>0</th>\n",
       "      <td>38376</td>\n",
       "    </tr>\n",
       "  </tbody>\n",
       "</table>\n",
       "</div>"
      ],
      "text/plain": [
       "   count\n",
       "0  38376"
      ]
     },
     "execution_count": 28,
     "metadata": {},
     "output_type": "execute_result"
    }
   ],
   "source": [
    "db.query('SELECT COUNT( DISTINCT pixel) FROM faceblocks')"
   ]
  },
  {
   "cell_type": "code",
   "execution_count": null,
   "id": "russian-attention",
   "metadata": {},
   "outputs": [],
   "source": [
    "faceblocks"
   ]
  },
  {
   "cell_type": "code",
   "execution_count": 22,
   "id": "unlimited-broadcast",
   "metadata": {},
   "outputs": [
    {
     "name": "stdout",
     "output_type": "stream",
     "text": [
      "Initializing database connection...\n",
      "Database connected!\n"
     ]
    }
   ],
   "source": [
    "pixels = db.select('pixels')"
   ]
  },
  {
   "cell_type": "code",
   "execution_count": 20,
   "id": "recognized-layer",
   "metadata": {},
   "outputs": [
    {
     "data": {
      "text/html": [
       "<div>\n",
       "<style scoped>\n",
       "    .dataframe tbody tr th:only-of-type {\n",
       "        vertical-align: middle;\n",
       "    }\n",
       "\n",
       "    .dataframe tbody tr th {\n",
       "        vertical-align: top;\n",
       "    }\n",
       "\n",
       "    .dataframe thead th {\n",
       "        text-align: right;\n",
       "    }\n",
       "</style>\n",
       "<table border=\"1\" class=\"dataframe\">\n",
       "  <thead>\n",
       "    <tr style=\"text-align: right;\">\n",
       "      <th></th>\n",
       "      <th>count</th>\n",
       "    </tr>\n",
       "  </thead>\n",
       "  <tbody>\n",
       "    <tr>\n",
       "      <th>0</th>\n",
       "      <td>56849</td>\n",
       "    </tr>\n",
       "  </tbody>\n",
       "</table>\n",
       "</div>"
      ],
      "text/plain": [
       "   count\n",
       "0  56849"
      ]
     },
     "execution_count": 20,
     "metadata": {},
     "output_type": "execute_result"
    }
   ],
   "source": [
    "db.query('SELECT COUNT(*) FROM pixels')"
   ]
  },
  {
   "cell_type": "code",
   "execution_count": 4,
   "id": "posted-fault",
   "metadata": {},
   "outputs": [],
   "source": [
    "import time      "
   ]
  },
  {
   "cell_type": "code",
   "execution_count": 5,
   "id": "known-barbados",
   "metadata": {},
   "outputs": [
    {
     "data": {
      "text/plain": [
       "'Wed Sep 15 20:50:11 2021'"
      ]
     },
     "execution_count": 5,
     "metadata": {},
     "output_type": "execute_result"
    }
   ],
   "source": [
    "time.ctime()"
   ]
  },
  {
   "cell_type": "code",
   "execution_count": 24,
   "id": "based-generation",
   "metadata": {},
   "outputs": [
    {
     "data": {
      "text/plain": [
       "'Wed Sep 15 21:15:50 2021'"
      ]
     },
     "execution_count": 24,
     "metadata": {},
     "output_type": "execute_result"
    }
   ],
   "source": [
    "time.ctime()"
   ]
  },
  {
   "cell_type": "code",
   "execution_count": 23,
   "id": "korean-cradle",
   "metadata": {},
   "outputs": [],
   "source": [
    " \n",
    "def find_communities(pixel_row):\n",
    "    "
   ]
  },
  {
   "cell_type": "code",
   "execution_count": 24,
   "id": "retained-float",
   "metadata": {},
   "outputs": [],
   "source": [
    "pixel_row = pixels.values[10]"
   ]
  },
  {
   "cell_type": "code",
   "execution_count": 25,
   "id": "worthy-series",
   "metadata": {},
   "outputs": [
    {
     "name": "stdout",
     "output_type": "stream",
     "text": [
      "Finding communities for 137290\n",
      "Starting to find neighbourhoods in polygon centred at POINT (137000 29000)\n",
      "Collected 140 properties...\n",
      "... of which 91 are in buildings\n",
      "Getting streets...\n",
      "Snapping nodes...\n",
      "Finding connected graphs...\n",
      "Labelling communities.\n"
     ]
    },
    {
     "name": "stderr",
     "output_type": "stream",
     "text": [
      "<ipython-input-25-39e6bc7006ee>:7: SettingWithCopyWarning: \n",
      "A value is trying to be set on a copy of a slice from a DataFrame.\n",
      "Try using .loc[row_indexer,col_indexer] = value instead\n",
      "\n",
      "See the caveats in the documentation: https://pandas.pydata.org/pandas-docs/stable/user_guide/indexing.html#returning-a-view-versus-a-copy\n",
      "  pdf['pixel'] = pixel_row[1]\n",
      "<ipython-input-25-39e6bc7006ee>:8: SettingWithCopyWarning: \n",
      "A value is trying to be set on a copy of a slice from a DataFrame.\n",
      "Try using .loc[row_indexer,col_indexer] = value instead\n",
      "\n",
      "See the caveats in the documentation: https://pandas.pydata.org/pandas-docs/stable/user_guide/indexing.html#returning-a-view-versus-a-copy\n",
      "  pdf['community'] = pdf.pixel + '_' + pdf.community\n"
     ]
    }
   ],
   "source": [
    "    print(f'Finding communities for {pixel_row[1]}')\n",
    "    df, _ = get_communities(db, pixel_row[0])\n",
    "    pixel_roads = df.loc[~df.roads_id.duplicated()]\n",
    "    pixel_roads.columns\n",
    "    pdf = pixel_roads[['roads_id','community','street_counts',\n",
    "                       'street_length_per_uprn', 'footprint_area_per_uprn']]\n",
    "    pdf['pixel'] = pixel_row[1]\n",
    "    pdf['community'] = pdf.pixel + '_' + pdf.community\n",
    "    "
   ]
  },
  {
   "cell_type": "code",
   "execution_count": 26,
   "id": "bronze-precipitation",
   "metadata": {},
   "outputs": [
    {
     "data": {
      "text/plain": [
       "Index(['roads_id', 'community', 'street_counts', 'street_length_per_uprn',\n",
       "       'footprint_area_per_uprn', 'pixel'],\n",
       "      dtype='object')"
      ]
     },
     "execution_count": 26,
     "metadata": {},
     "output_type": "execute_result"
    }
   ],
   "source": [
    "pdf.columns"
   ]
  },
  {
   "cell_type": "code",
   "execution_count": 23,
   "id": "separated-jackson",
   "metadata": {},
   "outputs": [],
   "source": [
    "    pdf.columns = ['id', 'community', 'properties', \n",
    "                   'length_per_property', 'footprint_per_property', 'pixel']\n",
    "    pdf.to_sql('faceblocks', db.engine, if_exists='append',index=False)"
   ]
  },
  {
   "cell_type": "code",
   "execution_count": 31,
   "id": "respected-finland",
   "metadata": {},
   "outputs": [],
   "source": [
    "fb = db.query('SELECT * FROM faceblocks')"
   ]
  },
  {
   "cell_type": "code",
   "execution_count": 33,
   "id": "opposed-filling",
   "metadata": {},
   "outputs": [
    {
     "data": {
      "text/html": [
       "<div>\n",
       "<style scoped>\n",
       "    .dataframe tbody tr th:only-of-type {\n",
       "        vertical-align: middle;\n",
       "    }\n",
       "\n",
       "    .dataframe tbody tr th {\n",
       "        vertical-align: top;\n",
       "    }\n",
       "\n",
       "    .dataframe thead th {\n",
       "        text-align: right;\n",
       "    }\n",
       "</style>\n",
       "<table border=\"1\" class=\"dataframe\">\n",
       "  <thead>\n",
       "    <tr style=\"text-align: right;\">\n",
       "      <th></th>\n",
       "      <th>index</th>\n",
       "      <th>id</th>\n",
       "      <th>community</th>\n",
       "      <th>properties</th>\n",
       "      <th>length_per_property</th>\n",
       "      <th>footprint_per_property</th>\n",
       "      <th>pixel</th>\n",
       "      <th>time</th>\n",
       "    </tr>\n",
       "  </thead>\n",
       "  <tbody>\n",
       "    <tr>\n",
       "      <th>0</th>\n",
       "      <td>0</td>\n",
       "      <td>id50B6B97A-B02A-4073-8A75-489E6DDE655C</td>\n",
       "      <td>135250_01</td>\n",
       "      <td>2</td>\n",
       "      <td>2.0</td>\n",
       "      <td>2.0</td>\n",
       "      <td>135250</td>\n",
       "      <td>Wed Sep 15 20:51:07 2021</td>\n",
       "    </tr>\n",
       "  </tbody>\n",
       "</table>\n",
       "</div>"
      ],
      "text/plain": [
       "   index                                      id  community  properties  \\\n",
       "0      0  id50B6B97A-B02A-4073-8A75-489E6DDE655C  135250_01           2   \n",
       "\n",
       "   length_per_property  footprint_per_property   pixel  \\\n",
       "0                  2.0                     2.0  135250   \n",
       "\n",
       "                       time  \n",
       "0  Wed Sep 15 20:51:07 2021  "
      ]
     },
     "execution_count": 33,
     "metadata": {},
     "output_type": "execute_result"
    }
   ],
   "source": [
    "fb.head(1)"
   ]
  },
  {
   "cell_type": "code",
   "execution_count": 32,
   "id": "suited-supervision",
   "metadata": {},
   "outputs": [
    {
     "data": {
      "text/html": [
       "<div>\n",
       "<style scoped>\n",
       "    .dataframe tbody tr th:only-of-type {\n",
       "        vertical-align: middle;\n",
       "    }\n",
       "\n",
       "    .dataframe tbody tr th {\n",
       "        vertical-align: top;\n",
       "    }\n",
       "\n",
       "    .dataframe thead th {\n",
       "        text-align: right;\n",
       "    }\n",
       "</style>\n",
       "<table border=\"1\" class=\"dataframe\">\n",
       "  <thead>\n",
       "    <tr style=\"text-align: right;\">\n",
       "      <th></th>\n",
       "      <th>index</th>\n",
       "      <th>id</th>\n",
       "      <th>community</th>\n",
       "      <th>properties</th>\n",
       "      <th>length_per_property</th>\n",
       "      <th>footprint_per_property</th>\n",
       "      <th>pixel</th>\n",
       "      <th>time</th>\n",
       "    </tr>\n",
       "  </thead>\n",
       "  <tbody>\n",
       "    <tr>\n",
       "      <th>2369772</th>\n",
       "      <td>2369772</td>\n",
       "      <td>idEB2ADBE9-100C-4857-A849-D45DB96E14EB</td>\n",
       "      <td>541109_02</td>\n",
       "      <td>1</td>\n",
       "      <td>1.0</td>\n",
       "      <td>1.0</td>\n",
       "      <td>541109</td>\n",
       "      <td>Wed Sep 15 21:28:04 2021</td>\n",
       "    </tr>\n",
       "  </tbody>\n",
       "</table>\n",
       "</div>"
      ],
      "text/plain": [
       "           index                                      id  community  \\\n",
       "2369772  2369772  idEB2ADBE9-100C-4857-A849-D45DB96E14EB  541109_02   \n",
       "\n",
       "         properties  length_per_property  footprint_per_property   pixel  \\\n",
       "2369772           1                  1.0                     1.0  541109   \n",
       "\n",
       "                             time  \n",
       "2369772  Wed Sep 15 21:28:04 2021  "
      ]
     },
     "execution_count": 32,
     "metadata": {},
     "output_type": "execute_result"
    }
   ],
   "source": [
    "fb.iloc[-1:]"
   ]
  },
  {
   "cell_type": "code",
   "execution_count": 34,
   "id": "increased-chemistry",
   "metadata": {},
   "outputs": [
    {
     "data": {
      "text/plain": [
       "2369773"
      ]
     },
     "execution_count": 34,
     "metadata": {},
     "output_type": "execute_result"
    }
   ],
   "source": [
    "len(fb)"
   ]
  },
  {
   "cell_type": "code",
   "execution_count": null,
   "id": "constant-tackle",
   "metadata": {},
   "outputs": [],
   "source": [
    "if __name__=='__main__':\n",
    "    \n",
    "    with Pool(18) as p:\n",
    "        p.map(find_communities, pixels.values)"
   ]
  }
 ],
 "metadata": {
  "kernelspec": {
   "display_name": "Python 3",
   "language": "python",
   "name": "python3"
  },
  "language_info": {
   "codemirror_mode": {
    "name": "ipython",
    "version": 3
   },
   "file_extension": ".py",
   "mimetype": "text/x-python",
   "name": "python",
   "nbconvert_exporter": "python",
   "pygments_lexer": "ipython3",
   "version": "3.8.8"
  }
 },
 "nbformat": 4,
 "nbformat_minor": 5
}
