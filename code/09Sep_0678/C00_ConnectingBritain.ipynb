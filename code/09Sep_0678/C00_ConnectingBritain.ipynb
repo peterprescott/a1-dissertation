{
 "cells": [
  {
   "cell_type": "code",
   "execution_count": null,
   "id": "future-vancouver",
   "metadata": {},
   "outputs": [],
   "source": [
    "# graph theory and networks"
   ]
  },
  {
   "cell_type": "code",
   "execution_count": 1,
   "id": "comparable-orleans",
   "metadata": {},
   "outputs": [],
   "source": [
    "# face-blocks"
   ]
  },
  {
   "cell_type": "code",
   "execution_count": null,
   "id": "confused-bonus",
   "metadata": {},
   "outputs": [],
   "source": [
    "# t-communities"
   ]
  },
  {
   "cell_type": "code",
   "execution_count": null,
   "id": "adult-flavor",
   "metadata": {},
   "outputs": [],
   "source": [
    "# residential neighbourhoods"
   ]
  },
  {
   "cell_type": "code",
   "execution_count": null,
   "id": "brutal-reservation",
   "metadata": {},
   "outputs": [],
   "source": [
    "# need to snap nearby nodes"
   ]
  }
 ],
 "metadata": {
  "kernelspec": {
   "display_name": "Python 3",
   "language": "python",
   "name": "python3"
  },
  "language_info": {
   "codemirror_mode": {
    "name": "ipython",
    "version": 3
   },
   "file_extension": ".py",
   "mimetype": "text/x-python",
   "name": "python",
   "nbconvert_exporter": "python",
   "pygments_lexer": "ipython3",
   "version": "3.8.8"
  }
 },
 "nbformat": 4,
 "nbformat_minor": 5
}
