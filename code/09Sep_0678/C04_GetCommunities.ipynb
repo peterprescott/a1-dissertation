{
 "cells": [
  {
   "cell_type": "code",
   "execution_count": 1,
   "id": "fluid-oasis",
   "metadata": {},
   "outputs": [],
   "source": [
    "import sys\n",
    "sys.path.append('..')"
   ]
  },
  {
   "cell_type": "code",
   "execution_count": 2,
   "id": "interesting-opportunity",
   "metadata": {},
   "outputs": [],
   "source": [
    "from nbhd import data"
   ]
  },
  {
   "cell_type": "code",
   "execution_count": 3,
   "id": "vital-suspect",
   "metadata": {},
   "outputs": [
    {
     "name": "stdout",
     "output_type": "stream",
     "text": [
      "Initializing database connection...\n",
      "Database connected!\n"
     ]
    }
   ],
   "source": [
    "db = data.Base()"
   ]
  },
  {
   "cell_type": "code",
   "execution_count": 4,
   "id": "connected-cuisine",
   "metadata": {},
   "outputs": [],
   "source": [
    "from xy import xy"
   ]
  },
  {
   "cell_type": "code",
   "execution_count": 5,
   "id": "unusual-definition",
   "metadata": {},
   "outputs": [],
   "source": [
    "from shapely.geometry import Point"
   ]
  },
  {
   "cell_type": "code",
   "execution_count": 8,
   "id": "systematic-topic",
   "metadata": {},
   "outputs": [],
   "source": [
    "from nbhd.geometry import pointbox"
   ]
  },
  {
   "cell_type": "code",
   "execution_count": 11,
   "id": "eastern-penetration",
   "metadata": {},
   "outputs": [],
   "source": [
    "geom = pointbox(Point(xy),1000)"
   ]
  },
  {
   "cell_type": "code",
   "execution_count": 13,
   "id": "persistent-google",
   "metadata": {},
   "outputs": [
    {
     "ename": "NameError",
     "evalue": "name 'self' is not defined",
     "output_type": "error",
     "traceback": [
      "\u001b[0;31m---------------------------------------------------------------------------\u001b[0m",
      "\u001b[0;31mNameError\u001b[0m                                 Traceback (most recent call last)",
      "\u001b[0;32m<ipython-input-13-a9eb19b3fa26>\u001b[0m in \u001b[0;36m<module>\u001b[0;34m\u001b[0m\n\u001b[0;32m----> 1\u001b[0;31m \u001b[0mget_communities\u001b[0m\u001b[0;34m(\u001b[0m\u001b[0mdb\u001b[0m\u001b[0;34m,\u001b[0m \u001b[0mgeom\u001b[0m\u001b[0;34m)\u001b[0m\u001b[0;34m\u001b[0m\u001b[0;34m\u001b[0m\u001b[0m\n\u001b[0m",
      "\u001b[0;32m<ipython-input-12-f963e6841832>\u001b[0m in \u001b[0;36mget_communities\u001b[0;34m(db, geom, footprint_threshold, res_length_threshold, short_threshold, min_community_size, node_distance)\u001b[0m\n\u001b[1;32m      9\u001b[0m \u001b[0;34m\u001b[0m\u001b[0m\n\u001b[1;32m     10\u001b[0m     \u001b[0;31m# nearest roads ~ 'slimroads' is without motorways and secondary roads\u001b[0m\u001b[0;34m\u001b[0m\u001b[0;34m\u001b[0m\u001b[0;34m\u001b[0m\u001b[0m\n\u001b[0;32m---> 11\u001b[0;31m     nr_roads = self.db.nearest_neighbours('slimroads',\n\u001b[0m\u001b[1;32m     12\u001b[0m                                           self.geom.buffer(10))\n\u001b[1;32m     13\u001b[0m     \u001b[0;31m# nearest buildings\u001b[0m\u001b[0;34m\u001b[0m\u001b[0;34m\u001b[0m\u001b[0;34m\u001b[0m\u001b[0m\n",
      "\u001b[0;31mNameError\u001b[0m: name 'self' is not defined"
     ]
    }
   ],
   "source": [
    "get_communities(db, geom)"
   ]
  },
  {
   "cell_type": "code",
   "execution_count": null,
   "id": "healthy-phenomenon",
   "metadata": {},
   "outputs": [],
   "source": []
  },
  {
   "cell_type": "code",
   "execution_count": 12,
   "id": "baking-begin",
   "metadata": {},
   "outputs": [],
   "source": [
    "def get_communities(\n",
    "                    db,\n",
    "                    geom,\n",
    "                    footprint_threshold=250,\n",
    "                    res_length_threshold=20,\n",
    "                    short_threshold=20,\n",
    "                    min_community_size=0,\n",
    "                    node_distance=5):\n",
    "\n",
    "   # nearest roads ~ 'slimroads' is without motorways and secondary roads\n",
    "   # nearest buildings\n",
    "\n",
    "    # 1 eliminate non-building properties : distance to building must == 0\n",
    "    df1 = df.loc[df.dist_building == 0].copy()\n",
    "\n",
    "    # 2 eliminate non-residential buildings\n",
    "    building_counts = dict(df1.id_building.value_counts())\n",
    "    df1['building_counts'] = df1.id_building.apply(\n",
    "        lambda x: building_counts.get(x, 0))\n",
    "    df1['footprint_area'] = gpd.GeoSeries(df1.geometry_building).area\n",
    "    df1['footprint_area_per_uprn'] = df1.footprint_area / df1.building_counts\n",
    "    df1['residential_building'] = df1[\n",
    "        'footprint_area_per_uprn'] < footprint_threshold\n",
    "    df2 = df1.loc[df1.residential_building].copy()\n",
    "\n",
    "    # 3 establish whether roads are residential\n",
    "    street_counts = dict(df2.id_street.value_counts())\n",
    "    df2['street_counts'] = df2.id_street.apply(\n",
    "        lambda x: street_counts.get(x, 0))\n",
    "    df2['street_length_per_uprn'] = df2.length / df2.street_counts\n",
    "    df2['residential_street'] = df2.street_length_per_uprn < res_length_threshold\n",
    "    residential = dict(zip(df2.id_street, df2.residential_street))\n",
    "    df['residential'] = df.id_street.apply(\n",
    "        lambda x: residential.get(x, False))\n",
    "    df['short_street'] = df.length < short_threshold\n",
    "    df['res_or_short'] = df.residential | df.short_street\n",
    "    df3 = df.loc[df.res_or_short].copy()\n",
    "\n",
    "    # 4 treat nearby nodes as equivalent\n",
    "    translator = self.db.get_nearest_nodes_translator(\n",
    "        self.geom, node_distance)\n",
    "    edges = df3.loc[~df3.duplicated()].copy()\n",
    "    edges['translated_start'] = edges.startNode.apply(\n",
    "        lambda x: translator.get(x, x))\n",
    "    edges['translated_end'] = edges.endNode.apply(\n",
    "        lambda x: translator.get(x, x))\n",
    "\n",
    "    # 5 find connected networks of residential streets\n",
    "    g = nx.from_pandas_edgelist(edges, 'translated_start',\n",
    "                                'translated_end', True)\n",
    "    subgraphs = [g.subgraph(c) for c in nx.connected_components(g)]\n",
    "    sgs = [sg for sg in subgraphs if len(sg) > min_community_size]\n",
    "\n",
    "    # 6 add community labels\n",
    "    communities = dict()\n",
    "    for i in range(len(sgs)):\n",
    "        communities[str(i).zfill(2)] = list(\n",
    "            nx.get_edge_attributes(sgs[i], 'id_street').values())\n",
    "    communities_key = {\n",
    "        value: key\n",
    "        for key, value_list in communities.items() for value in value_list\n",
    "    }\n",
    "\n",
    "    df['community'] = df.id_street.apply(\n",
    "        lambda x: communities_key.get(x, None))\n",
    "    self.df = df\n",
    "    return"
   ]
  }
 ],
 "metadata": {
  "kernelspec": {
   "display_name": "Python 3",
   "language": "python",
   "name": "python3"
  },
  "language_info": {
   "codemirror_mode": {
    "name": "ipython",
    "version": 3
   },
   "file_extension": ".py",
   "mimetype": "text/x-python",
   "name": "python",
   "nbconvert_exporter": "python",
   "pygments_lexer": "ipython3",
   "version": "3.8.8"
  }
 },
 "nbformat": 4,
 "nbformat_minor": 5
}
