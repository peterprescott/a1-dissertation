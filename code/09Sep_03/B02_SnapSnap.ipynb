{
 "cells": [
  {
   "cell_type": "code",
   "execution_count": 1,
   "id": "hybrid-lesson",
   "metadata": {},
   "outputs": [],
   "source": [
    "import sys"
   ]
  },
  {
   "cell_type": "code",
   "execution_count": 2,
   "id": "frank-prague",
   "metadata": {},
   "outputs": [],
   "source": [
    "sys.path.append('..')"
   ]
  },
  {
   "cell_type": "code",
   "execution_count": 3,
   "id": "falling-design",
   "metadata": {},
   "outputs": [
    {
     "name": "stdout",
     "output_type": "stream",
     "text": [
      "Initializing database connection...\n",
      "Database connected!\n"
     ]
    }
   ],
   "source": [
    "from nbhd.data import Base"
   ]
  },
  {
   "cell_type": "code",
   "execution_count": 4,
   "id": "robust-direction",
   "metadata": {},
   "outputs": [],
   "source": [
    "db = Base()"
   ]
  },
  {
   "cell_type": "code",
   "execution_count": 5,
   "id": "occupied-happiness",
   "metadata": {},
   "outputs": [],
   "source": [
    "from nbhd.geography import Neighbourhood"
   ]
  },
  {
   "cell_type": "code",
   "execution_count": 6,
   "id": "broke-strategy",
   "metadata": {},
   "outputs": [
    {
     "name": "stdout",
     "output_type": "stream",
     "text": [
      "Getting data took 0 minutes, 0 seconds.\n"
     ]
    }
   ],
   "source": [
    "n = Neighbourhood()"
   ]
  },
  {
   "cell_type": "code",
   "execution_count": 7,
   "id": "controlling-boards",
   "metadata": {},
   "outputs": [],
   "source": [
    "nodes = db.contains('roadnodes', n.geom.buffer(1))"
   ]
  },
  {
   "cell_type": "code",
   "execution_count": 8,
   "id": "meaningful-ladder",
   "metadata": {},
   "outputs": [
    {
     "data": {
      "text/html": [
       "<div>\n",
       "<style scoped>\n",
       "    .dataframe tbody tr th:only-of-type {\n",
       "        vertical-align: middle;\n",
       "    }\n",
       "\n",
       "    .dataframe tbody tr th {\n",
       "        vertical-align: top;\n",
       "    }\n",
       "\n",
       "    .dataframe thead th {\n",
       "        text-align: right;\n",
       "    }\n",
       "</style>\n",
       "<table border=\"1\" class=\"dataframe\">\n",
       "  <thead>\n",
       "    <tr style=\"text-align: right;\">\n",
       "      <th></th>\n",
       "      <th>id</th>\n",
       "      <th>formOfRoadNode</th>\n",
       "      <th>geometry</th>\n",
       "    </tr>\n",
       "  </thead>\n",
       "  <tbody>\n",
       "    <tr>\n",
       "      <th>0</th>\n",
       "      <td>id68530677-2E47-44BB-A10B-566DE6482625</td>\n",
       "      <td>junction</td>\n",
       "      <td>POINT (338098.430 392219.370)</td>\n",
       "    </tr>\n",
       "    <tr>\n",
       "      <th>1</th>\n",
       "      <td>idF5FCEEFC-303C-4BB4-8F84-8D5609832989</td>\n",
       "      <td>junction</td>\n",
       "      <td>POINT (338311.530 392228.170)</td>\n",
       "    </tr>\n",
       "    <tr>\n",
       "      <th>2</th>\n",
       "      <td>idFF967B0D-238E-4D67-B7FF-1D91C701E0E7</td>\n",
       "      <td>junction</td>\n",
       "      <td>POINT (338123.080 392228.510)</td>\n",
       "    </tr>\n",
       "    <tr>\n",
       "      <th>3</th>\n",
       "      <td>idC31D2A2D-9AA1-4D00-832D-6920F475AFC4</td>\n",
       "      <td>road end</td>\n",
       "      <td>POINT (338171.330 392243.980)</td>\n",
       "    </tr>\n",
       "    <tr>\n",
       "      <th>4</th>\n",
       "      <td>id9461F97B-9558-401D-9EB6-F3BAE5D2E7B3</td>\n",
       "      <td>junction</td>\n",
       "      <td>POINT (338308.000 392248.000)</td>\n",
       "    </tr>\n",
       "    <tr>\n",
       "      <th>...</th>\n",
       "      <td>...</td>\n",
       "      <td>...</td>\n",
       "      <td>...</td>\n",
       "    </tr>\n",
       "    <tr>\n",
       "      <th>869</th>\n",
       "      <td>id25EF1D67-40B0-4996-8F5E-030BFAB93064</td>\n",
       "      <td>junction</td>\n",
       "      <td>POINT (336105.790 391232.860)</td>\n",
       "    </tr>\n",
       "    <tr>\n",
       "      <th>870</th>\n",
       "      <td>id7A74A693-FD9A-4DFC-B7D5-6C3C65263E4B</td>\n",
       "      <td>pseudo node</td>\n",
       "      <td>POINT (336142.000 391258.000)</td>\n",
       "    </tr>\n",
       "    <tr>\n",
       "      <th>871</th>\n",
       "      <td>id8C221D80-3FF5-496A-8D55-DA4AF9B46E94</td>\n",
       "      <td>junction</td>\n",
       "      <td>POINT (336145.760 391260.130)</td>\n",
       "    </tr>\n",
       "    <tr>\n",
       "      <th>872</th>\n",
       "      <td>id9CA636AA-AB4E-468C-B2C8-0959A45C90CD</td>\n",
       "      <td>junction</td>\n",
       "      <td>POINT (336157.550 391265.430)</td>\n",
       "    </tr>\n",
       "    <tr>\n",
       "      <th>873</th>\n",
       "      <td>id85BE7955-FA33-45AA-AD7D-56506B0B467A</td>\n",
       "      <td>junction</td>\n",
       "      <td>POINT (336193.000 391275.000)</td>\n",
       "    </tr>\n",
       "  </tbody>\n",
       "</table>\n",
       "<p>874 rows × 3 columns</p>\n",
       "</div>"
      ],
      "text/plain": [
       "                                         id formOfRoadNode  \\\n",
       "0    id68530677-2E47-44BB-A10B-566DE6482625       junction   \n",
       "1    idF5FCEEFC-303C-4BB4-8F84-8D5609832989       junction   \n",
       "2    idFF967B0D-238E-4D67-B7FF-1D91C701E0E7       junction   \n",
       "3    idC31D2A2D-9AA1-4D00-832D-6920F475AFC4       road end   \n",
       "4    id9461F97B-9558-401D-9EB6-F3BAE5D2E7B3       junction   \n",
       "..                                      ...            ...   \n",
       "869  id25EF1D67-40B0-4996-8F5E-030BFAB93064       junction   \n",
       "870  id7A74A693-FD9A-4DFC-B7D5-6C3C65263E4B    pseudo node   \n",
       "871  id8C221D80-3FF5-496A-8D55-DA4AF9B46E94       junction   \n",
       "872  id9CA636AA-AB4E-468C-B2C8-0959A45C90CD       junction   \n",
       "873  id85BE7955-FA33-45AA-AD7D-56506B0B467A       junction   \n",
       "\n",
       "                          geometry  \n",
       "0    POINT (338098.430 392219.370)  \n",
       "1    POINT (338311.530 392228.170)  \n",
       "2    POINT (338123.080 392228.510)  \n",
       "3    POINT (338171.330 392243.980)  \n",
       "4    POINT (338308.000 392248.000)  \n",
       "..                             ...  \n",
       "869  POINT (336105.790 391232.860)  \n",
       "870  POINT (336142.000 391258.000)  \n",
       "871  POINT (336145.760 391260.130)  \n",
       "872  POINT (336157.550 391265.430)  \n",
       "873  POINT (336193.000 391275.000)  \n",
       "\n",
       "[874 rows x 3 columns]"
      ]
     },
     "execution_count": 8,
     "metadata": {},
     "output_type": "execute_result"
    }
   ],
   "source": [
    "nodes"
   ]
  },
  {
   "cell_type": "code",
   "execution_count": 15,
   "id": "active-damage",
   "metadata": {},
   "outputs": [],
   "source": [
    "def get_nearest_nodes_translator(self, n, within):\n",
    "    nearest_nodes = self.nearest_same('roadnodes', n.geom.buffer(1), within)\n",
    "    nearest_nodes['pair'] = nearest_nodes.apply(lambda x: str(sorted([x.id_1, x.id_2])), axis=1)\n",
    "    translator = {eval(p)[0]: eval(p)[1] for p in nearest_nodes.pair.unique()}\n",
    "    return translator"
   ]
  },
  {
   "cell_type": "code",
   "execution_count": 21,
   "id": "prescribed-prerequisite",
   "metadata": {},
   "outputs": [
    {
     "data": {
      "text/plain": [
       "{'id5D0FD321-1F2F-4693-A6AF-ABC178417B20': 'idF310C6B7-9ABA-4A31-B8FA-A3BFB7F234BD',\n",
       " 'id351FC01C-F0ED-4EB6-A0AC-B619DB84764D': 'id3B168D76-0038-48AD-8B8D-4826B4059D3A',\n",
       " 'id8C822181-CE86-4899-9C12-CB11C2A79C6C': 'idF436F444-5206-4629-92CF-545D0EAECEE2',\n",
       " 'id5C3CAAE3-AF46-4729-8D9B-637FAB063124': 'idE59083AA-705D-4E22-9F17-72EBDDD0BEF9',\n",
       " 'id2BE46803-BB77-46D2-B298-9A5C94768D3B': 'id72876A6C-FE8A-4AE6-B8FF-D3681D2B32B5',\n",
       " 'id72876A6C-FE8A-4AE6-B8FF-D3681D2B32B5': 'idEC17A4CA-6C44-4D4B-B573-FFB58E056928',\n",
       " 'id40671172-587C-4782-AD62-565BFC686D56': 'idFCBEF29A-D351-4D07-BE37-BBDB7C3367B8',\n",
       " 'id410093E5-622B-484A-8F42-8119A0ED97C3': 'id709087E5-726A-4B18-951F-662EA7AACDDF',\n",
       " 'id00E195C3-6AE6-43B2-9D0C-30443BC97027': 'id60B2008D-04B5-4698-8775-4F6AE2323FBF',\n",
       " 'id25528043-6746-4DD4-A885-87EE5D272BB4': 'id46F2DFD6-1C10-4057-9C9D-31EE58F2EE49',\n",
       " 'idE7774614-170F-4665-9C69-3E995A7B26AF': 'idECD3A97E-E6B3-42F4-92B6-0AB9720B4E2A',\n",
       " 'id0B33FBAC-4D28-4AAF-9740-65853AFC6F1C': 'id6D918B7A-F448-4085-AA0A-A8023307790D',\n",
       " 'id3EB2BE2D-D431-4006-8885-2E071968F4F8': 'id53CDB6D5-06FD-4F45-A397-25EC77759AD1',\n",
       " 'id1CB7039F-61AE-4ED9-A56E-8511BEEDB912': 'id569646C5-546D-49DC-9A1B-B9DF0093B4FE',\n",
       " 'id037B07B6-B540-4892-A7A1-CD2594AC99B0': 'id3938663F-69B7-4B01-9D58-C2A295200E82',\n",
       " 'id76C7B51C-B6B9-4CEA-8105-9DD23B10B973': 'id7E904724-5294-4E15-AB1B-76F5ABC397C7',\n",
       " 'id40AF3D7D-A9F9-459B-B5F8-25C11138661A': 'id95A46689-90F6-49EF-B690-BDE4603DBA08',\n",
       " 'id0C518DE1-1488-4D5D-AACA-9C70B37E3F0A': 'idA28A4A2C-05A5-484F-87E2-4B2AB12BD1D5',\n",
       " 'id21A81E91-6878-4D6A-9E70-7558FD547C5C': 'idEF501A92-695D-412E-BCF2-FD0336823DE2',\n",
       " 'id5D488B5A-2FC5-4D63-953A-5196D170AFDF': 'idDFDD24B9-A701-42AD-AEDC-10853F592CD9',\n",
       " 'id6D60A71A-F131-4D67-9F81-55E2D41E35CA': 'idE4221387-5A40-4FBA-82D6-1A0F532D184A',\n",
       " 'id0E82D42D-4A4A-45E0-A80E-81D7D2939696': 'id2ED67116-2691-4E78-B595-5D75C591C64C',\n",
       " 'id06F39EC0-D3A7-4DDB-93C9-1A966118F154': 'idE4E8DCC9-2349-4A95-A264-75B1F8FC38DB',\n",
       " 'id7A4F1111-1848-4D53-907D-2DB180DC0A06': 'idF32E2613-ED7D-4639-894D-5705EDC14CBB',\n",
       " 'id0363F211-6B76-4D7D-AA98-32627837FF63': 'id4698A111-1569-483A-A037-14F988AC3958',\n",
       " 'id4B76C966-D2B8-4CB4-B609-D01119F34015': 'idC4ECF30C-DABA-4F64-BBF3-F41A5E2C7BD5',\n",
       " 'id836D0BA6-3A72-4B5E-AEE8-4FECBB99E10A': 'idCF8C356D-C75C-4D18-9CD6-5A525EBB926A',\n",
       " 'id2EB9398B-AF17-4B5A-B5FD-C97997F7E273': 'id7A3FB250-851E-419D-8DB3-168B1AAD6AA6',\n",
       " 'id8F8AB931-E511-47A8-8821-791956132A36': 'idC042F52E-1D72-4180-AEAD-12047187DD15',\n",
       " 'id6496A2E9-7EFC-4961-B389-8DB16633F6CF': 'idF22F5E70-698D-43B4-AC65-6B554B53186B',\n",
       " 'id4CAB1367-002A-4767-89F3-49C76C23EDA8': 'id8E76BF81-E597-4A61-8DBA-58E5965FF35B',\n",
       " 'id98F3F528-5B17-4C8D-B9F1-698C9470DFA1': 'idF3331A10-99D1-40A0-8479-3AFE893169B5',\n",
       " 'id04186EAB-51C3-4356-8681-CAE33CE9C094': 'id98F3F528-5B17-4C8D-B9F1-698C9470DFA1',\n",
       " 'id0DC31594-E5E0-40F4-875D-A3B1D9C1C875': 'id6E65B401-05E0-4A3F-B4AF-F160A9ED1823',\n",
       " 'id75224BB9-006A-4854-881A-AA3C3832DD81': 'idFC22653F-F97F-46D1-A88C-A3F8388D569D',\n",
       " 'id343BEA91-0DF1-4D18-A014-F0FD58C605E8': 'id6D8A0C11-792A-4372-8F0E-A8F3D05FC260',\n",
       " 'id5A85EB2E-6A90-4DE2-BD22-B4DAFF4F9951': 'id6D8A0C11-792A-4372-8F0E-A8F3D05FC260',\n",
       " 'id98FC895C-7516-4C66-B9C6-37D90509377D': 'idB959C628-755F-44CD-8509-CC4226A0F356',\n",
       " 'id1B209603-123B-4E5E-B90D-0BD4D3780715': 'id6612E765-FC5E-44C2-9919-1E980F14A3B9',\n",
       " 'id78AE883B-D68F-4D24-AFC2-783E55CC28E3': 'id95D8CD0F-B65A-4623-BAC2-482EC75732F9',\n",
       " 'id04198D91-DFBD-49E9-816D-F2D54FA19A96': 'id88F08210-3684-4F11-AEAD-2DDB0C10BADC',\n",
       " 'id39B0A1E6-B1E0-40C2-AB1A-E0E28DF770E1': 'idED4E02A2-46B6-4149-B24B-B52A5FF6150F',\n",
       " 'id1734674E-CBDF-4581-9BA4-B7F74811F6EE': 'idE281273F-0D58-4EB0-93F6-26944408704C',\n",
       " 'idC4468809-7820-4E32-9CF4-BAFAF7291F05': 'idFDCD0A09-025E-4494-AABA-584DC66B8D6C',\n",
       " 'id55ECB14A-7C09-49AE-81BD-22C7430945D4': 'idAD31AB7D-CE0C-4711-BC27-B9B0C6A0C757',\n",
       " 'id28B235BA-9B05-44B7-86A1-87D45D79302E': 'id444897F6-E043-4367-B425-413E672EFA8A',\n",
       " 'id9E1A0875-8DDE-4A9A-B354-823E53C5DF25': 'idB133D0AA-1D97-4459-A0B3-98CAD4A7281B',\n",
       " 'id103A879D-2835-4219-BC32-A9A974BDE4FE': 'id9921729D-5EFD-43B0-A3CC-FDF1E9A26D25',\n",
       " 'id04542312-F89F-4D48-A286-7F43664DB4D0': 'id5DA413C3-B58B-430F-BC0F-1221C9DF48E3',\n",
       " 'id24C141F6-BD19-4E91-8BEF-F196CA917A30': 'id31F3F2C9-DC03-462B-BED2-17187A7AA05C',\n",
       " 'id8152D6B0-CC6F-435E-B845-90B98134D04D': 'idCEC2BE88-21B4-4739-9887-9223669AAA6D',\n",
       " 'id45F668CF-08A7-4A0A-AC01-7456A2AA7B90': 'id4F49A091-77F6-446A-9295-749CC7886402',\n",
       " 'id7A74A693-FD9A-4DFC-B7D5-6C3C65263E4B': 'id8C221D80-3FF5-496A-8D55-DA4AF9B46E94'}"
      ]
     },
     "execution_count": 21,
     "metadata": {},
     "output_type": "execute_result"
    }
   ],
   "source": [
    "get_nearest_nodes_translator(db, n, 10)"
   ]
  }
 ],
 "metadata": {
  "kernelspec": {
   "display_name": "Python 3",
   "language": "python",
   "name": "python3"
  },
  "language_info": {
   "codemirror_mode": {
    "name": "ipython",
    "version": 3
   },
   "file_extension": ".py",
   "mimetype": "text/x-python",
   "name": "python",
   "nbconvert_exporter": "python",
   "pygments_lexer": "ipython3",
   "version": "3.8.8"
  }
 },
 "nbformat": 4,
 "nbformat_minor": 5
}
