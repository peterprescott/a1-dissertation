{
 "cells": [
  {
   "cell_type": "code",
   "execution_count": 1,
   "id": "nonprofit-trouble",
   "metadata": {},
   "outputs": [],
   "source": [
    "# problem when there are more than two closest nodes"
   ]
  },
  {
   "cell_type": "code",
   "execution_count": 2,
   "id": "authentic-reduction",
   "metadata": {},
   "outputs": [],
   "source": [
    "    def get_nearest_nodes_translator(self, polygon, within):\n",
    "        nearest_nodes = self.nearest_same('roadnodes', polygon.buffer(1), within)\n",
    "        nearest_nodes['pair'] = nearest_nodes.apply(lambda x: str(sorted([x.id_1, x.id_2])), axis=1)\n",
    "        translator = {eval(p)[0]: eval(p)[1] for p in nearest_nodes.pair.unique()}\n",
    "        return translator"
   ]
  },
  {
   "cell_type": "code",
   "execution_count": 4,
   "id": "transsexual-spare",
   "metadata": {},
   "outputs": [],
   "source": [
    "import sys\n",
    "sys.path.append('..')"
   ]
  },
  {
   "cell_type": "code",
   "execution_count": 5,
   "id": "known-daughter",
   "metadata": {},
   "outputs": [
    {
     "name": "stdout",
     "output_type": "stream",
     "text": [
      "Initializing database connection...\n",
      "Database connected!\n"
     ]
    }
   ],
   "source": [
    "from nbhd import data"
   ]
  },
  {
   "cell_type": "code",
   "execution_count": 6,
   "id": "divine-thong",
   "metadata": {},
   "outputs": [],
   "source": [
    "db = data.Base()"
   ]
  },
  {
   "cell_type": "code",
   "execution_count": 13,
   "id": "female-revolution",
   "metadata": {},
   "outputs": [],
   "source": [
    "import networkx as nx"
   ]
  },
  {
   "cell_type": "code",
   "execution_count": 7,
   "id": "raised-notice",
   "metadata": {},
   "outputs": [],
   "source": [
    "from shapely.geometry import Point"
   ]
  },
  {
   "cell_type": "code",
   "execution_count": 7,
   "id": "material-solution",
   "metadata": {},
   "outputs": [],
   "source": [
    "n = Point(338150, 392258)\n",
    "circle = n.buffer(200)"
   ]
  },
  {
   "cell_type": "code",
   "execution_count": 10,
   "id": "electric-keyboard",
   "metadata": {},
   "outputs": [],
   "source": [
    "polygon = circle\n",
    "within = 30"
   ]
  },
  {
   "cell_type": "code",
   "execution_count": 10,
   "id": "collectible-humanitarian",
   "metadata": {},
   "outputs": [],
   "source": [
    "nearest_nodes = db.nearest_same('roadnodes', polygon.buffer(1), within)"
   ]
  },
  {
   "cell_type": "code",
   "execution_count": 34,
   "id": "better-pierce",
   "metadata": {},
   "outputs": [],
   "source": [
    "g = nx.from_pandas_edgelist(nearest_nodes, 'id_1', 'id_2', True)\n",
    "subgraphs =[g.subgraph(c) for c in nx.connected_components(g)]\n",
    "translator = {n: list(g.nodes)[0] for g in subgraphs for n in g.nodes}"
   ]
  }
 ],
 "metadata": {
  "kernelspec": {
   "display_name": "Python 3",
   "language": "python",
   "name": "python3"
  },
  "language_info": {
   "codemirror_mode": {
    "name": "ipython",
    "version": 3
   },
   "file_extension": ".py",
   "mimetype": "text/x-python",
   "name": "python",
   "nbconvert_exporter": "python",
   "pygments_lexer": "ipython3",
   "version": "3.8.8"
  }
 },
 "nbformat": 4,
 "nbformat_minor": 5
}
