{
 "cells": [
  {
   "cell_type": "code",
   "execution_count": 1,
   "id": "jewish-vitamin",
   "metadata": {},
   "outputs": [],
   "source": [
    "import sys"
   ]
  },
  {
   "cell_type": "code",
   "execution_count": 2,
   "id": "advised-alloy",
   "metadata": {},
   "outputs": [],
   "source": [
    "sys.path.append('..')"
   ]
  },
  {
   "cell_type": "code",
   "execution_count": 3,
   "id": "serious-sunrise",
   "metadata": {},
   "outputs": [
    {
     "name": "stdout",
     "output_type": "stream",
     "text": [
      "Initializing database connection...\n",
      "Database connected!\n"
     ]
    }
   ],
   "source": [
    "from nbhd.data import Base"
   ]
  },
  {
   "cell_type": "code",
   "execution_count": 4,
   "id": "stainless-triangle",
   "metadata": {},
   "outputs": [],
   "source": [
    "db = Base()"
   ]
  },
  {
   "cell_type": "code",
   "execution_count": 5,
   "id": "formed-supplier",
   "metadata": {},
   "outputs": [],
   "source": [
    "import inspect"
   ]
  },
  {
   "cell_type": "code",
   "execution_count": 6,
   "id": "editorial-privacy",
   "metadata": {},
   "outputs": [],
   "source": [
    "src = inspect.getsource(db.nearest_neighbours)"
   ]
  },
  {
   "cell_type": "code",
   "execution_count": 7,
   "id": "sized-creature",
   "metadata": {},
   "outputs": [
    {
     "name": "stdout",
     "output_type": "stream",
     "text": [
      "    def nearest_neighbours(self, table, boundary_wkt):\n",
      "        sql = f'''\n",
      "        SELECT uprn.\"UPRN\",\n",
      "                uprn.geometry as uprn_geometry,\n",
      "                dbtable.*,\n",
      "               ST_Distance(dbtable.geometry, uprn.geometry) AS dist\n",
      "        FROM ({self._contains_query('openuprn', boundary_wkt)}) AS uprn\n",
      "        CROSS JOIN LATERAL (\n",
      "          SELECT dbtable.* \n",
      "          FROM ({self._contains_query(table, boundary_wkt)}) AS dbtable \n",
      "          ORDER BY dbtable.geometry <-> uprn.geometry\n",
      "          LIMIT 1\n",
      "        ) dbtable;\n",
      "        '''\n",
      "        return self.query(sql, spatial=True)\n",
      "\n"
     ]
    }
   ],
   "source": [
    "print(src)"
   ]
  },
  {
   "cell_type": "code",
   "execution_count": 8,
   "id": "duplicate-joyce",
   "metadata": {},
   "outputs": [],
   "source": [
    "def nearest_same(self, table, boundary_wkt, within):\n",
    "    wkt = self._contains_query(table, boundary_wkt)\n",
    "    sql = f'''\n",
    "    SELECT dbtable.id as id_1,\n",
    "            table1.id as id_2,\n",
    "    ST_Distance(dbtable.geometry, table1.geometry) AS dist\n",
    "    FROM ({wkt}) AS table1\n",
    "    CROSS JOIN LATERAL (\n",
    "      SELECT id, geometry\n",
    "      FROM ({wkt}) AS dbtable \n",
    "      WHERE ST_Distance(dbtable.geometry, table1.geometry) < {within} \n",
    "    ) AS dbtable\n",
    "    WHERE dbtable.id != table1.id\n",
    "    ;\n",
    "    \n",
    "    '''\n",
    "    return self.query(sql, spatial=False)"
   ]
  },
  {
   "cell_type": "code",
   "execution_count": 9,
   "id": "weekly-graph",
   "metadata": {},
   "outputs": [
    {
     "data": {
      "text/plain": [
       "['spatial_ref_sys',\n",
       " 'slimroads',\n",
       " 'opennames',\n",
       " 'openroads',\n",
       " 'openmaplocal',\n",
       " 'openuprn',\n",
       " 'railways',\n",
       " 'rivers',\n",
       " 'coastline',\n",
       " 'roadnodes',\n",
       " 'bigtilesa']"
      ]
     },
     "execution_count": 9,
     "metadata": {},
     "output_type": "execute_result"
    }
   ],
   "source": [
    "db.ls()"
   ]
  },
  {
   "cell_type": "code",
   "execution_count": 16,
   "id": "touched-numbers",
   "metadata": {},
   "outputs": [],
   "source": [
    "import pandas as pd"
   ]
  },
  {
   "cell_type": "code",
   "execution_count": 10,
   "id": "brief-yacht",
   "metadata": {},
   "outputs": [],
   "source": [
    "from nbhd.geography import Neighbourhood"
   ]
  },
  {
   "cell_type": "code",
   "execution_count": 11,
   "id": "occasional-government",
   "metadata": {},
   "outputs": [
    {
     "name": "stdout",
     "output_type": "stream",
     "text": [
      "Getting data took 0 minutes, 0 seconds.\n"
     ]
    }
   ],
   "source": [
    "n = Neighbourhood()"
   ]
  },
  {
   "cell_type": "code",
   "execution_count": 12,
   "id": "parallel-papua",
   "metadata": {},
   "outputs": [],
   "source": [
    "nearest_nodes = nearest_same(db, 'roadnodes', n.geom.buffer(1), 10)"
   ]
  },
  {
   "cell_type": "code",
   "execution_count": 14,
   "id": "narrow-eligibility",
   "metadata": {},
   "outputs": [],
   "source": [
    "df = nearest_nodes[['id_1','id_2', 'dist']]"
   ]
  },
  {
   "cell_type": "code",
   "execution_count": 15,
   "id": "increased-breach",
   "metadata": {},
   "outputs": [],
   "source": [
    "df['pair'] = df.apply(lambda x: str(sorted([x.id_1, x.id_2])), axis=1)"
   ]
  },
  {
   "cell_type": "code",
   "execution_count": 17,
   "id": "generic-retreat",
   "metadata": {},
   "outputs": [],
   "source": [
    "translate = {eval(p)[0]: eval(p)[1] for p in df.pair.unique()}"
   ]
  },
  {
   "cell_type": "code",
   "execution_count": 18,
   "id": "responsible-exchange",
   "metadata": {},
   "outputs": [],
   "source": [
    "nodes = db.contains('roadnodes', n.geom.buffer(1))"
   ]
  },
  {
   "cell_type": "code",
   "execution_count": 19,
   "id": "agreed-detective",
   "metadata": {},
   "outputs": [],
   "source": [
    "nodes['snapped'] = nodes.id.apply(lambda x: translate.get(x, x))"
   ]
  }
 ],
 "metadata": {
  "kernelspec": {
   "display_name": "Python 3",
   "language": "python",
   "name": "python3"
  },
  "language_info": {
   "codemirror_mode": {
    "name": "ipython",
    "version": 3
   },
   "file_extension": ".py",
   "mimetype": "text/x-python",
   "name": "python",
   "nbconvert_exporter": "python",
   "pygments_lexer": "ipython3",
   "version": "3.8.8"
  }
 },
 "nbformat": 4,
 "nbformat_minor": 5
}
