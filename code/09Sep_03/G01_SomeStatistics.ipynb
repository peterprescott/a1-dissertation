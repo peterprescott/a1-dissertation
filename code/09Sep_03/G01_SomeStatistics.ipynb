{
 "cells": [
  {
   "cell_type": "code",
   "execution_count": 1,
   "id": "premier-overview",
   "metadata": {},
   "outputs": [],
   "source": [
    "import pandas as pd"
   ]
  },
  {
   "cell_type": "code",
   "execution_count": 9,
   "id": "beneficial-soldier",
   "metadata": {},
   "outputs": [],
   "source": [
    "df = pd.read_csv('tile_df.csv')"
   ]
  },
  {
   "cell_type": "code",
   "execution_count": 11,
   "id": "strong-candidate",
   "metadata": {},
   "outputs": [
    {
     "data": {
      "text/plain": [
       "Index(['UPRN', 'uprn_geometry', 'id_building', 'featureCode',\n",
       "       'geometry_building', 'dist_building', 'id_street', 'endNode',\n",
       "       'startNode', 'roadNumberTOID', 'roadNameTOID', 'fictitious',\n",
       "       'roadClassification', 'roadFunction', 'formOfWay', 'length',\n",
       "       'length_uom', 'loop', 'primaryRoute', 'trunkRoad',\n",
       "       'roadClassificationNumber', 'name1', 'name1_lang', 'name2',\n",
       "       'name2_lang', 'roadStructure', 'geometry_street', 'dist_street',\n",
       "       'residential', 'short_street', 'res_or_short', 'community'],\n",
       "      dtype='object')"
      ]
     },
     "execution_count": 11,
     "metadata": {},
     "output_type": "execute_result"
    }
   ],
   "source": [
    "df.columns"
   ]
  },
  {
   "cell_type": "code",
   "execution_count": 15,
   "id": "abroad-gross",
   "metadata": {},
   "outputs": [
    {
     "data": {
      "text/plain": [
       "15163"
      ]
     },
     "execution_count": 15,
     "metadata": {},
     "output_type": "execute_result"
    }
   ],
   "source": [
    "len(df)"
   ]
  },
  {
   "cell_type": "code",
   "execution_count": 16,
   "id": "neutral-skirt",
   "metadata": {},
   "outputs": [
    {
     "data": {
      "text/plain": [
       "15163"
      ]
     },
     "execution_count": 16,
     "metadata": {},
     "output_type": "execute_result"
    }
   ],
   "source": [
    "len(df.UPRN.unique())"
   ]
  },
  {
   "cell_type": "code",
   "execution_count": 17,
   "id": "olive-fossil",
   "metadata": {},
   "outputs": [
    {
     "data": {
      "text/plain": [
       "38000001"
      ]
     },
     "execution_count": 17,
     "metadata": {},
     "output_type": "execute_result"
    }
   ],
   "source": [
    "df.UPRN[0]"
   ]
  },
  {
   "cell_type": "code",
   "execution_count": 14,
   "id": "theoretical-interview",
   "metadata": {},
   "outputs": [],
   "source": [
    "# this is a dataframe for all the UPRN within the tile (buffered by 1, cf. nbhd.geography.Neighbourhood.get_communities())"
   ]
  },
  {
   "cell_type": "code",
   "execution_count": 18,
   "id": "informative-combination",
   "metadata": {},
   "outputs": [
    {
     "data": {
      "text/plain": [
       "'0101000020346C0000000000003CB81441000000003CE91741'"
      ]
     },
     "execution_count": 18,
     "metadata": {},
     "output_type": "execute_result"
    }
   ],
   "source": [
    "df.uprn_geometry[0]"
   ]
  },
  {
   "cell_type": "code",
   "execution_count": 19,
   "id": "presidential-blond",
   "metadata": {},
   "outputs": [],
   "source": [
    "# geometry is in 'well-known binary' because of how I handled it in the initial import"
   ]
  },
  {
   "cell_type": "code",
   "execution_count": 20,
   "id": "ordinary-bouquet",
   "metadata": {},
   "outputs": [],
   "source": [
    "from shapely.geometry import Point"
   ]
  },
  {
   "cell_type": "code",
   "execution_count": 21,
   "id": "broad-gauge",
   "metadata": {},
   "outputs": [],
   "source": [
    "import geopandas as gpd"
   ]
  },
  {
   "cell_type": "code",
   "execution_count": 24,
   "id": "labeled-wings",
   "metadata": {},
   "outputs": [
    {
     "data": {
      "text/plain": [
       "0        POINT (339471.000 391759.000)\n",
       "1        POINT (339474.000 391753.000)\n",
       "2        POINT (339474.000 391748.000)\n",
       "3        POINT (339475.000 391742.000)\n",
       "4        POINT (339475.000 391736.000)\n",
       "                     ...              \n",
       "15158    POINT (339717.000 391662.000)\n",
       "15159    POINT (339733.000 391630.000)\n",
       "15160    POINT (339722.000 391662.000)\n",
       "15161    POINT (339729.000 391661.000)\n",
       "15162    POINT (339742.000 391663.000)\n",
       "Length: 15163, dtype: geometry"
      ]
     },
     "execution_count": 24,
     "metadata": {},
     "output_type": "execute_result"
    }
   ],
   "source": [
    "gpd.GeoSeries.from_wkb(df.uprn_geometry) # turn it from wkb to shapely Points (in a gpd.GeoSeries)"
   ]
  },
  {
   "cell_type": "code",
   "execution_count": 48,
   "id": "intermediate-atmosphere",
   "metadata": {},
   "outputs": [
    {
     "data": {
      "text/plain": [
       "0        id339E7AF1-7293-4A9B-869D-E784D13C829F\n",
       "1        id339E7AF1-7293-4A9B-869D-E784D13C829F\n",
       "2        id339E7AF1-7293-4A9B-869D-E784D13C829F\n",
       "3        id339E7AF1-7293-4A9B-869D-E784D13C829F\n",
       "4        id339E7AF1-7293-4A9B-869D-E784D13C829F\n",
       "                          ...                  \n",
       "15158    id09CC6713-6ADD-450C-9CCE-D785D3B9E75D\n",
       "15159    id2193B695-AF2D-44A8-9C8B-783744458EDE\n",
       "15160    id09CC6713-6ADD-450C-9CCE-D785D3B9E75D\n",
       "15161    id09CC6713-6ADD-450C-9CCE-D785D3B9E75D\n",
       "15162    id262675BA-F266-4E2A-B6DC-86BF950E4585\n",
       "Name: id_building, Length: 15163, dtype: object"
      ]
     },
     "execution_count": 48,
     "metadata": {},
     "output_type": "execute_result"
    }
   ],
   "source": [
    "df.id_building"
   ]
  },
  {
   "cell_type": "code",
   "execution_count": 54,
   "id": "charitable-kingdom",
   "metadata": {},
   "outputs": [
    {
     "data": {
      "text/plain": [
       "1877"
      ]
     },
     "execution_count": 54,
     "metadata": {},
     "output_type": "execute_result"
    }
   ],
   "source": [
    "unique_buildings = df.id_building.unique()\n",
    "len(unique_buildings)"
   ]
  },
  {
   "cell_type": "code",
   "execution_count": 26,
   "id": "weighted-filing",
   "metadata": {},
   "outputs": [],
   "source": [
    "# this is the nearest building for each UPRN, they overlap inefficiently, as the same building may be nearest to multiple UPRN"
   ]
  },
  {
   "cell_type": "code",
   "execution_count": 30,
   "id": "resident-impact",
   "metadata": {},
   "outputs": [
    {
     "data": {
      "text/plain": [
       "array([15014])"
      ]
     },
     "execution_count": 30,
     "metadata": {},
     "output_type": "execute_result"
    }
   ],
   "source": [
    "df.featureCode.unique() # this is an Ordnance Survey thing, it means nothing to me"
   ]
  },
  {
   "cell_type": "code",
   "execution_count": 32,
   "id": "nervous-airport",
   "metadata": {},
   "outputs": [
    {
     "data": {
      "text/plain": [
       "0        POLYGON ((339479.68 391722.29, 339476.27 39176...\n",
       "1        POLYGON ((339479.68 391722.29, 339476.27 39176...\n",
       "2        POLYGON ((339479.68 391722.29, 339476.27 39176...\n",
       "3        POLYGON ((339479.68 391722.29, 339476.27 39176...\n",
       "4        POLYGON ((339479.68 391722.29, 339476.27 39176...\n",
       "                               ...                        \n",
       "15158    POLYGON ((339697.48 391671.5, 339696.19 391661...\n",
       "15159    POLYGON ((339696.19 391639.41, 339694.93 39162...\n",
       "15160    POLYGON ((339697.48 391671.5, 339696.19 391661...\n",
       "15161    POLYGON ((339697.48 391671.5, 339696.19 391661...\n",
       "15162    POLYGON ((339749.65 391665.91, 339743.38 39167...\n",
       "Name: geometry_building, Length: 15163, dtype: object"
      ]
     },
     "execution_count": 32,
     "metadata": {},
     "output_type": "execute_result"
    }
   ],
   "source": [
    "df.geometry_building # these are the nearest building polygons"
   ]
  },
  {
   "cell_type": "code",
   "execution_count": 34,
   "id": "cardiovascular-night",
   "metadata": {},
   "outputs": [
    {
     "data": {
      "text/plain": [
       "'POLYGON ((339479.68 391722.29, 339476.27 391762.39, 339465.88 391761.51, 339469.29 391721.41, 339479.68 391722.29))'"
      ]
     },
     "execution_count": 34,
     "metadata": {},
     "output_type": "execute_result"
    }
   ],
   "source": [
    "df.geometry_building[0] # actually they are text strings"
   ]
  },
  {
   "cell_type": "code",
   "execution_count": 103,
   "id": "exciting-shepherd",
   "metadata": {},
   "outputs": [],
   "source": [
    "df['load_bdg_geometry'] = gpd.GeoSeries.from_wkt(df.geometry_building) # transform them from 'well-known text'"
   ]
  },
  {
   "cell_type": "code",
   "execution_count": 37,
   "id": "cardiovascular-december",
   "metadata": {},
   "outputs": [
    {
     "data": {
      "text/plain": [
       "0        0.0\n",
       "1        0.0\n",
       "2        0.0\n",
       "3        0.0\n",
       "4        0.0\n",
       "        ... \n",
       "15158    0.0\n",
       "15159    0.0\n",
       "15160    0.0\n",
       "15161    0.0\n",
       "15162    0.0\n",
       "Name: dist_building, Length: 15163, dtype: float64"
      ]
     },
     "execution_count": 37,
     "metadata": {},
     "output_type": "execute_result"
    }
   ],
   "source": [
    "df.dist_building # distance between UPRN and building"
   ]
  },
  {
   "cell_type": "code",
   "execution_count": 39,
   "id": "eligible-kazakhstan",
   "metadata": {},
   "outputs": [
    {
     "data": {
      "text/plain": [
       "<AxesSubplot:ylabel='Density'>"
      ]
     },
     "execution_count": 39,
     "metadata": {},
     "output_type": "execute_result"
    },
    {
     "data": {
      "image/png": "[encoded data removed]",
      "text/plain": [
       "<Figure size 432x288 with 1 Axes>"
      ]
     },
     "metadata": {
      "needs_background": "light"
     },
     "output_type": "display_data"
    }
   ],
   "source": [
    "df.dist_building.plot.kde()"
   ]
  },
  {
   "cell_type": "code",
   "execution_count": 42,
   "id": "determined-developer",
   "metadata": {},
   "outputs": [
    {
     "data": {
      "text/plain": [
       "<AxesSubplot:ylabel='Density'>"
      ]
     },
     "execution_count": 42,
     "metadata": {},
     "output_type": "execute_result"
    },
    {
     "data": {
      "image/png": "[encoded data removed]",
      "text/plain": [
       "<Figure size 432x288 with 1 Axes>"
      ]
     },
     "metadata": {
      "needs_background": "light"
     },
     "output_type": "display_data"
    }
   ],
   "source": [
    "df.loc[df.dist_building>0].dist_building.plot.kde()"
   ]
  },
  {
   "cell_type": "code",
   "execution_count": 38,
   "id": "suited-reading",
   "metadata": {},
   "outputs": [],
   "source": [
    "# more interesting is whether points are in buildings or represent other sorts of property"
   ]
  },
  {
   "cell_type": "code",
   "execution_count": 44,
   "id": "incredible-pressing",
   "metadata": {},
   "outputs": [
    {
     "data": {
      "text/plain": [
       "14154"
      ]
     },
     "execution_count": 44,
     "metadata": {},
     "output_type": "execute_result"
    }
   ],
   "source": [
    "len(df.loc[df.dist_building==0])"
   ]
  },
  {
   "cell_type": "code",
   "execution_count": 47,
   "id": "treated-restriction",
   "metadata": {},
   "outputs": [
    {
     "data": {
      "text/plain": [
       "93.3456440018466"
      ]
     },
     "execution_count": 47,
     "metadata": {},
     "output_type": "execute_result"
    }
   ],
   "source": [
    "len(df.loc[df.dist_building==0])/len(df)*100"
   ]
  },
  {
   "cell_type": "code",
   "execution_count": 52,
   "id": "electric-timing",
   "metadata": {},
   "outputs": [],
   "source": [
    "bdg_uprn = df.loc[df.dist_building==0]\n"
   ]
  },
  {
   "cell_type": "code",
   "execution_count": 55,
   "id": "initial-snapshot",
   "metadata": {},
   "outputs": [
    {
     "data": {
      "text/plain": [
       "7.54075652637187"
      ]
     },
     "execution_count": 55,
     "metadata": {},
     "output_type": "execute_result"
    }
   ],
   "source": [
    "len(bdg_uprn)/len(unique_buildings) # initial average density"
   ]
  },
  {
   "cell_type": "code",
   "execution_count": 59,
   "id": "charitable-tribe",
   "metadata": {},
   "outputs": [
    {
     "data": {
      "text/plain": [
       "id67370B36-5C8B-46FE-A027-52BAD79D429B    155\n",
       "id66CDA0DB-2674-4ACB-AFF8-2741AD098785    122\n",
       "id0F7CB75A-81FE-44D9-828A-7919C539E38E    111\n",
       "idE0D4DC46-5799-4A83-9D29-D1984D5028A9     93\n",
       "id6E3A121B-141F-4153-8A7E-183F8606A7F2     83\n",
       "id0CEE409E-E39E-40FB-9319-111E7594E1D9     82\n",
       "id80DB090A-9EC3-407B-AF69-EC58530AD263     76\n",
       "id0578CE3C-9CE1-4DE3-965F-F8599CF0F5A5     71\n",
       "idFF9368AE-4E30-4E41-ABA5-EF9D904EEC2D     66\n",
       "id9A06A6AC-06E4-4EE7-934B-A48DBD71AA24     61\n",
       "idDC555441-DF28-47E3-958D-F8C1F95A87C6     60\n",
       "idFA3A3E4B-3570-4D30-987A-BCA90F17C00E     56\n",
       "id146F95AF-133C-4C95-8E50-B7B5A42CD174     54\n",
       "id2C56D243-E810-4396-BF04-1BD0616BA389     53\n",
       "id7DECA824-1C90-4F9E-9036-C6CF042F4E45     53\n",
       "id0F79EB87-7A7D-4E9A-A044-193A52EE9D2B     52\n",
       "id9E39817A-4402-4AAB-93C0-C4D5E2883BEF     52\n",
       "id22F96986-8AC7-4041-8712-9F94B97F8871     52\n",
       "idD3531510-871B-4054-84B2-64216B295801     51\n",
       "id0302249F-0C5B-488C-A9B9-01776582E8BE     51\n",
       "Name: id_building, dtype: int64"
      ]
     },
     "execution_count": 59,
     "metadata": {},
     "output_type": "execute_result"
    }
   ],
   "source": [
    "df.id_building.value_counts().head(20) # but we can be specific"
   ]
  },
  {
   "cell_type": "code",
   "execution_count": 64,
   "id": "tested-melissa",
   "metadata": {},
   "outputs": [],
   "source": [
    "building_counts = pd.DataFrame(df.id_building.value_counts())"
   ]
  },
  {
   "cell_type": "code",
   "execution_count": 68,
   "id": "mature-deputy",
   "metadata": {},
   "outputs": [
    {
     "data": {
      "text/html": [
       "<div>\n",
       "<style scoped>\n",
       "    .dataframe tbody tr th:only-of-type {\n",
       "        vertical-align: middle;\n",
       "    }\n",
       "\n",
       "    .dataframe tbody tr th {\n",
       "        vertical-align: top;\n",
       "    }\n",
       "\n",
       "    .dataframe thead th {\n",
       "        text-align: right;\n",
       "    }\n",
       "</style>\n",
       "<table border=\"1\" class=\"dataframe\">\n",
       "  <thead>\n",
       "    <tr style=\"text-align: right;\">\n",
       "      <th></th>\n",
       "      <th>id_building</th>\n",
       "    </tr>\n",
       "  </thead>\n",
       "  <tbody>\n",
       "  </tbody>\n",
       "</table>\n",
       "</div>"
      ],
      "text/plain": [
       "Empty DataFrame\n",
       "Columns: [id_building]\n",
       "Index: []"
      ]
     },
     "execution_count": 68,
     "metadata": {},
     "output_type": "execute_result"
    }
   ],
   "source": [
    "building_counts.loc[building_counts['id_building']==0] \n",
    "# because we got these through nearest neighbours, if they're not nearest to a point they don't feature in the analysis"
   ]
  },
  {
   "cell_type": "code",
   "execution_count": 71,
   "id": "iraqi-people",
   "metadata": {},
   "outputs": [
    {
     "data": {
      "text/html": [
       "<div>\n",
       "<style scoped>\n",
       "    .dataframe tbody tr th:only-of-type {\n",
       "        vertical-align: middle;\n",
       "    }\n",
       "\n",
       "    .dataframe tbody tr th {\n",
       "        vertical-align: top;\n",
       "    }\n",
       "\n",
       "    .dataframe thead th {\n",
       "        text-align: right;\n",
       "    }\n",
       "</style>\n",
       "<table border=\"1\" class=\"dataframe\">\n",
       "  <thead>\n",
       "    <tr style=\"text-align: right;\">\n",
       "      <th></th>\n",
       "      <th>id_building</th>\n",
       "    </tr>\n",
       "  </thead>\n",
       "  <tbody>\n",
       "    <tr>\n",
       "      <th>id1E65B54B-F527-4CB6-BDD6-AA604C3C47E0</th>\n",
       "      <td>1</td>\n",
       "    </tr>\n",
       "    <tr>\n",
       "      <th>idE7A103E6-E125-4754-B5CC-29B524A9E4E1</th>\n",
       "      <td>1</td>\n",
       "    </tr>\n",
       "    <tr>\n",
       "      <th>id088DE225-6B99-45F6-A95A-202330D8082F</th>\n",
       "      <td>1</td>\n",
       "    </tr>\n",
       "    <tr>\n",
       "      <th>idE0AF6A78-C979-4842-8A41-58614CE81FF9</th>\n",
       "      <td>1</td>\n",
       "    </tr>\n",
       "    <tr>\n",
       "      <th>id5C6D0608-D1B3-4083-8BDF-27D29105978A</th>\n",
       "      <td>1</td>\n",
       "    </tr>\n",
       "    <tr>\n",
       "      <th>...</th>\n",
       "      <td>...</td>\n",
       "    </tr>\n",
       "    <tr>\n",
       "      <th>idFB36848B-DB3D-48ED-A4F0-129073ABAEBA</th>\n",
       "      <td>1</td>\n",
       "    </tr>\n",
       "    <tr>\n",
       "      <th>id12353017-13BC-4AA3-BDB9-611A029AB2E6</th>\n",
       "      <td>1</td>\n",
       "    </tr>\n",
       "    <tr>\n",
       "      <th>id2046E700-3278-474F-A29A-4D8294D4B3D7</th>\n",
       "      <td>1</td>\n",
       "    </tr>\n",
       "    <tr>\n",
       "      <th>id3034DD89-EEDF-4E0C-ABFC-E6D0B7389CEE</th>\n",
       "      <td>1</td>\n",
       "    </tr>\n",
       "    <tr>\n",
       "      <th>idEDE23348-BD36-45C6-B37A-9D755B3334EB</th>\n",
       "      <td>1</td>\n",
       "    </tr>\n",
       "  </tbody>\n",
       "</table>\n",
       "<p>128 rows × 1 columns</p>\n",
       "</div>"
      ],
      "text/plain": [
       "                                        id_building\n",
       "id1E65B54B-F527-4CB6-BDD6-AA604C3C47E0            1\n",
       "idE7A103E6-E125-4754-B5CC-29B524A9E4E1            1\n",
       "id088DE225-6B99-45F6-A95A-202330D8082F            1\n",
       "idE0AF6A78-C979-4842-8A41-58614CE81FF9            1\n",
       "id5C6D0608-D1B3-4083-8BDF-27D29105978A            1\n",
       "...                                             ...\n",
       "idFB36848B-DB3D-48ED-A4F0-129073ABAEBA            1\n",
       "id12353017-13BC-4AA3-BDB9-611A029AB2E6            1\n",
       "id2046E700-3278-474F-A29A-4D8294D4B3D7            1\n",
       "id3034DD89-EEDF-4E0C-ABFC-E6D0B7389CEE            1\n",
       "idEDE23348-BD36-45C6-B37A-9D755B3334EB            1\n",
       "\n",
       "[128 rows x 1 columns]"
      ]
     },
     "execution_count": 71,
     "metadata": {},
     "output_type": "execute_result"
    }
   ],
   "source": [
    "building_counts.loc[building_counts['id_building']==1] # 128 buildings just have one property"
   ]
  },
  {
   "cell_type": "code",
   "execution_count": 72,
   "id": "descending-service",
   "metadata": {},
   "outputs": [],
   "source": [
    "single = building_counts.loc[building_counts['id_building']==1] # 128 buildings just have one property"
   ]
  },
  {
   "cell_type": "code",
   "execution_count": 74,
   "id": "alternate-music",
   "metadata": {},
   "outputs": [
    {
     "data": {
      "text/plain": [
       "128"
      ]
     },
     "execution_count": 74,
     "metadata": {},
     "output_type": "execute_result"
    }
   ],
   "source": [
    "len(single)"
   ]
  },
  {
   "cell_type": "code",
   "execution_count": 75,
   "id": "digital-gentleman",
   "metadata": {},
   "outputs": [
    {
     "data": {
      "text/plain": [
       "0.06819392647842301"
      ]
     },
     "execution_count": 75,
     "metadata": {},
     "output_type": "execute_result"
    }
   ],
   "source": [
    "len(single)/len(unique_buildings)"
   ]
  },
  {
   "cell_type": "code",
   "execution_count": 76,
   "id": "reported-picking",
   "metadata": {},
   "outputs": [],
   "source": [
    "semidetached = double = building_counts.loc[building_counts['id_building']==2]"
   ]
  },
  {
   "cell_type": "code",
   "execution_count": 77,
   "id": "minute-brush",
   "metadata": {},
   "outputs": [
    {
     "data": {
      "text/plain": [
       "559"
      ]
     },
     "execution_count": 77,
     "metadata": {},
     "output_type": "execute_result"
    }
   ],
   "source": [
    "len(semidetached)"
   ]
  },
  {
   "cell_type": "code",
   "execution_count": 78,
   "id": "genetic-paraguay",
   "metadata": {},
   "outputs": [
    {
     "data": {
      "text/plain": [
       "0.297815663292488"
      ]
     },
     "execution_count": 78,
     "metadata": {},
     "output_type": "execute_result"
    }
   ],
   "source": [
    "len(semidetached)/len(unique_buildings)"
   ]
  },
  {
   "cell_type": "code",
   "execution_count": 79,
   "id": "local-making",
   "metadata": {},
   "outputs": [],
   "source": [
    "other = building_counts.loc[building_counts['id_building']>2]"
   ]
  },
  {
   "cell_type": "code",
   "execution_count": 80,
   "id": "competent-budapest",
   "metadata": {},
   "outputs": [
    {
     "data": {
      "text/plain": [
       "1190"
      ]
     },
     "execution_count": 80,
     "metadata": {},
     "output_type": "execute_result"
    }
   ],
   "source": [
    "len(other)"
   ]
  },
  {
   "cell_type": "code",
   "execution_count": 81,
   "id": "infinite-socket",
   "metadata": {},
   "outputs": [
    {
     "data": {
      "text/plain": [
       "<AxesSubplot:>"
      ]
     },
     "execution_count": 81,
     "metadata": {},
     "output_type": "execute_result"
    },
    {
     "data": {
      "image/png": "[encoded data removed]",
      "text/plain": [
       "<Figure size 432x288 with 1 Axes>"
      ]
     },
     "metadata": {
      "needs_background": "light"
     },
     "output_type": "display_data"
    }
   ],
   "source": [
    "other.id_building.hist(bins=10)"
   ]
  },
  {
   "cell_type": "code",
   "execution_count": 85,
   "id": "bound-turkish",
   "metadata": {},
   "outputs": [],
   "source": [
    "d = dict(df.id_building.value_counts())"
   ]
  },
  {
   "cell_type": "code",
   "execution_count": 87,
   "id": "understood-revelation",
   "metadata": {},
   "outputs": [],
   "source": [
    "df['uprn_per_building'] = df.id_building.apply(lambda x: d.get(x))"
   ]
  },
  {
   "cell_type": "code",
   "execution_count": 97,
   "id": "african-location",
   "metadata": {},
   "outputs": [],
   "source": [
    "df['bdg_area_per_uprn'] = gpd.GeoDataFrame(geometry=df.load_bdg_geometry).geometry.area / df.uprn_per_building"
   ]
  },
  {
   "cell_type": "code",
   "execution_count": 98,
   "id": "latin-yemen",
   "metadata": {},
   "outputs": [
    {
     "data": {
      "text/plain": [
       "<AxesSubplot:ylabel='Density'>"
      ]
     },
     "execution_count": 98,
     "metadata": {},
     "output_type": "execute_result"
    },
    {
     "data": {
      "image/png": "[encoded data removed]",
      "text/plain": [
       "<Figure size 432x288 with 1 Axes>"
      ]
     },
     "metadata": {
      "needs_background": "light"
     },
     "output_type": "display_data"
    }
   ],
   "source": [
    "df.bdg_area_per_uprn.plot.kde()"
   ]
  },
  {
   "cell_type": "code",
   "execution_count": 99,
   "id": "decimal-cycle",
   "metadata": {},
   "outputs": [
    {
     "data": {
      "text/plain": [
       "<AxesSubplot:>"
      ]
     },
     "execution_count": 99,
     "metadata": {},
     "output_type": "execute_result"
    },
    {
     "data": {
      "image/png": "[encoded data removed]",
      "text/plain": [
       "<Figure size 432x288 with 1 Axes>"
      ]
     },
     "metadata": {
      "needs_background": "light"
     },
     "output_type": "display_data"
    }
   ],
   "source": [
    "df.bdg_area_per_uprn.hist(bins=100)"
   ]
  },
  {
   "cell_type": "code",
   "execution_count": 100,
   "id": "danish-uganda",
   "metadata": {},
   "outputs": [
    {
     "data": {
      "text/plain": [
       "count    15163.000000\n",
       "mean        50.633310\n",
       "std         86.008663\n",
       "min          3.483086\n",
       "25%         27.253615\n",
       "50%         44.222309\n",
       "75%         54.479821\n",
       "max       4789.423550\n",
       "Name: bdg_area_per_uprn, dtype: float64"
      ]
     },
     "execution_count": 100,
     "metadata": {},
     "output_type": "execute_result"
    }
   ],
   "source": [
    "df.bdg_area_per_uprn.describe()"
   ]
  },
  {
   "cell_type": "code",
   "execution_count": 114,
   "id": "floral-country",
   "metadata": {},
   "outputs": [
    {
     "data": {
      "text/html": [
       "<div>\n",
       "<style scoped>\n",
       "    .dataframe tbody tr th:only-of-type {\n",
       "        vertical-align: middle;\n",
       "    }\n",
       "\n",
       "    .dataframe tbody tr th {\n",
       "        vertical-align: top;\n",
       "    }\n",
       "\n",
       "    .dataframe thead th {\n",
       "        text-align: right;\n",
       "    }\n",
       "</style>\n",
       "<table border=\"1\" class=\"dataframe\">\n",
       "  <thead>\n",
       "    <tr style=\"text-align: right;\">\n",
       "      <th></th>\n",
       "      <th>bdg_area_per_uprn</th>\n",
       "      <th>uprn_per_building</th>\n",
       "    </tr>\n",
       "  </thead>\n",
       "  <tbody>\n",
       "    <tr>\n",
       "      <th>2054</th>\n",
       "      <td>4789.423550</td>\n",
       "      <td>1</td>\n",
       "    </tr>\n",
       "    <tr>\n",
       "      <th>3719</th>\n",
       "      <td>3639.098650</td>\n",
       "      <td>1</td>\n",
       "    </tr>\n",
       "    <tr>\n",
       "      <th>736</th>\n",
       "      <td>2164.686500</td>\n",
       "      <td>1</td>\n",
       "    </tr>\n",
       "    <tr>\n",
       "      <th>1700</th>\n",
       "      <td>1756.956167</td>\n",
       "      <td>3</td>\n",
       "    </tr>\n",
       "    <tr>\n",
       "      <th>13449</th>\n",
       "      <td>1756.956167</td>\n",
       "      <td>3</td>\n",
       "    </tr>\n",
       "    <tr>\n",
       "      <th>11961</th>\n",
       "      <td>1756.956167</td>\n",
       "      <td>3</td>\n",
       "    </tr>\n",
       "    <tr>\n",
       "      <th>12531</th>\n",
       "      <td>1739.517050</td>\n",
       "      <td>1</td>\n",
       "    </tr>\n",
       "    <tr>\n",
       "      <th>2047</th>\n",
       "      <td>1704.902700</td>\n",
       "      <td>3</td>\n",
       "    </tr>\n",
       "    <tr>\n",
       "      <th>13428</th>\n",
       "      <td>1704.902700</td>\n",
       "      <td>3</td>\n",
       "    </tr>\n",
       "    <tr>\n",
       "      <th>12793</th>\n",
       "      <td>1704.902700</td>\n",
       "      <td>3</td>\n",
       "    </tr>\n",
       "    <tr>\n",
       "      <th>3721</th>\n",
       "      <td>1653.870400</td>\n",
       "      <td>1</td>\n",
       "    </tr>\n",
       "    <tr>\n",
       "      <th>13254</th>\n",
       "      <td>1629.996000</td>\n",
       "      <td>1</td>\n",
       "    </tr>\n",
       "    <tr>\n",
       "      <th>12426</th>\n",
       "      <td>1328.271592</td>\n",
       "      <td>6</td>\n",
       "    </tr>\n",
       "    <tr>\n",
       "      <th>12428</th>\n",
       "      <td>1328.271592</td>\n",
       "      <td>6</td>\n",
       "    </tr>\n",
       "    <tr>\n",
       "      <th>12859</th>\n",
       "      <td>1328.271592</td>\n",
       "      <td>6</td>\n",
       "    </tr>\n",
       "    <tr>\n",
       "      <th>12427</th>\n",
       "      <td>1328.271592</td>\n",
       "      <td>6</td>\n",
       "    </tr>\n",
       "    <tr>\n",
       "      <th>13450</th>\n",
       "      <td>1328.271592</td>\n",
       "      <td>6</td>\n",
       "    </tr>\n",
       "    <tr>\n",
       "      <th>14244</th>\n",
       "      <td>1328.271592</td>\n",
       "      <td>6</td>\n",
       "    </tr>\n",
       "    <tr>\n",
       "      <th>12577</th>\n",
       "      <td>1030.836075</td>\n",
       "      <td>2</td>\n",
       "    </tr>\n",
       "    <tr>\n",
       "      <th>12524</th>\n",
       "      <td>1030.836075</td>\n",
       "      <td>2</td>\n",
       "    </tr>\n",
       "    <tr>\n",
       "      <th>13574</th>\n",
       "      <td>1002.158750</td>\n",
       "      <td>1</td>\n",
       "    </tr>\n",
       "    <tr>\n",
       "      <th>2044</th>\n",
       "      <td>895.442600</td>\n",
       "      <td>1</td>\n",
       "    </tr>\n",
       "    <tr>\n",
       "      <th>5114</th>\n",
       "      <td>845.460400</td>\n",
       "      <td>1</td>\n",
       "    </tr>\n",
       "    <tr>\n",
       "      <th>12591</th>\n",
       "      <td>837.761900</td>\n",
       "      <td>3</td>\n",
       "    </tr>\n",
       "    <tr>\n",
       "      <th>14135</th>\n",
       "      <td>837.761900</td>\n",
       "      <td>3</td>\n",
       "    </tr>\n",
       "    <tr>\n",
       "      <th>14242</th>\n",
       "      <td>837.761900</td>\n",
       "      <td>3</td>\n",
       "    </tr>\n",
       "    <tr>\n",
       "      <th>5889</th>\n",
       "      <td>797.986750</td>\n",
       "      <td>1</td>\n",
       "    </tr>\n",
       "    <tr>\n",
       "      <th>6039</th>\n",
       "      <td>760.090850</td>\n",
       "      <td>2</td>\n",
       "    </tr>\n",
       "    <tr>\n",
       "      <th>14094</th>\n",
       "      <td>760.090850</td>\n",
       "      <td>2</td>\n",
       "    </tr>\n",
       "    <tr>\n",
       "      <th>6976</th>\n",
       "      <td>717.128150</td>\n",
       "      <td>1</td>\n",
       "    </tr>\n",
       "    <tr>\n",
       "      <th>4140</th>\n",
       "      <td>685.993150</td>\n",
       "      <td>2</td>\n",
       "    </tr>\n",
       "    <tr>\n",
       "      <th>4098</th>\n",
       "      <td>685.993150</td>\n",
       "      <td>2</td>\n",
       "    </tr>\n",
       "    <tr>\n",
       "      <th>5767</th>\n",
       "      <td>674.613725</td>\n",
       "      <td>10</td>\n",
       "    </tr>\n",
       "    <tr>\n",
       "      <th>12866</th>\n",
       "      <td>674.613725</td>\n",
       "      <td>10</td>\n",
       "    </tr>\n",
       "    <tr>\n",
       "      <th>11820</th>\n",
       "      <td>674.613725</td>\n",
       "      <td>10</td>\n",
       "    </tr>\n",
       "    <tr>\n",
       "      <th>14089</th>\n",
       "      <td>674.613725</td>\n",
       "      <td>10</td>\n",
       "    </tr>\n",
       "    <tr>\n",
       "      <th>12372</th>\n",
       "      <td>674.613725</td>\n",
       "      <td>10</td>\n",
       "    </tr>\n",
       "    <tr>\n",
       "      <th>12055</th>\n",
       "      <td>674.613725</td>\n",
       "      <td>10</td>\n",
       "    </tr>\n",
       "    <tr>\n",
       "      <th>11828</th>\n",
       "      <td>674.613725</td>\n",
       "      <td>10</td>\n",
       "    </tr>\n",
       "    <tr>\n",
       "      <th>12796</th>\n",
       "      <td>674.613725</td>\n",
       "      <td>10</td>\n",
       "    </tr>\n",
       "    <tr>\n",
       "      <th>12797</th>\n",
       "      <td>674.613725</td>\n",
       "      <td>10</td>\n",
       "    </tr>\n",
       "    <tr>\n",
       "      <th>14104</th>\n",
       "      <td>674.613725</td>\n",
       "      <td>10</td>\n",
       "    </tr>\n",
       "    <tr>\n",
       "      <th>4022</th>\n",
       "      <td>668.987650</td>\n",
       "      <td>1</td>\n",
       "    </tr>\n",
       "    <tr>\n",
       "      <th>6072</th>\n",
       "      <td>634.988640</td>\n",
       "      <td>5</td>\n",
       "    </tr>\n",
       "    <tr>\n",
       "      <th>6073</th>\n",
       "      <td>634.988640</td>\n",
       "      <td>5</td>\n",
       "    </tr>\n",
       "    <tr>\n",
       "      <th>2050</th>\n",
       "      <td>634.988640</td>\n",
       "      <td>5</td>\n",
       "    </tr>\n",
       "    <tr>\n",
       "      <th>14040</th>\n",
       "      <td>634.988640</td>\n",
       "      <td>5</td>\n",
       "    </tr>\n",
       "    <tr>\n",
       "      <th>2043</th>\n",
       "      <td>634.988640</td>\n",
       "      <td>5</td>\n",
       "    </tr>\n",
       "    <tr>\n",
       "      <th>13628</th>\n",
       "      <td>611.685500</td>\n",
       "      <td>1</td>\n",
       "    </tr>\n",
       "    <tr>\n",
       "      <th>2051</th>\n",
       "      <td>609.441050</td>\n",
       "      <td>1</td>\n",
       "    </tr>\n",
       "  </tbody>\n",
       "</table>\n",
       "</div>"
      ],
      "text/plain": [
       "       bdg_area_per_uprn  uprn_per_building\n",
       "2054         4789.423550                  1\n",
       "3719         3639.098650                  1\n",
       "736          2164.686500                  1\n",
       "1700         1756.956167                  3\n",
       "13449        1756.956167                  3\n",
       "11961        1756.956167                  3\n",
       "12531        1739.517050                  1\n",
       "2047         1704.902700                  3\n",
       "13428        1704.902700                  3\n",
       "12793        1704.902700                  3\n",
       "3721         1653.870400                  1\n",
       "13254        1629.996000                  1\n",
       "12426        1328.271592                  6\n",
       "12428        1328.271592                  6\n",
       "12859        1328.271592                  6\n",
       "12427        1328.271592                  6\n",
       "13450        1328.271592                  6\n",
       "14244        1328.271592                  6\n",
       "12577        1030.836075                  2\n",
       "12524        1030.836075                  2\n",
       "13574        1002.158750                  1\n",
       "2044          895.442600                  1\n",
       "5114          845.460400                  1\n",
       "12591         837.761900                  3\n",
       "14135         837.761900                  3\n",
       "14242         837.761900                  3\n",
       "5889          797.986750                  1\n",
       "6039          760.090850                  2\n",
       "14094         760.090850                  2\n",
       "6976          717.128150                  1\n",
       "4140          685.993150                  2\n",
       "4098          685.993150                  2\n",
       "5767          674.613725                 10\n",
       "12866         674.613725                 10\n",
       "11820         674.613725                 10\n",
       "14089         674.613725                 10\n",
       "12372         674.613725                 10\n",
       "12055         674.613725                 10\n",
       "11828         674.613725                 10\n",
       "12796         674.613725                 10\n",
       "12797         674.613725                 10\n",
       "14104         674.613725                 10\n",
       "4022          668.987650                  1\n",
       "6072          634.988640                  5\n",
       "6073          634.988640                  5\n",
       "2050          634.988640                  5\n",
       "14040         634.988640                  5\n",
       "2043          634.988640                  5\n",
       "13628         611.685500                  1\n",
       "2051          609.441050                  1"
      ]
     },
     "execution_count": 114,
     "metadata": {},
     "output_type": "execute_result"
    }
   ],
   "source": [
    "df[['bdg_area_per_uprn','uprn_per_building']].sort_values('bdg_area_per_uprn', ascending=False).head(50)"
   ]
  },
  {
   "cell_type": "code",
   "execution_count": 113,
   "id": "magnetic-andrews",
   "metadata": {},
   "outputs": [
    {
     "data": {
      "text/html": [
       "<div>\n",
       "<style scoped>\n",
       "    .dataframe tbody tr th:only-of-type {\n",
       "        vertical-align: middle;\n",
       "    }\n",
       "\n",
       "    .dataframe tbody tr th {\n",
       "        vertical-align: top;\n",
       "    }\n",
       "\n",
       "    .dataframe thead th {\n",
       "        text-align: right;\n",
       "    }\n",
       "</style>\n",
       "<table border=\"1\" class=\"dataframe\">\n",
       "  <thead>\n",
       "    <tr style=\"text-align: right;\">\n",
       "      <th></th>\n",
       "      <th>bdg_area_per_uprn</th>\n",
       "      <th>uprn_per_building</th>\n",
       "    </tr>\n",
       "  </thead>\n",
       "  <tbody>\n",
       "    <tr>\n",
       "      <th>6000</th>\n",
       "      <td>588.184230</td>\n",
       "      <td>5</td>\n",
       "    </tr>\n",
       "    <tr>\n",
       "      <th>13534</th>\n",
       "      <td>588.184230</td>\n",
       "      <td>5</td>\n",
       "    </tr>\n",
       "    <tr>\n",
       "      <th>13227</th>\n",
       "      <td>588.184230</td>\n",
       "      <td>5</td>\n",
       "    </tr>\n",
       "    <tr>\n",
       "      <th>13427</th>\n",
       "      <td>588.184230</td>\n",
       "      <td>5</td>\n",
       "    </tr>\n",
       "    <tr>\n",
       "      <th>14152</th>\n",
       "      <td>582.068036</td>\n",
       "      <td>7</td>\n",
       "    </tr>\n",
       "    <tr>\n",
       "      <th>11939</th>\n",
       "      <td>582.068036</td>\n",
       "      <td>7</td>\n",
       "    </tr>\n",
       "    <tr>\n",
       "      <th>8107</th>\n",
       "      <td>582.068036</td>\n",
       "      <td>7</td>\n",
       "    </tr>\n",
       "    <tr>\n",
       "      <th>11987</th>\n",
       "      <td>582.068036</td>\n",
       "      <td>7</td>\n",
       "    </tr>\n",
       "    <tr>\n",
       "      <th>12059</th>\n",
       "      <td>582.068036</td>\n",
       "      <td>7</td>\n",
       "    </tr>\n",
       "    <tr>\n",
       "      <th>8117</th>\n",
       "      <td>582.068036</td>\n",
       "      <td>7</td>\n",
       "    </tr>\n",
       "    <tr>\n",
       "      <th>8106</th>\n",
       "      <td>582.068036</td>\n",
       "      <td>7</td>\n",
       "    </tr>\n",
       "    <tr>\n",
       "      <th>14026</th>\n",
       "      <td>578.413350</td>\n",
       "      <td>1</td>\n",
       "    </tr>\n",
       "    <tr>\n",
       "      <th>13992</th>\n",
       "      <td>569.208280</td>\n",
       "      <td>5</td>\n",
       "    </tr>\n",
       "    <tr>\n",
       "      <th>14055</th>\n",
       "      <td>569.208280</td>\n",
       "      <td>5</td>\n",
       "    </tr>\n",
       "    <tr>\n",
       "      <th>4815</th>\n",
       "      <td>569.208280</td>\n",
       "      <td>5</td>\n",
       "    </tr>\n",
       "    <tr>\n",
       "      <th>13661</th>\n",
       "      <td>569.208280</td>\n",
       "      <td>5</td>\n",
       "    </tr>\n",
       "    <tr>\n",
       "      <th>5115</th>\n",
       "      <td>569.208280</td>\n",
       "      <td>5</td>\n",
       "    </tr>\n",
       "    <tr>\n",
       "      <th>2238</th>\n",
       "      <td>541.899200</td>\n",
       "      <td>2</td>\n",
       "    </tr>\n",
       "    <tr>\n",
       "      <th>14109</th>\n",
       "      <td>541.899200</td>\n",
       "      <td>2</td>\n",
       "    </tr>\n",
       "    <tr>\n",
       "      <th>13770</th>\n",
       "      <td>527.448325</td>\n",
       "      <td>2</td>\n",
       "    </tr>\n",
       "    <tr>\n",
       "      <th>5888</th>\n",
       "      <td>527.448325</td>\n",
       "      <td>2</td>\n",
       "    </tr>\n",
       "    <tr>\n",
       "      <th>4816</th>\n",
       "      <td>510.084000</td>\n",
       "      <td>1</td>\n",
       "    </tr>\n",
       "    <tr>\n",
       "      <th>4798</th>\n",
       "      <td>496.786300</td>\n",
       "      <td>1</td>\n",
       "    </tr>\n",
       "    <tr>\n",
       "      <th>2045</th>\n",
       "      <td>489.587250</td>\n",
       "      <td>1</td>\n",
       "    </tr>\n",
       "    <tr>\n",
       "      <th>2049</th>\n",
       "      <td>446.512500</td>\n",
       "      <td>2</td>\n",
       "    </tr>\n",
       "    <tr>\n",
       "      <th>12864</th>\n",
       "      <td>446.512500</td>\n",
       "      <td>2</td>\n",
       "    </tr>\n",
       "    <tr>\n",
       "      <th>12776</th>\n",
       "      <td>441.717750</td>\n",
       "      <td>3</td>\n",
       "    </tr>\n",
       "    <tr>\n",
       "      <th>12527</th>\n",
       "      <td>441.717750</td>\n",
       "      <td>3</td>\n",
       "    </tr>\n",
       "    <tr>\n",
       "      <th>14024</th>\n",
       "      <td>441.717750</td>\n",
       "      <td>3</td>\n",
       "    </tr>\n",
       "    <tr>\n",
       "      <th>12576</th>\n",
       "      <td>437.224713</td>\n",
       "      <td>4</td>\n",
       "    </tr>\n",
       "    <tr>\n",
       "      <th>11914</th>\n",
       "      <td>437.224713</td>\n",
       "      <td>4</td>\n",
       "    </tr>\n",
       "    <tr>\n",
       "      <th>12578</th>\n",
       "      <td>437.224713</td>\n",
       "      <td>4</td>\n",
       "    </tr>\n",
       "    <tr>\n",
       "      <th>3136</th>\n",
       "      <td>437.224713</td>\n",
       "      <td>4</td>\n",
       "    </tr>\n",
       "    <tr>\n",
       "      <th>12457</th>\n",
       "      <td>433.845433</td>\n",
       "      <td>3</td>\n",
       "    </tr>\n",
       "    <tr>\n",
       "      <th>13662</th>\n",
       "      <td>433.845433</td>\n",
       "      <td>3</td>\n",
       "    </tr>\n",
       "    <tr>\n",
       "      <th>1957</th>\n",
       "      <td>433.845433</td>\n",
       "      <td>3</td>\n",
       "    </tr>\n",
       "    <tr>\n",
       "      <th>7993</th>\n",
       "      <td>425.370750</td>\n",
       "      <td>1</td>\n",
       "    </tr>\n",
       "    <tr>\n",
       "      <th>2053</th>\n",
       "      <td>424.216050</td>\n",
       "      <td>2</td>\n",
       "    </tr>\n",
       "    <tr>\n",
       "      <th>2052</th>\n",
       "      <td>424.216050</td>\n",
       "      <td>2</td>\n",
       "    </tr>\n",
       "    <tr>\n",
       "      <th>13991</th>\n",
       "      <td>409.452213</td>\n",
       "      <td>4</td>\n",
       "    </tr>\n",
       "    <tr>\n",
       "      <th>13987</th>\n",
       "      <td>409.452213</td>\n",
       "      <td>4</td>\n",
       "    </tr>\n",
       "    <tr>\n",
       "      <th>13999</th>\n",
       "      <td>409.452213</td>\n",
       "      <td>4</td>\n",
       "    </tr>\n",
       "    <tr>\n",
       "      <th>2048</th>\n",
       "      <td>409.452213</td>\n",
       "      <td>4</td>\n",
       "    </tr>\n",
       "    <tr>\n",
       "      <th>14118</th>\n",
       "      <td>400.994783</td>\n",
       "      <td>6</td>\n",
       "    </tr>\n",
       "    <tr>\n",
       "      <th>6071</th>\n",
       "      <td>400.994783</td>\n",
       "      <td>6</td>\n",
       "    </tr>\n",
       "    <tr>\n",
       "      <th>12242</th>\n",
       "      <td>400.994783</td>\n",
       "      <td>6</td>\n",
       "    </tr>\n",
       "    <tr>\n",
       "      <th>13524</th>\n",
       "      <td>400.994783</td>\n",
       "      <td>6</td>\n",
       "    </tr>\n",
       "    <tr>\n",
       "      <th>4099</th>\n",
       "      <td>400.994783</td>\n",
       "      <td>6</td>\n",
       "    </tr>\n",
       "    <tr>\n",
       "      <th>6070</th>\n",
       "      <td>400.994783</td>\n",
       "      <td>6</td>\n",
       "    </tr>\n",
       "  </tbody>\n",
       "</table>\n",
       "</div>"
      ],
      "text/plain": [
       "       bdg_area_per_uprn  uprn_per_building\n",
       "6000          588.184230                  5\n",
       "13534         588.184230                  5\n",
       "13227         588.184230                  5\n",
       "13427         588.184230                  5\n",
       "14152         582.068036                  7\n",
       "11939         582.068036                  7\n",
       "8107          582.068036                  7\n",
       "11987         582.068036                  7\n",
       "12059         582.068036                  7\n",
       "8117          582.068036                  7\n",
       "8106          582.068036                  7\n",
       "14026         578.413350                  1\n",
       "13992         569.208280                  5\n",
       "14055         569.208280                  5\n",
       "4815          569.208280                  5\n",
       "13661         569.208280                  5\n",
       "5115          569.208280                  5\n",
       "2238          541.899200                  2\n",
       "14109         541.899200                  2\n",
       "13770         527.448325                  2\n",
       "5888          527.448325                  2\n",
       "4816          510.084000                  1\n",
       "4798          496.786300                  1\n",
       "2045          489.587250                  1\n",
       "2049          446.512500                  2\n",
       "12864         446.512500                  2\n",
       "12776         441.717750                  3\n",
       "12527         441.717750                  3\n",
       "14024         441.717750                  3\n",
       "12576         437.224713                  4\n",
       "11914         437.224713                  4\n",
       "12578         437.224713                  4\n",
       "3136          437.224713                  4\n",
       "12457         433.845433                  3\n",
       "13662         433.845433                  3\n",
       "1957          433.845433                  3\n",
       "7993          425.370750                  1\n",
       "2053          424.216050                  2\n",
       "2052          424.216050                  2\n",
       "13991         409.452213                  4\n",
       "13987         409.452213                  4\n",
       "13999         409.452213                  4\n",
       "2048          409.452213                  4\n",
       "14118         400.994783                  6\n",
       "6071          400.994783                  6\n",
       "12242         400.994783                  6\n",
       "13524         400.994783                  6\n",
       "4099          400.994783                  6\n",
       "6070          400.994783                  6"
      ]
     },
     "execution_count": 113,
     "metadata": {},
     "output_type": "execute_result"
    }
   ],
   "source": [
    "df[['bdg_area_per_uprn','uprn_per_building']].sort_values('bdg_area_per_uprn', ascending=False).iloc[51:100]"
   ]
  },
  {
   "cell_type": "code",
   "execution_count": 104,
   "id": "large-calvin",
   "metadata": {},
   "outputs": [],
   "source": [
    "gdf = gpd.GeoDataFrame(df, geometry=df.load_bdg_geometry)"
   ]
  },
  {
   "cell_type": "code",
   "execution_count": 105,
   "id": "placed-marks",
   "metadata": {},
   "outputs": [
    {
     "data": {
      "text/plain": [
       "<AxesSubplot:>"
      ]
     },
     "execution_count": 105,
     "metadata": {},
     "output_type": "execute_result"
    },
    {
     "data": {
      "image/png": "[encoded data removed]",
      "text/plain": [
       "<Figure size 432x288 with 1 Axes>"
      ]
     },
     "metadata": {
      "needs_background": "light"
     },
     "output_type": "display_data"
    }
   ],
   "source": [
    "gdf.plot('bdg_area_per_uprn')"
   ]
  },
  {
   "cell_type": "code",
   "execution_count": 115,
   "id": "obvious-democracy",
   "metadata": {},
   "outputs": [
    {
     "data": {
      "text/plain": [
       "<AxesSubplot:>"
      ]
     },
     "execution_count": 115,
     "metadata": {},
     "output_type": "execute_result"
    },
    {
     "data": {
      "image/png": "[encoded data removed]",
      "text/plain": [
       "<Figure size 432x288 with 1 Axes>"
      ]
     },
     "metadata": {
      "needs_background": "light"
     },
     "output_type": "display_data"
    }
   ],
   "source": [
    "gdf.loc[gdf.bdg_area_per_uprn > 400].plot('bdg_area_per_uprn')"
   ]
  },
  {
   "cell_type": "code",
   "execution_count": 119,
   "id": "unavailable-candy",
   "metadata": {},
   "outputs": [],
   "source": [
    "from shapely.geometry import MultiPolygon"
   ]
  },
  {
   "cell_type": "code",
   "execution_count": 122,
   "id": "measured-engagement",
   "metadata": {},
   "outputs": [],
   "source": [
    "big_bdgs = MultiPolygon(list(gdf.geometry.values))"
   ]
  },
  {
   "cell_type": "code",
   "execution_count": 123,
   "id": "regional-mainland",
   "metadata": {},
   "outputs": [],
   "source": [
    "import sys"
   ]
  },
  {
   "cell_type": "code",
   "execution_count": 124,
   "id": "international-titanium",
   "metadata": {},
   "outputs": [],
   "source": [
    "sys.path.append('..')"
   ]
  },
  {
   "cell_type": "code",
   "execution_count": 125,
   "id": "continuous-composer",
   "metadata": {},
   "outputs": [
    {
     "name": "stdout",
     "output_type": "stream",
     "text": [
      "Initializing database connection...\n",
      "Database connected!\n"
     ]
    }
   ],
   "source": [
    "from nbhd.data import Base"
   ]
  },
  {
   "cell_type": "code",
   "execution_count": 126,
   "id": "statutory-entity",
   "metadata": {},
   "outputs": [],
   "source": [
    "db = Base()"
   ]
  },
  {
   "cell_type": "code",
   "execution_count": 127,
   "id": "enclosed-softball",
   "metadata": {},
   "outputs": [],
   "source": [
    "names = db.contains('opennames', big_bdgs)"
   ]
  },
  {
   "cell_type": "code",
   "execution_count": 132,
   "id": "three-poultry",
   "metadata": {},
   "outputs": [
    {
     "data": {
      "text/html": [
       "<div>\n",
       "<style scoped>\n",
       "    .dataframe tbody tr th:only-of-type {\n",
       "        vertical-align: middle;\n",
       "    }\n",
       "\n",
       "    .dataframe tbody tr th {\n",
       "        vertical-align: top;\n",
       "    }\n",
       "\n",
       "    .dataframe thead th {\n",
       "        text-align: right;\n",
       "    }\n",
       "</style>\n",
       "<table border=\"1\" class=\"dataframe\">\n",
       "  <thead>\n",
       "    <tr style=\"text-align: right;\">\n",
       "      <th></th>\n",
       "      <th>ID</th>\n",
       "      <th>NAMES_URI</th>\n",
       "      <th>NAME1</th>\n",
       "      <th>NAME1_LANG</th>\n",
       "      <th>NAME2</th>\n",
       "      <th>NAME2_LANG</th>\n",
       "      <th>TYPE</th>\n",
       "      <th>LOCAL_TYPE</th>\n",
       "      <th>MOST_DETAIL_VIEW_RES</th>\n",
       "      <th>LEAST_DETAIL_VIEW_RES</th>\n",
       "      <th>...</th>\n",
       "      <th>COUNTY_UNITARY_URI</th>\n",
       "      <th>COUNTY_UNITARY_TYPE</th>\n",
       "      <th>REGION</th>\n",
       "      <th>REGION_URI</th>\n",
       "      <th>COUNTRY</th>\n",
       "      <th>COUNTRY_URI</th>\n",
       "      <th>RELATED_SPATIAL_OBJECT</th>\n",
       "      <th>SAME_AS_DBPEDIA</th>\n",
       "      <th>SAME_AS_GEONAMES</th>\n",
       "      <th>geometry</th>\n",
       "    </tr>\n",
       "  </thead>\n",
       "  <tbody>\n",
       "    <tr>\n",
       "      <th>383</th>\n",
       "      <td>osgb4000000073306706</td>\n",
       "      <td>http://data.ordnancesurvey.co.uk/id/4000000073...</td>\n",
       "      <td>New Park Primary School</td>\n",
       "      <td>None</td>\n",
       "      <td>None</td>\n",
       "      <td>None</td>\n",
       "      <td>other</td>\n",
       "      <td>Primary Education</td>\n",
       "      <td>1000</td>\n",
       "      <td>50000</td>\n",
       "      <td>...</td>\n",
       "      <td>None</td>\n",
       "      <td>None</td>\n",
       "      <td>North West</td>\n",
       "      <td>http://data.ordnancesurvey.co.uk/id/7000000000...</td>\n",
       "      <td>England</td>\n",
       "      <td>http://data.ordnancesurvey.co.uk/id/country/en...</td>\n",
       "      <td>None</td>\n",
       "      <td>None</td>\n",
       "      <td>None</td>\n",
       "      <td>POINT (336722.000 391369.000)</td>\n",
       "    </tr>\n",
       "    <tr>\n",
       "      <th>384</th>\n",
       "      <td>osgb4000000073303227</td>\n",
       "      <td>http://data.ordnancesurvey.co.uk/id/4000000073...</td>\n",
       "      <td>Lister Junior and Infants Schools</td>\n",
       "      <td>None</td>\n",
       "      <td>None</td>\n",
       "      <td>None</td>\n",
       "      <td>other</td>\n",
       "      <td>Primary Education</td>\n",
       "      <td>2000</td>\n",
       "      <td>50000</td>\n",
       "      <td>...</td>\n",
       "      <td>None</td>\n",
       "      <td>None</td>\n",
       "      <td>North West</td>\n",
       "      <td>http://data.ordnancesurvey.co.uk/id/7000000000...</td>\n",
       "      <td>England</td>\n",
       "      <td>http://data.ordnancesurvey.co.uk/id/country/en...</td>\n",
       "      <td>None</td>\n",
       "      <td>None</td>\n",
       "      <td>None</td>\n",
       "      <td>POINT (338566.000 392268.000)</td>\n",
       "    </tr>\n",
       "    <tr>\n",
       "      <th>385</th>\n",
       "      <td>osgb4000000073303812</td>\n",
       "      <td>http://data.ordnancesurvey.co.uk/id/4000000073...</td>\n",
       "      <td>St Anne's (Stanley) Junior Mixed and Infant Sc...</td>\n",
       "      <td>None</td>\n",
       "      <td>None</td>\n",
       "      <td>None</td>\n",
       "      <td>other</td>\n",
       "      <td>Primary Education</td>\n",
       "      <td>1000</td>\n",
       "      <td>50000</td>\n",
       "      <td>...</td>\n",
       "      <td>None</td>\n",
       "      <td>None</td>\n",
       "      <td>North West</td>\n",
       "      <td>http://data.ordnancesurvey.co.uk/id/7000000000...</td>\n",
       "      <td>England</td>\n",
       "      <td>http://data.ordnancesurvey.co.uk/id/country/en...</td>\n",
       "      <td>None</td>\n",
       "      <td>None</td>\n",
       "      <td>None</td>\n",
       "      <td>POINT (339045.000 391370.000)</td>\n",
       "    </tr>\n",
       "    <tr>\n",
       "      <th>386</th>\n",
       "      <td>osgb4000000073306707</td>\n",
       "      <td>http://data.ordnancesurvey.co.uk/id/4000000073...</td>\n",
       "      <td>The Academy of St Francis of Assisi</td>\n",
       "      <td>None</td>\n",
       "      <td>None</td>\n",
       "      <td>None</td>\n",
       "      <td>other</td>\n",
       "      <td>Secondary Education</td>\n",
       "      <td>1000</td>\n",
       "      <td>50000</td>\n",
       "      <td>...</td>\n",
       "      <td>None</td>\n",
       "      <td>None</td>\n",
       "      <td>North West</td>\n",
       "      <td>http://data.ordnancesurvey.co.uk/id/7000000000...</td>\n",
       "      <td>England</td>\n",
       "      <td>http://data.ordnancesurvey.co.uk/id/country/en...</td>\n",
       "      <td>None</td>\n",
       "      <td>None</td>\n",
       "      <td>None</td>\n",
       "      <td>POINT (337336.000 391554.000)</td>\n",
       "    </tr>\n",
       "  </tbody>\n",
       "</table>\n",
       "<p>4 rows × 33 columns</p>\n",
       "</div>"
      ],
      "text/plain": [
       "                       ID                                          NAMES_URI  \\\n",
       "383  osgb4000000073306706  http://data.ordnancesurvey.co.uk/id/4000000073...   \n",
       "384  osgb4000000073303227  http://data.ordnancesurvey.co.uk/id/4000000073...   \n",
       "385  osgb4000000073303812  http://data.ordnancesurvey.co.uk/id/4000000073...   \n",
       "386  osgb4000000073306707  http://data.ordnancesurvey.co.uk/id/4000000073...   \n",
       "\n",
       "                                                 NAME1 NAME1_LANG NAME2  \\\n",
       "383                            New Park Primary School       None  None   \n",
       "384                  Lister Junior and Infants Schools       None  None   \n",
       "385  St Anne's (Stanley) Junior Mixed and Infant Sc...       None  None   \n",
       "386                The Academy of St Francis of Assisi       None  None   \n",
       "\n",
       "    NAME2_LANG   TYPE           LOCAL_TYPE  MOST_DETAIL_VIEW_RES  \\\n",
       "383       None  other    Primary Education                  1000   \n",
       "384       None  other    Primary Education                  2000   \n",
       "385       None  other    Primary Education                  1000   \n",
       "386       None  other  Secondary Education                  1000   \n",
       "\n",
       "     LEAST_DETAIL_VIEW_RES  ...  COUNTY_UNITARY_URI  COUNTY_UNITARY_TYPE  \\\n",
       "383                  50000  ...                None                 None   \n",
       "384                  50000  ...                None                 None   \n",
       "385                  50000  ...                None                 None   \n",
       "386                  50000  ...                None                 None   \n",
       "\n",
       "         REGION                                         REGION_URI  COUNTRY  \\\n",
       "383  North West  http://data.ordnancesurvey.co.uk/id/7000000000...  England   \n",
       "384  North West  http://data.ordnancesurvey.co.uk/id/7000000000...  England   \n",
       "385  North West  http://data.ordnancesurvey.co.uk/id/7000000000...  England   \n",
       "386  North West  http://data.ordnancesurvey.co.uk/id/7000000000...  England   \n",
       "\n",
       "                                           COUNTRY_URI RELATED_SPATIAL_OBJECT  \\\n",
       "383  http://data.ordnancesurvey.co.uk/id/country/en...                   None   \n",
       "384  http://data.ordnancesurvey.co.uk/id/country/en...                   None   \n",
       "385  http://data.ordnancesurvey.co.uk/id/country/en...                   None   \n",
       "386  http://data.ordnancesurvey.co.uk/id/country/en...                   None   \n",
       "\n",
       "    SAME_AS_DBPEDIA SAME_AS_GEONAMES                       geometry  \n",
       "383            None             None  POINT (336722.000 391369.000)  \n",
       "384            None             None  POINT (338566.000 392268.000)  \n",
       "385            None             None  POINT (339045.000 391370.000)  \n",
       "386            None             None  POINT (337336.000 391554.000)  \n",
       "\n",
       "[4 rows x 33 columns]"
      ]
     },
     "execution_count": 132,
     "metadata": {},
     "output_type": "execute_result"
    }
   ],
   "source": [
    "names.loc[names.LOCAL_TYPE.apply(lambda x: 'Education' in x)]"
   ]
  },
  {
   "cell_type": "code",
   "execution_count": 135,
   "id": "played-candle",
   "metadata": {},
   "outputs": [],
   "source": [
    "gdf = gpd.GeoDataFrame(df, geometry=gpd.GeoSeries.from_wkt(df.geometry_building))"
   ]
  },
  {
   "cell_type": "code",
   "execution_count": 137,
   "id": "favorite-jason",
   "metadata": {},
   "outputs": [],
   "source": [
    "all_bdgs = MultiPolygon(list(gdf.geometry.values))"
   ]
  },
  {
   "cell_type": "code",
   "execution_count": 138,
   "id": "ultimate-return",
   "metadata": {},
   "outputs": [],
   "source": [
    "# more could be done with names, but I don't go into this here."
   ]
  },
  {
   "cell_type": "code",
   "execution_count": null,
   "id": "understood-zambia",
   "metadata": {},
   "outputs": [],
   "source": [
    "# or actually, this could be precisely the thing that's worth going into, in talking about the area of residential buildings"
   ]
  },
  {
   "cell_type": "code",
   "execution_count": 139,
   "id": "dried-atlantic",
   "metadata": {},
   "outputs": [],
   "source": [
    "# in which case need to adapt the `nearest_neighbours` function..."
   ]
  },
  {
   "cell_type": "code",
   "execution_count": 140,
   "id": "going-addiction",
   "metadata": {},
   "outputs": [],
   "source": [
    "import inspect"
   ]
  },
  {
   "cell_type": "code",
   "execution_count": 141,
   "id": "earned-manitoba",
   "metadata": {},
   "outputs": [],
   "source": [
    "src = inspect.getsource(db.nearest_neighbours)"
   ]
  },
  {
   "cell_type": "code",
   "execution_count": 142,
   "id": "welsh-railway",
   "metadata": {},
   "outputs": [
    {
     "name": "stdout",
     "output_type": "stream",
     "text": [
      "    def nearest_neighbours(self, table, boundary_wkt):\n",
      "        sql = f'''\n",
      "        SELECT uprn.\"UPRN\",\n",
      "                uprn.geometry as uprn_geometry,\n",
      "                dbtable.*,\n",
      "               ST_Distance(dbtable.geometry, uprn.geometry) AS dist\n",
      "        FROM ({self._contains_query('openuprn', boundary_wkt)}) AS uprn\n",
      "        CROSS JOIN LATERAL (\n",
      "          SELECT dbtable.* \n",
      "          FROM ({self._contains_query(table, boundary_wkt)}) AS dbtable \n",
      "          ORDER BY dbtable.geometry <-> uprn.geometry\n",
      "          LIMIT 1\n",
      "        ) dbtable;\n",
      "        '''\n",
      "        return self.query(sql, spatial=True)\n",
      "\n"
     ]
    }
   ],
   "source": [
    "print(src)"
   ]
  },
  {
   "cell_type": "code",
   "execution_count": 144,
   "id": "common-expression",
   "metadata": {},
   "outputs": [],
   "source": [
    "    def nearest_neighbours(self, table1, table2, polygon):\n",
    "        sql = f'''\n",
    "        SELECT dbtable1.*,\n",
    "               dbtable2.*,\n",
    "               ST_Distance(dbtable1.geometry, dbtable2.geometry) AS dist\n",
    "        FROM ({self._contains_query(table1, polygon)}) AS dbtable1\n",
    "        CROSS JOIN LATERAL (\n",
    "          SELECT dbtable2.* \n",
    "          FROM ({self._contains_query(table2, polygon)}) AS dbtable2\n",
    "          ORDER BY dbtable2.geometry <-> dbtable1.geometry\n",
    "          LIMIT 1\n",
    "        ) AS dbtable2;\n",
    "        '''\n",
    "        return self.query(sql, spatial=True)"
   ]
  },
  {
   "cell_type": "code",
   "execution_count": 145,
   "id": "historic-butter",
   "metadata": {},
   "outputs": [
    {
     "data": {
      "text/plain": [
       "<nbhd.data.Base at 0x7fe013f5b730>"
      ]
     },
     "execution_count": 145,
     "metadata": {},
     "output_type": "execute_result"
    }
   ],
   "source": [
    "db"
   ]
  },
  {
   "cell_type": "code",
   "execution_count": 147,
   "id": "sunrise-ivory",
   "metadata": {},
   "outputs": [],
   "source": [
    "from nbhd.geography import Neighbourhood"
   ]
  },
  {
   "cell_type": "code",
   "execution_count": 148,
   "id": "united-selling",
   "metadata": {},
   "outputs": [
    {
     "name": "stdout",
     "output_type": "stream",
     "text": [
      "Getting data took 0 minutes, 0 seconds.\n"
     ]
    }
   ],
   "source": [
    "n = Neighbourhood()"
   ]
  },
  {
   "cell_type": "code",
   "execution_count": 153,
   "id": "loved-buddy",
   "metadata": {},
   "outputs": [],
   "source": [
    "centroids = n.db.contains('bigtilesa', n.geom.buffer(100)).centroid"
   ]
  },
  {
   "cell_type": "code",
   "execution_count": null,
   "id": "metallic-literature",
   "metadata": {},
   "outputs": [],
   "source": []
  },
  {
   "cell_type": "code",
   "execution_count": 154,
   "id": "satellite-capitol",
   "metadata": {},
   "outputs": [
    {
     "data": {
      "text/plain": [
       "0    POINT (338528.599 392826.179)\n",
       "1    POINT (338717.542 393113.945)\n",
       "2    POINT (338172.284 391744.190)\n",
       "3    POINT (338400.119 392525.259)\n",
       "4    POINT (336079.430 391177.629)\n",
       "5    POINT (336121.463 391268.243)\n",
       "6    POINT (336143.123 391272.948)\n",
       "7    POINT (336118.975 391003.179)\n",
       "dtype: geometry"
      ]
     },
     "execution_count": 154,
     "metadata": {},
     "output_type": "execute_result"
    }
   ],
   "source": [
    "centroids "
   ]
  },
  {
   "cell_type": "code",
   "execution_count": null,
   "id": "supreme-capacity",
   "metadata": {},
   "outputs": [],
   "source": []
  },
  {
   "cell_type": "code",
   "execution_count": null,
   "id": "ordinary-beverage",
   "metadata": {},
   "outputs": [],
   "source": []
  }
 ],
 "metadata": {
  "kernelspec": {
   "display_name": "Python 3",
   "language": "python",
   "name": "python3"
  },
  "language_info": {
   "codemirror_mode": {
    "name": "ipython",
    "version": 3
   },
   "file_extension": ".py",
   "mimetype": "text/x-python",
   "name": "python",
   "nbconvert_exporter": "python",
   "pygments_lexer": "ipython3",
   "version": "3.8.8"
  }
 },
 "nbformat": 4,
 "nbformat_minor": 5
}
