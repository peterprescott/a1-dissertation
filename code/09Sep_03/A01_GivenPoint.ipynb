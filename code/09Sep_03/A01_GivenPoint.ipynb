{
 "cells": [
  {
   "cell_type": "code",
   "execution_count": 1,
   "id": "dedicated-therapy",
   "metadata": {},
   "outputs": [],
   "source": [
    "import sys\n",
    "sys.path.append('..')"
   ]
  },
  {
   "cell_type": "code",
   "execution_count": 2,
   "id": "above-weekend",
   "metadata": {},
   "outputs": [],
   "source": [
    "import pandas as pd"
   ]
  },
  {
   "cell_type": "code",
   "execution_count": 3,
   "id": "dense-accommodation",
   "metadata": {},
   "outputs": [],
   "source": [
    "# given point"
   ]
  },
  {
   "cell_type": "code",
   "execution_count": 4,
   "id": "activated-coast",
   "metadata": {},
   "outputs": [],
   "source": [
    "# read in tile_points.csv\n",
    "points = pd.read_csv('../../data/tile_points.csv')"
   ]
  },
  {
   "cell_type": "code",
   "execution_count": 5,
   "id": "atomic-balance",
   "metadata": {},
   "outputs": [],
   "source": [
    "row = points.iloc[10000]"
   ]
  },
  {
   "cell_type": "code",
   "execution_count": 6,
   "id": "ranging-montana",
   "metadata": {},
   "outputs": [],
   "source": [
    "# find enclosing tile"
   ]
  },
  {
   "cell_type": "code",
   "execution_count": 2,
   "id": "raising-english",
   "metadata": {},
   "outputs": [],
   "source": [
    "import geopandas as gpd"
   ]
  },
  {
   "cell_type": "code",
   "execution_count": 3,
   "id": "fatty-bumper",
   "metadata": {},
   "outputs": [
    {
     "name": "stdout",
     "output_type": "stream",
     "text": [
      "Initializing database connection...\n",
      "Database connected!\n"
     ]
    }
   ],
   "source": [
    "from nbhd.data import Base"
   ]
  },
  {
   "cell_type": "code",
   "execution_count": 4,
   "id": "removable-trout",
   "metadata": {},
   "outputs": [],
   "source": [
    "db = Base()"
   ]
  },
  {
   "cell_type": "code",
   "execution_count": 5,
   "id": "light-grass",
   "metadata": {},
   "outputs": [],
   "source": [
    "from nbhd.geography import Neighbourhood"
   ]
  },
  {
   "cell_type": "code",
   "execution_count": 6,
   "id": "parental-angel",
   "metadata": {},
   "outputs": [],
   "source": [
    "n = Neighbourhood(load=False)#row.x, row.y, "
   ]
  },
  {
   "cell_type": "code",
   "execution_count": 7,
   "id": "productive-serial",
   "metadata": {},
   "outputs": [],
   "source": [
    "# nearest roads ~ 'slimroads' is without motorways and secondary roads"
   ]
  },
  {
   "cell_type": "code",
   "execution_count": 8,
   "id": "extreme-copying",
   "metadata": {},
   "outputs": [],
   "source": [
    "nr_roads = n.db.nearest_neighbours('slimroads', n.geom.buffer(10))"
   ]
  },
  {
   "cell_type": "code",
   "execution_count": 9,
   "id": "broken-terrorist",
   "metadata": {},
   "outputs": [],
   "source": [
    "# nearest buildings"
   ]
  },
  {
   "cell_type": "code",
   "execution_count": 10,
   "id": "whole-maryland",
   "metadata": {},
   "outputs": [],
   "source": [
    "nr_buildings = n.db.nearest_neighbours('openmaplocal', n.geom.buffer(1))"
   ]
  },
  {
   "cell_type": "code",
   "execution_count": 11,
   "id": "psychological-empty",
   "metadata": {},
   "outputs": [],
   "source": [
    "# merge on UPRN"
   ]
  },
  {
   "cell_type": "code",
   "execution_count": 12,
   "id": "anonymous-delicious",
   "metadata": {},
   "outputs": [],
   "source": [
    "df = nr_buildings.merge(nr_roads, on=['UPRN', 'uprn_geometry'], how='inner', suffixes=('_building', '_street'))"
   ]
  },
  {
   "cell_type": "code",
   "execution_count": 13,
   "id": "plastic-grove",
   "metadata": {},
   "outputs": [],
   "source": [
    "del(nr_buildings)\n",
    "del(nr_roads)"
   ]
  },
  {
   "cell_type": "code",
   "execution_count": 14,
   "id": "focal-writing",
   "metadata": {},
   "outputs": [],
   "source": [
    "# 1 eliminate non-building properties : distance to building must == 0"
   ]
  },
  {
   "cell_type": "code",
   "execution_count": 15,
   "id": "british-isaac",
   "metadata": {},
   "outputs": [],
   "source": [
    "df1 = df.loc[df.dist_building==0]"
   ]
  },
  {
   "cell_type": "code",
   "execution_count": 16,
   "id": "surrounded-search",
   "metadata": {},
   "outputs": [],
   "source": [
    "# 2 eliminate non-residential buildings : area / uprn count must < 250"
   ]
  },
  {
   "cell_type": "code",
   "execution_count": 17,
   "id": "scenic-lexington",
   "metadata": {},
   "outputs": [],
   "source": [
    "building_counts = dict(df1.id_building.value_counts())"
   ]
  },
  {
   "cell_type": "code",
   "execution_count": 18,
   "id": "initial-advertiser",
   "metadata": {},
   "outputs": [
    {
     "name": "stderr",
     "output_type": "stream",
     "text": [
      "<ipython-input-18-909eb256e9a3>:1: SettingWithCopyWarning: \n",
      "A value is trying to be set on a copy of a slice from a DataFrame.\n",
      "Try using .loc[row_indexer,col_indexer] = value instead\n",
      "\n",
      "See the caveats in the documentation: https://pandas.pydata.org/pandas-docs/stable/user_guide/indexing.html#returning-a-view-versus-a-copy\n",
      "  df1['building_counts'] = df1.id_building.apply(lambda x: building_counts.get(x, 0))\n"
     ]
    }
   ],
   "source": [
    "df1['building_counts'] = df1.id_building.apply(lambda x: building_counts.get(x, 0))"
   ]
  },
  {
   "cell_type": "code",
   "execution_count": 19,
   "id": "electric-glenn",
   "metadata": {},
   "outputs": [
    {
     "name": "stderr",
     "output_type": "stream",
     "text": [
      "<ipython-input-19-5ba437b08873>:1: SettingWithCopyWarning: \n",
      "A value is trying to be set on a copy of a slice from a DataFrame.\n",
      "Try using .loc[row_indexer,col_indexer] = value instead\n",
      "\n",
      "See the caveats in the documentation: https://pandas.pydata.org/pandas-docs/stable/user_guide/indexing.html#returning-a-view-versus-a-copy\n",
      "  df1['footprint_area'] = gpd.GeoSeries(df1.geometry_building).area\n",
      "<ipython-input-19-5ba437b08873>:2: SettingWithCopyWarning: \n",
      "A value is trying to be set on a copy of a slice from a DataFrame.\n",
      "Try using .loc[row_indexer,col_indexer] = value instead\n",
      "\n",
      "See the caveats in the documentation: https://pandas.pydata.org/pandas-docs/stable/user_guide/indexing.html#returning-a-view-versus-a-copy\n",
      "  df1['footprint_area_per_uprn'] = df1.footprint_area / df1.building_counts\n"
     ]
    }
   ],
   "source": [
    "df1['footprint_area'] = gpd.GeoSeries(df1.geometry_building).area\n",
    "df1['footprint_area_per_uprn'] = df1.footprint_area / df1.building_counts"
   ]
  },
  {
   "cell_type": "code",
   "execution_count": 20,
   "id": "worthy-grain",
   "metadata": {},
   "outputs": [
    {
     "name": "stderr",
     "output_type": "stream",
     "text": [
      "<ipython-input-20-dd708221cae7>:1: SettingWithCopyWarning: \n",
      "A value is trying to be set on a copy of a slice from a DataFrame.\n",
      "Try using .loc[row_indexer,col_indexer] = value instead\n",
      "\n",
      "See the caveats in the documentation: https://pandas.pydata.org/pandas-docs/stable/user_guide/indexing.html#returning-a-view-versus-a-copy\n",
      "  df1['residential_building'] = df1['footprint_area_per_uprn'] < 250\n"
     ]
    }
   ],
   "source": [
    "df1['residential_building'] = df1['footprint_area_per_uprn'] < 250"
   ]
  },
  {
   "cell_type": "code",
   "execution_count": 21,
   "id": "shared-password",
   "metadata": {},
   "outputs": [],
   "source": [
    "df2 = df1.loc[df1.residential_building]"
   ]
  },
  {
   "cell_type": "code",
   "execution_count": 22,
   "id": "multiple-cradle",
   "metadata": {},
   "outputs": [],
   "source": [
    "# 3 establish whether roads are residential : length / uprn count must < 5??"
   ]
  },
  {
   "cell_type": "code",
   "execution_count": 23,
   "id": "senior-swimming",
   "metadata": {},
   "outputs": [],
   "source": [
    "street_counts = dict(df2.id_street.value_counts())"
   ]
  },
  {
   "cell_type": "code",
   "execution_count": 24,
   "id": "proper-calgary",
   "metadata": {},
   "outputs": [
    {
     "name": "stderr",
     "output_type": "stream",
     "text": [
      "<ipython-input-24-be680ec1f918>:1: SettingWithCopyWarning: \n",
      "A value is trying to be set on a copy of a slice from a DataFrame.\n",
      "Try using .loc[row_indexer,col_indexer] = value instead\n",
      "\n",
      "See the caveats in the documentation: https://pandas.pydata.org/pandas-docs/stable/user_guide/indexing.html#returning-a-view-versus-a-copy\n",
      "  df2['street_counts'] = df2.id_street.apply(lambda x: street_counts.get(x, 0))\n"
     ]
    }
   ],
   "source": [
    "df2['street_counts'] = df2.id_street.apply(lambda x: street_counts.get(x, 0))"
   ]
  },
  {
   "cell_type": "code",
   "execution_count": 25,
   "id": "verbal-roots",
   "metadata": {},
   "outputs": [
    {
     "name": "stderr",
     "output_type": "stream",
     "text": [
      "<ipython-input-25-0dd6277d304b>:1: SettingWithCopyWarning: \n",
      "A value is trying to be set on a copy of a slice from a DataFrame.\n",
      "Try using .loc[row_indexer,col_indexer] = value instead\n",
      "\n",
      "See the caveats in the documentation: https://pandas.pydata.org/pandas-docs/stable/user_guide/indexing.html#returning-a-view-versus-a-copy\n",
      "  df2['street_length_per_uprn'] = df2.length / df2.street_counts\n"
     ]
    }
   ],
   "source": [
    "df2['street_length_per_uprn'] = df2.length / df2.street_counts"
   ]
  },
  {
   "cell_type": "code",
   "execution_count": 31,
   "id": "alternative-islam",
   "metadata": {},
   "outputs": [
    {
     "name": "stdout",
     "output_type": "stream",
     "text": [
      "CPU times: user 4.19 ms, sys: 5.32 ms, total: 9.51 ms\n",
      "Wall time: 5.25 ms\n"
     ]
    },
    {
     "name": "stderr",
     "output_type": "stream",
     "text": [
      "<timed exec>:1: SettingWithCopyWarning: \n",
      "A value is trying to be set on a copy of a slice from a DataFrame.\n",
      "Try using .loc[row_indexer,col_indexer] = value instead\n",
      "\n",
      "See the caveats in the documentation: https://pandas.pydata.org/pandas-docs/stable/user_guide/indexing.html#returning-a-view-versus-a-copy\n",
      "<timed exec>:2: SettingWithCopyWarning: \n",
      "A value is trying to be set on a copy of a slice from a DataFrame.\n",
      "Try using .loc[row_indexer,col_indexer] = value instead\n",
      "\n",
      "See the caveats in the documentation: https://pandas.pydata.org/pandas-docs/stable/user_guide/indexing.html#returning-a-view-versus-a-copy\n",
      "<timed exec>:3: SettingWithCopyWarning: \n",
      "A value is trying to be set on a copy of a slice from a DataFrame.\n",
      "Try using .loc[row_indexer,col_indexer] = value instead\n",
      "\n",
      "See the caveats in the documentation: https://pandas.pydata.org/pandas-docs/stable/user_guide/indexing.html#returning-a-view-versus-a-copy\n"
     ]
    }
   ],
   "source": [
    "df2['residential_street'] = df2.street_length_per_uprn < 20\n",
    "df2['short_street'] = df2.length < 20\n",
    "df2['res_or_short'] = df2.residential_street | df2.short_street"
   ]
  },
  {
   "cell_type": "code",
   "execution_count": 36,
   "id": "quarterly-liabilities",
   "metadata": {},
   "outputs": [],
   "source": [
    "df3 = df2.loc[df2.res_or_short]"
   ]
  },
  {
   "cell_type": "code",
   "execution_count": 23,
   "id": "little-collect",
   "metadata": {},
   "outputs": [],
   "source": [
    "# residential = dict(zip(df2.id_street, df2.residential_street))"
   ]
  },
  {
   "cell_type": "code",
   "execution_count": 24,
   "id": "oriented-evidence",
   "metadata": {},
   "outputs": [],
   "source": [
    "# df['residential_street'] = df.id_street.apply(lambda x: residential.get(x, False))"
   ]
  },
  {
   "cell_type": "code",
   "execution_count": 42,
   "id": "velvet-smile",
   "metadata": {},
   "outputs": [],
   "source": [
    "# 4 find connected networks of residential streets"
   ]
  },
  {
   "cell_type": "code",
   "execution_count": 40,
   "id": "internal-beach",
   "metadata": {},
   "outputs": [
    {
     "data": {
      "text/plain": [
       "Index(['UPRN', 'uprn_geometry', 'id_building', 'featureCode',\n",
       "       'geometry_building', 'dist_building', 'id_street', 'endNode',\n",
       "       'startNode', 'roadNumberTOID', 'roadNameTOID', 'fictitious',\n",
       "       'roadClassification', 'roadFunction', 'formOfWay', 'length',\n",
       "       'length_uom', 'loop', 'primaryRoute', 'trunkRoad',\n",
       "       'roadClassificationNumber', 'name1', 'name1_lang', 'name2',\n",
       "       'name2_lang', 'roadStructure', 'geometry_street', 'dist_street',\n",
       "       'building_counts', 'footprint_area', 'footprint_area_per_uprn',\n",
       "       'residential_building', 'street_counts', 'street_length_per_uprn',\n",
       "       'residential_street', 'short_street', 'res_or_short'],\n",
       "      dtype='object')"
      ]
     },
     "execution_count": 40,
     "metadata": {},
     "output_type": "execute_result"
    }
   ],
   "source": [
    "df3.columns"
   ]
  },
  {
   "cell_type": "code",
   "execution_count": 45,
   "id": "cross-enzyme",
   "metadata": {},
   "outputs": [],
   "source": [
    "streets3 = df3[['id_street', 'startNode', 'endNode', 'length', 'roadFunction', 'geometry_street']]"
   ]
  },
  {
   "cell_type": "code",
   "execution_count": 46,
   "id": "allied-intake",
   "metadata": {},
   "outputs": [],
   "source": [
    "streets = df[['id_street', 'startNode', 'endNode', 'length', 'roadFunction', 'geometry_street']]"
   ]
  },
  {
   "cell_type": "code",
   "execution_count": 47,
   "id": "engaged-winner",
   "metadata": {},
   "outputs": [],
   "source": [
    "streets_gdf3 = gpd.GeoDataFrame(df3, geometry='geometry_street')"
   ]
  },
  {
   "cell_type": "code",
   "execution_count": 48,
   "id": "operating-lesson",
   "metadata": {},
   "outputs": [],
   "source": [
    "streets_gdf = gpd.GeoDataFrame(df, geometry='geometry_street')"
   ]
  },
  {
   "cell_type": "code",
   "execution_count": 55,
   "id": "billion-railway",
   "metadata": {},
   "outputs": [
    {
     "data": {
      "text/plain": [
       "<AxesSubplot:>"
      ]
     },
     "execution_count": 55,
     "metadata": {},
     "output_type": "execute_result"
    },
    {
     "data": {
      "image/png": "[encoded data removed]",
      "text/plain": [
       "<Figure size 432x288 with 1 Axes>"
      ]
     },
     "metadata": {
      "needs_background": "light"
     },
     "output_type": "display_data"
    }
   ],
   "source": [
    "t = streets_gdf.plot()\n",
    "streets_gdf3.plot(color='red', ax=t.axes)"
   ]
  },
  {
   "cell_type": "code",
   "execution_count": 34,
   "id": "ultimate-recipient",
   "metadata": {},
   "outputs": [],
   "source": [
    "import networkx as nx"
   ]
  },
  {
   "cell_type": "code",
   "execution_count": 136,
   "id": "treated-globe",
   "metadata": {},
   "outputs": [],
   "source": [
    "edges = streets3.loc[~streets3.duplicated()]"
   ]
  },
  {
   "cell_type": "code",
   "execution_count": 137,
   "id": "united-simple",
   "metadata": {},
   "outputs": [],
   "source": [
    "g = nx.from_pandas_edgelist(edges, 'startNode', 'endNode', True)"
   ]
  },
  {
   "cell_type": "code",
   "execution_count": 138,
   "id": "coral-continuity",
   "metadata": {},
   "outputs": [],
   "source": [
    "subgraphs =[g.subgraph(c) for c in nx.connected_components(g)]"
   ]
  },
  {
   "cell_type": "code",
   "execution_count": 139,
   "id": "accessible-precipitation",
   "metadata": {},
   "outputs": [],
   "source": [
    "subgraph_edges = [sg.edges for sg in subgraphs]"
   ]
  },
  {
   "cell_type": "code",
   "execution_count": null,
   "id": "circular-diamond",
   "metadata": {},
   "outputs": [],
   "source": [
    "# 5 find connected networks of residential and non-(B Road/ Minor Road) streets"
   ]
  }
 ],
 "metadata": {
  "kernelspec": {
   "display_name": "Python 3",
   "language": "python",
   "name": "python3"
  },
  "language_info": {
   "codemirror_mode": {
    "name": "ipython",
    "version": 3
   },
   "file_extension": ".py",
   "mimetype": "text/x-python",
   "name": "python",
   "nbconvert_exporter": "python",
   "pygments_lexer": "ipython3",
   "version": "3.8.8"
  }
 },
 "nbformat": 4,
 "nbformat_minor": 5
}
