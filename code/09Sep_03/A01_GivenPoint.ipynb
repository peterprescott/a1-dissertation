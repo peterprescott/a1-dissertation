{
 "cells": [
  {
   "cell_type": "code",
   "execution_count": 1,
   "id": "lonely-parallel",
   "metadata": {},
   "outputs": [],
   "source": [
    "import sys\n",
    "sys.path.append('..')"
   ]
  },
  {
   "cell_type": "code",
   "execution_count": 2,
   "id": "foster-jacob",
   "metadata": {},
   "outputs": [],
   "source": [
    "import pandas as pd"
   ]
  },
  {
   "cell_type": "code",
   "execution_count": 3,
   "id": "congressional-glenn",
   "metadata": {},
   "outputs": [],
   "source": [
    "# given point"
   ]
  },
  {
   "cell_type": "code",
   "execution_count": 4,
   "id": "lucky-joshua",
   "metadata": {},
   "outputs": [],
   "source": [
    "# # read in tile_points.csv\n",
    "# points = pd.read_csv('../../data/tile_points.csv')\n",
    "\n",
    "# row = points.iloc[10000]"
   ]
  },
  {
   "cell_type": "code",
   "execution_count": 5,
   "id": "harmful-championship",
   "metadata": {},
   "outputs": [],
   "source": [
    "# find enclosing tile"
   ]
  },
  {
   "cell_type": "code",
   "execution_count": 6,
   "id": "aggressive-decision",
   "metadata": {},
   "outputs": [],
   "source": [
    "import geopandas as gpd"
   ]
  },
  {
   "cell_type": "code",
   "execution_count": 7,
   "id": "crazy-mainland",
   "metadata": {},
   "outputs": [
    {
     "name": "stdout",
     "output_type": "stream",
     "text": [
      "Initializing database connection...\n",
      "Database connected!\n"
     ]
    }
   ],
   "source": [
    "from nbhd.data import Base"
   ]
  },
  {
   "cell_type": "code",
   "execution_count": 8,
   "id": "early-grant",
   "metadata": {},
   "outputs": [],
   "source": [
    "db = Base()"
   ]
  },
  {
   "cell_type": "code",
   "execution_count": 9,
   "id": "signal-youth",
   "metadata": {},
   "outputs": [],
   "source": [
    "from nbhd.geography import Neighbourhood"
   ]
  },
  {
   "cell_type": "code",
   "execution_count": 10,
   "id": "atomic-federal",
   "metadata": {},
   "outputs": [],
   "source": [
    "n = Neighbourhood(load=False)#row.x, row.y, "
   ]
  },
  {
   "cell_type": "code",
   "execution_count": 11,
   "id": "federal-constant",
   "metadata": {},
   "outputs": [],
   "source": [
    "# nearest roads ~ 'slimroads' is without motorways and secondary roads"
   ]
  },
  {
   "cell_type": "code",
   "execution_count": 12,
   "id": "victorian-denmark",
   "metadata": {},
   "outputs": [],
   "source": [
    "nr_roads = n.db.nearest_neighbours('slimroads', n.geom.buffer(10))"
   ]
  },
  {
   "cell_type": "code",
   "execution_count": 13,
   "id": "absent-affairs",
   "metadata": {},
   "outputs": [],
   "source": [
    "# nearest buildings"
   ]
  },
  {
   "cell_type": "code",
   "execution_count": 14,
   "id": "instructional-kennedy",
   "metadata": {},
   "outputs": [],
   "source": [
    "nr_buildings = n.db.nearest_neighbours('openmaplocal', n.geom.buffer(1))"
   ]
  },
  {
   "cell_type": "code",
   "execution_count": 15,
   "id": "flying-bacon",
   "metadata": {},
   "outputs": [],
   "source": [
    "# merge on UPRN"
   ]
  },
  {
   "cell_type": "code",
   "execution_count": 16,
   "id": "powered-aaron",
   "metadata": {},
   "outputs": [],
   "source": [
    "df = nr_buildings.merge(nr_roads, on=['UPRN', 'uprn_geometry'], how='inner', suffixes=('_building', '_street'))"
   ]
  },
  {
   "cell_type": "code",
   "execution_count": 17,
   "id": "extreme-short",
   "metadata": {},
   "outputs": [],
   "source": [
    "del(nr_buildings)\n",
    "del(nr_roads)"
   ]
  },
  {
   "cell_type": "code",
   "execution_count": 18,
   "id": "representative-terry",
   "metadata": {},
   "outputs": [],
   "source": [
    "# 1 eliminate non-building properties : distance to building must == 0"
   ]
  },
  {
   "cell_type": "code",
   "execution_count": 19,
   "id": "secret-latin",
   "metadata": {},
   "outputs": [],
   "source": [
    "df1 = df.loc[df.dist_building==0]"
   ]
  },
  {
   "cell_type": "code",
   "execution_count": 20,
   "id": "changed-nashville",
   "metadata": {},
   "outputs": [],
   "source": [
    "# 2 eliminate non-residential buildings : area / uprn count must < 250"
   ]
  },
  {
   "cell_type": "code",
   "execution_count": 21,
   "id": "experienced-response",
   "metadata": {},
   "outputs": [],
   "source": [
    "building_counts = dict(df1.id_building.value_counts())"
   ]
  },
  {
   "cell_type": "code",
   "execution_count": 22,
   "id": "peaceful-engine",
   "metadata": {},
   "outputs": [
    {
     "name": "stderr",
     "output_type": "stream",
     "text": [
      "<ipython-input-22-909eb256e9a3>:1: SettingWithCopyWarning: \n",
      "A value is trying to be set on a copy of a slice from a DataFrame.\n",
      "Try using .loc[row_indexer,col_indexer] = value instead\n",
      "\n",
      "See the caveats in the documentation: https://pandas.pydata.org/pandas-docs/stable/user_guide/indexing.html#returning-a-view-versus-a-copy\n",
      "  df1['building_counts'] = df1.id_building.apply(lambda x: building_counts.get(x, 0))\n"
     ]
    }
   ],
   "source": [
    "df1['building_counts'] = df1.id_building.apply(lambda x: building_counts.get(x, 0))"
   ]
  },
  {
   "cell_type": "code",
   "execution_count": 23,
   "id": "unable-cookie",
   "metadata": {},
   "outputs": [
    {
     "name": "stderr",
     "output_type": "stream",
     "text": [
      "<ipython-input-23-5ba437b08873>:1: SettingWithCopyWarning: \n",
      "A value is trying to be set on a copy of a slice from a DataFrame.\n",
      "Try using .loc[row_indexer,col_indexer] = value instead\n",
      "\n",
      "See the caveats in the documentation: https://pandas.pydata.org/pandas-docs/stable/user_guide/indexing.html#returning-a-view-versus-a-copy\n",
      "  df1['footprint_area'] = gpd.GeoSeries(df1.geometry_building).area\n",
      "<ipython-input-23-5ba437b08873>:2: SettingWithCopyWarning: \n",
      "A value is trying to be set on a copy of a slice from a DataFrame.\n",
      "Try using .loc[row_indexer,col_indexer] = value instead\n",
      "\n",
      "See the caveats in the documentation: https://pandas.pydata.org/pandas-docs/stable/user_guide/indexing.html#returning-a-view-versus-a-copy\n",
      "  df1['footprint_area_per_uprn'] = df1.footprint_area / df1.building_counts\n"
     ]
    }
   ],
   "source": [
    "df1['footprint_area'] = gpd.GeoSeries(df1.geometry_building).area\n",
    "df1['footprint_area_per_uprn'] = df1.footprint_area / df1.building_counts"
   ]
  },
  {
   "cell_type": "code",
   "execution_count": 24,
   "id": "involved-league",
   "metadata": {},
   "outputs": [
    {
     "name": "stderr",
     "output_type": "stream",
     "text": [
      "<ipython-input-24-dd708221cae7>:1: SettingWithCopyWarning: \n",
      "A value is trying to be set on a copy of a slice from a DataFrame.\n",
      "Try using .loc[row_indexer,col_indexer] = value instead\n",
      "\n",
      "See the caveats in the documentation: https://pandas.pydata.org/pandas-docs/stable/user_guide/indexing.html#returning-a-view-versus-a-copy\n",
      "  df1['residential_building'] = df1['footprint_area_per_uprn'] < 250\n"
     ]
    }
   ],
   "source": [
    "df1['residential_building'] = df1['footprint_area_per_uprn'] < 250"
   ]
  },
  {
   "cell_type": "code",
   "execution_count": 25,
   "id": "balanced-botswana",
   "metadata": {},
   "outputs": [],
   "source": [
    "df2 = df1.loc[df1.residential_building]"
   ]
  },
  {
   "cell_type": "code",
   "execution_count": 26,
   "id": "accompanied-devon",
   "metadata": {},
   "outputs": [],
   "source": [
    "# 3 establish whether roads are residential : length / uprn count must < 5??"
   ]
  },
  {
   "cell_type": "code",
   "execution_count": 27,
   "id": "recent-bruce",
   "metadata": {},
   "outputs": [],
   "source": [
    "street_counts = dict(df2.id_street.value_counts())"
   ]
  },
  {
   "cell_type": "code",
   "execution_count": 28,
   "id": "stone-description",
   "metadata": {},
   "outputs": [
    {
     "name": "stderr",
     "output_type": "stream",
     "text": [
      "<ipython-input-28-be680ec1f918>:1: SettingWithCopyWarning: \n",
      "A value is trying to be set on a copy of a slice from a DataFrame.\n",
      "Try using .loc[row_indexer,col_indexer] = value instead\n",
      "\n",
      "See the caveats in the documentation: https://pandas.pydata.org/pandas-docs/stable/user_guide/indexing.html#returning-a-view-versus-a-copy\n",
      "  df2['street_counts'] = df2.id_street.apply(lambda x: street_counts.get(x, 0))\n"
     ]
    }
   ],
   "source": [
    "df2['street_counts'] = df2.id_street.apply(lambda x: street_counts.get(x, 0))"
   ]
  },
  {
   "cell_type": "code",
   "execution_count": 29,
   "id": "functioning-treatment",
   "metadata": {},
   "outputs": [
    {
     "name": "stderr",
     "output_type": "stream",
     "text": [
      "<ipython-input-29-0dd6277d304b>:1: SettingWithCopyWarning: \n",
      "A value is trying to be set on a copy of a slice from a DataFrame.\n",
      "Try using .loc[row_indexer,col_indexer] = value instead\n",
      "\n",
      "See the caveats in the documentation: https://pandas.pydata.org/pandas-docs/stable/user_guide/indexing.html#returning-a-view-versus-a-copy\n",
      "  df2['street_length_per_uprn'] = df2.length / df2.street_counts\n"
     ]
    }
   ],
   "source": [
    "df2['street_length_per_uprn'] = df2.length / df2.street_counts"
   ]
  },
  {
   "cell_type": "code",
   "execution_count": 30,
   "id": "opposite-jones",
   "metadata": {},
   "outputs": [
    {
     "name": "stderr",
     "output_type": "stream",
     "text": [
      "<ipython-input-30-3528602d91a6>:1: SettingWithCopyWarning: \n",
      "A value is trying to be set on a copy of a slice from a DataFrame.\n",
      "Try using .loc[row_indexer,col_indexer] = value instead\n",
      "\n",
      "See the caveats in the documentation: https://pandas.pydata.org/pandas-docs/stable/user_guide/indexing.html#returning-a-view-versus-a-copy\n",
      "  df2['residential_street'] = df2.street_length_per_uprn < 20\n"
     ]
    }
   ],
   "source": [
    "df2['residential_street'] = df2.street_length_per_uprn < 20"
   ]
  },
  {
   "cell_type": "code",
   "execution_count": 31,
   "id": "actual-slope",
   "metadata": {},
   "outputs": [],
   "source": [
    "residential = dict(zip(df2.id_street, df2.residential_street))"
   ]
  },
  {
   "cell_type": "code",
   "execution_count": 32,
   "id": "exceptional-healthcare",
   "metadata": {},
   "outputs": [],
   "source": [
    "df['residential'] = df.id_street.apply(lambda x: residential.get(x, False))"
   ]
  },
  {
   "cell_type": "code",
   "execution_count": 33,
   "id": "coordinated-packet",
   "metadata": {},
   "outputs": [],
   "source": [
    "df['short_street'] = df.length < 100"
   ]
  },
  {
   "cell_type": "code",
   "execution_count": 34,
   "id": "bronze-sheriff",
   "metadata": {},
   "outputs": [],
   "source": [
    "df['res_or_short'] = df.residential | df.short_street"
   ]
  },
  {
   "cell_type": "code",
   "execution_count": 35,
   "id": "bibliographic-catalog",
   "metadata": {},
   "outputs": [],
   "source": [
    "df3 = df.loc[df.res_or_short]"
   ]
  },
  {
   "cell_type": "code",
   "execution_count": 36,
   "id": "innovative-vector",
   "metadata": {},
   "outputs": [],
   "source": [
    "# 4 find connected networks of residential streets"
   ]
  },
  {
   "cell_type": "code",
   "execution_count": 37,
   "id": "invalid-polymer",
   "metadata": {},
   "outputs": [],
   "source": [
    "streets3 = df3[['id_street', 'startNode', 'endNode', 'length', 'roadFunction', 'geometry_street']]"
   ]
  },
  {
   "cell_type": "code",
   "execution_count": 38,
   "id": "failing-respect",
   "metadata": {},
   "outputs": [],
   "source": [
    "streets = df[['id_street', 'startNode', 'endNode', 'length', 'roadFunction', 'geometry_street']]"
   ]
  },
  {
   "cell_type": "code",
   "execution_count": 39,
   "id": "academic-video",
   "metadata": {},
   "outputs": [],
   "source": [
    "streets_gdf3 = gpd.GeoDataFrame(df3, geometry='geometry_street')"
   ]
  },
  {
   "cell_type": "code",
   "execution_count": 40,
   "id": "fourth-coverage",
   "metadata": {},
   "outputs": [],
   "source": [
    "streets_gdf = gpd.GeoDataFrame(df, geometry='geometry_street')"
   ]
  },
  {
   "cell_type": "code",
   "execution_count": 41,
   "id": "acoustic-jacket",
   "metadata": {},
   "outputs": [
    {
     "data": {
      "text/plain": [
       "<AxesSubplot:>"
      ]
     },
     "execution_count": 41,
     "metadata": {},
     "output_type": "execute_result"
    },
    {
     "data": {
      "image/png": "[encoded data removed]",
      "text/plain": [
       "<Figure size 432x288 with 1 Axes>"
      ]
     },
     "metadata": {
      "needs_background": "light"
     },
     "output_type": "display_data"
    }
   ],
   "source": [
    "t = streets_gdf.plot()\n",
    "streets_gdf3.plot(color='red', ax=t.axes)"
   ]
  },
  {
   "cell_type": "code",
   "execution_count": 42,
   "id": "civilian-liquid",
   "metadata": {},
   "outputs": [],
   "source": [
    "import networkx as nx"
   ]
  },
  {
   "cell_type": "code",
   "execution_count": 43,
   "id": "executed-shipping",
   "metadata": {},
   "outputs": [],
   "source": [
    "edges = streets3.loc[~streets3.duplicated()]"
   ]
  },
  {
   "cell_type": "code",
   "execution_count": 44,
   "id": "sustained-davis",
   "metadata": {},
   "outputs": [
    {
     "data": {
      "text/html": [
       "<div>\n",
       "<style scoped>\n",
       "    .dataframe tbody tr th:only-of-type {\n",
       "        vertical-align: middle;\n",
       "    }\n",
       "\n",
       "    .dataframe tbody tr th {\n",
       "        vertical-align: top;\n",
       "    }\n",
       "\n",
       "    .dataframe thead th {\n",
       "        text-align: right;\n",
       "    }\n",
       "</style>\n",
       "<table border=\"1\" class=\"dataframe\">\n",
       "  <thead>\n",
       "    <tr style=\"text-align: right;\">\n",
       "      <th></th>\n",
       "      <th>id_street</th>\n",
       "      <th>startNode</th>\n",
       "      <th>endNode</th>\n",
       "      <th>length</th>\n",
       "      <th>roadFunction</th>\n",
       "      <th>geometry_street</th>\n",
       "    </tr>\n",
       "  </thead>\n",
       "  <tbody>\n",
       "    <tr>\n",
       "      <th>0</th>\n",
       "      <td>id5E137843-85D8-4E11-AFC6-4714A213B5D3</td>\n",
       "      <td>id136C88AB-84CB-4844-B3EA-250D06F589BF</td>\n",
       "      <td>id1196BE64-808A-4DBE-B12F-606B6135E0F0</td>\n",
       "      <td>66</td>\n",
       "      <td>Local Road</td>\n",
       "      <td>LINESTRING (339491.000 391787.000, 339491.000 ...</td>\n",
       "    </tr>\n",
       "    <tr>\n",
       "      <th>8</th>\n",
       "      <td>id24A5A4B8-EF6C-40AD-AB7C-AB0B64A6510A</td>\n",
       "      <td>id54779C1B-8693-4A80-816F-BAFBF95E89C1</td>\n",
       "      <td>id1196BE64-808A-4DBE-B12F-606B6135E0F0</td>\n",
       "      <td>103</td>\n",
       "      <td>Local Road</td>\n",
       "      <td>LINESTRING (339536.000 391780.000, 339535.080 ...</td>\n",
       "    </tr>\n",
       "    <tr>\n",
       "      <th>24</th>\n",
       "      <td>idC91AED0D-B5BE-457D-827E-63BC083CB177</td>\n",
       "      <td>id3E853882-05E4-4B04-A3DA-D1790327D7AE</td>\n",
       "      <td>idAE5D8D95-077B-4856-B195-6A6516A17A6E</td>\n",
       "      <td>56</td>\n",
       "      <td>Local Road</td>\n",
       "      <td>LINESTRING (339614.000 391264.000, 339638.500 ...</td>\n",
       "    </tr>\n",
       "    <tr>\n",
       "      <th>25</th>\n",
       "      <td>id4C57AD07-7552-4200-9934-F6783A58AEED</td>\n",
       "      <td>idAE5D8D95-077B-4856-B195-6A6516A17A6E</td>\n",
       "      <td>idC9C1B900-F386-47D8-AC66-178BA124749F</td>\n",
       "      <td>239</td>\n",
       "      <td>Local Road</td>\n",
       "      <td>LINESTRING (339663.000 391291.000, 339709.000 ...</td>\n",
       "    </tr>\n",
       "    <tr>\n",
       "      <th>26</th>\n",
       "      <td>id116291A0-C738-4161-B2CA-162C291D4C9F</td>\n",
       "      <td>idAE5D8D95-077B-4856-B195-6A6516A17A6E</td>\n",
       "      <td>id23881A15-3638-4DAA-A6EF-A36D9F3E84D6</td>\n",
       "      <td>207</td>\n",
       "      <td>Local Road</td>\n",
       "      <td>LINESTRING (339663.000 391291.000, 339647.000 ...</td>\n",
       "    </tr>\n",
       "    <tr>\n",
       "      <th>...</th>\n",
       "      <td>...</td>\n",
       "      <td>...</td>\n",
       "      <td>...</td>\n",
       "      <td>...</td>\n",
       "      <td>...</td>\n",
       "      <td>...</td>\n",
       "    </tr>\n",
       "    <tr>\n",
       "      <th>14808</th>\n",
       "      <td>id47AF93F2-9F70-4FC0-9FF6-AA4D325FDED0</td>\n",
       "      <td>id2F3DD07C-1026-4C4E-A354-1A9791AF0E2B</td>\n",
       "      <td>id8E7D0DE8-571F-4E47-ABC9-FE12FE13706F</td>\n",
       "      <td>29</td>\n",
       "      <td>Local Road</td>\n",
       "      <td>LINESTRING (339282.000 391784.000, 339282.000 ...</td>\n",
       "    </tr>\n",
       "    <tr>\n",
       "      <th>14837</th>\n",
       "      <td>id733ECEDD-6428-4DE6-B6CC-257FEAAA4A03</td>\n",
       "      <td>idBC0A1FD5-81AD-464B-AC1F-9CD21FE6E36B</td>\n",
       "      <td>id01944055-29FF-4B14-8C88-E7C8B55EC694</td>\n",
       "      <td>24</td>\n",
       "      <td>Local Road</td>\n",
       "      <td>LINESTRING (339301.620 391935.000, 339313.810 ...</td>\n",
       "    </tr>\n",
       "    <tr>\n",
       "      <th>14840</th>\n",
       "      <td>id0D4203DA-2130-4D66-B65E-88EDAE91826E</td>\n",
       "      <td>id01944055-29FF-4B14-8C88-E7C8B55EC694</td>\n",
       "      <td>id3F77B8EF-8DDE-42E4-991B-C36D143C6758</td>\n",
       "      <td>46</td>\n",
       "      <td>Minor Road</td>\n",
       "      <td>LINESTRING (339326.000 391935.000, 339325.000 ...</td>\n",
       "    </tr>\n",
       "    <tr>\n",
       "      <th>15106</th>\n",
       "      <td>id7EC4BF87-BD72-4DA2-965C-1BAB0ABA346F</td>\n",
       "      <td>idC9C1B900-F386-47D8-AC66-178BA124749F</td>\n",
       "      <td>id235942AE-30F3-4BFF-8D48-D48261B35762</td>\n",
       "      <td>33</td>\n",
       "      <td>Local Road</td>\n",
       "      <td>LINESTRING (339684.000 391501.000, 339700.500 ...</td>\n",
       "    </tr>\n",
       "    <tr>\n",
       "      <th>15138</th>\n",
       "      <td>id31DFD71A-5C98-44A9-94F2-EB5BD04A91C5</td>\n",
       "      <td>id845737B2-1891-45DD-A47D-9504C23F3C00</td>\n",
       "      <td>idD94D3BD0-809D-4FF3-B9F9-3E59B705286E</td>\n",
       "      <td>22</td>\n",
       "      <td>Local Road</td>\n",
       "      <td>LINESTRING (339408.000 391651.000, 339407.000 ...</td>\n",
       "    </tr>\n",
       "  </tbody>\n",
       "</table>\n",
       "<p>781 rows × 6 columns</p>\n",
       "</div>"
      ],
      "text/plain": [
       "                                    id_street  \\\n",
       "0      id5E137843-85D8-4E11-AFC6-4714A213B5D3   \n",
       "8      id24A5A4B8-EF6C-40AD-AB7C-AB0B64A6510A   \n",
       "24     idC91AED0D-B5BE-457D-827E-63BC083CB177   \n",
       "25     id4C57AD07-7552-4200-9934-F6783A58AEED   \n",
       "26     id116291A0-C738-4161-B2CA-162C291D4C9F   \n",
       "...                                       ...   \n",
       "14808  id47AF93F2-9F70-4FC0-9FF6-AA4D325FDED0   \n",
       "14837  id733ECEDD-6428-4DE6-B6CC-257FEAAA4A03   \n",
       "14840  id0D4203DA-2130-4D66-B65E-88EDAE91826E   \n",
       "15106  id7EC4BF87-BD72-4DA2-965C-1BAB0ABA346F   \n",
       "15138  id31DFD71A-5C98-44A9-94F2-EB5BD04A91C5   \n",
       "\n",
       "                                    startNode  \\\n",
       "0      id136C88AB-84CB-4844-B3EA-250D06F589BF   \n",
       "8      id54779C1B-8693-4A80-816F-BAFBF95E89C1   \n",
       "24     id3E853882-05E4-4B04-A3DA-D1790327D7AE   \n",
       "25     idAE5D8D95-077B-4856-B195-6A6516A17A6E   \n",
       "26     idAE5D8D95-077B-4856-B195-6A6516A17A6E   \n",
       "...                                       ...   \n",
       "14808  id2F3DD07C-1026-4C4E-A354-1A9791AF0E2B   \n",
       "14837  idBC0A1FD5-81AD-464B-AC1F-9CD21FE6E36B   \n",
       "14840  id01944055-29FF-4B14-8C88-E7C8B55EC694   \n",
       "15106  idC9C1B900-F386-47D8-AC66-178BA124749F   \n",
       "15138  id845737B2-1891-45DD-A47D-9504C23F3C00   \n",
       "\n",
       "                                      endNode  length roadFunction  \\\n",
       "0      id1196BE64-808A-4DBE-B12F-606B6135E0F0      66   Local Road   \n",
       "8      id1196BE64-808A-4DBE-B12F-606B6135E0F0     103   Local Road   \n",
       "24     idAE5D8D95-077B-4856-B195-6A6516A17A6E      56   Local Road   \n",
       "25     idC9C1B900-F386-47D8-AC66-178BA124749F     239   Local Road   \n",
       "26     id23881A15-3638-4DAA-A6EF-A36D9F3E84D6     207   Local Road   \n",
       "...                                       ...     ...          ...   \n",
       "14808  id8E7D0DE8-571F-4E47-ABC9-FE12FE13706F      29   Local Road   \n",
       "14837  id01944055-29FF-4B14-8C88-E7C8B55EC694      24   Local Road   \n",
       "14840  id3F77B8EF-8DDE-42E4-991B-C36D143C6758      46   Minor Road   \n",
       "15106  id235942AE-30F3-4BFF-8D48-D48261B35762      33   Local Road   \n",
       "15138  idD94D3BD0-809D-4FF3-B9F9-3E59B705286E      22   Local Road   \n",
       "\n",
       "                                         geometry_street  \n",
       "0      LINESTRING (339491.000 391787.000, 339491.000 ...  \n",
       "8      LINESTRING (339536.000 391780.000, 339535.080 ...  \n",
       "24     LINESTRING (339614.000 391264.000, 339638.500 ...  \n",
       "25     LINESTRING (339663.000 391291.000, 339709.000 ...  \n",
       "26     LINESTRING (339663.000 391291.000, 339647.000 ...  \n",
       "...                                                  ...  \n",
       "14808  LINESTRING (339282.000 391784.000, 339282.000 ...  \n",
       "14837  LINESTRING (339301.620 391935.000, 339313.810 ...  \n",
       "14840  LINESTRING (339326.000 391935.000, 339325.000 ...  \n",
       "15106  LINESTRING (339684.000 391501.000, 339700.500 ...  \n",
       "15138  LINESTRING (339408.000 391651.000, 339407.000 ...  \n",
       "\n",
       "[781 rows x 6 columns]"
      ]
     },
     "execution_count": 44,
     "metadata": {},
     "output_type": "execute_result"
    }
   ],
   "source": [
    "edges"
   ]
  },
  {
   "cell_type": "code",
   "execution_count": 55,
   "id": "diagnostic-modeling",
   "metadata": {},
   "outputs": [
    {
     "data": {
      "text/html": [
       "<div>\n",
       "<style scoped>\n",
       "    .dataframe tbody tr th:only-of-type {\n",
       "        vertical-align: middle;\n",
       "    }\n",
       "\n",
       "    .dataframe tbody tr th {\n",
       "        vertical-align: top;\n",
       "    }\n",
       "\n",
       "    .dataframe thead th {\n",
       "        text-align: right;\n",
       "    }\n",
       "</style>\n",
       "<table border=\"1\" class=\"dataframe\">\n",
       "  <thead>\n",
       "    <tr style=\"text-align: right;\">\n",
       "      <th></th>\n",
       "      <th>id_street</th>\n",
       "      <th>startNode</th>\n",
       "      <th>endNode</th>\n",
       "      <th>length</th>\n",
       "      <th>roadFunction</th>\n",
       "      <th>geometry_street</th>\n",
       "      <th>community</th>\n",
       "    </tr>\n",
       "  </thead>\n",
       "  <tbody>\n",
       "    <tr>\n",
       "      <th>0</th>\n",
       "      <td>id5E137843-85D8-4E11-AFC6-4714A213B5D3</td>\n",
       "      <td>id136C88AB-84CB-4844-B3EA-250D06F589BF</td>\n",
       "      <td>id1196BE64-808A-4DBE-B12F-606B6135E0F0</td>\n",
       "      <td>66</td>\n",
       "      <td>Local Road</td>\n",
       "      <td>LINESTRING (339491.000 391787.000, 339491.000 ...</td>\n",
       "      <td>00</td>\n",
       "    </tr>\n",
       "    <tr>\n",
       "      <th>8</th>\n",
       "      <td>id24A5A4B8-EF6C-40AD-AB7C-AB0B64A6510A</td>\n",
       "      <td>id54779C1B-8693-4A80-816F-BAFBF95E89C1</td>\n",
       "      <td>id1196BE64-808A-4DBE-B12F-606B6135E0F0</td>\n",
       "      <td>103</td>\n",
       "      <td>Local Road</td>\n",
       "      <td>LINESTRING (339536.000 391780.000, 339535.080 ...</td>\n",
       "      <td>00</td>\n",
       "    </tr>\n",
       "    <tr>\n",
       "      <th>24</th>\n",
       "      <td>idC91AED0D-B5BE-457D-827E-63BC083CB177</td>\n",
       "      <td>id3E853882-05E4-4B04-A3DA-D1790327D7AE</td>\n",
       "      <td>idAE5D8D95-077B-4856-B195-6A6516A17A6E</td>\n",
       "      <td>56</td>\n",
       "      <td>Local Road</td>\n",
       "      <td>LINESTRING (339614.000 391264.000, 339638.500 ...</td>\n",
       "      <td>01</td>\n",
       "    </tr>\n",
       "    <tr>\n",
       "      <th>25</th>\n",
       "      <td>id4C57AD07-7552-4200-9934-F6783A58AEED</td>\n",
       "      <td>idAE5D8D95-077B-4856-B195-6A6516A17A6E</td>\n",
       "      <td>idC9C1B900-F386-47D8-AC66-178BA124749F</td>\n",
       "      <td>239</td>\n",
       "      <td>Local Road</td>\n",
       "      <td>LINESTRING (339663.000 391291.000, 339709.000 ...</td>\n",
       "      <td>01</td>\n",
       "    </tr>\n",
       "    <tr>\n",
       "      <th>26</th>\n",
       "      <td>id116291A0-C738-4161-B2CA-162C291D4C9F</td>\n",
       "      <td>idAE5D8D95-077B-4856-B195-6A6516A17A6E</td>\n",
       "      <td>id23881A15-3638-4DAA-A6EF-A36D9F3E84D6</td>\n",
       "      <td>207</td>\n",
       "      <td>Local Road</td>\n",
       "      <td>LINESTRING (339663.000 391291.000, 339647.000 ...</td>\n",
       "      <td>01</td>\n",
       "    </tr>\n",
       "    <tr>\n",
       "      <th>...</th>\n",
       "      <td>...</td>\n",
       "      <td>...</td>\n",
       "      <td>...</td>\n",
       "      <td>...</td>\n",
       "      <td>...</td>\n",
       "      <td>...</td>\n",
       "      <td>...</td>\n",
       "    </tr>\n",
       "    <tr>\n",
       "      <th>14740</th>\n",
       "      <td>id8A91279C-2633-4705-9A92-9EBEAD559A5F</td>\n",
       "      <td>id075675CE-60CD-4284-9D73-5A34C40801AB</td>\n",
       "      <td>id025AFA2C-5A80-4E79-959B-004C35BC8E79</td>\n",
       "      <td>51</td>\n",
       "      <td>Local Road</td>\n",
       "      <td>LINESTRING (339395.000 391801.000, 339420.500 ...</td>\n",
       "      <td>00</td>\n",
       "    </tr>\n",
       "    <tr>\n",
       "      <th>14851</th>\n",
       "      <td>id733ECEDD-6428-4DE6-B6CC-257FEAAA4A03</td>\n",
       "      <td>idBC0A1FD5-81AD-464B-AC1F-9CD21FE6E36B</td>\n",
       "      <td>id01944055-29FF-4B14-8C88-E7C8B55EC694</td>\n",
       "      <td>24</td>\n",
       "      <td>Local Road</td>\n",
       "      <td>LINESTRING (339301.620 391935.000, 339313.810 ...</td>\n",
       "      <td>00</td>\n",
       "    </tr>\n",
       "    <tr>\n",
       "      <th>14854</th>\n",
       "      <td>id0D4203DA-2130-4D66-B65E-88EDAE91826E</td>\n",
       "      <td>id01944055-29FF-4B14-8C88-E7C8B55EC694</td>\n",
       "      <td>id3F77B8EF-8DDE-42E4-991B-C36D143C6758</td>\n",
       "      <td>46</td>\n",
       "      <td>Minor Road</td>\n",
       "      <td>LINESTRING (339326.000 391935.000, 339325.000 ...</td>\n",
       "      <td>00</td>\n",
       "    </tr>\n",
       "    <tr>\n",
       "      <th>15049</th>\n",
       "      <td>id7EC4BF87-BD72-4DA2-965C-1BAB0ABA346F</td>\n",
       "      <td>idC9C1B900-F386-47D8-AC66-178BA124749F</td>\n",
       "      <td>id235942AE-30F3-4BFF-8D48-D48261B35762</td>\n",
       "      <td>33</td>\n",
       "      <td>Local Road</td>\n",
       "      <td>LINESTRING (339684.000 391501.000, 339700.500 ...</td>\n",
       "      <td>01</td>\n",
       "    </tr>\n",
       "    <tr>\n",
       "      <th>15076</th>\n",
       "      <td>id5A572A43-11C1-4D8C-B3C5-899AEC93D968</td>\n",
       "      <td>id00E195C3-6AE6-43B2-9D0C-30443BC97027</td>\n",
       "      <td>id60B2008D-04B5-4698-8775-4F6AE2323FBF</td>\n",
       "      <td>10</td>\n",
       "      <td>Local Road</td>\n",
       "      <td>LINESTRING (339074.000 392152.000, 339076.000 ...</td>\n",
       "      <td>00</td>\n",
       "    </tr>\n",
       "  </tbody>\n",
       "</table>\n",
       "<p>781 rows × 7 columns</p>\n",
       "</div>"
      ],
      "text/plain": [
       "                                    id_street  \\\n",
       "0      id5E137843-85D8-4E11-AFC6-4714A213B5D3   \n",
       "8      id24A5A4B8-EF6C-40AD-AB7C-AB0B64A6510A   \n",
       "24     idC91AED0D-B5BE-457D-827E-63BC083CB177   \n",
       "25     id4C57AD07-7552-4200-9934-F6783A58AEED   \n",
       "26     id116291A0-C738-4161-B2CA-162C291D4C9F   \n",
       "...                                       ...   \n",
       "14740  id8A91279C-2633-4705-9A92-9EBEAD559A5F   \n",
       "14851  id733ECEDD-6428-4DE6-B6CC-257FEAAA4A03   \n",
       "14854  id0D4203DA-2130-4D66-B65E-88EDAE91826E   \n",
       "15049  id7EC4BF87-BD72-4DA2-965C-1BAB0ABA346F   \n",
       "15076  id5A572A43-11C1-4D8C-B3C5-899AEC93D968   \n",
       "\n",
       "                                    startNode  \\\n",
       "0      id136C88AB-84CB-4844-B3EA-250D06F589BF   \n",
       "8      id54779C1B-8693-4A80-816F-BAFBF95E89C1   \n",
       "24     id3E853882-05E4-4B04-A3DA-D1790327D7AE   \n",
       "25     idAE5D8D95-077B-4856-B195-6A6516A17A6E   \n",
       "26     idAE5D8D95-077B-4856-B195-6A6516A17A6E   \n",
       "...                                       ...   \n",
       "14740  id075675CE-60CD-4284-9D73-5A34C40801AB   \n",
       "14851  idBC0A1FD5-81AD-464B-AC1F-9CD21FE6E36B   \n",
       "14854  id01944055-29FF-4B14-8C88-E7C8B55EC694   \n",
       "15049  idC9C1B900-F386-47D8-AC66-178BA124749F   \n",
       "15076  id00E195C3-6AE6-43B2-9D0C-30443BC97027   \n",
       "\n",
       "                                      endNode  length roadFunction  \\\n",
       "0      id1196BE64-808A-4DBE-B12F-606B6135E0F0      66   Local Road   \n",
       "8      id1196BE64-808A-4DBE-B12F-606B6135E0F0     103   Local Road   \n",
       "24     idAE5D8D95-077B-4856-B195-6A6516A17A6E      56   Local Road   \n",
       "25     idC9C1B900-F386-47D8-AC66-178BA124749F     239   Local Road   \n",
       "26     id23881A15-3638-4DAA-A6EF-A36D9F3E84D6     207   Local Road   \n",
       "...                                       ...     ...          ...   \n",
       "14740  id025AFA2C-5A80-4E79-959B-004C35BC8E79      51   Local Road   \n",
       "14851  id01944055-29FF-4B14-8C88-E7C8B55EC694      24   Local Road   \n",
       "14854  id3F77B8EF-8DDE-42E4-991B-C36D143C6758      46   Minor Road   \n",
       "15049  id235942AE-30F3-4BFF-8D48-D48261B35762      33   Local Road   \n",
       "15076  id60B2008D-04B5-4698-8775-4F6AE2323FBF      10   Local Road   \n",
       "\n",
       "                                         geometry_street community  \n",
       "0      LINESTRING (339491.000 391787.000, 339491.000 ...        00  \n",
       "8      LINESTRING (339536.000 391780.000, 339535.080 ...        00  \n",
       "24     LINESTRING (339614.000 391264.000, 339638.500 ...        01  \n",
       "25     LINESTRING (339663.000 391291.000, 339709.000 ...        01  \n",
       "26     LINESTRING (339663.000 391291.000, 339647.000 ...        01  \n",
       "...                                                  ...       ...  \n",
       "14740  LINESTRING (339395.000 391801.000, 339420.500 ...        00  \n",
       "14851  LINESTRING (339301.620 391935.000, 339313.810 ...        00  \n",
       "14854  LINESTRING (339326.000 391935.000, 339325.000 ...        00  \n",
       "15049  LINESTRING (339684.000 391501.000, 339700.500 ...        01  \n",
       "15076  LINESTRING (339074.000 392152.000, 339076.000 ...        00  \n",
       "\n",
       "[781 rows x 7 columns]"
      ]
     },
     "execution_count": 55,
     "metadata": {},
     "output_type": "execute_result"
    }
   ],
   "source": [
    "edges['translated_start'] = "
   ]
  },
  {
   "cell_type": "code",
   "execution_count": 44,
   "id": "bearing-excess",
   "metadata": {},
   "outputs": [],
   "source": [
    "g = nx.from_pandas_edgelist(edges, 'startNode', 'endNode', True)"
   ]
  },
  {
   "cell_type": "code",
   "execution_count": 45,
   "id": "public-calculator",
   "metadata": {},
   "outputs": [],
   "source": [
    "subgraphs =[g.subgraph(c) for c in nx.connected_components(g)]"
   ]
  },
  {
   "cell_type": "code",
   "execution_count": 46,
   "id": "minus-finger",
   "metadata": {},
   "outputs": [],
   "source": [
    "sgs = [sg for sg in subgraphs if len(sg) > 10]"
   ]
  },
  {
   "cell_type": "code",
   "execution_count": 47,
   "id": "protective-syndicate",
   "metadata": {},
   "outputs": [],
   "source": [
    "communities = dict()\n",
    "for i in range(len(sgs)):\n",
    "    communities[str(i).zfill(2)] = list(nx.get_edge_attributes(sgs[i], 'id_street').values())"
   ]
  },
  {
   "cell_type": "code",
   "execution_count": 48,
   "id": "addressed-leonard",
   "metadata": {},
   "outputs": [],
   "source": [
    "communities_key = {value:key for key, value_list in communities.items() for value in value_list}"
   ]
  },
  {
   "cell_type": "code",
   "execution_count": 49,
   "id": "intense-brazilian",
   "metadata": {},
   "outputs": [
    {
     "name": "stderr",
     "output_type": "stream",
     "text": [
      "<ipython-input-49-2e7a5e2ba858>:1: SettingWithCopyWarning: \n",
      "A value is trying to be set on a copy of a slice from a DataFrame.\n",
      "Try using .loc[row_indexer,col_indexer] = value instead\n",
      "\n",
      "See the caveats in the documentation: https://pandas.pydata.org/pandas-docs/stable/user_guide/indexing.html#returning-a-view-versus-a-copy\n",
      "  edges['community'] = edges.id_street.apply(lambda x: communities_key.get(x, None))\n"
     ]
    }
   ],
   "source": [
    "edges['community'] = edges.id_street.apply(lambda x: communities_key.get(x, None))"
   ]
  },
  {
   "cell_type": "code",
   "execution_count": 50,
   "id": "absent-error",
   "metadata": {},
   "outputs": [],
   "source": [
    "import matplotlib.pyplot as plt"
   ]
  },
  {
   "cell_type": "code",
   "execution_count": 51,
   "id": "utility-prayer",
   "metadata": {},
   "outputs": [],
   "source": [
    "rcParams = plt.matplotlib.rcParams\n",
    "def get_prop_cycle():\n",
    "    prop_cycler = rcParams['axes.prop_cycle']\n",
    "    if prop_cycler is None and 'axes.color_cycle' in rcParams:\n",
    "        clist = rcParams['axes.color_cycle']\n",
    "        prop_cycler = cycler('color', clist)\n",
    "    return prop_cycler"
   ]
  },
  {
   "cell_type": "code",
   "execution_count": 52,
   "id": "brief-irrigation",
   "metadata": {},
   "outputs": [],
   "source": [
    "colors = [item['color'] for item in get_prop_cycle()]"
   ]
  },
  {
   "cell_type": "code",
   "execution_count": 53,
   "id": "conservative-germany",
   "metadata": {},
   "outputs": [
    {
     "data": {
      "text/plain": [
       "<AxesSubplot:>"
      ]
     },
     "execution_count": 53,
     "metadata": {},
     "output_type": "execute_result"
    },
    {
     "data": {
      "image/png": "[encoded data removed]",
      "text/plain": [
       "<Figure size 864x864 with 1 Axes>"
      ]
     },
     "metadata": {
      "needs_background": "light"
     },
     "output_type": "display_data"
    }
   ],
   "source": [
    "f, ax = plt.subplots(figsize=(12,12))\n",
    "ax.set_prop_cycle(color=colors*100)\n",
    "\n",
    "gpd.GeoDataFrame(edges, geometry='geometry_street').plot('community', cmap='Dark2', figsize=(12,12), legend=True, ax=ax)"
   ]
  },
  {
   "cell_type": "code",
   "execution_count": 54,
   "id": "hearing-jumping",
   "metadata": {},
   "outputs": [],
   "source": [
    "# 5 find connected networks of residential and non-(B Road/ Minor Road) streets"
   ]
  }
 ],
 "metadata": {
  "kernelspec": {
   "display_name": "Python 3",
   "language": "python",
   "name": "python3"
  },
  "language_info": {
   "codemirror_mode": {
    "name": "ipython",
    "version": 3
   },
   "file_extension": ".py",
   "mimetype": "text/x-python",
   "name": "python",
   "nbconvert_exporter": "python",
   "pygments_lexer": "ipython3",
   "version": "3.8.8"
  }
 },
 "nbformat": 4,
 "nbformat_minor": 5
}
