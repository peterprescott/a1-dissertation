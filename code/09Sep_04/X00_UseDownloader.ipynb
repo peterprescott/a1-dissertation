{
 "cells": [
  {
   "cell_type": "code",
   "execution_count": 1,
   "id": "helpful-friendship",
   "metadata": {},
   "outputs": [],
   "source": [
    "import sys"
   ]
  },
  {
   "cell_type": "code",
   "execution_count": 2,
   "id": "brave-sender",
   "metadata": {},
   "outputs": [],
   "source": [
    "sys.path.append('..')"
   ]
  },
  {
   "cell_type": "code",
   "execution_count": 3,
   "id": "defined-longer",
   "metadata": {},
   "outputs": [],
   "source": [
    "from nbhd.setup import OSDownloader"
   ]
  },
  {
   "cell_type": "code",
   "execution_count": null,
   "id": "sonic-karaoke",
   "metadata": {},
   "outputs": [
    {
     "name": "stdout",
     "output_type": "stream",
     "text": [
      "Requesting data from https://api.os.uk/downloads/v1/products...\n",
      "First request successful!\n",
      "Getting download links...\n",
      "Attempting downloads...\n",
      "Trying to download 250kScaleColourRaster in Shapefile format...\n",
      "not enough values to unpack (expected 1, got 0)\n",
      "Trying to download BoundaryLine in GeoPackage format...\n",
      "Trying to download CodePointOpen in GeoPackage format...\n",
      "Trying to download GBOverviewMaps in Shapefile format...\n",
      "not enough values to unpack (expected 1, got 0)\n",
      "Trying to download LIDS in Shapefile format...\n",
      "not enough values to unpack (expected 1, got 0)\n",
      "Trying to download MiniScale in Shapefile format...\n",
      "not enough values to unpack (expected 1, got 0)\n",
      "Trying to download OpenGreenspace in GeoPackage format...\n",
      "Trying to download OpenMapLocal in GeoPackage format...\n"
     ]
    }
   ],
   "source": [
    "%%time\n",
    "os = OSDownloader()"
   ]
  },
  {
   "cell_type": "code",
   "execution_count": null,
   "id": "surprising-jefferson",
   "metadata": {},
   "outputs": [],
   "source": []
  },
  {
   "cell_type": "code",
   "execution_count": null,
   "id": "inappropriate-biography",
   "metadata": {},
   "outputs": [],
   "source": []
  }
 ],
 "metadata": {
  "kernelspec": {
   "display_name": "Python 3",
   "language": "python",
   "name": "python3"
  },
  "language_info": {
   "codemirror_mode": {
    "name": "ipython",
    "version": 3
   },
   "file_extension": ".py",
   "mimetype": "text/x-python",
   "name": "python",
   "nbconvert_exporter": "python",
   "pygments_lexer": "ipython3",
   "version": "3.8.8"
  }
 },
 "nbformat": 4,
 "nbformat_minor": 5
}
