{
 "cells": [
  {
   "cell_type": "code",
   "execution_count": 1,
   "id": "approximate-multimedia",
   "metadata": {},
   "outputs": [],
   "source": [
    "import sys"
   ]
  },
  {
   "cell_type": "code",
   "execution_count": 2,
   "id": "saving-stand",
   "metadata": {},
   "outputs": [],
   "source": [
    "sys.path.append('..')"
   ]
  },
  {
   "cell_type": "code",
   "execution_count": 3,
   "id": "dress-tampa",
   "metadata": {},
   "outputs": [
    {
     "name": "stdout",
     "output_type": "stream",
     "text": [
      "Initializing database connection...\n",
      "Database connected!\n"
     ]
    }
   ],
   "source": [
    "from nbhd.data import Base"
   ]
  },
  {
   "cell_type": "code",
   "execution_count": 4,
   "id": "massive-timing",
   "metadata": {},
   "outputs": [],
   "source": [
    "db = Base()"
   ]
  },
  {
   "cell_type": "code",
   "execution_count": 5,
   "id": "silent-gamma",
   "metadata": {},
   "outputs": [],
   "source": [
    "from nbhd.setup import ZippedGpkg"
   ]
  },
  {
   "cell_type": "code",
   "execution_count": 6,
   "id": "green-madness",
   "metadata": {},
   "outputs": [],
   "source": [
    "import os"
   ]
  },
  {
   "cell_type": "code",
   "execution_count": 7,
   "id": "yellow-dodge",
   "metadata": {},
   "outputs": [],
   "source": [
    "data = os.listdir(os.path.join('..','..','data'))"
   ]
  },
  {
   "cell_type": "code",
   "execution_count": 8,
   "id": "confused-billy",
   "metadata": {},
   "outputs": [
    {
     "data": {
      "text/plain": [
       "['OpenUSRN',\n",
       " 'OpenNames_gpkg.zip',\n",
       " 'BoundaryLine_gpkg.zip',\n",
       " 'OpenMapLocal_gpkg.zip',\n",
       " 'ons',\n",
       " 'topography-layer.zip',\n",
       " 'enclosures.pq',\n",
       " 'OpenGreenspace',\n",
       " 'Strategi',\n",
       " 'OpenTOID',\n",
       " 'OpenGreenspace_gpkg.zip',\n",
       " 'OpenNames',\n",
       " 'tile_points.csv',\n",
       " 'BoundaryLine',\n",
       " 'atile_centroids.csv',\n",
       " 'OpenRoads_gpkg.zip',\n",
       " '.ipynb_checkpoints',\n",
       " 'OpenUSRN_gpkg.zip',\n",
       " 'CodePointOpen_gpkg.zip',\n",
       " 'OpenZoomstack',\n",
       " 'OpenMapLocal',\n",
       " 'OpenZoomstack_gpkg.zip',\n",
       " 'OpenTOID_gpkg.zip',\n",
       " 'Strategi.zip',\n",
       " 'OpenZoomstackGeoPackage.zip',\n",
       " 'OpenUPRN',\n",
       " 'OpenRivers_gpkg.zip',\n",
       " 'OpenUPRN_gpkg.zip',\n",
       " 'OpenRivers',\n",
       " 'OpenRoads',\n",
       " 'CodePointOpen']"
      ]
     },
     "execution_count": 8,
     "metadata": {},
     "output_type": "execute_result"
    }
   ],
   "source": [
    "data"
   ]
  },
  {
   "cell_type": "code",
   "execution_count": 15,
   "id": "remarkable-arena",
   "metadata": {},
   "outputs": [],
   "source": [
    "f = ZippedGpkg(os.path.join('..','..','data','OpenMapLocal_gpkg.zip'))"
   ]
  },
  {
   "cell_type": "code",
   "execution_count": 17,
   "id": "honest-natural",
   "metadata": {},
   "outputs": [
    {
     "name": "stderr",
     "output_type": "stream",
     "text": [
      "/opt/conda/lib/python3.8/site-packages/geopandas/geodataframe.py:577: RuntimeWarning: Sequential read of iterator was interrupted. Resetting iterator. This can negatively impact the performance.\n",
      "  for feature in features_lst:\n"
     ]
    }
   ],
   "source": [
    "f.unpack('Building')"
   ]
  },
  {
   "cell_type": "code",
   "execution_count": null,
   "id": "artistic-stick",
   "metadata": {},
   "outputs": [],
   "source": [
    "f.unpacked['Building'].to_postgis('buildings', db.engine)"
   ]
  },
  {
   "cell_type": "code",
   "execution_count": null,
   "id": "julian-modem",
   "metadata": {},
   "outputs": [],
   "source": []
  },
  {
   "cell_type": "code",
   "execution_count": null,
   "id": "crude-fusion",
   "metadata": {},
   "outputs": [],
   "source": [
    "roadzf = ZippedGpkg(os.path.join('..','..','data','OpenRoads_gpkg.zip'))"
   ]
  },
  {
   "cell_type": "code",
   "execution_count": null,
   "id": "instrumental-franklin",
   "metadata": {},
   "outputs": [],
   "source": [
    "layername = ('roads', 'nodes')\n",
    "for i, l in enumerate(roadzf.layers[:2]):\n",
    "    roadzf.unpack(l)\n",
    "    roadzf.unpacked[l].to_postgis(layername[i], db.engine)"
   ]
  },
  {
   "cell_type": "code",
   "execution_count": null,
   "id": "focal-martin",
   "metadata": {},
   "outputs": [],
   "source": []
  },
  {
   "cell_type": "code",
   "execution_count": null,
   "id": "private-nothing",
   "metadata": {},
   "outputs": [],
   "source": [
    "uprn = ZippedGpkg(os.path.join('..','..','data','OpenUPRN_gpkg.zip'))\n",
    "for l in uprn.layers:\n",
    "    uprn.unpack(l)\n",
    "    uprn.unpacked[l].to_postgis('properties', db.engine)"
   ]
  },
  {
   "cell_type": "code",
   "execution_count": null,
   "id": "charged-visitor",
   "metadata": {},
   "outputs": [],
   "source": []
  },
  {
   "cell_type": "code",
   "execution_count": null,
   "id": "accurate-poverty",
   "metadata": {},
   "outputs": [],
   "source": []
  },
  {
   "cell_type": "code",
   "execution_count": null,
   "id": "automatic-mouth",
   "metadata": {},
   "outputs": [],
   "source": []
  },
  {
   "cell_type": "code",
   "execution_count": null,
   "id": "musical-illinois",
   "metadata": {},
   "outputs": [],
   "source": []
  },
  {
   "cell_type": "code",
   "execution_count": 9,
   "id": "swedish-montana",
   "metadata": {},
   "outputs": [
    {
     "name": "stdout",
     "output_type": "stream",
     "text": [
      "Not a GeoPackage, perhaps a Shapefile?\n"
     ]
    }
   ],
   "source": [
    "f = ZippedGpkg(os.path.join('..','..','data','Strategi.zip'))"
   ]
  },
  {
   "cell_type": "code",
   "execution_count": 10,
   "id": "focal-pilot",
   "metadata": {},
   "outputs": [
    {
     "data": {
      "text/plain": [
       "'../../data/Strategi.zip'"
      ]
     },
     "execution_count": 10,
     "metadata": {},
     "output_type": "execute_result"
    }
   ],
   "source": [
    "f.filepath"
   ]
  },
  {
   "cell_type": "code",
   "execution_count": 11,
   "id": "metallic-flesh",
   "metadata": {},
   "outputs": [
    {
     "data": {
      "text/plain": [
       "{'',\n",
       " 'Strategi',\n",
       " 'StrategiSymbols',\n",
       " 'Strategi_Area',\n",
       " 'Strategi_Gazetteer_2016',\n",
       " 'Strategi_Release_2016_Change',\n",
       " 'Styling_Guide',\n",
       " 'a_road',\n",
       " 'admin_line',\n",
       " 'admin_seed',\n",
       " 'antiquity_line',\n",
       " 'b_road',\n",
       " 'coastline',\n",
       " 'ferry_box',\n",
       " 'ferry_line',\n",
       " 'foreshor_region',\n",
       " 'general_text',\n",
       " 'gridlines',\n",
       " 'info',\n",
       " 'lakes_region',\n",
       " 'land_use_seed',\n",
       " 'land_use_symbol',\n",
       " 'licence',\n",
       " 'minor_road',\n",
       " 'motorway',\n",
       " 'national_park',\n",
       " 'primary_road',\n",
       " 'railway_line',\n",
       " 'railway_point',\n",
       " 'rivers_line',\n",
       " 'road_point',\n",
       " 'settlement_seed',\n",
       " 'spot_height',\n",
       " 'tourist_symbol',\n",
       " 'transport_symbol',\n",
       " 'transport_text',\n",
       " 'transport_txt',\n",
       " 'urban_region',\n",
       " 'woodland_region'}"
      ]
     },
     "execution_count": 11,
     "metadata": {},
     "output_type": "execute_result"
    }
   ],
   "source": [
    "f.layers"
   ]
  },
  {
   "cell_type": "code",
   "execution_count": 12,
   "id": "thorough-breast",
   "metadata": {},
   "outputs": [
    {
     "name": "stdout",
     "output_type": "stream",
     "text": [
      "strtgi_essh_gb/data/coastline.dbf\n",
      "startswith first arg must be bytes or a tuple of bytes, not str\n",
      "strtgi_essh_gb/data/coastline.prj\n",
      "startswith first arg must be bytes or a tuple of bytes, not str\n",
      "strtgi_essh_gb/data/coastline.shp\n",
      "startswith first arg must be bytes or a tuple of bytes, not str\n",
      "strtgi_essh_gb/data/coastline.shx\n",
      "startswith first arg must be bytes or a tuple of bytes, not str\n"
     ]
    }
   ],
   "source": [
    "f.unpack('coastline')"
   ]
  },
  {
   "cell_type": "code",
   "execution_count": 13,
   "id": "wicked-hygiene",
   "metadata": {},
   "outputs": [
    {
     "data": {
      "text/plain": [
       "{}"
      ]
     },
     "execution_count": 13,
     "metadata": {},
     "output_type": "execute_result"
    }
   ],
   "source": [
    "f.unpacked"
   ]
  }
 ],
 "metadata": {
  "kernelspec": {
   "display_name": "Python 3",
   "language": "python",
   "name": "python3"
  },
  "language_info": {
   "codemirror_mode": {
    "name": "ipython",
    "version": 3
   },
   "file_extension": ".py",
   "mimetype": "text/x-python",
   "name": "python",
   "nbconvert_exporter": "python",
   "pygments_lexer": "ipython3",
   "version": "3.8.8"
  }
 },
 "nbformat": 4,
 "nbformat_minor": 5
}
