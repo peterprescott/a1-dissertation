{
 "cells": [
  {
   "cell_type": "code",
   "execution_count": 1,
   "id": "above-lightning",
   "metadata": {},
   "outputs": [],
   "source": [
    "import sys"
   ]
  },
  {
   "cell_type": "code",
   "execution_count": 2,
   "id": "turned-valentine",
   "metadata": {},
   "outputs": [],
   "source": [
    "sys.path.append('..')"
   ]
  },
  {
   "cell_type": "code",
   "execution_count": 3,
   "id": "parliamentary-accordance",
   "metadata": {},
   "outputs": [
    {
     "name": "stdout",
     "output_type": "stream",
     "text": [
      "Initializing database connection...\n",
      "Database connected!\n"
     ]
    }
   ],
   "source": [
    "from nbhd import data"
   ]
  },
  {
   "cell_type": "code",
   "execution_count": 4,
   "id": "analyzed-starter",
   "metadata": {},
   "outputs": [],
   "source": [
    "db = data.Base()"
   ]
  },
  {
   "cell_type": "code",
   "execution_count": 5,
   "id": "modified-arena",
   "metadata": {},
   "outputs": [
    {
     "data": {
      "text/plain": [
       "['spatial_ref_sys',\n",
       " 'slimroads',\n",
       " 'pixels',\n",
       " 'britain',\n",
       " 'tiles',\n",
       " 'opennames',\n",
       " 'openroads',\n",
       " 'openmaplocal',\n",
       " 'openuprn',\n",
       " 'railways',\n",
       " 'rivers',\n",
       " 'coastline',\n",
       " 'roadnodes']"
      ]
     },
     "execution_count": 5,
     "metadata": {},
     "output_type": "execute_result"
    }
   ],
   "source": [
    "db.ls()"
   ]
  },
  {
   "cell_type": "code",
   "execution_count": null,
   "id": "hollywood-globe",
   "metadata": {},
   "outputs": [],
   "source": [
    "t"
   ]
  },
  {
   "cell_type": "code",
   "execution_count": null,
   "id": "respiratory-spectacular",
   "metadata": {},
   "outputs": [],
   "source": [
    "    def squery(self, table, st_query, polygon):\n",
    "        sql = self._spatial_query(table, st_query, polygon)\n",
    "        return self.query(sql, spatial=True)\n",
    "        \n",
    "    def within(self, table, polygon):\n",
    "        sql = self._spatial_query(table, 'within', polygon)\n",
    "        return self.query(sql, spatial=True)"
   ]
  },
  {
   "cell_type": "code",
   "execution_count": 17,
   "id": "aerial-connectivity",
   "metadata": {},
   "outputs": [],
   "source": [
    "def create_spatial_function(st_query):\n",
    "    python_function = f'''def {st_query}(self, table, polygon):\n",
    "    sql = self._spatial_query(table, '{st_query}', polygon)\n",
    "    return self.query(sql, spatial=True)\n",
    "    '''\n",
    "    return python_function"
   ]
  },
  {
   "cell_type": "code",
   "execution_count": 7,
   "id": "particular-ranking",
   "metadata": {},
   "outputs": [],
   "source": [
    "spatial_functions = ('contains',\n",
    "                     'crosses',\n",
    "                     'disjoint',\n",
    "                     'equals',\n",
    "                     'intersects',\n",
    "                     'overlaps',\n",
    "                     'touches',\n",
    "                     'within',\n",
    "                     'covers',\n",
    "                     'coveredBy',\n",
    "                     'containsProperly')"
   ]
  },
  {
   "cell_type": "code",
   "execution_count": 20,
   "id": "earned-nepal",
   "metadata": {},
   "outputs": [
    {
     "name": "stdout",
     "output_type": "stream",
     "text": [
      "def contains(self, table, polygon):\n",
      "    sql = self._spatial_query(table, 'contains', polygon)\n",
      "    return self.query(sql, spatial=True)\n",
      "    \n",
      "def crosses(self, table, polygon):\n",
      "    sql = self._spatial_query(table, 'crosses', polygon)\n",
      "    return self.query(sql, spatial=True)\n",
      "    \n",
      "def disjoint(self, table, polygon):\n",
      "    sql = self._spatial_query(table, 'disjoint', polygon)\n",
      "    return self.query(sql, spatial=True)\n",
      "    \n",
      "def equals(self, table, polygon):\n",
      "    sql = self._spatial_query(table, 'equals', polygon)\n",
      "    return self.query(sql, spatial=True)\n",
      "    \n",
      "def intersects(self, table, polygon):\n",
      "    sql = self._spatial_query(table, 'intersects', polygon)\n",
      "    return self.query(sql, spatial=True)\n",
      "    \n",
      "def overlaps(self, table, polygon):\n",
      "    sql = self._spatial_query(table, 'overlaps', polygon)\n",
      "    return self.query(sql, spatial=True)\n",
      "    \n",
      "def touches(self, table, polygon):\n",
      "    sql = self._spatial_query(table, 'touches', polygon)\n",
      "    return self.query(sql, spatial=True)\n",
      "    \n",
      "def within(self, table, polygon):\n",
      "    sql = self._spatial_query(table, 'within', polygon)\n",
      "    return self.query(sql, spatial=True)\n",
      "    \n",
      "def covers(self, table, polygon):\n",
      "    sql = self._spatial_query(table, 'covers', polygon)\n",
      "    return self.query(sql, spatial=True)\n",
      "    \n",
      "def coveredBy(self, table, polygon):\n",
      "    sql = self._spatial_query(table, 'coveredBy', polygon)\n",
      "    return self.query(sql, spatial=True)\n",
      "    \n",
      "def containsProperly(self, table, polygon):\n",
      "    sql = self._spatial_query(table, 'containsProperly', polygon)\n",
      "    return self.query(sql, spatial=True)\n",
      "    \n"
     ]
    }
   ],
   "source": [
    "for f_name in spatial_functions:\n",
    "    f = create_spatial_function(f_name)\n",
    "    print(f)"
   ]
  },
  {
   "cell_type": "code",
   "execution_count": null,
   "id": "lined-courage",
   "metadata": {},
   "outputs": [],
   "source": []
  },
  {
   "cell_type": "code",
   "execution_count": null,
   "id": "executed-haiti",
   "metadata": {},
   "outputs": [],
   "source": []
  }
 ],
 "metadata": {
  "kernelspec": {
   "display_name": "Python 3",
   "language": "python",
   "name": "python3"
  },
  "language_info": {
   "codemirror_mode": {
    "name": "ipython",
    "version": 3
   },
   "file_extension": ".py",
   "mimetype": "text/x-python",
   "name": "python",
   "nbconvert_exporter": "python",
   "pygments_lexer": "ipython3",
   "version": "3.8.8"
  }
 },
 "nbformat": 4,
 "nbformat_minor": 5
}
