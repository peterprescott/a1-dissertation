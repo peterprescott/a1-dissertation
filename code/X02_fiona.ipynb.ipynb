{
 "cells": [
  {
   "cell_type": "code",
   "execution_count": 1,
   "id": "remarkable-beauty",
   "metadata": {},
   "outputs": [],
   "source": [
    "import fiona"
   ]
  },
  {
   "cell_type": "code",
   "execution_count": 2,
   "id": "numeric-radio",
   "metadata": {},
   "outputs": [],
   "source": [
    "import os"
   ]
  },
  {
   "cell_type": "code",
   "execution_count": 3,
   "id": "unauthorized-religion",
   "metadata": {},
   "outputs": [],
   "source": [
    "datapath = os.path.join('..','data')"
   ]
  },
  {
   "cell_type": "code",
   "execution_count": 5,
   "id": "piano-covering",
   "metadata": {},
   "outputs": [],
   "source": [
    "ls = os.listdir(datapath)"
   ]
  },
  {
   "cell_type": "code",
   "execution_count": 7,
   "id": "nearby-accordance",
   "metadata": {},
   "outputs": [
    {
     "data": {
      "text/plain": [
       "['OpenUSRN',\n",
       " 'OpenNames_gpkg.zip',\n",
       " 'BoundaryLine_gpkg.zip',\n",
       " 'OpenMapLocal_gpkg.zip',\n",
       " 'ons',\n",
       " 'OpenGreenspace',\n",
       " 'Strategi',\n",
       " 'OpenTOID',\n",
       " 'OpenGreenspace_gpkg.zip',\n",
       " 'OpenNames',\n",
       " 'BoundaryLine',\n",
       " 'OpenRoads_gpkg.zip',\n",
       " '.ipynb_checkpoints',\n",
       " 'OpenUSRN_gpkg.zip',\n",
       " 'CodePointOpen_gpkg.zip',\n",
       " 'OpenZoomstack',\n",
       " 'OpenMapLocal',\n",
       " 'OpenZoomstack_gpkg.zip',\n",
       " 'OpenTOID_gpkg.zip',\n",
       " 'Strategi.zip',\n",
       " 'OpenUPRN',\n",
       " 'OpenRivers_gpkg.zip',\n",
       " 'OpenUPRN_gpkg.zip',\n",
       " 'OpenRivers',\n",
       " 'OpenRoads',\n",
       " 'CodePointOpen']"
      ]
     },
     "execution_count": 7,
     "metadata": {},
     "output_type": "execute_result"
    }
   ],
   "source": [
    "ls"
   ]
  },
  {
   "cell_type": "code",
   "execution_count": null,
   "id": "streaming-april",
   "metadata": {},
   "outputs": [],
   "source": [
    "# fiona reads and writes geographic data files;\n",
    "# fiona is OGR's neat and nimble API for Python\n",
    "# (OGR is GDAL's Open GIS Reference implementation)"
   ]
  }
 ],
 "metadata": {
  "kernelspec": {
   "display_name": "Python 3",
   "language": "python",
   "name": "python3"
  },
  "language_info": {
   "codemirror_mode": {
    "name": "ipython",
    "version": 3
   },
   "file_extension": ".py",
   "mimetype": "text/x-python",
   "name": "python",
   "nbconvert_exporter": "python",
   "pygments_lexer": "ipython3",
   "version": "3.8.8"
  }
 },
 "nbformat": 4,
 "nbformat_minor": 5
}
