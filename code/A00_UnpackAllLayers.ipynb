{
 "cells": [
  {
   "cell_type": "code",
   "execution_count": 1,
   "id": "single-appearance",
   "metadata": {},
   "outputs": [],
   "source": [
    "import os\n",
    "import zipfile\n",
    "import time\n",
    "import requests\n",
    "\n",
    "import pandas as pd\n",
    "import numpy as np\n",
    "import fiona\n",
    "import geopandas as gpd\n",
    "\n",
    "from sqlalchemy import create_engine\n",
    "\n",
    "# set up database\n",
    "user = os.environ.get('DB_USERNAME')\n",
    "pwd = os.environ.get('DB_PASSWORD')\n",
    "host = os.environ.get('DB_HOSTNAME')\n",
    "port = os.environ.get('DB_PORT')\n",
    "\n",
    "db_connection_url = f\"postgres+psycopg2://{user}:{pwd}@{host}:{port}/geodemo\"\n",
    "engine = create_engine(db_connection_url)"
   ]
  },
  {
   "cell_type": "code",
   "execution_count": 3,
   "id": "embedded-globe",
   "metadata": {},
   "outputs": [],
   "source": [
    "zfs = [f for f in os.listdir('../data') if f.split('.')[-1] == 'zip']"
   ]
  },
  {
   "cell_type": "code",
   "execution_count": 4,
   "id": "reserved-belize",
   "metadata": {},
   "outputs": [
    {
     "data": {
      "text/plain": [
       "['OpenNames_gpkg.zip',\n",
       " 'BoundaryLine_gpkg.zip',\n",
       " 'OpenMapLocal_gpkg.zip',\n",
       " 'OpenGreenspace_gpkg.zip',\n",
       " 'OpenRoads_gpkg.zip',\n",
       " 'OpenUSRN_gpkg.zip',\n",
       " 'CodePointOpen_gpkg.zip',\n",
       " 'OpenZoomstack_gpkg.zip',\n",
       " 'OpenTOID_gpkg.zip',\n",
       " 'Strategi.zip',\n",
       " 'OpenRivers_gpkg.zip',\n",
       " 'OpenUPRN_gpkg.zip']"
      ]
     },
     "execution_count": 4,
     "metadata": {},
     "output_type": "execute_result"
    }
   ],
   "source": [
    "zfs"
   ]
  },
  {
   "cell_type": "code",
   "execution_count": 5,
   "id": "subsequent-valve",
   "metadata": {},
   "outputs": [],
   "source": [
    "layer_lists = dict()"
   ]
  },
  {
   "cell_type": "code",
   "execution_count": 6,
   "id": "quick-mailing",
   "metadata": {},
   "outputs": [
    {
     "name": "stdout",
     "output_type": "stream",
     "text": [
      "data/opname_gb.gpkg\n",
      "1\n",
      "['NamedPlace']\n",
      "data/bdline_gb.gpkg\n",
      "18\n",
      "['boundary_line_ceremonial_counties', 'boundary_line_historic_counties', 'community_ward', 'country_region', 'county', 'county_electoral_division', 'district_borough_unitary', 'district_borough_unitary_ward', 'english_region', 'greater_london_const', 'high_water', 'historic_european_region', 'parish', 'polling_districts_england', 'scotland_and_wales_const', 'scotland_and_wales_region', 'unitary_electoral_division', 'westminster_const']\n",
      "data/opmplc_gb.gpkg\n",
      "20\n",
      "['Building', 'CarChargingPoint', 'ImportantBuilding', 'NamedPlace', 'Road', 'Foreshore', 'FunctionalSite', 'SurfaceWater_Line', 'SurfaceWater_Area', 'TidalWater', 'TidalBoundary', 'Woodland', 'Glasshouse', 'ElectricityTransmissionLine', 'RailwayStation', 'RailwayTrack', 'RailwayTunnel', 'RoadTunnel', 'Roundabout', 'MotorwayJunction']\n",
      "OS Open Greenspace (GPKG) GB/data/opgrsp_gb.gpkg\n",
      "2\n",
      "['AccessPoint', 'GreenspaceSite']\n",
      "data/oproad_gb.gpkg\n",
      "3\n",
      "['RoadLink', 'RoadNode', 'MotorwayJunction']\n",
      "osopenusrn_202108.gpkg\n",
      "1\n",
      "['openUSRN']\n",
      "data/codepo_gb.gpkg\n",
      "1\n",
      "['code_point_open']\n",
      "File is not a zip file\n",
      "osopentoid_202108_hp.gpkg\n",
      "3\n",
      "['os_mastermap_topography_layer', 'os_mastermap_sites_layer', 'os_mastermap_highways_network']\n",
      "not enough values to unpack (expected 1, got 0)\n",
      "data/oprvrs_gb.gpkg\n",
      "2\n",
      "['HydroNode', 'WatercourseLink']\n",
      "osopenuprn_202107.gpkg\n",
      "1\n",
      "['osopenuprn_address']\n"
     ]
    }
   ],
   "source": [
    "# list layers\n",
    "for f in zfs:\n",
    "    \n",
    "    try:\n",
    "        zf = zipfile.ZipFile(os.path.join('..','data',f))\n",
    "        [gpkg] =  [f for f in zf.namelist() if f.split('.')[-1] == 'gpkg']\n",
    "        print(gpkg)\n",
    "        layers = fiona.listlayers(zf.open(gpkg))\n",
    "        print(len(layers))\n",
    "        print(layers)\n",
    "        layer_lists[zf] = layers\n",
    "    except Exception as e:\n",
    "        print(e)"
   ]
  },
  {
   "cell_type": "code",
   "execution_count": 13,
   "id": "structural-fashion",
   "metadata": {},
   "outputs": [],
   "source": [
    "sql = '''SELECT table_name\n",
    "  FROM information_schema.tables\n",
    " WHERE table_schema='public'\n",
    "   AND table_type='BASE TABLE';'''\n",
    "\n",
    "tables1 = pd.read_sql(sql, engine).table_name.values"
   ]
  },
  {
   "cell_type": "code",
   "execution_count": 14,
   "id": "cloudy-yukon",
   "metadata": {},
   "outputs": [
    {
     "data": {
      "text/plain": [
       "array(['spatial_ref_sys', 'opennames', 'openrivers', 'openroads',\n",
       "       'boundaryline', 'openmaplocal', 'opengreenspace', 'openuprn',\n",
       "       'opentoid', 'boundary_line_ceremonial_counties',\n",
       "       'boundary_line_historic_counties', 'community_ward',\n",
       "       'country_region', 'county', 'county_electoral_division',\n",
       "       'district_borough_unitary', 'district_borough_unitary_ward',\n",
       "       'english_region', 'greater_london_const', 'high_water',\n",
       "       'historic_european_region', 'parish', 'polling_districts_england',\n",
       "       'scotland_and_wales_const', 'scotland_and_wales_region',\n",
       "       'unitary_electoral_division', 'westminster_const',\n",
       "       'code_point_open'], dtype=object)"
      ]
     },
     "execution_count": 14,
     "metadata": {},
     "output_type": "execute_result"
    }
   ],
   "source": [
    "tables1"
   ]
  },
  {
   "cell_type": "code",
   "execution_count": 10,
   "id": "documentary-empire",
   "metadata": {},
   "outputs": [
    {
     "data": {
      "text/plain": [
       "array(['spatial_ref_sys', 'opennames', 'openrivers', 'openroads',\n",
       "       'boundaryline', 'openmaplocal', 'opengreenspace', 'openuprn',\n",
       "       'opentoid', 'boundary_line_ceremonial_counties',\n",
       "       'boundary_line_historic_counties', 'community_ward',\n",
       "       'country_region', 'county', 'county_electoral_division',\n",
       "       'district_borough_unitary', 'district_borough_unitary_ward',\n",
       "       'english_region', 'greater_london_const', 'high_water',\n",
       "       'historic_european_region', 'parish', 'polling_districts_england',\n",
       "       'scotland_and_wales_const', 'scotland_and_wales_region',\n",
       "       'unitary_electoral_division', 'westminster_const'], dtype=object)"
      ]
     },
     "execution_count": 10,
     "metadata": {},
     "output_type": "execute_result"
    }
   ],
   "source": [
    "tables"
   ]
  },
  {
   "cell_type": "code",
   "execution_count": 15,
   "id": "suffering-joyce",
   "metadata": {},
   "outputs": [
    {
     "name": "stdout",
     "output_type": "stream",
     "text": [
      "data/opname_gb.gpkg\n",
      "1\n",
      "['NamedPlace']\n",
      "7.857110023498535\n",
      "data/bdline_gb.gpkg\n"
     ]
    },
    {
     "ename": "KeyboardInterrupt",
     "evalue": "",
     "output_type": "error",
     "traceback": [
      "\u001b[0;31m---------------------------------------------------------------------------\u001b[0m",
      "\u001b[0;31mKeyboardInterrupt\u001b[0m                         Traceback (most recent call last)",
      "\u001b[0;32m<ipython-input-15-948a1c4bb478>\u001b[0m in \u001b[0;36m<module>\u001b[0;34m\u001b[0m\n\u001b[1;32m     12\u001b[0m             \u001b[0;34m[\u001b[0m\u001b[0mgpkg\u001b[0m\u001b[0;34m]\u001b[0m \u001b[0;34m=\u001b[0m \u001b[0;34m[\u001b[0m\u001b[0mf\u001b[0m \u001b[0;32mfor\u001b[0m \u001b[0mf\u001b[0m \u001b[0;32min\u001b[0m \u001b[0mzf\u001b[0m\u001b[0;34m.\u001b[0m\u001b[0mnamelist\u001b[0m\u001b[0;34m(\u001b[0m\u001b[0;34m)\u001b[0m \u001b[0;32mif\u001b[0m \u001b[0mf\u001b[0m\u001b[0;34m.\u001b[0m\u001b[0msplit\u001b[0m\u001b[0;34m(\u001b[0m\u001b[0;34m'.'\u001b[0m\u001b[0;34m)\u001b[0m\u001b[0;34m[\u001b[0m\u001b[0;34m-\u001b[0m\u001b[0;36m1\u001b[0m\u001b[0;34m]\u001b[0m \u001b[0;34m==\u001b[0m \u001b[0;34m'gpkg'\u001b[0m\u001b[0;34m]\u001b[0m\u001b[0;34m\u001b[0m\u001b[0;34m\u001b[0m\u001b[0m\n\u001b[1;32m     13\u001b[0m             \u001b[0mprint\u001b[0m\u001b[0;34m(\u001b[0m\u001b[0mgpkg\u001b[0m\u001b[0;34m)\u001b[0m\u001b[0;34m\u001b[0m\u001b[0;34m\u001b[0m\u001b[0m\n\u001b[0;32m---> 14\u001b[0;31m             \u001b[0mlayers\u001b[0m \u001b[0;34m=\u001b[0m \u001b[0mfiona\u001b[0m\u001b[0;34m.\u001b[0m\u001b[0mlistlayers\u001b[0m\u001b[0;34m(\u001b[0m\u001b[0mzf\u001b[0m\u001b[0;34m.\u001b[0m\u001b[0mopen\u001b[0m\u001b[0;34m(\u001b[0m\u001b[0mgpkg\u001b[0m\u001b[0;34m)\u001b[0m\u001b[0;34m)\u001b[0m\u001b[0;34m\u001b[0m\u001b[0;34m\u001b[0m\u001b[0m\n\u001b[0m\u001b[1;32m     15\u001b[0m             \u001b[0mprint\u001b[0m\u001b[0;34m(\u001b[0m\u001b[0mlen\u001b[0m\u001b[0;34m(\u001b[0m\u001b[0mlayers\u001b[0m\u001b[0;34m)\u001b[0m\u001b[0;34m)\u001b[0m\u001b[0;34m\u001b[0m\u001b[0;34m\u001b[0m\u001b[0m\n\u001b[1;32m     16\u001b[0m             \u001b[0mprint\u001b[0m\u001b[0;34m(\u001b[0m\u001b[0mlayers\u001b[0m\u001b[0;34m)\u001b[0m\u001b[0;34m\u001b[0m\u001b[0;34m\u001b[0m\u001b[0m\n",
      "\u001b[0;32m/opt/conda/lib/python3.8/site-packages/fiona/env.py\u001b[0m in \u001b[0;36mwrapper\u001b[0;34m(*args, **kwargs)\u001b[0m\n\u001b[1;32m    407\u001b[0m             \u001b[0;32mwith\u001b[0m \u001b[0mEnv\u001b[0m\u001b[0;34m.\u001b[0m\u001b[0mfrom_defaults\u001b[0m\u001b[0;34m(\u001b[0m\u001b[0msession\u001b[0m\u001b[0;34m=\u001b[0m\u001b[0msession\u001b[0m\u001b[0;34m)\u001b[0m\u001b[0;34m:\u001b[0m\u001b[0;34m\u001b[0m\u001b[0;34m\u001b[0m\u001b[0m\n\u001b[1;32m    408\u001b[0m                 \u001b[0mlog\u001b[0m\u001b[0;34m.\u001b[0m\u001b[0mdebug\u001b[0m\u001b[0;34m(\u001b[0m\u001b[0;34m\"Credentialized: {!r}\"\u001b[0m\u001b[0;34m.\u001b[0m\u001b[0mformat\u001b[0m\u001b[0;34m(\u001b[0m\u001b[0mgetenv\u001b[0m\u001b[0;34m(\u001b[0m\u001b[0;34m)\u001b[0m\u001b[0;34m)\u001b[0m\u001b[0;34m)\u001b[0m\u001b[0;34m\u001b[0m\u001b[0;34m\u001b[0m\u001b[0m\n\u001b[0;32m--> 409\u001b[0;31m                 \u001b[0;32mreturn\u001b[0m \u001b[0mf\u001b[0m\u001b[0;34m(\u001b[0m\u001b[0;34m*\u001b[0m\u001b[0margs\u001b[0m\u001b[0;34m,\u001b[0m \u001b[0;34m**\u001b[0m\u001b[0mkwargs\u001b[0m\u001b[0;34m)\u001b[0m\u001b[0;34m\u001b[0m\u001b[0;34m\u001b[0m\u001b[0m\n\u001b[0m\u001b[1;32m    410\u001b[0m     \u001b[0;32mreturn\u001b[0m \u001b[0mwrapper\u001b[0m\u001b[0;34m\u001b[0m\u001b[0;34m\u001b[0m\u001b[0m\n\u001b[1;32m    411\u001b[0m \u001b[0;34m\u001b[0m\u001b[0m\n",
      "\u001b[0;32m/opt/conda/lib/python3.8/site-packages/fiona/__init__.py\u001b[0m in \u001b[0;36mlistlayers\u001b[0;34m(fp, vfs)\u001b[0m\n\u001b[1;32m    331\u001b[0m     \u001b[0;32mif\u001b[0m \u001b[0mhasattr\u001b[0m\u001b[0;34m(\u001b[0m\u001b[0mfp\u001b[0m\u001b[0;34m,\u001b[0m \u001b[0;34m'read'\u001b[0m\u001b[0;34m)\u001b[0m\u001b[0;34m:\u001b[0m\u001b[0;34m\u001b[0m\u001b[0;34m\u001b[0m\u001b[0m\n\u001b[1;32m    332\u001b[0m \u001b[0;34m\u001b[0m\u001b[0m\n\u001b[0;32m--> 333\u001b[0;31m         \u001b[0;32mwith\u001b[0m \u001b[0mMemoryFile\u001b[0m\u001b[0;34m(\u001b[0m\u001b[0mfp\u001b[0m\u001b[0;34m.\u001b[0m\u001b[0mread\u001b[0m\u001b[0;34m(\u001b[0m\u001b[0;34m)\u001b[0m\u001b[0;34m)\u001b[0m \u001b[0;32mas\u001b[0m \u001b[0mmemfile\u001b[0m\u001b[0;34m:\u001b[0m\u001b[0;34m\u001b[0m\u001b[0;34m\u001b[0m\u001b[0m\n\u001b[0m\u001b[1;32m    334\u001b[0m             \u001b[0;32mreturn\u001b[0m  \u001b[0m_listlayers\u001b[0m\u001b[0;34m(\u001b[0m\u001b[0mmemfile\u001b[0m\u001b[0;34m.\u001b[0m\u001b[0mname\u001b[0m\u001b[0;34m)\u001b[0m\u001b[0;34m\u001b[0m\u001b[0;34m\u001b[0m\u001b[0m\n\u001b[1;32m    335\u001b[0m \u001b[0;34m\u001b[0m\u001b[0m\n",
      "\u001b[0;32m/opt/conda/lib/python3.8/zipfile.py\u001b[0m in \u001b[0;36mread\u001b[0;34m(self, n)\u001b[0m\n\u001b[1;32m    924\u001b[0m             \u001b[0mself\u001b[0m\u001b[0;34m.\u001b[0m\u001b[0m_offset\u001b[0m \u001b[0;34m=\u001b[0m \u001b[0;36m0\u001b[0m\u001b[0;34m\u001b[0m\u001b[0;34m\u001b[0m\u001b[0m\n\u001b[1;32m    925\u001b[0m             \u001b[0;32mwhile\u001b[0m \u001b[0;32mnot\u001b[0m \u001b[0mself\u001b[0m\u001b[0;34m.\u001b[0m\u001b[0m_eof\u001b[0m\u001b[0;34m:\u001b[0m\u001b[0;34m\u001b[0m\u001b[0;34m\u001b[0m\u001b[0m\n\u001b[0;32m--> 926\u001b[0;31m                 \u001b[0mbuf\u001b[0m \u001b[0;34m+=\u001b[0m \u001b[0mself\u001b[0m\u001b[0;34m.\u001b[0m\u001b[0m_read1\u001b[0m\u001b[0;34m(\u001b[0m\u001b[0mself\u001b[0m\u001b[0;34m.\u001b[0m\u001b[0mMAX_N\u001b[0m\u001b[0;34m)\u001b[0m\u001b[0;34m\u001b[0m\u001b[0;34m\u001b[0m\u001b[0m\n\u001b[0m\u001b[1;32m    927\u001b[0m             \u001b[0;32mreturn\u001b[0m \u001b[0mbuf\u001b[0m\u001b[0;34m\u001b[0m\u001b[0;34m\u001b[0m\u001b[0m\n\u001b[1;32m    928\u001b[0m \u001b[0;34m\u001b[0m\u001b[0m\n",
      "\u001b[0;32m/opt/conda/lib/python3.8/zipfile.py\u001b[0m in \u001b[0;36m_read1\u001b[0;34m(self, n)\u001b[0m\n\u001b[1;32m   1014\u001b[0m         \u001b[0;32melif\u001b[0m \u001b[0mself\u001b[0m\u001b[0;34m.\u001b[0m\u001b[0m_compress_type\u001b[0m \u001b[0;34m==\u001b[0m \u001b[0mZIP_DEFLATED\u001b[0m\u001b[0;34m:\u001b[0m\u001b[0;34m\u001b[0m\u001b[0;34m\u001b[0m\u001b[0m\n\u001b[1;32m   1015\u001b[0m             \u001b[0mn\u001b[0m \u001b[0;34m=\u001b[0m \u001b[0mmax\u001b[0m\u001b[0;34m(\u001b[0m\u001b[0mn\u001b[0m\u001b[0;34m,\u001b[0m \u001b[0mself\u001b[0m\u001b[0;34m.\u001b[0m\u001b[0mMIN_READ_SIZE\u001b[0m\u001b[0;34m)\u001b[0m\u001b[0;34m\u001b[0m\u001b[0;34m\u001b[0m\u001b[0m\n\u001b[0;32m-> 1016\u001b[0;31m             \u001b[0mdata\u001b[0m \u001b[0;34m=\u001b[0m \u001b[0mself\u001b[0m\u001b[0;34m.\u001b[0m\u001b[0m_decompressor\u001b[0m\u001b[0;34m.\u001b[0m\u001b[0mdecompress\u001b[0m\u001b[0;34m(\u001b[0m\u001b[0mdata\u001b[0m\u001b[0;34m,\u001b[0m \u001b[0mn\u001b[0m\u001b[0;34m)\u001b[0m\u001b[0;34m\u001b[0m\u001b[0;34m\u001b[0m\u001b[0m\n\u001b[0m\u001b[1;32m   1017\u001b[0m             self._eof = (self._decompressor.eof or\n\u001b[1;32m   1018\u001b[0m                          \u001b[0mself\u001b[0m\u001b[0;34m.\u001b[0m\u001b[0m_compress_left\u001b[0m \u001b[0;34m<=\u001b[0m \u001b[0;36m0\u001b[0m \u001b[0;32mand\u001b[0m\u001b[0;34m\u001b[0m\u001b[0;34m\u001b[0m\u001b[0m\n",
      "\u001b[0;31mKeyboardInterrupt\u001b[0m: "
     ]
    }
   ],
   "source": [
    "# unpack all layers to postgis\n",
    "\n",
    "for f in zfs:\n",
    "#     print(f)\n",
    "#     if f.split('_')[0].lower() in tables:\n",
    "#         print(f'{f} in tables')\n",
    "#     else:\n",
    "        try:\n",
    "\n",
    "            t0 = time.time()\n",
    "            zf = zipfile.ZipFile(os.path.join('..','data',f))\n",
    "            [gpkg] = [f for f in zf.namelist() if f.split('.')[-1] == 'gpkg']\n",
    "            print(gpkg)\n",
    "            layers = fiona.listlayers(zf.open(gpkg))\n",
    "            print(len(layers))\n",
    "            print(layers)\n",
    "\n",
    "            t1 = time.time()\n",
    "            print(t1-t0)\n",
    "\n",
    "            if len(layers)>1:\n",
    "                for l in layers[1:]:\n",
    "\n",
    "                    if l in tables:\n",
    "                        print(f'{l} in tables')\n",
    "                    else:\n",
    "                        print(l)\n",
    "                        gdf = gpd.read_file(zf.open(gpkg), driver='GPKG', layer=layers[0])\n",
    "                        t2 = time.time()\n",
    "                        print(t2-t1)\n",
    "                        gdf.to_postgis(l, engine)\n",
    "                        t3 = time.time()\n",
    "                        print(t3-t2)\n",
    "\n",
    "        except Exception as e:\n",
    "            print(e)"
   ]
  },
  {
   "cell_type": "code",
   "execution_count": 34,
   "id": "large-stage",
   "metadata": {},
   "outputs": [
    {
     "name": "stdout",
     "output_type": "stream",
     "text": [
      "1\n"
     ]
    },
    {
     "name": "stderr",
     "output_type": "stream",
     "text": [
      "UsageError: Line magic function `%%time` not found.\n"
     ]
    }
   ],
   "source": [
    "%%time\n",
    "print(1)\n",
    "%%time\n",
    "print(2)"
   ]
  },
  {
   "cell_type": "code",
   "execution_count": 32,
   "id": "later-boring",
   "metadata": {},
   "outputs": [
    {
     "name": "stdout",
     "output_type": "stream",
     "text": [
      "OpenNames_gpkg.zip\n",
      "\"readme.txt\"\n",
      "\"licence.txt\"\n",
      "BoundaryLine_gpkg.zip\n",
      "\"\"\n",
      "\"\"\n",
      "\"B-L_COMMUNITY_WARD_README.txt\"\n",
      "\"Ceremonial_Counties.docx\"\n",
      "\"Counties - circa 1888-1889-Acts.docx\"\n",
      "\"ukpga_20110001_en.pdf\"\n",
      "\"readme.txt\"\n",
      "OpenMapLocal_gpkg.zip\n",
      "\"readme.txt\"\n",
      "\"licence.txt\"\n",
      "OpenGreenspace_gpkg.zip\n",
      "\"readme.txt\"\n",
      "\"licence.txt\"\n",
      "OpenRoads_gpkg.zip\n",
      "\"readme.txt\"\n",
      "\"licence.txt\"\n",
      "OpenUSRN_gpkg.zip\n",
      "\"osopenusrn_202108_versions.json\"\n",
      "\"licence.txt\"\n",
      "CodePointOpen_gpkg.zip\n",
      "\"readme.txt\"\n",
      "\"Code-Point_Open_Column_Headers.csv\"\n",
      "\"Codelist.xlsx\"\n",
      "\"licence.txt\"\n",
      "\"metadata.txt\"\n",
      "\"NHS_Codelist.xls\"\n",
      "OpenZoomstack_gpkg.zip\n",
      "File is not a zip file\n",
      "OpenTOID_gpkg.zip\n",
      "\"osopentoid_202108_versions.json\"\n",
      "\"licence.txt\"\n",
      "Strategi.zip\n",
      "\"\"\n",
      "\"\"\n",
      "\"admin_line.dbf\"\n",
      "\"admin_line.prj\"\n",
      "\"admin_line.shp\"\n",
      "\"admin_line.shx\"\n",
      "\"admin_seed.dbf\"\n",
      "\"admin_seed.prj\"\n",
      "\"admin_seed.shp\"\n",
      "\"admin_seed.shx\"\n",
      "\"antiquity_line.dbf\"\n",
      "\"antiquity_line.prj\"\n",
      "\"antiquity_line.shp\"\n",
      "\"antiquity_line.shx\"\n",
      "\"a_road.dbf\"\n",
      "\"a_road.prj\"\n",
      "\"a_road.shp\"\n",
      "\"a_road.shx\"\n",
      "\"b_road.dbf\"\n",
      "\"b_road.prj\"\n",
      "\"b_road.shp\"\n",
      "\"b_road.shx\"\n",
      "\"coastline.dbf\"\n",
      "\"coastline.prj\"\n",
      "\"coastline.shp\"\n",
      "\"coastline.shx\"\n",
      "\"ferry_box.dbf\"\n",
      "\"ferry_box.prj\"\n",
      "\"ferry_box.shp\"\n",
      "\"ferry_box.shx\"\n",
      "\"ferry_line.dbf\"\n",
      "\"ferry_line.prj\"\n",
      "\"ferry_line.shp\"\n",
      "\"ferry_line.shx\"\n",
      "\"foreshor_region.dbf\"\n",
      "\"foreshor_region.prj\"\n",
      "\"foreshor_region.shp\"\n",
      "\"foreshor_region.shx\"\n",
      "\"\"\n",
      "\"bnd.adf\"\n",
      "\"lab.adf\"\n",
      "\"text.tat\"\n",
      "\"text.txt\"\n",
      "\"text.txx\"\n",
      "\"tic.adf\"\n",
      "\"tol.adf\"\n",
      "\"general_text.dbf\"\n",
      "\"general_text.prj\"\n",
      "\"general_text.shp\"\n",
      "\"general_text.shx\"\n",
      "\"gridlines.dbf\"\n",
      "\"gridlines.prj\"\n",
      "\"gridlines.shp\"\n",
      "\"gridlines.shx\"\n",
      "\"\"\n",
      "\"arc.dir\"\n",
      "\"arc0000.dat\"\n",
      "\"arc0000.nit\"\n",
      "\"arc0001.dat\"\n",
      "\"arc0001.nit\"\n",
      "\"arc0002.dat\"\n",
      "\"arc0002.nit\"\n",
      "\"arc0003.dat\"\n",
      "\"arc0003.nit\"\n",
      "\"arc0004.dat\"\n",
      "\"arc0004.nit\"\n",
      "\"arc0005.dat\"\n",
      "\"arc0005.nit\"\n",
      "\"lakes_region.dbf\"\n",
      "\"lakes_region.prj\"\n",
      "\"lakes_region.shp\"\n",
      "\"lakes_region.shx\"\n",
      "\"land_use_seed.dbf\"\n",
      "\"land_use_seed.prj\"\n",
      "\"land_use_seed.shp\"\n",
      "\"land_use_seed.shx\"\n",
      "\"land_use_symbol.dbf\"\n",
      "\"land_use_symbol.prj\"\n",
      "\"land_use_symbol.shp\"\n",
      "\"land_use_symbol.shx\"\n",
      "\"minor_road.dbf\"\n",
      "\"minor_road.prj\"\n",
      "\"minor_road.shp\"\n",
      "\"minor_road.shx\"\n",
      "\"motorway.dbf\"\n",
      "\"motorway.prj\"\n",
      "\"motorway.shp\"\n",
      "\"motorway.shx\"\n",
      "\"national_park.dbf\"\n",
      "\"national_park.prj\"\n",
      "\"national_park.shp\"\n",
      "\"national_park.shx\"\n",
      "\"primary_road.dbf\"\n",
      "\"primary_road.prj\"\n",
      "\"primary_road.shp\"\n",
      "\"primary_road.shx\"\n",
      "\"railway_line.dbf\"\n",
      "\"railway_line.prj\"\n",
      "\"railway_line.shp\"\n",
      "\"railway_line.shx\"\n",
      "\"railway_point.dbf\"\n",
      "\"railway_point.prj\"\n",
      "\"railway_point.shp\"\n",
      "\"railway_point.shx\"\n",
      "\"rivers_line.dbf\"\n",
      "\"rivers_line.prj\"\n",
      "\"rivers_line.shp\"\n",
      "\"rivers_line.shx\"\n",
      "\"road_point.dbf\"\n",
      "\"road_point.prj\"\n",
      "\"road_point.shp\"\n",
      "\"road_point.shx\"\n",
      "\"settlement_seed.dbf\"\n",
      "\"settlement_seed.prj\"\n",
      "\"settlement_seed.shp\"\n",
      "\"settlement_seed.shx\"\n",
      "\"spot_height.dbf\"\n",
      "\"spot_height.prj\"\n",
      "\"spot_height.shp\"\n",
      "\"spot_height.shx\"\n",
      "\"Strategi.lyr\"\n",
      "\"tourist_symbol.dbf\"\n",
      "\"tourist_symbol.prj\"\n",
      "\"tourist_symbol.shp\"\n",
      "\"tourist_symbol.shx\"\n",
      "\"transport_symbol.dbf\"\n",
      "\"transport_symbol.prj\"\n",
      "\"transport_symbol.shp\"\n",
      "\"transport_symbol.shx\"\n",
      "\"transport_text.dbf\"\n",
      "\"transport_text.prj\"\n",
      "\"transport_text.shp\"\n",
      "\"transport_text.shx\"\n",
      "\"\"\n",
      "\"bnd.adf\"\n",
      "\"lab.adf\"\n",
      "\"text.tat\"\n",
      "\"text.txt\"\n",
      "\"text.txx\"\n",
      "\"tic.adf\"\n",
      "\"tol.adf\"\n",
      "\"urban_region.dbf\"\n",
      "\"urban_region.prj\"\n",
      "\"urban_region.shp\"\n",
      "\"urban_region.shx\"\n",
      "\"woodland_region.dbf\"\n",
      "\"woodland_region.prj\"\n",
      "\"woodland_region.shp\"\n",
      "\"woodland_region.shx\"\n",
      "\"\"\n",
      "\"licence.txt\"\n",
      "\"StrategiSymbols.ttf\"\n",
      "\"Strategi_Area.txt\"\n",
      "\"Strategi_Release_2016_Change.txt\"\n",
      "\"\"\n",
      "\"Strategi_Gazetteer_2016.txt\"\n",
      "\"Strategi_Readme.txt\"\n",
      "\"Styling_Guide.pdf\"\n",
      "OpenRivers_gpkg.zip\n",
      "\"readme.txt\"\n",
      "\"licence.txt\"\n",
      "OpenUPRN_gpkg.zip\n",
      "\"licence.txt\"\n",
      "\"versions.txt\"\n"
     ]
    }
   ],
   "source": [
    "# unzip docs\n",
    "for f in zfs:\n",
    "    try:\n",
    "        print(f)\n",
    "        \n",
    "        fname = f.split('_')[0].split('.')[0]\n",
    "        fpath = os.path.join('..','data',fname)\n",
    "        if not os.path.exists(fpath):\n",
    "            os.mkdir(fpath)\n",
    "        zf = zipfile.ZipFile(os.path.join('..','data',f))\n",
    "        names = [f for f in zf.namelist() if f.split('.')[-1] != 'gpkg']\n",
    "        for n in names:\n",
    "            nname = n.split('/')[-1]\n",
    "            print(f'\"{nname}\"')\n",
    "            if nname:\n",
    "                with open(os.path.join(fpath,nname),'wb') as unzip:\n",
    "                    unzip.write(zf.open(n).read())\n",
    "                    unzip.close()\n",
    "    except Exception as e:\n",
    "        print(e)"
   ]
  },
  {
   "cell_type": "code",
   "execution_count": 21,
   "id": "terminal-ability",
   "metadata": {},
   "outputs": [],
   "source": [
    "zf = zipfile.ZipFile('../data/BoundaryLine_gpkg.zip')"
   ]
  },
  {
   "cell_type": "code",
   "execution_count": 23,
   "id": "copyrighted-illinois",
   "metadata": {},
   "outputs": [
    {
     "data": {
      "text/plain": [
       "['data/',\n",
       " 'data/bdline_gb.gpkg',\n",
       " 'doc/',\n",
       " 'doc/B-L_COMMUNITY_WARD_README.txt',\n",
       " 'doc/Ceremonial_Counties.docx',\n",
       " 'doc/Counties - circa 1888-1889-Acts.docx',\n",
       " 'doc/ukpga_20110001_en.pdf',\n",
       " 'readme.txt']"
      ]
     },
     "execution_count": 23,
     "metadata": {},
     "output_type": "execute_result"
    }
   ],
   "source": [
    "zf.namelist()"
   ]
  },
  {
   "cell_type": "code",
   "execution_count": 24,
   "id": "impressive-marine",
   "metadata": {},
   "outputs": [
    {
     "data": {
      "text/plain": [
       "<zipfile.ZipExtFile name='readme.txt' mode='r' compress_type=deflate>"
      ]
     },
     "execution_count": 24,
     "metadata": {},
     "output_type": "execute_result"
    }
   ],
   "source": [
    "zf.open('readme.txt')."
   ]
  },
  {
   "cell_type": "code",
   "execution_count": 18,
   "id": "average-steam",
   "metadata": {},
   "outputs": [
    {
     "data": {
      "text/plain": [
       "'/home/jovyan/code'"
      ]
     },
     "execution_count": 18,
     "metadata": {},
     "output_type": "execute_result"
    }
   ],
   "source": [
    "os.getcwd()"
   ]
  }
 ],
 "metadata": {
  "kernelspec": {
   "display_name": "Python 3",
   "language": "python",
   "name": "python3"
  },
  "language_info": {
   "codemirror_mode": {
    "name": "ipython",
    "version": 3
   },
   "file_extension": ".py",
   "mimetype": "text/x-python",
   "name": "python",
   "nbconvert_exporter": "python",
   "pygments_lexer": "ipython3",
   "version": "3.8.8"
  }
 },
 "nbformat": 4,
 "nbformat_minor": 5
}
