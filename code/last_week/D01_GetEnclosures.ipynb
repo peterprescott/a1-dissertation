{
 "cells": [
  {
   "cell_type": "code",
   "execution_count": 1,
   "id": "million-status",
   "metadata": {},
   "outputs": [],
   "source": [
    "from time import time\n",
    "t0 = time()"
   ]
  },
  {
   "cell_type": "code",
   "execution_count": 2,
   "id": "nuclear-great",
   "metadata": {},
   "outputs": [],
   "source": [
    "import os\n",
    "\n",
    "import geopandas as gpd\n",
    "import pandas as pd\n",
    "import numpy as np\n",
    "import momepy as mm\n",
    "import networkx as nx\n",
    "\n",
    "from sqlalchemy import create_engine\n",
    "\n",
    "import matplotlib.pyplot as plt\n",
    "\n",
    "user = os.environ.get('DB_USERNAME')\n",
    "pwd = os.environ.get('DB_PASSWORD')\n",
    "host = os.environ.get('DB_HOSTNAME')\n",
    "port = os.environ.get('DB_PORT')\n",
    "\n",
    "url = f\"postgres+psycopg2://{user}:{pwd}@{host}:{port}/geodemo\"\n",
    "engine = create_engine(url)"
   ]
  },
  {
   "cell_type": "code",
   "execution_count": 3,
   "id": "scenic-keyboard",
   "metadata": {},
   "outputs": [],
   "source": [
    "rlwys = gpd.read_postgis('SELECT * FROM railways', engine, geom_col='geometry')"
   ]
  },
  {
   "cell_type": "code",
   "execution_count": 4,
   "id": "packed-swing",
   "metadata": {},
   "outputs": [],
   "source": [
    "rivers = gpd.read_postgis('SELECT * FROM rivers', engine, geom_col='geometry')"
   ]
  },
  {
   "cell_type": "code",
   "execution_count": 5,
   "id": "alpha-encounter",
   "metadata": {},
   "outputs": [
    {
     "data": {
      "text/plain": [
       "array(['inlandRiver', 'tidalRiver', 'lake', 'canal'], dtype=object)"
      ]
     },
     "execution_count": 5,
     "metadata": {},
     "output_type": "execute_result"
    }
   ],
   "source": [
    "rivers.form.unique()"
   ]
  },
  {
   "cell_type": "code",
   "execution_count": 6,
   "id": "centered-quantum",
   "metadata": {},
   "outputs": [],
   "source": [
    "regions = gpd.read_postgis('SELECT * FROM country_region', engine, geom_col='geometry')\n",
    "england = regions.loc[regions.Name=='England']"
   ]
  },
  {
   "cell_type": "code",
   "execution_count": 9,
   "id": "ultimate-dating",
   "metadata": {},
   "outputs": [],
   "source": [
    "roads = gpd.read_postgis('SELECT * FROM openroads', engine, geom_col='geometry')"
   ]
  },
  {
   "cell_type": "code",
   "execution_count": 10,
   "id": "backed-imagination",
   "metadata": {},
   "outputs": [
    {
     "data": {
      "text/plain": [
       "array(['Minor Road', 'Local Road', 'Restricted Local Access Road',\n",
       "       'A Road', 'Local Access Road', 'Motorway', 'Secondary Access Road',\n",
       "       'B Road'], dtype=object)"
      ]
     },
     "execution_count": 10,
     "metadata": {},
     "output_type": "execute_result"
    }
   ],
   "source": [
    "roads.roadFunction.unique()"
   ]
  },
  {
   "cell_type": "code",
   "execution_count": 11,
   "id": "premier-speaker",
   "metadata": {},
   "outputs": [],
   "source": [
    "mwys = roads.loc[roads.roadFunction=='Motorway']"
   ]
  },
  {
   "cell_type": "code",
   "execution_count": 12,
   "id": "capable-cleaners",
   "metadata": {},
   "outputs": [],
   "source": [
    "a_rd = roads.loc[roads.roadFunction=='A Road']"
   ]
  },
  {
   "cell_type": "code",
   "execution_count": 13,
   "id": "elect-dairy",
   "metadata": {},
   "outputs": [],
   "source": [
    "# not borders\n",
    "#b_rd = roads.loc[roads.roadFunction=='B Road']\n",
    "#l_rd = roads.loc[roads.roadFunction=='Local Road']"
   ]
  },
  {
   "cell_type": "code",
   "execution_count": 14,
   "id": "classical-montgomery",
   "metadata": {},
   "outputs": [],
   "source": [
    "borders = pd.concat([mwys, a_rd, rlwys, rivers])"
   ]
  },
  {
   "cell_type": "code",
   "execution_count": 15,
   "id": "saved-retro",
   "metadata": {},
   "outputs": [],
   "source": [
    "border_union = borders.unary_union"
   ]
  },
  {
   "cell_type": "code",
   "execution_count": null,
   "id": "collectible-commission",
   "metadata": {},
   "outputs": [],
   "source": [
    "border_union"
   ]
  },
  {
   "cell_type": "code",
   "execution_count": 8,
   "id": "treated-davis",
   "metadata": {},
   "outputs": [],
   "source": [
    "eng_border = england.geometry.boundary\n",
    "\n",
    "eng = gpd.GeoDataFrame(geometry=eng_border)"
   ]
  },
  {
   "cell_type": "code",
   "execution_count": 16,
   "id": "further-consortium",
   "metadata": {},
   "outputs": [],
   "source": [
    "from shapely.ops import polygonize"
   ]
  },
  {
   "cell_type": "code",
   "execution_count": 17,
   "id": "tracked-fountain",
   "metadata": {},
   "outputs": [],
   "source": [
    "polygons = polygonize(border_union)"
   ]
  },
  {
   "cell_type": "code",
   "execution_count": 18,
   "id": "loving-jersey",
   "metadata": {},
   "outputs": [],
   "source": [
    "enclosures = gpd.array.from_shapely(list(polygons), crs=roads.crs)"
   ]
  },
  {
   "cell_type": "code",
   "execution_count": 19,
   "id": "automated-ferry",
   "metadata": {},
   "outputs": [
    {
     "data": {
      "text/plain": [
       "<GeometryArray>\n",
       "[<shapely.geometry.polygon.Polygon object at 0x7fdc3bf1b9a0>,\n",
       " <shapely.geometry.polygon.Polygon object at 0x7fdc3bf1ba30>,\n",
       " <shapely.geometry.polygon.Polygon object at 0x7fdc3bf1b9a0>,\n",
       " <shapely.geometry.polygon.Polygon object at 0x7fdc3bf1ba30>,\n",
       " <shapely.geometry.polygon.Polygon object at 0x7fdc3bf1b9a0>,\n",
       " <shapely.geometry.polygon.Polygon object at 0x7fdc3bf1ba30>,\n",
       " <shapely.geometry.polygon.Polygon object at 0x7fdc3bf1b9a0>,\n",
       " <shapely.geometry.polygon.Polygon object at 0x7fdc3bf1ba30>,\n",
       " <shapely.geometry.polygon.Polygon object at 0x7fdd50ca93a0>,\n",
       " <shapely.geometry.polygon.Polygon object at 0x7fdd50ca9520>,\n",
       " ...\n",
       " <shapely.geometry.polygon.Polygon object at 0x7fdd50ca93a0>,\n",
       " <shapely.geometry.polygon.Polygon object at 0x7fdc3bf1b970>,\n",
       " <shapely.geometry.polygon.Polygon object at 0x7fdd50ca93a0>,\n",
       " <shapely.geometry.polygon.Polygon object at 0x7fdc3bf1b970>,\n",
       " <shapely.geometry.polygon.Polygon object at 0x7fdd50ca93a0>,\n",
       " <shapely.geometry.polygon.Polygon object at 0x7fdc3bf1b970>,\n",
       " <shapely.geometry.polygon.Polygon object at 0x7fdd50ca93a0>,\n",
       " <shapely.geometry.polygon.Polygon object at 0x7fdc3bf1b970>,\n",
       " <shapely.geometry.polygon.Polygon object at 0x7fdd50ca93a0>,\n",
       " <shapely.geometry.polygon.Polygon object at 0x7fdc3bf1b970>]\n",
       "Length: 58410, dtype: geometry"
      ]
     },
     "execution_count": 19,
     "metadata": {},
     "output_type": "execute_result"
    }
   ],
   "source": [
    "enclosures"
   ]
  },
  {
   "cell_type": "code",
   "execution_count": 20,
   "id": "adult-israeli",
   "metadata": {},
   "outputs": [
    {
     "name": "stderr",
     "output_type": "stream",
     "text": [
      "<ipython-input-20-7f1fa0a76a8d>:1: UserWarning: this is an initial implementation of Parquet/Feather file support and associated metadata.  This is tracking version 0.1.0 of the metadata specification at https://github.com/geopandas/geo-arrow-spec\n",
      "\n",
      "This metadata specification does not yet make stability promises.  We do not yet recommend using this in a production setting unless you are able to rewrite your Parquet/Feather files.\n",
      "\n",
      "To further ignore this warning, you can do: \n",
      "import warnings; warnings.filterwarnings('ignore', message='.*initial implementation of Parquet.*')\n",
      "  gpd.GeoDataFrame(geometry=enclosures, crs=roads.crs).to_parquet('../data/enclosures.pq')\n"
     ]
    }
   ],
   "source": [
    "gpd.GeoDataFrame(geometry=enclosures, crs=roads.crs).to_parquet('../data/enclosures.pq')"
   ]
  },
  {
   "cell_type": "code",
   "execution_count": 21,
   "id": "satisfactory-rehabilitation",
   "metadata": {},
   "outputs": [],
   "source": [
    "gdf = gpd.read_parquet('../data/enclosures.pq')"
   ]
  },
  {
   "cell_type": "code",
   "execution_count": 22,
   "id": "center-mailman",
   "metadata": {},
   "outputs": [],
   "source": [
    "gdf.to_postgis('enclosures', engine, if_exists='replace')"
   ]
  },
  {
   "cell_type": "code",
   "execution_count": 23,
   "id": "fatty-bahamas",
   "metadata": {},
   "outputs": [
    {
     "name": "stdout",
     "output_type": "stream",
     "text": [
      "314.38188767433167\n"
     ]
    }
   ],
   "source": [
    "t = time()\n",
    "print(t-t0)"
   ]
  },
  {
   "cell_type": "code",
   "execution_count": null,
   "id": "convenient-pierce",
   "metadata": {},
   "outputs": [],
   "source": [
    "print(f'{(t-t0)//60} minutes, {(t-t0)%60} seconds')"
   ]
  }
 ],
 "metadata": {
  "kernelspec": {
   "display_name": "Python 3",
   "language": "python",
   "name": "python3"
  },
  "language_info": {
   "codemirror_mode": {
    "name": "ipython",
    "version": 3
   },
   "file_extension": ".py",
   "mimetype": "text/x-python",
   "name": "python",
   "nbconvert_exporter": "python",
   "pygments_lexer": "ipython3",
   "version": "3.8.8"
  }
 },
 "nbformat": 4,
 "nbformat_minor": 5
}
