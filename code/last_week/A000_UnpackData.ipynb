{
 "cells": [
  {
   "cell_type": "code",
   "execution_count": 1,
   "id": "complicated-testimony",
   "metadata": {},
   "outputs": [],
   "source": [
    "import os\n",
    "import zipfile\n",
    "import requests\n",
    "\n",
    "import pandas as pd\n",
    "import numpy as np\n",
    "import fiona\n",
    "import geopandas as gpd\n",
    "\n",
    "from sqlalchemy import create_engine\n",
    "\n",
    "import time"
   ]
  },
  {
   "cell_type": "code",
   "execution_count": 3,
   "id": "be1e9d15-ac98-45ea-81a8-33aa6e933297",
   "metadata": {},
   "outputs": [],
   "source": [
    "# set up database\n",
    "user = os.environ.get('DB_USERNAME')\n",
    "pwd = os.environ.get('DB_PASSWORD')\n",
    "host = os.environ.get('DB_HOSTNAME')\n",
    "port = os.environ.get('DB_PORT')\n",
    "\n",
    "db_connection_url = f\"postgresql://{user}:{pwd}@{host}:{port}/geodemo\"\n",
    "engine = create_engine(db_connection_url)"
   ]
  },
  {
   "cell_type": "code",
   "execution_count": 2,
   "id": "e557310b-36af-4f2c-adfe-ecf489692f6b",
   "metadata": {},
   "outputs": [
    {
     "ename": "NameError",
     "evalue": "name 'zf' is not defined",
     "output_type": "error",
     "traceback": [
      "\u001b[0;31m---------------------------------------------------------------------------\u001b[0m",
      "\u001b[0;31mNameError\u001b[0m                                 Traceback (most recent call last)",
      "\u001b[0;32m/tmp/ipykernel_719/3286982404.py\u001b[0m in \u001b[0;36m<module>\u001b[0;34m\u001b[0m\n\u001b[1;32m      8\u001b[0m \u001b[0mengine\u001b[0m \u001b[0;34m=\u001b[0m \u001b[0mcreate_engine\u001b[0m\u001b[0;34m(\u001b[0m\u001b[0mdb_connection_url\u001b[0m\u001b[0;34m)\u001b[0m\u001b[0;34m\u001b[0m\u001b[0;34m\u001b[0m\u001b[0m\n\u001b[1;32m      9\u001b[0m \u001b[0;34m\u001b[0m\u001b[0m\n\u001b[0;32m---> 10\u001b[0;31m \u001b[0mgdf\u001b[0m \u001b[0;34m=\u001b[0m \u001b[0mgpd\u001b[0m\u001b[0;34m.\u001b[0m\u001b[0mread_file\u001b[0m\u001b[0;34m(\u001b[0m\u001b[0mzf\u001b[0m\u001b[0;34m.\u001b[0m\u001b[0mopen\u001b[0m\u001b[0;34m(\u001b[0m\u001b[0mgpkg\u001b[0m\u001b[0;34m)\u001b[0m\u001b[0;34m)\u001b[0m\u001b[0;34m\u001b[0m\u001b[0;34m\u001b[0m\u001b[0m\n\u001b[0m",
      "\u001b[0;31mNameError\u001b[0m: name 'zf' is not defined"
     ]
    }
   ],
   "source": [
    "gdf = gpd.read_file(zf.open(gpkg))"
   ]
  },
  {
   "cell_type": "code",
   "execution_count": 7,
   "id": "naked-holocaust",
   "metadata": {},
   "outputs": [],
   "source": [
    "# db_connection_url = f\"postgres+psycopg2://{user}:{pwd}@{host}:{port}/postgres\"\n",
    "# engine = create_engine(db_connection_url)\n",
    "\n",
    "# conn = engine.connect()\n",
    "\n",
    "# conn.execute(\"commit\")\n",
    "\n",
    "# conn.execute(\"create database geodemo\")\n",
    "\n",
    "# conn.close()"
   ]
  },
  {
   "cell_type": "code",
   "execution_count": 14,
   "id": "planned-ending",
   "metadata": {},
   "outputs": [],
   "source": [
    "# engine.execute('create extension postgis;')"
   ]
  },
  {
   "cell_type": "code",
   "execution_count": 4,
   "id": "synthetic-public",
   "metadata": {},
   "outputs": [],
   "source": [
    "downloads = [f for f in os.listdir('../data/') if f[0] != '.']"
   ]
  },
  {
   "cell_type": "code",
   "execution_count": 5,
   "id": "august-belgium",
   "metadata": {},
   "outputs": [],
   "source": [
    "file = downloads[4]"
   ]
  },
  {
   "cell_type": "code",
   "execution_count": 6,
   "id": "fancy-wales",
   "metadata": {},
   "outputs": [],
   "source": [
    "zf = zipfile.ZipFile(f'../data/{file}')"
   ]
  },
  {
   "cell_type": "code",
   "execution_count": 7,
   "id": "palestinian-throw",
   "metadata": {},
   "outputs": [
    {
     "data": {
      "text/plain": [
       "['readme.txt', 'data/oproad_gb.gpkg', 'doc/licence.txt']"
      ]
     },
     "execution_count": 7,
     "metadata": {},
     "output_type": "execute_result"
    }
   ],
   "source": [
    "zf.namelist()"
   ]
  },
  {
   "cell_type": "code",
   "execution_count": 8,
   "id": "faced-nerve",
   "metadata": {},
   "outputs": [],
   "source": [
    "gpkg = [f for f in zf.namelist() if f.split('.')[-1] == 'gpkg'][0]"
   ]
  },
  {
   "cell_type": "code",
   "execution_count": 9,
   "id": "infinite-parks",
   "metadata": {},
   "outputs": [
    {
     "data": {
      "text/plain": [
       "'data/oproad_gb.gpkg'"
      ]
     },
     "execution_count": 9,
     "metadata": {},
     "output_type": "execute_result"
    }
   ],
   "source": [
    "gpkg"
   ]
  },
  {
   "cell_type": "code",
   "execution_count": 13,
   "id": "desperate-observation",
   "metadata": {},
   "outputs": [],
   "source": [
    "gdf.to_postgis(\"openroads\", engine, if_exists='replace')"
   ]
  },
  {
   "cell_type": "code",
   "execution_count": 5,
   "id": "visible-unemployment",
   "metadata": {},
   "outputs": [
    {
     "data": {
      "text/plain": [
       "['OpenUSRN',\n",
       " 'OpenNames_gpkg.zip',\n",
       " 'BoundaryLine_gpkg.zip',\n",
       " 'OpenMapLocal_gpkg.zip',\n",
       " 'ons',\n",
       " 'enclosures.pq',\n",
       " 'OpenGreenspace',\n",
       " 'Strategi',\n",
       " 'OpenTOID',\n",
       " 'OpenGreenspace_gpkg.zip',\n",
       " 'OpenNames',\n",
       " 'BoundaryLine',\n",
       " 'OpenRoads_gpkg.zip',\n",
       " 'OpenUSRN_gpkg.zip',\n",
       " 'CodePointOpen_gpkg.zip',\n",
       " 'OpenZoomstack',\n",
       " 'OpenMapLocal',\n",
       " 'OpenZoomstack_gpkg.zip',\n",
       " 'OpenTOID_gpkg.zip',\n",
       " 'Strategi.zip',\n",
       " 'OpenZoomstackGeoPackage.zip',\n",
       " 'OpenUPRN',\n",
       " 'OpenRivers_gpkg.zip',\n",
       " 'OpenUPRN_gpkg.zip',\n",
       " 'OpenRivers',\n",
       " 'OpenRoads',\n",
       " 'CodePointOpen']"
      ]
     },
     "execution_count": 5,
     "metadata": {},
     "output_type": "execute_result"
    }
   ],
   "source": [
    "downloads"
   ]
  },
  {
   "cell_type": "code",
   "execution_count": 17,
   "id": "senior-example",
   "metadata": {},
   "outputs": [],
   "source": [
    "file = downloads[4]"
   ]
  },
  {
   "cell_type": "code",
   "execution_count": 18,
   "id": "clinical-exposure",
   "metadata": {},
   "outputs": [
    {
     "name": "stdout",
     "output_type": "stream",
     "text": [
      "openroads\n"
     ]
    }
   ],
   "source": [
    "fid = file.split('_')[0].lower()\n",
    "print(fid)"
   ]
  },
  {
   "cell_type": "code",
   "execution_count": 19,
   "id": "powered-entry",
   "metadata": {},
   "outputs": [
    {
     "name": "stdout",
     "output_type": "stream",
     "text": [
      "1630015601.449021\n",
      "['readme.txt', 'data/oproad_gb.gpkg', 'doc/licence.txt']\n",
      "data/oproad_gb.gpkg\n",
      "1630015601.452291 0.0032699108123779297\n",
      "1630015865.6896236 264.23733258247375\n",
      "1630016092.034049 226.3444254398346\n"
     ]
    }
   ],
   "source": [
    "t0 = time.time()\n",
    "print(t0)\n",
    "\n",
    "zf = zipfile.ZipFile(f'../data/{file}')\n",
    "\n",
    "print(zf.namelist())\n",
    "\n",
    "gpkg = [f for f in zf.namelist() if f.split('.')[-1] == 'gpkg'][0]\n",
    "\n",
    "print(gpkg)\n",
    "\n",
    "t1 = time.time()\n",
    "print(t1, t1-t0)\n",
    "gdf = gpd.read_file(zf.open(gpkg))\n",
    "\n",
    "t2 = time.time()\n",
    "print(t2, t2-t1)\n",
    "gdf.to_postgis(fid, engine, if_exists='replace')\n",
    "\n",
    "t3 = time.time()\n",
    "print(t3, t3-t2)"
   ]
  },
  {
   "cell_type": "code",
   "execution_count": 7,
   "id": "likely-couple",
   "metadata": {},
   "outputs": [
    {
     "data": {
      "text/plain": [
       "'OpenUPRN_gpkg.zip'"
      ]
     },
     "execution_count": 7,
     "metadata": {},
     "output_type": "execute_result"
    }
   ],
   "source": [
    "downloads[-4]"
   ]
  },
  {
   "cell_type": "code",
   "execution_count": 30,
   "id": "stable-welding",
   "metadata": {},
   "outputs": [],
   "source": [
    "fid = file.split('_')[0].lower()"
   ]
  },
  {
   "cell_type": "code",
   "execution_count": 31,
   "id": "developmental-forest",
   "metadata": {},
   "outputs": [
    {
     "data": {
      "text/plain": [
       "'openuprn'"
      ]
     },
     "execution_count": 31,
     "metadata": {},
     "output_type": "execute_result"
    }
   ],
   "source": [
    "fid"
   ]
  },
  {
   "cell_type": "code",
   "execution_count": 32,
   "id": "stunning-accused",
   "metadata": {},
   "outputs": [],
   "source": [
    "zf = zipfile.ZipFile(f'../data/{file}')"
   ]
  },
  {
   "cell_type": "code",
   "execution_count": 33,
   "id": "liable-casino",
   "metadata": {},
   "outputs": [
    {
     "data": {
      "text/plain": [
       "['licence.txt', 'versions.txt', 'osopenuprn_202107.gpkg']"
      ]
     },
     "execution_count": 33,
     "metadata": {},
     "output_type": "execute_result"
    }
   ],
   "source": [
    "zf.namelist()"
   ]
  },
  {
   "cell_type": "code",
   "execution_count": null,
   "id": "chemical-harvey",
   "metadata": {},
   "outputs": [],
   "source": [
    "gpkg = "
   ]
  },
  {
   "cell_type": "code",
   "execution_count": null,
   "id": "representative-bowling",
   "metadata": {},
   "outputs": [],
   "source": [
    "fiona.listlayers(zf)"
   ]
  },
  {
   "cell_type": "code",
   "execution_count": 8,
   "id": "aggressive-vegetable",
   "metadata": {},
   "outputs": [],
   "source": [
    "def unpack(file):\n",
    "        fid = file.split('_')[0].lower()\n",
    "        print(fid)\n",
    "\n",
    "        t0 = time.time()\n",
    "        print(t0)\n",
    "\n",
    "        zf = zipfile.ZipFile(f'../data/{file}')\n",
    "\n",
    "        print(zf.namelist())\n",
    "\n",
    "        gpkg = [f for f in zf.namelist() if f.split('.')[-1] == 'gpkg'][0]\n",
    "\n",
    "        print(gpkg)\n",
    "\n",
    "        t1 = time.time()\n",
    "        print(t1, t1-t0)\n",
    "        gdf = gpd.read_file(zf.open(gpkg))\n",
    "\n",
    "        t2 = time.time()\n",
    "        print(t2, t2-t1)\n",
    "        return gdf\n",
    "#         gdf.to_postgis(fid, engine, if_exists='replace')\n",
    "\n",
    "#         t3 = time.time()\n",
    "#         print(t3, t3-t2)"
   ]
  },
  {
   "cell_type": "code",
   "execution_count": null,
   "id": "banner-values",
   "metadata": {},
   "outputs": [],
   "source": [
    "        fid = file.split('_')[0].lower()\n",
    "        print(fid)\n",
    "\n",
    "        t0 = time.time()\n",
    "        print(t0)\n",
    "\n",
    "        zf = zipfile.ZipFile(f'../data/{file}')\n",
    "\n",
    "        print(zf.namelist())\n",
    "\n",
    "        gpkg = [f for f in zf.namelist() if f.split('.')[-1] == 'gpkg'][0]\n",
    "\n",
    "        print(gpkg)\n",
    "\n",
    "        t1 = time.time()\n",
    "        print(t1, t1-t0)\n",
    "        gdf = gpd.read_file(zf.open(gpkg))\n",
    "\n",
    "        t2 = time.time()\n",
    "        print(t2, t2-t1)\n",
    "        gdf.to_postgis(fid, engine, if_exists='replace')\n",
    "\n",
    "        t3 = time.time()\n",
    "        print(t3, t3-t2)"
   ]
  },
  {
   "cell_type": "code",
   "execution_count": null,
   "id": "announced-cursor",
   "metadata": {},
   "outputs": [
    {
     "name": "stdout",
     "output_type": "stream",
     "text": [
      "openuprn\n",
      "1630210175.6914184\n",
      "['licence.txt', 'versions.txt', 'osopenuprn_202107.gpkg']\n",
      "osopenuprn_202107.gpkg\n",
      "1630210175.6949055 0.003487110137939453\n"
     ]
    }
   ],
   "source": [
    "uprn = unpack(downloads[-4])"
   ]
  },
  {
   "cell_type": "code",
   "execution_count": 1,
   "id": "0e5d028e-90ad-4564-a4c8-fba04d39e794",
   "metadata": {},
   "outputs": [
    {
     "ename": "NameError",
     "evalue": "name 'uprn' is not defined",
     "output_type": "error",
     "traceback": [
      "\u001b[0;31m---------------------------------------------------------------------------\u001b[0m",
      "\u001b[0;31mNameError\u001b[0m                                 Traceback (most recent call last)",
      "\u001b[0;32m/tmp/ipykernel_895/117242546.py\u001b[0m in \u001b[0;36m<module>\u001b[0;34m\u001b[0m\n\u001b[0;32m----> 1\u001b[0;31m \u001b[0muprn\u001b[0m\u001b[0;34m.\u001b[0m\u001b[0mhead\u001b[0m\u001b[0;34m(\u001b[0m\u001b[0;34m)\u001b[0m\u001b[0;34m\u001b[0m\u001b[0;34m\u001b[0m\u001b[0m\n\u001b[0m",
      "\u001b[0;31mNameError\u001b[0m: name 'uprn' is not defined"
     ]
    }
   ],
   "source": [
    "uprn.head()"
   ]
  },
  {
   "cell_type": "code",
   "execution_count": null,
   "id": "83e6acdc-b237-4062-ae09-1077ea405428",
   "metadata": {},
   "outputs": [],
   "source": []
  },
  {
   "cell_type": "code",
   "execution_count": null,
   "id": "d184e2ad-50de-47f6-86d0-edee5ae87640",
   "metadata": {},
   "outputs": [],
   "source": []
  },
  {
   "cell_type": "code",
   "execution_count": 7,
   "id": "removable-reporter",
   "metadata": {},
   "outputs": [
    {
     "name": "stdout",
     "output_type": "stream",
     "text": [
      "openuprn\n",
      "1630021854.3344758\n",
      "['licence.txt', 'versions.txt', 'osopenuprn_202107.gpkg']\n",
      "osopenuprn_202107.gpkg\n",
      "1630021854.3402333 0.005757570266723633\n"
     ]
    },
    {
     "name": "stderr",
     "output_type": "stream",
     "text": [
      "/opt/conda/lib/python3.8/site-packages/geopandas/geodataframe.py:577: RuntimeWarning: Sequential read of iterator was interrupted. Resetting iterator. This can negatively impact the performance.\n",
      "  for feature in features_lst:\n"
     ]
    },
    {
     "name": "stdout",
     "output_type": "stream",
     "text": [
      "1630023746.251099 1891.9108657836914\n",
      "1630025302.7629251 1556.5118260383606\n"
     ]
    }
   ],
   "source": [
    "unpack(downloads[-1])"
   ]
  },
  {
   "cell_type": "code",
   "execution_count": 20,
   "id": "integrated-journalism",
   "metadata": {},
   "outputs": [
    {
     "name": "stdout",
     "output_type": "stream",
     "text": [
      "opennames\n",
      "1630016304.7728264\n",
      "['readme.txt', 'data/opname_gb.gpkg', 'doc/licence.txt']\n",
      "data/opname_gb.gpkg\n",
      "1630016304.77496 0.002133607864379883\n",
      "1630016591.5921814 286.81722140312195\n",
      "1630016804.3900497 212.79786825180054\n",
      "boundaryline\n",
      "1630016804.390238\n",
      "['data/', 'data/bdline_gb.gpkg', 'doc/', 'doc/B-L_COMMUNITY_WARD_README.txt', 'doc/Ceremonial_Counties.docx', 'doc/Counties - circa 1888-1889-Acts.docx', 'doc/ukpga_20110001_en.pdf', 'readme.txt']\n",
      "data/bdline_gb.gpkg\n",
      "1630016804.3918812 0.0016431808471679688\n",
      "1630016818.505297 14.113415718078613\n",
      "1630016829.7680085 11.262711524963379\n",
      "openmaplocal\n",
      "1630016829.7686183\n",
      "['readme.txt', 'data/opmplc_gb.gpkg', 'doc/licence.txt']\n",
      "data/opmplc_gb.gpkg\n",
      "1630016829.7703114 0.0016930103302001953\n",
      "1630017641.6959655 811.9256541728973\n",
      "1630018394.8431168 753.1471512317657\n",
      "opengreenspace\n",
      "1630018394.8433187\n",
      "['OS Open Greenspace (GPKG) GB/readme.txt', 'OS Open Greenspace (GPKG) GB/data/opgrsp_gb.gpkg', 'OS Open Greenspace (GPKG) GB/doc/licence.txt']\n",
      "OS Open Greenspace (GPKG) GB/data/opgrsp_gb.gpkg\n",
      "1630018394.8453035 0.001984834671020508\n",
      "1630018413.0397766 18.194473028182983\n",
      "1630018421.302652 8.262875318527222\n",
      "openusrn\n",
      "1630018421.3028352\n",
      "['osopenusrn_202108_versions.json', 'osopenusrn_202108.gpkg', 'licence.txt']\n",
      "osopenusrn_202108.gpkg\n",
      "1630018421.30473 0.0018947124481201172\n"
     ]
    },
    {
     "ename": "ValueError",
     "evalue": "LineStrings must have at least 2 coordinate tuples",
     "output_type": "error",
     "traceback": [
      "\u001b[0;31m---------------------------------------------------------------------------\u001b[0m",
      "\u001b[0;31mAttributeError\u001b[0m                            Traceback (most recent call last)",
      "\u001b[0;32m/opt/conda/lib/python3.8/site-packages/shapely/speedups/_speedups.pyx\u001b[0m in \u001b[0;36mshapely.speedups._speedups.geos_linestring_from_py\u001b[0;34m()\u001b[0m\n",
      "\u001b[0;31mAttributeError\u001b[0m: 'list' object has no attribute '__array_interface__'",
      "\nDuring handling of the above exception, another exception occurred:\n",
      "\u001b[0;31mValueError\u001b[0m                                Traceback (most recent call last)",
      "\u001b[0;32m<ipython-input-20-cc6c9e14ad3f>\u001b[0m in \u001b[0;36m<module>\u001b[0;34m\u001b[0m\n\u001b[1;32m     20\u001b[0m         \u001b[0mt1\u001b[0m \u001b[0;34m=\u001b[0m \u001b[0mtime\u001b[0m\u001b[0;34m.\u001b[0m\u001b[0mtime\u001b[0m\u001b[0;34m(\u001b[0m\u001b[0;34m)\u001b[0m\u001b[0;34m\u001b[0m\u001b[0;34m\u001b[0m\u001b[0m\n\u001b[1;32m     21\u001b[0m         \u001b[0mprint\u001b[0m\u001b[0;34m(\u001b[0m\u001b[0mt1\u001b[0m\u001b[0;34m,\u001b[0m \u001b[0mt1\u001b[0m\u001b[0;34m-\u001b[0m\u001b[0mt0\u001b[0m\u001b[0;34m)\u001b[0m\u001b[0;34m\u001b[0m\u001b[0;34m\u001b[0m\u001b[0m\n\u001b[0;32m---> 22\u001b[0;31m         \u001b[0mgdf\u001b[0m \u001b[0;34m=\u001b[0m \u001b[0mgpd\u001b[0m\u001b[0;34m.\u001b[0m\u001b[0mread_file\u001b[0m\u001b[0;34m(\u001b[0m\u001b[0mzf\u001b[0m\u001b[0;34m.\u001b[0m\u001b[0mopen\u001b[0m\u001b[0;34m(\u001b[0m\u001b[0mgpkg\u001b[0m\u001b[0;34m)\u001b[0m\u001b[0;34m)\u001b[0m\u001b[0;34m\u001b[0m\u001b[0;34m\u001b[0m\u001b[0m\n\u001b[0m\u001b[1;32m     23\u001b[0m \u001b[0;34m\u001b[0m\u001b[0m\n\u001b[1;32m     24\u001b[0m         \u001b[0mt2\u001b[0m \u001b[0;34m=\u001b[0m \u001b[0mtime\u001b[0m\u001b[0;34m.\u001b[0m\u001b[0mtime\u001b[0m\u001b[0;34m(\u001b[0m\u001b[0;34m)\u001b[0m\u001b[0;34m\u001b[0m\u001b[0;34m\u001b[0m\u001b[0m\n",
      "\u001b[0;32m/opt/conda/lib/python3.8/site-packages/geopandas/io/file.py\u001b[0m in \u001b[0;36m_read_file\u001b[0;34m(filename, bbox, mask, rows, **kwargs)\u001b[0m\n\u001b[1;32m    201\u001b[0m                 )\n\u001b[1;32m    202\u001b[0m \u001b[0;34m\u001b[0m\u001b[0m\n\u001b[0;32m--> 203\u001b[0;31m             return GeoDataFrame.from_features(\n\u001b[0m\u001b[1;32m    204\u001b[0m                 \u001b[0mf_filt\u001b[0m\u001b[0;34m,\u001b[0m \u001b[0mcrs\u001b[0m\u001b[0;34m=\u001b[0m\u001b[0mcrs\u001b[0m\u001b[0;34m,\u001b[0m \u001b[0mcolumns\u001b[0m\u001b[0;34m=\u001b[0m\u001b[0mcolumns\u001b[0m \u001b[0;34m+\u001b[0m \u001b[0;34m[\u001b[0m\u001b[0;34m\"geometry\"\u001b[0m\u001b[0;34m]\u001b[0m\u001b[0;34m\u001b[0m\u001b[0;34m\u001b[0m\u001b[0m\n\u001b[1;32m    205\u001b[0m             )\n",
      "\u001b[0;32m/opt/conda/lib/python3.8/site-packages/geopandas/geodataframe.py\u001b[0m in \u001b[0;36mfrom_features\u001b[0;34m(cls, features, crs, columns)\u001b[0m\n\u001b[1;32m    580\u001b[0m                 \u001b[0mfeature\u001b[0m \u001b[0;34m=\u001b[0m \u001b[0mfeature\u001b[0m\u001b[0;34m.\u001b[0m\u001b[0m__geo_interface__\u001b[0m\u001b[0;34m\u001b[0m\u001b[0;34m\u001b[0m\u001b[0m\n\u001b[1;32m    581\u001b[0m             row = {\n\u001b[0;32m--> 582\u001b[0;31m                 \u001b[0;34m\"geometry\"\u001b[0m\u001b[0;34m:\u001b[0m \u001b[0mshape\u001b[0m\u001b[0;34m(\u001b[0m\u001b[0mfeature\u001b[0m\u001b[0;34m[\u001b[0m\u001b[0;34m\"geometry\"\u001b[0m\u001b[0;34m]\u001b[0m\u001b[0;34m)\u001b[0m \u001b[0;32mif\u001b[0m \u001b[0mfeature\u001b[0m\u001b[0;34m[\u001b[0m\u001b[0;34m\"geometry\"\u001b[0m\u001b[0;34m]\u001b[0m \u001b[0;32melse\u001b[0m \u001b[0;32mNone\u001b[0m\u001b[0;34m\u001b[0m\u001b[0;34m\u001b[0m\u001b[0m\n\u001b[0m\u001b[1;32m    583\u001b[0m             }\n\u001b[1;32m    584\u001b[0m             \u001b[0;31m# load properties\u001b[0m\u001b[0;34m\u001b[0m\u001b[0;34m\u001b[0m\u001b[0;34m\u001b[0m\u001b[0m\n",
      "\u001b[0;32m/opt/conda/lib/python3.8/site-packages/shapely/geometry/geo.py\u001b[0m in \u001b[0;36mshape\u001b[0;34m(context)\u001b[0m\n\u001b[1;32m    107\u001b[0m         \u001b[0;32mreturn\u001b[0m \u001b[0mMultiPoint\u001b[0m\u001b[0;34m(\u001b[0m\u001b[0mob\u001b[0m\u001b[0;34m[\u001b[0m\u001b[0;34m\"coordinates\"\u001b[0m\u001b[0;34m]\u001b[0m\u001b[0;34m)\u001b[0m\u001b[0;34m\u001b[0m\u001b[0;34m\u001b[0m\u001b[0m\n\u001b[1;32m    108\u001b[0m     \u001b[0;32melif\u001b[0m \u001b[0mgeom_type\u001b[0m \u001b[0;34m==\u001b[0m \u001b[0;34m\"multilinestring\"\u001b[0m\u001b[0;34m:\u001b[0m\u001b[0;34m\u001b[0m\u001b[0;34m\u001b[0m\u001b[0m\n\u001b[0;32m--> 109\u001b[0;31m         \u001b[0;32mreturn\u001b[0m \u001b[0mMultiLineString\u001b[0m\u001b[0;34m(\u001b[0m\u001b[0mob\u001b[0m\u001b[0;34m[\u001b[0m\u001b[0;34m\"coordinates\"\u001b[0m\u001b[0;34m]\u001b[0m\u001b[0;34m)\u001b[0m\u001b[0;34m\u001b[0m\u001b[0;34m\u001b[0m\u001b[0m\n\u001b[0m\u001b[1;32m    110\u001b[0m     \u001b[0;32melif\u001b[0m \u001b[0mgeom_type\u001b[0m \u001b[0;34m==\u001b[0m \u001b[0;34m\"multipolygon\"\u001b[0m\u001b[0;34m:\u001b[0m\u001b[0;34m\u001b[0m\u001b[0;34m\u001b[0m\u001b[0m\n\u001b[1;32m    111\u001b[0m         \u001b[0;32mreturn\u001b[0m \u001b[0mMultiPolygon\u001b[0m\u001b[0;34m(\u001b[0m\u001b[0mob\u001b[0m\u001b[0;34m[\u001b[0m\u001b[0;34m\"coordinates\"\u001b[0m\u001b[0;34m]\u001b[0m\u001b[0;34m,\u001b[0m \u001b[0mcontext_type\u001b[0m\u001b[0;34m=\u001b[0m\u001b[0;34m'geojson'\u001b[0m\u001b[0;34m)\u001b[0m\u001b[0;34m\u001b[0m\u001b[0;34m\u001b[0m\u001b[0m\n",
      "\u001b[0;32m/opt/conda/lib/python3.8/site-packages/shapely/geometry/multilinestring.py\u001b[0m in \u001b[0;36m__init__\u001b[0;34m(self, lines)\u001b[0m\n\u001b[1;32m     51\u001b[0m             \u001b[0;32mpass\u001b[0m\u001b[0;34m\u001b[0m\u001b[0;34m\u001b[0m\u001b[0m\n\u001b[1;32m     52\u001b[0m         \u001b[0;32melse\u001b[0m\u001b[0;34m:\u001b[0m\u001b[0;34m\u001b[0m\u001b[0;34m\u001b[0m\u001b[0m\n\u001b[0;32m---> 53\u001b[0;31m             \u001b[0mself\u001b[0m\u001b[0;34m.\u001b[0m\u001b[0m_geom\u001b[0m\u001b[0;34m,\u001b[0m \u001b[0mself\u001b[0m\u001b[0;34m.\u001b[0m\u001b[0m_ndim\u001b[0m \u001b[0;34m=\u001b[0m \u001b[0mgeos_multilinestring_from_py\u001b[0m\u001b[0;34m(\u001b[0m\u001b[0mlines\u001b[0m\u001b[0;34m)\u001b[0m\u001b[0;34m\u001b[0m\u001b[0;34m\u001b[0m\u001b[0m\n\u001b[0m\u001b[1;32m     54\u001b[0m \u001b[0;34m\u001b[0m\u001b[0m\n\u001b[1;32m     55\u001b[0m     \u001b[0;32mdef\u001b[0m \u001b[0mshape_factory\u001b[0m\u001b[0;34m(\u001b[0m\u001b[0mself\u001b[0m\u001b[0;34m,\u001b[0m \u001b[0;34m*\u001b[0m\u001b[0margs\u001b[0m\u001b[0;34m)\u001b[0m\u001b[0;34m:\u001b[0m\u001b[0;34m\u001b[0m\u001b[0;34m\u001b[0m\u001b[0m\n",
      "\u001b[0;32m/opt/conda/lib/python3.8/site-packages/shapely/geometry/multilinestring.py\u001b[0m in \u001b[0;36mgeos_multilinestring_from_py\u001b[0;34m(ob)\u001b[0m\n\u001b[1;32m    133\u001b[0m     \u001b[0;31m# add to coordinate sequence\u001b[0m\u001b[0;34m\u001b[0m\u001b[0;34m\u001b[0m\u001b[0;34m\u001b[0m\u001b[0m\n\u001b[1;32m    134\u001b[0m     \u001b[0;32mfor\u001b[0m \u001b[0ml\u001b[0m \u001b[0;32min\u001b[0m \u001b[0mrange\u001b[0m\u001b[0;34m(\u001b[0m\u001b[0mL\u001b[0m\u001b[0;34m)\u001b[0m\u001b[0;34m:\u001b[0m\u001b[0;34m\u001b[0m\u001b[0;34m\u001b[0m\u001b[0m\n\u001b[0;32m--> 135\u001b[0;31m         \u001b[0mgeom\u001b[0m\u001b[0;34m,\u001b[0m \u001b[0mndims\u001b[0m \u001b[0;34m=\u001b[0m \u001b[0mlinestring\u001b[0m\u001b[0;34m.\u001b[0m\u001b[0mgeos_linestring_from_py\u001b[0m\u001b[0;34m(\u001b[0m\u001b[0mobs\u001b[0m\u001b[0;34m[\u001b[0m\u001b[0ml\u001b[0m\u001b[0;34m]\u001b[0m\u001b[0;34m)\u001b[0m\u001b[0;34m\u001b[0m\u001b[0;34m\u001b[0m\u001b[0m\n\u001b[0m\u001b[1;32m    136\u001b[0m \u001b[0;34m\u001b[0m\u001b[0m\n\u001b[1;32m    137\u001b[0m         \u001b[0;32mif\u001b[0m \u001b[0mlgeos\u001b[0m\u001b[0;34m.\u001b[0m\u001b[0mGEOSisEmpty\u001b[0m\u001b[0;34m(\u001b[0m\u001b[0mgeom\u001b[0m\u001b[0;34m)\u001b[0m\u001b[0;34m:\u001b[0m\u001b[0;34m\u001b[0m\u001b[0;34m\u001b[0m\u001b[0m\n",
      "\u001b[0;32m/opt/conda/lib/python3.8/site-packages/shapely/speedups/_speedups.pyx\u001b[0m in \u001b[0;36mshapely.speedups._speedups.geos_linestring_from_py\u001b[0;34m()\u001b[0m\n",
      "\u001b[0;31mValueError\u001b[0m: LineStrings must have at least 2 coordinate tuples"
     ]
    }
   ],
   "source": [
    "for i in range(len(downloads)):\n",
    "    if i not in (4, 9, 10):\n",
    "        \n",
    "        file = downloads[i]\n",
    "\n",
    "        fid = file.split('_')[0].lower()\n",
    "        print(fid)\n",
    "\n",
    "        t0 = time.time()\n",
    "        print(t0)\n",
    "\n",
    "        zf = zipfile.ZipFile(f'../data/{file}')\n",
    "\n",
    "        print(zf.namelist())\n",
    "\n",
    "        gpkg = [f for f in zf.namelist() if f.split('.')[-1] == 'gpkg'][0]\n",
    "\n",
    "        print(gpkg)\n",
    "\n",
    "        t1 = time.time()\n",
    "        print(t1, t1-t0)\n",
    "        gdf = gpd.read_file(zf.open(gpkg))\n",
    "\n",
    "        t2 = time.time()\n",
    "        print(t2, t2-t1)\n",
    "        gdf.to_postgis(fid, engine, if_exists='replace')\n",
    "\n",
    "        t3 = time.time()\n",
    "        print(t3, t3-t2)"
   ]
  }
 ],
 "metadata": {
  "kernelspec": {
   "display_name": "Python 3 (ipykernel)",
   "language": "python",
   "name": "python3"
  },
  "language_info": {
   "codemirror_mode": {
    "name": "ipython",
    "version": 3
   },
   "file_extension": ".py",
   "mimetype": "text/x-python",
   "name": "python",
   "nbconvert_exporter": "python",
   "pygments_lexer": "ipython3",
   "version": "3.9.5"
  }
 },
 "nbformat": 4,
 "nbformat_minor": 5
}
