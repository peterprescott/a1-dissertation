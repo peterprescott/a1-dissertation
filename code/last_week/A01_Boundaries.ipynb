{
 "cells": [
  {
   "cell_type": "code",
   "execution_count": 1,
   "id": "moving-howard",
   "metadata": {},
   "outputs": [],
   "source": [
    "import os\n",
    "import zipfile\n",
    "import requests\n",
    "\n",
    "import pandas as pd\n",
    "import numpy as np\n",
    "import fiona\n",
    "import geopandas as gpd\n",
    "\n",
    "from sqlalchemy import create_engine\n",
    "\n",
    "# set up database\n",
    "user = os.environ.get('DB_USERNAME')\n",
    "pwd = os.environ.get('DB_PASSWORD')\n",
    "host = os.environ.get('DB_HOSTNAME')\n",
    "port = os.environ.get('DB_PORT')\n",
    "\n",
    "db_connection_url = f\"postgres+psycopg2://{user}:{pwd}@{host}:{port}/geodemo\"\n",
    "engine = create_engine(db_connection_url)"
   ]
  },
  {
   "cell_type": "code",
   "execution_count": 2,
   "id": "sacred-model",
   "metadata": {},
   "outputs": [],
   "source": [
    "zf = zipfile.ZipFile('../data/BoundaryLine_gpkg.zip')"
   ]
  },
  {
   "cell_type": "code",
   "execution_count": 3,
   "id": "lightweight-worth",
   "metadata": {},
   "outputs": [],
   "source": [
    "[gpkg] = [f for f in zf.namelist() if f.split('.')[-1] == 'gpkg']"
   ]
  },
  {
   "cell_type": "code",
   "execution_count": 4,
   "id": "alpha-navigation",
   "metadata": {},
   "outputs": [
    {
     "data": {
      "text/plain": [
       "'data/bdline_gb.gpkg'"
      ]
     },
     "execution_count": 4,
     "metadata": {},
     "output_type": "execute_result"
    }
   ],
   "source": [
    "gpkg"
   ]
  },
  {
   "cell_type": "code",
   "execution_count": 5,
   "id": "jewish-quantum",
   "metadata": {},
   "outputs": [],
   "source": [
    "layers = fiona.listlayers(zf.open(gpkg))"
   ]
  },
  {
   "cell_type": "code",
   "execution_count": 6,
   "id": "proved-russian",
   "metadata": {},
   "outputs": [
    {
     "data": {
      "text/plain": [
       "['boundary_line_ceremonial_counties',\n",
       " 'boundary_line_historic_counties',\n",
       " 'community_ward',\n",
       " 'country_region',\n",
       " 'county',\n",
       " 'county_electoral_division',\n",
       " 'district_borough_unitary',\n",
       " 'district_borough_unitary_ward',\n",
       " 'english_region',\n",
       " 'greater_london_const',\n",
       " 'high_water',\n",
       " 'historic_european_region',\n",
       " 'parish',\n",
       " 'polling_districts_england',\n",
       " 'scotland_and_wales_const',\n",
       " 'scotland_and_wales_region',\n",
       " 'unitary_electoral_division',\n",
       " 'westminster_const']"
      ]
     },
     "execution_count": 6,
     "metadata": {},
     "output_type": "execute_result"
    }
   ],
   "source": [
    "layers"
   ]
  },
  {
   "cell_type": "code",
   "execution_count": 7,
   "id": "powered-grain",
   "metadata": {},
   "outputs": [],
   "source": [
    "import time"
   ]
  },
  {
   "cell_type": "code",
   "execution_count": 8,
   "id": "square-platinum",
   "metadata": {},
   "outputs": [
    {
     "name": "stdout",
     "output_type": "stream",
     "text": [
      "boundary_line_ceremonial_counties\n"
     ]
    },
    {
     "name": "stderr",
     "output_type": "stream",
     "text": [
      "/opt/conda/lib/python3.8/site-packages/geopandas/geodataframe.py:577: RuntimeWarning: Sequential read of iterator was interrupted. Resetting iterator. This can negatively impact the performance.\n",
      "  for feature in features_lst:\n"
     ]
    },
    {
     "name": "stdout",
     "output_type": "stream",
     "text": [
      "9.69066071510315\n",
      "11.804606437683105\n",
      "boundary_line_historic_counties\n"
     ]
    },
    {
     "name": "stderr",
     "output_type": "stream",
     "text": [
      "/opt/conda/lib/python3.8/site-packages/geopandas/geodataframe.py:577: RuntimeWarning: Sequential read of iterator was interrupted. Resetting iterator. This can negatively impact the performance.\n",
      "  for feature in features_lst:\n"
     ]
    },
    {
     "name": "stdout",
     "output_type": "stream",
     "text": [
      "9.688124418258667\n",
      "11.23835825920105\n",
      "community_ward\n",
      "9.339051008224487\n",
      "7.132807970046997\n",
      "country_region\n",
      "9.835960626602173\n",
      "7.816379547119141\n",
      "county\n",
      "8.793997287750244\n",
      "2.071662664413452\n",
      "county_electoral_division\n",
      "9.586133003234863\n",
      "9.931939363479614\n",
      "district_borough_unitary\n",
      "10.071993827819824\n",
      "13.94566035270691\n",
      "district_borough_unitary_ward\n",
      "12.283161401748657\n",
      "32.80684447288513\n",
      "english_region\n",
      "8.78001594543457\n",
      "2.3524270057678223\n",
      "greater_london_const\n",
      "8.715023040771484\n",
      "0.39102745056152344\n",
      "high_water\n",
      "13.491899490356445\n",
      "29.908902645111084\n",
      "historic_european_region\n",
      "9.445813655853271\n",
      "8.377986907958984\n",
      "parish\n",
      "13.553759098052979\n",
      "42.420069456100464\n",
      "polling_districts_england\n",
      "15.348411798477173\n",
      "48.63066029548645\n",
      "scotland_and_wales_const\n",
      "9.556390285491943\n",
      "8.734468936920166\n",
      "scotland_and_wales_region\n",
      "9.371506452560425\n",
      "6.783973932266235\n",
      "unitary_electoral_division\n",
      "9.22012710571289\n",
      "6.485998153686523\n",
      "westminster_const\n",
      "10.26150918006897\n",
      "16.49371647834778\n"
     ]
    }
   ],
   "source": [
    "for l in layers:\n",
    "    print(l)\n",
    "    t0 = time.time()\n",
    "    gdf = gpd.read_file(zf.open(gpkg), driver='GPKG', layer=l)\n",
    "    t1 = time.time()\n",
    "    print(t1-t0)\n",
    "    gdf.to_postgis(l, engine, if_exists='replace')\n",
    "    t2 = time.time()\n",
    "    print(t2-t1)"
   ]
  }
 ],
 "metadata": {
  "kernelspec": {
   "display_name": "Python 3 (ipykernel)",
   "language": "python",
   "name": "python3"
  },
  "language_info": {
   "codemirror_mode": {
    "name": "ipython",
    "version": 3
   },
   "file_extension": ".py",
   "mimetype": "text/x-python",
   "name": "python",
   "nbconvert_exporter": "python",
   "pygments_lexer": "ipython3",
   "version": "3.9.5"
  }
 },
 "nbformat": 4,
 "nbformat_minor": 5
}
