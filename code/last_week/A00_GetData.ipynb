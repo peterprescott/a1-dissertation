{
 "cells": [
  {
   "cell_type": "code",
   "execution_count": 26,
   "id": "initial-appliance",
   "metadata": {},
   "outputs": [],
   "source": [
    "import os\n",
    "import zipfile\n",
    "import requests\n",
    "\n",
    "import pandas as pd\n",
    "import numpy as np\n",
    "import fiona\n",
    "import geopandas as gpd\n",
    "\n",
    "from sqlalchemy import create_engine"
   ]
  },
  {
   "cell_type": "code",
   "execution_count": 2,
   "id": "informal-mayor",
   "metadata": {},
   "outputs": [],
   "source": [
    "# engine.execute('create extension postgis;')"
   ]
  },
  {
   "cell_type": "code",
   "execution_count": 2,
   "id": "collected-speech",
   "metadata": {},
   "outputs": [],
   "source": [
    "response = requests.get('https://api.os.uk/downloads/v1/products')\n",
    "products = pd.DataFrame(response.json())\n",
    "products['download'] = products.url.apply(lambda x: requests.get(x).json()['downloadsUrl'])\n",
    "products['download2'] = products.download.apply(lambda x: requests.get(x).json())\n",
    "products['formats'] = products.download2.apply(lambda x: [e['format'] for e in x])\n",
    "products['geopackage'] = products.formats.apply(lambda x: 'GeoPackage' in x)\n",
    "products['geopackage_url'] = products.apply(lambda x: [e['url'] for e in x.download2 \n",
    "                                                       if e['format'] == 'GeoPackage'][0] \n",
    "                                            if x.geopackage else None, axis=1)"
   ]
  },
  {
   "cell_type": "code",
   "execution_count": 27,
   "id": "thrown-sterling",
   "metadata": {},
   "outputs": [],
   "source": [
    "def download_row(row, _format):\n",
    "    print(row.id)\n",
    "    try:\n",
    "        [url] = [e['url'] for e in row.download2 if e['format'].split(' ')[-1] == _format]\n",
    "        with open(f'../data/{row.id}{_format}.zip', 'wb') as downloading:\n",
    "            downloading.write(requests.get(url).content)\n",
    "            downloading.close()\n",
    "        return \"Done!\"\n",
    "    except Exception as e:\n",
    "        print(e)"
   ]
  },
  {
   "cell_type": "code",
   "execution_count": 56,
   "id": "linear-hometown",
   "metadata": {},
   "outputs": [],
   "source": [
    "products['downloaded'] = products.apply(\n",
    "    lambda x: download_row(x, 'GeoPackage') if x.geopackage\\\n",
    "    else download_row(x, 'Shapefile'), \n",
    "    axis=1\n",
    ")\n",
    "    "
   ]
  },
  {
   "cell_type": "code",
   "execution_count": 3,
   "id": "characteristic-occurrence",
   "metadata": {},
   "outputs": [],
   "source": [
    "def download_geopackage(row):\n",
    "    print(row.id)\n",
    "    with open(f'../data/{row.id}_gpkg.zip', 'wb') as downloading:\n",
    "        downloading.write(requests.get(row.geopackage_url).content)\n",
    "        downloading.close()\n",
    "    return \"Done!\""
   ]
  },
  {
   "cell_type": "code",
   "execution_count": 7,
   "id": "dependent-lease",
   "metadata": {},
   "outputs": [
    {
     "data": {
      "text/html": [
       "<div>\n",
       "<style scoped>\n",
       "    .dataframe tbody tr th:only-of-type {\n",
       "        vertical-align: middle;\n",
       "    }\n",
       "\n",
       "    .dataframe tbody tr th {\n",
       "        vertical-align: top;\n",
       "    }\n",
       "\n",
       "    .dataframe thead th {\n",
       "        text-align: right;\n",
       "    }\n",
       "</style>\n",
       "<table border=\"1\" class=\"dataframe\">\n",
       "  <thead>\n",
       "    <tr style=\"text-align: right;\">\n",
       "      <th></th>\n",
       "      <th>id</th>\n",
       "      <th>description</th>\n",
       "      <th>formats</th>\n",
       "    </tr>\n",
       "  </thead>\n",
       "  <tbody>\n",
       "    <tr>\n",
       "      <th>0</th>\n",
       "      <td>250kScaleColourRaster</td>\n",
       "      <td>Get the regional view of towns and villages, r...</td>\n",
       "      <td>[TIFF-LZW]</td>\n",
       "    </tr>\n",
       "    <tr>\n",
       "      <th>1</th>\n",
       "      <td>BoundaryLine</td>\n",
       "      <td>From Euro constituencies to council wards, Bou...</td>\n",
       "      <td>[ESRI® Shapefile, GML, GeoPackage, MapInfo® TA...</td>\n",
       "    </tr>\n",
       "    <tr>\n",
       "      <th>2</th>\n",
       "      <td>CodePointOpen</td>\n",
       "      <td>Free and open postcode location data. Can be u...</td>\n",
       "      <td>[CSV, GeoPackage]</td>\n",
       "    </tr>\n",
       "    <tr>\n",
       "      <th>3</th>\n",
       "      <td>GBOverviewMaps</td>\n",
       "      <td>Our simplest maps of the British Isles.</td>\n",
       "      <td>[GeoTIFF]</td>\n",
       "    </tr>\n",
       "    <tr>\n",
       "      <th>4</th>\n",
       "      <td>LIDS</td>\n",
       "      <td>A comprehensive dataset of cross-referenced id...</td>\n",
       "      <td>[CSV, CSV, CSV, CSV, CSV, CSV, CSV, CSV, CSV, ...</td>\n",
       "    </tr>\n",
       "    <tr>\n",
       "      <th>5</th>\n",
       "      <td>MiniScale</td>\n",
       "      <td>A simple overview map of Great Britain.</td>\n",
       "      <td>[Zip file (containing EPS, Illustrator and TIF...</td>\n",
       "    </tr>\n",
       "    <tr>\n",
       "      <th>6</th>\n",
       "      <td>OpenGreenspace</td>\n",
       "      <td>Covering a range of greenspaces in urban and r...</td>\n",
       "      <td>[ESRI® Shapefile, ESRI® Shapefile, ESRI® Shape...</td>\n",
       "    </tr>\n",
       "    <tr>\n",
       "      <th>7</th>\n",
       "      <td>OpenMapLocal</td>\n",
       "      <td>Map, visualise and truly understand your data ...</td>\n",
       "      <td>[ESRI® Shapefile, ESRI® Shapefile, ESRI® Shape...</td>\n",
       "    </tr>\n",
       "    <tr>\n",
       "      <th>8</th>\n",
       "      <td>OpenNames</td>\n",
       "      <td>A comprehensive dataset of place names, roads ...</td>\n",
       "      <td>[CSV, GML, GeoPackage]</td>\n",
       "    </tr>\n",
       "    <tr>\n",
       "      <th>9</th>\n",
       "      <td>OpenRivers</td>\n",
       "      <td>Understand how watercourses in Great Britain j...</td>\n",
       "      <td>[ESRI® Shapefile, GML, GeoPackage, Vector Tiles]</td>\n",
       "    </tr>\n",
       "    <tr>\n",
       "      <th>10</th>\n",
       "      <td>OpenRoads</td>\n",
       "      <td>Get a high-level view of the road network, fro...</td>\n",
       "      <td>[ESRI® Shapefile, GML, GeoPackage, Vector Tiles]</td>\n",
       "    </tr>\n",
       "    <tr>\n",
       "      <th>11</th>\n",
       "      <td>OpenTOID</td>\n",
       "      <td>An open dataset providing access to a generali...</td>\n",
       "      <td>[CSV, CSV, CSV, CSV, CSV, CSV, CSV, CSV, CSV, ...</td>\n",
       "    </tr>\n",
       "    <tr>\n",
       "      <th>12</th>\n",
       "      <td>OpenUPRN</td>\n",
       "      <td>An open dataset containing all the Unique Prop...</td>\n",
       "      <td>[CSV, GeoPackage]</td>\n",
       "    </tr>\n",
       "    <tr>\n",
       "      <th>13</th>\n",
       "      <td>OpenUSRN</td>\n",
       "      <td>An open dataset of all Unique Street Reference...</td>\n",
       "      <td>[GeoPackage]</td>\n",
       "    </tr>\n",
       "    <tr>\n",
       "      <th>14</th>\n",
       "      <td>OpenZoomstack</td>\n",
       "      <td>A comprehensive basemap of Great Britain showi...</td>\n",
       "      <td>[GeoPackage, Vector Tiles]</td>\n",
       "    </tr>\n",
       "    <tr>\n",
       "      <th>15</th>\n",
       "      <td>Strategi</td>\n",
       "      <td>A regional vector map dataset, railways, airpo...</td>\n",
       "      <td>[DXF, ESRI® Shapefile, MapInfo® TAB]</td>\n",
       "    </tr>\n",
       "    <tr>\n",
       "      <th>16</th>\n",
       "      <td>Terrain50</td>\n",
       "      <td>Visualise simple landscapes in 3D and bring yo...</td>\n",
       "      <td>[ASCII Grid and GML (Grid), ESRI® Shapefile, G...</td>\n",
       "    </tr>\n",
       "    <tr>\n",
       "      <th>17</th>\n",
       "      <td>VectorMapDistrict</td>\n",
       "      <td>District level mapping. Use the vectors to cus...</td>\n",
       "      <td>[ESRI® Shapefile, ESRI® Shapefile, ESRI® Shape...</td>\n",
       "    </tr>\n",
       "  </tbody>\n",
       "</table>\n",
       "</div>"
      ],
      "text/plain": [
       "                       id                                        description  \\\n",
       "0   250kScaleColourRaster  Get the regional view of towns and villages, r...   \n",
       "1            BoundaryLine  From Euro constituencies to council wards, Bou...   \n",
       "2           CodePointOpen  Free and open postcode location data. Can be u...   \n",
       "3          GBOverviewMaps            Our simplest maps of the British Isles.   \n",
       "4                    LIDS  A comprehensive dataset of cross-referenced id...   \n",
       "5               MiniScale            A simple overview map of Great Britain.   \n",
       "6          OpenGreenspace  Covering a range of greenspaces in urban and r...   \n",
       "7            OpenMapLocal  Map, visualise and truly understand your data ...   \n",
       "8               OpenNames  A comprehensive dataset of place names, roads ...   \n",
       "9              OpenRivers  Understand how watercourses in Great Britain j...   \n",
       "10              OpenRoads  Get a high-level view of the road network, fro...   \n",
       "11               OpenTOID  An open dataset providing access to a generali...   \n",
       "12               OpenUPRN  An open dataset containing all the Unique Prop...   \n",
       "13               OpenUSRN  An open dataset of all Unique Street Reference...   \n",
       "14          OpenZoomstack  A comprehensive basemap of Great Britain showi...   \n",
       "15               Strategi  A regional vector map dataset, railways, airpo...   \n",
       "16              Terrain50  Visualise simple landscapes in 3D and bring yo...   \n",
       "17      VectorMapDistrict  District level mapping. Use the vectors to cus...   \n",
       "\n",
       "                                              formats  \n",
       "0                                          [TIFF-LZW]  \n",
       "1   [ESRI® Shapefile, GML, GeoPackage, MapInfo® TA...  \n",
       "2                                   [CSV, GeoPackage]  \n",
       "3                                           [GeoTIFF]  \n",
       "4   [CSV, CSV, CSV, CSV, CSV, CSV, CSV, CSV, CSV, ...  \n",
       "5   [Zip file (containing EPS, Illustrator and TIF...  \n",
       "6   [ESRI® Shapefile, ESRI® Shapefile, ESRI® Shape...  \n",
       "7   [ESRI® Shapefile, ESRI® Shapefile, ESRI® Shape...  \n",
       "8                              [CSV, GML, GeoPackage]  \n",
       "9    [ESRI® Shapefile, GML, GeoPackage, Vector Tiles]  \n",
       "10   [ESRI® Shapefile, GML, GeoPackage, Vector Tiles]  \n",
       "11  [CSV, CSV, CSV, CSV, CSV, CSV, CSV, CSV, CSV, ...  \n",
       "12                                  [CSV, GeoPackage]  \n",
       "13                                       [GeoPackage]  \n",
       "14                         [GeoPackage, Vector Tiles]  \n",
       "15               [DXF, ESRI® Shapefile, MapInfo® TAB]  \n",
       "16  [ASCII Grid and GML (Grid), ESRI® Shapefile, G...  \n",
       "17  [ESRI® Shapefile, ESRI® Shapefile, ESRI® Shape...  "
      ]
     },
     "execution_count": 7,
     "metadata": {},
     "output_type": "execute_result"
    }
   ],
   "source": [
    "products[['id','description','formats']]"
   ]
  },
  {
   "cell_type": "code",
   "execution_count": 30,
   "id": "floating-continuity",
   "metadata": {},
   "outputs": [
    {
     "name": "stdout",
     "output_type": "stream",
     "text": [
      "OpenZoomstack\n"
     ]
    },
    {
     "data": {
      "text/plain": [
       "14    Done!\n",
       "dtype: object"
      ]
     },
     "execution_count": 30,
     "metadata": {},
     "output_type": "execute_result"
    }
   ],
   "source": [
    "products[14:15].apply(lambda x: download_row(x, 'GeoPackage'), axis=1)"
   ]
  },
  {
   "cell_type": "code",
   "execution_count": 8,
   "id": "modern-suspension",
   "metadata": {},
   "outputs": [
    {
     "data": {
      "text/plain": [
       "array(['Get the regional view of towns and villages, roads and places of interest.',\n",
       "       'From Euro constituencies to council wards, Boundary-Line™ maps every administrative boundary in detail for you.',\n",
       "       'Free and open postcode location data. Can be used for geographical analysis, simple route planning, asset management and much more.',\n",
       "       'Our simplest maps of the British Isles.',\n",
       "       'A comprehensive dataset of cross-referenced identifiers, between various OS data products.',\n",
       "       'A simple overview map of Great Britain.',\n",
       "       'Covering a range of greenspaces in urban and rural areas including playing fields, sports’ facilities, play areas and allotments.',\n",
       "       'Map, visualise and truly understand your data at street level.',\n",
       "       'A comprehensive dataset of place names, roads numbers and postcodes for Great Britain.',\n",
       "       'Understand how watercourses in Great Britain join up.',\n",
       "       'Get a high-level view of the road network, from motorways to country lanes.',\n",
       "       'An open dataset providing access to a generalised location to key features found in OS MasterMap premium products enabling visualisation of third party data linked to their respective TOID identifier.',\n",
       "       'An open dataset containing all the Unique Property Reference Numbers (UPRNs) found in AddressBase Premium, with their respective geometries in British National Grid and Latitude, Longitude.',\n",
       "       'An open dataset of all Unique Street Reference Numbers (USRNs) within OS MasterMap Highways Network, with an associated simplified line geometry representing the geographic extent of each USRN.',\n",
       "       'A comprehensive basemap of Great Britain showing coverage from national level right down to street detail.',\n",
       "       'A regional vector map dataset, railways, airports, rivers, villages, woods, land use and place names.',\n",
       "       'Visualise simple landscapes in 3D and bring your geographic analysis to life.',\n",
       "       'District level mapping. Use the vectors to customise your perfect map or choose the raster for pre-defined cartography.'],\n",
       "      dtype=object)"
      ]
     },
     "execution_count": 8,
     "metadata": {},
     "output_type": "execute_result"
    }
   ],
   "source": [
    "products.description.values"
   ]
  },
  {
   "cell_type": "code",
   "execution_count": 21,
   "id": "large-chance",
   "metadata": {},
   "outputs": [
    {
     "data": {
      "text/plain": [
       "{'ASCII Grid and GML (Grid)',\n",
       " 'CSV',\n",
       " 'DXF',\n",
       " 'ESRI® Shapefile',\n",
       " 'GML',\n",
       " 'GeoPackage',\n",
       " 'GeoTIFF',\n",
       " 'MapInfo® TAB',\n",
       " 'TIFF-LZW',\n",
       " 'Vector Tiles',\n",
       " 'Zip file (containing EPS, Illustrator and TIFF-LZW)'}"
      ]
     },
     "execution_count": 21,
     "metadata": {},
     "output_type": "execute_result"
    }
   ],
   "source": [
    "{e for x in list(products.formats) for e in x}"
   ]
  }
 ],
 "metadata": {
  "kernelspec": {
   "display_name": "Python 3 (ipykernel)",
   "language": "python",
   "name": "python3"
  },
  "language_info": {
   "codemirror_mode": {
    "name": "ipython",
    "version": 3
   },
   "file_extension": ".py",
   "mimetype": "text/x-python",
   "name": "python",
   "nbconvert_exporter": "python",
   "pygments_lexer": "ipython3",
   "version": "3.9.5"
  }
 },
 "nbformat": 4,
 "nbformat_minor": 5
}
