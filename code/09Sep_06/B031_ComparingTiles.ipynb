{
 "cells": [
  {
   "cell_type": "code",
   "execution_count": 1,
   "id": "pleased-cotton",
   "metadata": {},
   "outputs": [],
   "source": [
    "import sys\n",
    "sys.path.append('..')"
   ]
  },
  {
   "cell_type": "code",
   "execution_count": 2,
   "id": "reserved-domestic",
   "metadata": {},
   "outputs": [],
   "source": [
    "from nbhd import data"
   ]
  },
  {
   "cell_type": "code",
   "execution_count": 3,
   "id": "optional-quilt",
   "metadata": {},
   "outputs": [
    {
     "name": "stdout",
     "output_type": "stream",
     "text": [
      "Initializing database connection...\n",
      "Database connected!\n"
     ]
    }
   ],
   "source": [
    "db = data.Base()"
   ]
  },
  {
   "cell_type": "code",
   "execution_count": 4,
   "id": "united-cleaners",
   "metadata": {},
   "outputs": [],
   "source": [
    "britain = db.query('SELECT * FROM isles LIMIT 1', spatial=True)"
   ]
  },
  {
   "cell_type": "code",
   "execution_count": 5,
   "id": "dense-particle",
   "metadata": {},
   "outputs": [
    {
     "data": {
      "text/plain": [
       "<AxesSubplot:>"
      ]
     },
     "execution_count": 5,
     "metadata": {},
     "output_type": "execute_result"
    },
    {
     "data": {
      "image/png": "[encoded data removed]",
      "text/plain": [
       "<Figure size 432x288 with 1 Axes>"
      ]
     },
     "metadata": {
      "needs_background": "light"
     },
     "output_type": "display_data"
    }
   ],
   "source": [
    "britain.geometry.boundary.plot()"
   ]
  },
  {
   "cell_type": "code",
   "execution_count": 6,
   "id": "indoor-stewart",
   "metadata": {},
   "outputs": [],
   "source": [
    "# db.query('''ALTER TABLE roads\n",
    "#          RENAME COLUMN \"roadFunction\" to road_function;''')"
   ]
  },
  {
   "cell_type": "code",
   "execution_count": 7,
   "id": "rolled-portsmouth",
   "metadata": {},
   "outputs": [
    {
     "data": {
      "text/html": [
       "<div>\n",
       "<style scoped>\n",
       "    .dataframe tbody tr th:only-of-type {\n",
       "        vertical-align: middle;\n",
       "    }\n",
       "\n",
       "    .dataframe tbody tr th {\n",
       "        vertical-align: top;\n",
       "    }\n",
       "\n",
       "    .dataframe thead th {\n",
       "        text-align: right;\n",
       "    }\n",
       "</style>\n",
       "<table border=\"1\" class=\"dataframe\">\n",
       "  <thead>\n",
       "    <tr style=\"text-align: right;\">\n",
       "      <th></th>\n",
       "      <th>Column</th>\n",
       "      <th>Datatype</th>\n",
       "    </tr>\n",
       "  </thead>\n",
       "  <tbody>\n",
       "    <tr>\n",
       "      <th>0</th>\n",
       "      <td>id</td>\n",
       "      <td>text</td>\n",
       "    </tr>\n",
       "    <tr>\n",
       "      <th>1</th>\n",
       "      <td>endNode</td>\n",
       "      <td>text</td>\n",
       "    </tr>\n",
       "    <tr>\n",
       "      <th>2</th>\n",
       "      <td>startNode</td>\n",
       "      <td>text</td>\n",
       "    </tr>\n",
       "    <tr>\n",
       "      <th>3</th>\n",
       "      <td>roadNumberTOID</td>\n",
       "      <td>text</td>\n",
       "    </tr>\n",
       "    <tr>\n",
       "      <th>4</th>\n",
       "      <td>roadNameTOID</td>\n",
       "      <td>text</td>\n",
       "    </tr>\n",
       "    <tr>\n",
       "      <th>5</th>\n",
       "      <td>fictitious</td>\n",
       "      <td>boolean</td>\n",
       "    </tr>\n",
       "    <tr>\n",
       "      <th>6</th>\n",
       "      <td>roadClassification</td>\n",
       "      <td>text</td>\n",
       "    </tr>\n",
       "    <tr>\n",
       "      <th>7</th>\n",
       "      <td>road_function</td>\n",
       "      <td>text</td>\n",
       "    </tr>\n",
       "    <tr>\n",
       "      <th>8</th>\n",
       "      <td>formOfWay</td>\n",
       "      <td>text</td>\n",
       "    </tr>\n",
       "    <tr>\n",
       "      <th>9</th>\n",
       "      <td>length</td>\n",
       "      <td>bigint</td>\n",
       "    </tr>\n",
       "    <tr>\n",
       "      <th>10</th>\n",
       "      <td>length_uom</td>\n",
       "      <td>text</td>\n",
       "    </tr>\n",
       "    <tr>\n",
       "      <th>11</th>\n",
       "      <td>loop</td>\n",
       "      <td>boolean</td>\n",
       "    </tr>\n",
       "    <tr>\n",
       "      <th>12</th>\n",
       "      <td>primaryRoute</td>\n",
       "      <td>boolean</td>\n",
       "    </tr>\n",
       "    <tr>\n",
       "      <th>13</th>\n",
       "      <td>trunkRoad</td>\n",
       "      <td>boolean</td>\n",
       "    </tr>\n",
       "    <tr>\n",
       "      <th>14</th>\n",
       "      <td>roadClassificationNumber</td>\n",
       "      <td>text</td>\n",
       "    </tr>\n",
       "    <tr>\n",
       "      <th>15</th>\n",
       "      <td>name1</td>\n",
       "      <td>text</td>\n",
       "    </tr>\n",
       "    <tr>\n",
       "      <th>16</th>\n",
       "      <td>name1_lang</td>\n",
       "      <td>text</td>\n",
       "    </tr>\n",
       "    <tr>\n",
       "      <th>17</th>\n",
       "      <td>name2</td>\n",
       "      <td>text</td>\n",
       "    </tr>\n",
       "    <tr>\n",
       "      <th>18</th>\n",
       "      <td>name2_lang</td>\n",
       "      <td>text</td>\n",
       "    </tr>\n",
       "    <tr>\n",
       "      <th>19</th>\n",
       "      <td>roadStructure</td>\n",
       "      <td>text</td>\n",
       "    </tr>\n",
       "    <tr>\n",
       "      <th>20</th>\n",
       "      <td>geometry</td>\n",
       "      <td>geometry(LineString,27700)</td>\n",
       "    </tr>\n",
       "  </tbody>\n",
       "</table>\n",
       "</div>"
      ],
      "text/plain": [
       "                      Column                    Datatype\n",
       "0                         id                        text\n",
       "1                    endNode                        text\n",
       "2                  startNode                        text\n",
       "3             roadNumberTOID                        text\n",
       "4               roadNameTOID                        text\n",
       "5                 fictitious                     boolean\n",
       "6         roadClassification                        text\n",
       "7              road_function                        text\n",
       "8                  formOfWay                        text\n",
       "9                     length                      bigint\n",
       "10                length_uom                        text\n",
       "11                      loop                     boolean\n",
       "12              primaryRoute                     boolean\n",
       "13                 trunkRoad                     boolean\n",
       "14  roadClassificationNumber                        text\n",
       "15                     name1                        text\n",
       "16                name1_lang                        text\n",
       "17                     name2                        text\n",
       "18                name2_lang                        text\n",
       "19             roadStructure                        text\n",
       "20                  geometry  geometry(LineString,27700)"
      ]
     },
     "execution_count": 7,
     "metadata": {},
     "output_type": "execute_result"
    }
   ],
   "source": [
    "db.info('roads')"
   ]
  },
  {
   "cell_type": "code",
   "execution_count": 8,
   "id": "opening-polymer",
   "metadata": {},
   "outputs": [
    {
     "data": {
      "text/html": [
       "<div>\n",
       "<style scoped>\n",
       "    .dataframe tbody tr th:only-of-type {\n",
       "        vertical-align: middle;\n",
       "    }\n",
       "\n",
       "    .dataframe tbody tr th {\n",
       "        vertical-align: top;\n",
       "    }\n",
       "\n",
       "    .dataframe thead th {\n",
       "        text-align: right;\n",
       "    }\n",
       "</style>\n",
       "<table border=\"1\" class=\"dataframe\">\n",
       "  <thead>\n",
       "    <tr style=\"text-align: right;\">\n",
       "      <th></th>\n",
       "      <th>count</th>\n",
       "    </tr>\n",
       "  </thead>\n",
       "  <tbody>\n",
       "    <tr>\n",
       "      <th>0</th>\n",
       "      <td>3760939</td>\n",
       "    </tr>\n",
       "  </tbody>\n",
       "</table>\n",
       "</div>"
      ],
      "text/plain": [
       "     count\n",
       "0  3760939"
      ]
     },
     "execution_count": 8,
     "metadata": {},
     "output_type": "execute_result"
    }
   ],
   "source": [
    "db.count('roads')"
   ]
  },
  {
   "cell_type": "code",
   "execution_count": 11,
   "id": "unlikely-pakistan",
   "metadata": {},
   "outputs": [],
   "source": [
    "road_functions = db.distinct('road_function', 'roads').road_function.values"
   ]
  },
  {
   "cell_type": "code",
   "execution_count": 12,
   "id": "detected-pakistan",
   "metadata": {},
   "outputs": [
    {
     "data": {
      "text/plain": [
       "array(['Local Road', 'Motorway', 'A Road', 'B Road',\n",
       "       'Secondary Access Road', 'Local Access Road', 'Minor Road',\n",
       "       'Restricted Local Access Road'], dtype=object)"
      ]
     },
     "execution_count": 12,
     "metadata": {},
     "output_type": "execute_result"
    }
   ],
   "source": [
    "road_functions"
   ]
  },
  {
   "cell_type": "code",
   "execution_count": 28,
   "id": "living-participation",
   "metadata": {},
   "outputs": [],
   "source": [
    "counts = {}\n",
    "for rf in road_functions:\n",
    "    counts[rf] = db.query(f'''\n",
    "    SELECT COUNT(*) FROM roads \n",
    "    WHERE road_function LIKE '{rf}'\n",
    "    ''')['count'][0]"
   ]
  },
  {
   "cell_type": "code",
   "execution_count": 19,
   "id": "hawaiian-custody",
   "metadata": {},
   "outputs": [],
   "source": [
    "import pandas as pd"
   ]
  },
  {
   "cell_type": "code",
   "execution_count": 30,
   "id": "finnish-complement",
   "metadata": {},
   "outputs": [
    {
     "data": {
      "text/html": [
       "<div>\n",
       "<style scoped>\n",
       "    .dataframe tbody tr th:only-of-type {\n",
       "        vertical-align: middle;\n",
       "    }\n",
       "\n",
       "    .dataframe tbody tr th {\n",
       "        vertical-align: top;\n",
       "    }\n",
       "\n",
       "    .dataframe thead th {\n",
       "        text-align: right;\n",
       "    }\n",
       "</style>\n",
       "<table border=\"1\" class=\"dataframe\">\n",
       "  <thead>\n",
       "    <tr style=\"text-align: right;\">\n",
       "      <th></th>\n",
       "      <th>counts</th>\n",
       "    </tr>\n",
       "  </thead>\n",
       "  <tbody>\n",
       "    <tr>\n",
       "      <th>Local Road</th>\n",
       "      <td>1650781</td>\n",
       "    </tr>\n",
       "    <tr>\n",
       "      <th>Motorway</th>\n",
       "      <td>7124</td>\n",
       "    </tr>\n",
       "    <tr>\n",
       "      <th>A Road</th>\n",
       "      <td>285536</td>\n",
       "    </tr>\n",
       "    <tr>\n",
       "      <th>B Road</th>\n",
       "      <td>159415</td>\n",
       "    </tr>\n",
       "    <tr>\n",
       "      <th>Secondary Access Road</th>\n",
       "      <td>133522</td>\n",
       "    </tr>\n",
       "    <tr>\n",
       "      <th>Local Access Road</th>\n",
       "      <td>45307</td>\n",
       "    </tr>\n",
       "    <tr>\n",
       "      <th>Minor Road</th>\n",
       "      <td>676167</td>\n",
       "    </tr>\n",
       "    <tr>\n",
       "      <th>Restricted Local Access Road</th>\n",
       "      <td>803087</td>\n",
       "    </tr>\n",
       "  </tbody>\n",
       "</table>\n",
       "</div>"
      ],
      "text/plain": [
       "                               counts\n",
       "Local Road                    1650781\n",
       "Motorway                         7124\n",
       "A Road                         285536\n",
       "B Road                         159415\n",
       "Secondary Access Road          133522\n",
       "Local Access Road               45307\n",
       "Minor Road                     676167\n",
       "Restricted Local Access Road   803087"
      ]
     },
     "execution_count": 30,
     "metadata": {},
     "output_type": "execute_result"
    }
   ],
   "source": [
    "pd.DataFrame(counts, index=['counts']).T"
   ]
  },
  {
   "cell_type": "code",
   "execution_count": null,
   "id": "organizational-ancient",
   "metadata": {},
   "outputs": [],
   "source": []
  },
  {
   "cell_type": "code",
   "execution_count": 11,
   "id": "superb-scotland",
   "metadata": {},
   "outputs": [
    {
     "data": {
      "text/html": [
       "<div>\n",
       "<style scoped>\n",
       "    .dataframe tbody tr th:only-of-type {\n",
       "        vertical-align: middle;\n",
       "    }\n",
       "\n",
       "    .dataframe tbody tr th {\n",
       "        vertical-align: top;\n",
       "    }\n",
       "\n",
       "    .dataframe thead th {\n",
       "        text-align: right;\n",
       "    }\n",
       "</style>\n",
       "<table border=\"1\" class=\"dataframe\">\n",
       "  <thead>\n",
       "    <tr style=\"text-align: right;\">\n",
       "      <th></th>\n",
       "      <th>count</th>\n",
       "    </tr>\n",
       "  </thead>\n",
       "  <tbody>\n",
       "    <tr>\n",
       "      <th>0</th>\n",
       "      <td>8</td>\n",
       "    </tr>\n",
       "  </tbody>\n",
       "</table>\n",
       "</div>"
      ],
      "text/plain": [
       "   count\n",
       "0      8"
      ]
     },
     "execution_count": 11,
     "metadata": {},
     "output_type": "execute_result"
    }
   ],
   "source": [
    "db.query('SELECT COUNT(DISTINCT road_function) FROM roads')"
   ]
  },
  {
   "cell_type": "code",
   "execution_count": null,
   "id": "gorgeous-auction",
   "metadata": {},
   "outputs": [],
   "source": []
  },
  {
   "cell_type": "code",
   "execution_count": 29,
   "id": "waiting-constraint",
   "metadata": {},
   "outputs": [],
   "source": [
    "motorways = db.query('''SELECT geometry, length AS off_length FROM roads \n",
    "                     WHERE roads.road_function = 'Motorway'\n",
    "                     ''',\n",
    "                     spatial=True)"
   ]
  },
  {
   "cell_type": "code",
   "execution_count": 30,
   "id": "regional-terrorist",
   "metadata": {},
   "outputs": [
    {
     "data": {
      "text/plain": [
       "<AxesSubplot:>"
      ]
     },
     "execution_count": 30,
     "metadata": {},
     "output_type": "execute_result"
    },
    {
     "data": {
      "image/png": "[encoded data removed]",
      "text/plain": [
       "<Figure size 432x288 with 1 Axes>"
      ]
     },
     "metadata": {
      "needs_background": "light"
     },
     "output_type": "display_data"
    }
   ],
   "source": [
    "motorways.plot()"
   ]
  },
  {
   "cell_type": "code",
   "execution_count": 27,
   "id": "attractive-charles",
   "metadata": {},
   "outputs": [
    {
     "data": {
      "text/plain": [
       "7124"
      ]
     },
     "execution_count": 27,
     "metadata": {},
     "output_type": "execute_result"
    }
   ],
   "source": [
    "len(motorways)"
   ]
  },
  {
   "cell_type": "code",
   "execution_count": 31,
   "id": "hollywood-lexington",
   "metadata": {},
   "outputs": [
    {
     "data": {
      "text/plain": [
       "count     7124.000000\n",
       "mean       688.376329\n",
       "std       1465.762337\n",
       "min          0.010000\n",
       "25%         85.249034\n",
       "50%        327.634818\n",
       "75%        570.248699\n",
       "max      19085.218266\n",
       "dtype: float64"
      ]
     },
     "execution_count": 31,
     "metadata": {},
     "output_type": "execute_result"
    }
   ],
   "source": [
    "motorways.length.describe()"
   ]
  },
  {
   "cell_type": "code",
   "execution_count": 32,
   "id": "empty-beaver",
   "metadata": {},
   "outputs": [
    {
     "data": {
      "text/plain": [
       "count     7124.000000\n",
       "mean       688.381387\n",
       "std       1465.757432\n",
       "min          1.000000\n",
       "25%         85.000000\n",
       "50%        327.500000\n",
       "75%        570.000000\n",
       "max      19085.000000\n",
       "Name: off_length, dtype: float64"
      ]
     },
     "execution_count": 32,
     "metadata": {},
     "output_type": "execute_result"
    }
   ],
   "source": [
    "motorways.off_length.describe()"
   ]
  },
  {
   "cell_type": "code",
   "execution_count": 33,
   "id": "sustained-shopper",
   "metadata": {},
   "outputs": [
    {
     "data": {
      "text/html": [
       "<div>\n",
       "<style scoped>\n",
       "    .dataframe tbody tr th:only-of-type {\n",
       "        vertical-align: middle;\n",
       "    }\n",
       "\n",
       "    .dataframe tbody tr th {\n",
       "        vertical-align: top;\n",
       "    }\n",
       "\n",
       "    .dataframe thead th {\n",
       "        text-align: right;\n",
       "    }\n",
       "</style>\n",
       "<table border=\"1\" class=\"dataframe\">\n",
       "  <thead>\n",
       "    <tr style=\"text-align: right;\">\n",
       "      <th></th>\n",
       "      <th>geometry</th>\n",
       "      <th>off_length</th>\n",
       "    </tr>\n",
       "  </thead>\n",
       "  <tbody>\n",
       "    <tr>\n",
       "      <th>0</th>\n",
       "      <td>LINESTRING (312325.450 720837.500, 312301.090 ...</td>\n",
       "      <td>959</td>\n",
       "    </tr>\n",
       "    <tr>\n",
       "      <th>1</th>\n",
       "      <td>LINESTRING (312425.420 720936.220, 312413.750 ...</td>\n",
       "      <td>1132</td>\n",
       "    </tr>\n",
       "    <tr>\n",
       "      <th>2</th>\n",
       "      <td>LINESTRING (312392.370 719950.550, 312417.020 ...</td>\n",
       "      <td>59</td>\n",
       "    </tr>\n",
       "    <tr>\n",
       "      <th>3</th>\n",
       "      <td>LINESTRING (312441.680 719917.500, 312341.220 ...</td>\n",
       "      <td>338</td>\n",
       "    </tr>\n",
       "    <tr>\n",
       "      <th>4</th>\n",
       "      <td>LINESTRING (312325.450 720837.500, 312310.390 ...</td>\n",
       "      <td>991</td>\n",
       "    </tr>\n",
       "    <tr>\n",
       "      <th>...</th>\n",
       "      <td>...</td>\n",
       "      <td>...</td>\n",
       "    </tr>\n",
       "    <tr>\n",
       "      <th>7119</th>\n",
       "      <td>LINESTRING (604007.180 141375.650, 604037.710 ...</td>\n",
       "      <td>453</td>\n",
       "    </tr>\n",
       "    <tr>\n",
       "      <th>7120</th>\n",
       "      <td>LINESTRING (614129.660 137274.310, 614151.000 ...</td>\n",
       "      <td>43</td>\n",
       "    </tr>\n",
       "    <tr>\n",
       "      <th>7121</th>\n",
       "      <td>LINESTRING (614129.660 137274.310, 614049.000 ...</td>\n",
       "      <td>421</td>\n",
       "    </tr>\n",
       "    <tr>\n",
       "      <th>7122</th>\n",
       "      <td>LINESTRING (613166.720 137406.930, 613340.610 ...</td>\n",
       "      <td>972</td>\n",
       "    </tr>\n",
       "    <tr>\n",
       "      <th>7123</th>\n",
       "      <td>LINESTRING (613166.720 137406.930, 613192.000 ...</td>\n",
       "      <td>387</td>\n",
       "    </tr>\n",
       "  </tbody>\n",
       "</table>\n",
       "<p>7124 rows × 2 columns</p>\n",
       "</div>"
      ],
      "text/plain": [
       "                                               geometry  off_length\n",
       "0     LINESTRING (312325.450 720837.500, 312301.090 ...         959\n",
       "1     LINESTRING (312425.420 720936.220, 312413.750 ...        1132\n",
       "2     LINESTRING (312392.370 719950.550, 312417.020 ...          59\n",
       "3     LINESTRING (312441.680 719917.500, 312341.220 ...         338\n",
       "4     LINESTRING (312325.450 720837.500, 312310.390 ...         991\n",
       "...                                                 ...         ...\n",
       "7119  LINESTRING (604007.180 141375.650, 604037.710 ...         453\n",
       "7120  LINESTRING (614129.660 137274.310, 614151.000 ...          43\n",
       "7121  LINESTRING (614129.660 137274.310, 614049.000 ...         421\n",
       "7122  LINESTRING (613166.720 137406.930, 613340.610 ...         972\n",
       "7123  LINESTRING (613166.720 137406.930, 613192.000 ...         387\n",
       "\n",
       "[7124 rows x 2 columns]"
      ]
     },
     "execution_count": 33,
     "metadata": {},
     "output_type": "execute_result"
    }
   ],
   "source": [
    "motorways"
   ]
  },
  {
   "cell_type": "code",
   "execution_count": 34,
   "id": "supposed-amazon",
   "metadata": {},
   "outputs": [],
   "source": [
    "a_roads = db.query('''\n",
    "            SELECT geometry FROM roads\n",
    "            WHERE roads.road_function LIKE 'A Road'\n",
    "''')"
   ]
  },
  {
   "cell_type": "code",
   "execution_count": 36,
   "id": "retired-dynamics",
   "metadata": {},
   "outputs": [],
   "source": [
    "minor_roads = db.query('''\n",
    "            SELECT geometry FROM roads\n",
    "            WHERE roads.road_function LIKE 'Minor Road'\n",
    "''')"
   ]
  },
  {
   "cell_type": "code",
   "execution_count": 35,
   "id": "forty-animation",
   "metadata": {},
   "outputs": [],
   "source": [
    "b_roads = db.query('''\n",
    "            SELECT geometry FROM roads\n",
    "            WHERE roads.road_function LIKE 'B Road'\n",
    "''')"
   ]
  },
  {
   "cell_type": "code",
   "execution_count": 37,
   "id": "every-buffer",
   "metadata": {},
   "outputs": [],
   "source": [
    "# should be able to do this in a cleverer way"
   ]
  },
  {
   "cell_type": "code",
   "execution_count": 39,
   "id": "lyric-printer",
   "metadata": {},
   "outputs": [],
   "source": [
    "road_types = db.query('''\n",
    "    SELECT DISTINCT(roads.road_function) FROM roads\n",
    "''')"
   ]
  },
  {
   "cell_type": "code",
   "execution_count": 40,
   "id": "stuck-purse",
   "metadata": {},
   "outputs": [
    {
     "data": {
      "text/html": [
       "<div>\n",
       "<style scoped>\n",
       "    .dataframe tbody tr th:only-of-type {\n",
       "        vertical-align: middle;\n",
       "    }\n",
       "\n",
       "    .dataframe tbody tr th {\n",
       "        vertical-align: top;\n",
       "    }\n",
       "\n",
       "    .dataframe thead th {\n",
       "        text-align: right;\n",
       "    }\n",
       "</style>\n",
       "<table border=\"1\" class=\"dataframe\">\n",
       "  <thead>\n",
       "    <tr style=\"text-align: right;\">\n",
       "      <th></th>\n",
       "      <th>road_function</th>\n",
       "    </tr>\n",
       "  </thead>\n",
       "  <tbody>\n",
       "    <tr>\n",
       "      <th>0</th>\n",
       "      <td>Local Road</td>\n",
       "    </tr>\n",
       "    <tr>\n",
       "      <th>1</th>\n",
       "      <td>Motorway</td>\n",
       "    </tr>\n",
       "    <tr>\n",
       "      <th>2</th>\n",
       "      <td>A Road</td>\n",
       "    </tr>\n",
       "    <tr>\n",
       "      <th>3</th>\n",
       "      <td>B Road</td>\n",
       "    </tr>\n",
       "    <tr>\n",
       "      <th>4</th>\n",
       "      <td>Secondary Access Road</td>\n",
       "    </tr>\n",
       "    <tr>\n",
       "      <th>5</th>\n",
       "      <td>Local Access Road</td>\n",
       "    </tr>\n",
       "    <tr>\n",
       "      <th>6</th>\n",
       "      <td>Minor Road</td>\n",
       "    </tr>\n",
       "    <tr>\n",
       "      <th>7</th>\n",
       "      <td>Restricted Local Access Road</td>\n",
       "    </tr>\n",
       "  </tbody>\n",
       "</table>\n",
       "</div>"
      ],
      "text/plain": [
       "                  road_function\n",
       "0                    Local Road\n",
       "1                      Motorway\n",
       "2                        A Road\n",
       "3                        B Road\n",
       "4         Secondary Access Road\n",
       "5             Local Access Road\n",
       "6                    Minor Road\n",
       "7  Restricted Local Access Road"
      ]
     },
     "execution_count": 40,
     "metadata": {},
     "output_type": "execute_result"
    }
   ],
   "source": [
    "road_types"
   ]
  },
  {
   "cell_type": "code",
   "execution_count": 42,
   "id": "future-volume",
   "metadata": {},
   "outputs": [
    {
     "data": {
      "text/html": [
       "<div>\n",
       "<style scoped>\n",
       "    .dataframe tbody tr th:only-of-type {\n",
       "        vertical-align: middle;\n",
       "    }\n",
       "\n",
       "    .dataframe tbody tr th {\n",
       "        vertical-align: top;\n",
       "    }\n",
       "\n",
       "    .dataframe thead th {\n",
       "        text-align: right;\n",
       "    }\n",
       "</style>\n",
       "<table border=\"1\" class=\"dataframe\">\n",
       "  <thead>\n",
       "    <tr style=\"text-align: right;\">\n",
       "      <th></th>\n",
       "      <th>count</th>\n",
       "    </tr>\n",
       "  </thead>\n",
       "  <tbody>\n",
       "    <tr>\n",
       "      <th>0</th>\n",
       "      <td>2399</td>\n",
       "    </tr>\n",
       "  </tbody>\n",
       "</table>\n",
       "</div>"
      ],
      "text/plain": [
       "   count\n",
       "0   2399"
      ]
     },
     "execution_count": 42,
     "metadata": {},
     "output_type": "execute_result"
    }
   ],
   "source": [
    "db.query('SELECT (COUNT(*)) FROM isles')"
   ]
  },
  {
   "cell_type": "code",
   "execution_count": null,
   "id": "elder-leone",
   "metadata": {},
   "outputs": [],
   "source": []
  }
 ],
 "metadata": {
  "kernelspec": {
   "display_name": "Python 3",
   "language": "python",
   "name": "python3"
  },
  "language_info": {
   "codemirror_mode": {
    "name": "ipython",
    "version": 3
   },
   "file_extension": ".py",
   "mimetype": "text/x-python",
   "name": "python",
   "nbconvert_exporter": "python",
   "pygments_lexer": "ipython3",
   "version": "3.8.8"
  }
 },
 "nbformat": 4,
 "nbformat_minor": 5
}
