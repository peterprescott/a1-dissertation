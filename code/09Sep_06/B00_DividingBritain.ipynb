{
 "cells": [
  {
   "cell_type": "code",
   "execution_count": null,
   "id": "floating-letters",
   "metadata": {},
   "outputs": [],
   "source": [
    "# find coastline of mainland britain"
   ]
  },
  {
   "cell_type": "code",
   "execution_count": null,
   "id": "rubber-trunk",
   "metadata": {},
   "outputs": [],
   "source": [
    "# pixelation"
   ]
  },
  {
   "cell_type": "code",
   "execution_count": null,
   "id": "protecting-young",
   "metadata": {},
   "outputs": [],
   "source": [
    "# tessellation"
   ]
  },
  {
   "cell_type": "code",
   "execution_count": null,
   "id": "downtown-muslim",
   "metadata": {},
   "outputs": [],
   "source": [
    "# voronoi cellularization"
   ]
  }
 ],
 "metadata": {
  "kernelspec": {
   "display_name": "Python 3",
   "language": "python",
   "name": "python3"
  },
  "language_info": {
   "codemirror_mode": {
    "name": "ipython",
    "version": 3
   },
   "file_extension": ".py",
   "mimetype": "text/x-python",
   "name": "python",
   "nbconvert_exporter": "python",
   "pygments_lexer": "ipython3",
   "version": "3.8.8"
  }
 },
 "nbformat": 4,
 "nbformat_minor": 5
}
